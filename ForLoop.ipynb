{
 "cells": [
  {
   "cell_type": "code",
   "execution_count": 2,
   "id": "79a70739-b213-4bfd-921c-ed2ad45a3e63",
   "metadata": {},
   "outputs": [],
   "source": [
    "# Print all multiples of 3 between a and b"
   ]
  },
  {
   "cell_type": "code",
   "execution_count": 7,
   "id": "b49f9966-d117-4500-8a96-d4d0fbf2bb93",
   "metadata": {},
   "outputs": [
    {
     "name": "stdin",
     "output_type": "stream",
     "text": [
      " 1\n",
      " 30\n"
     ]
    },
    {
     "name": "stdout",
     "output_type": "stream",
     "text": [
      "3, 6, 9, 12, 15, 18, 21, 24, 27, 30, "
     ]
    }
   ],
   "source": [
    "a = int(input())\n",
    "b = int(input())\n",
    "\n",
    "for i in range(a,b+1):\n",
    "    if i%3==0:\n",
    "        print(f\"{i}, \", end =\"\")\n",
    "        "
   ]
  },
  {
   "cell_type": "code",
   "execution_count": 8,
   "id": "e6485f22-2e7c-4243-ac9e-1f8a0ff0532e",
   "metadata": {},
   "outputs": [],
   "source": [
    "# Is a prime"
   ]
  },
  {
   "cell_type": "code",
   "execution_count": 14,
   "id": "25bf659d-528c-4b68-abcb-540d29d48cf3",
   "metadata": {},
   "outputs": [
    {
     "name": "stdin",
     "output_type": "stream",
     "text": [
      " 89\n"
     ]
    },
    {
     "name": "stdout",
     "output_type": "stream",
     "text": [
      "89 is prime\n"
     ]
    }
   ],
   "source": [
    "a = int(input())\n",
    "flag = False\n",
    "for i in range(2,a):\n",
    "    if a % i == 0:\n",
    "        flag = True\n",
    "\n",
    "if flag == False:\n",
    "    print(f\"{a} is prime\")\n",
    "else:\n",
    "    print(\"Nope\")"
   ]
  },
  {
   "cell_type": "code",
   "execution_count": 15,
   "id": "811e07ce-7024-465d-bd41-9033b90dfb1f",
   "metadata": {},
   "outputs": [],
   "source": [
    "# isosceles w For"
   ]
  },
  {
   "cell_type": "code",
   "execution_count": 35,
   "id": "9272522c-a839-499c-9012-d51bb8180d22",
   "metadata": {},
   "outputs": [
    {
     "name": "stdin",
     "output_type": "stream",
     "text": [
      "Please enter n:  4\n"
     ]
    },
    {
     "name": "stdout",
     "output_type": "stream",
     "text": [
      "    \n",
      "   1\n",
      "  212\n",
      " 32123\n",
      "4321234\n"
     ]
    }
   ],
   "source": [
    "n = int(input(\"Please enter n: \"))\n",
    "for i in range(n, -1, -1):\n",
    "    print(\" \"*i, end=\"\")\n",
    "    for j in range(n-i,0,-1):\n",
    "        print(j, end=\"\")\n",
    "    for k in range(2,n-i+1):\n",
    "        print(k, end=\"\")\n",
    "    print()\n",
    "        \n",
    "   \n",
    "    \n"
   ]
  },
  {
   "cell_type": "code",
   "execution_count": 36,
   "id": "5ad18b14-eb3c-40d0-830f-94b16df0ac4e",
   "metadata": {},
   "outputs": [],
   "source": [
    "# Else w loop (Check prime)"
   ]
  },
  {
   "cell_type": "code",
   "execution_count": 37,
   "id": "9943f838-d3f0-47b1-a03d-944c20caab39",
   "metadata": {},
   "outputs": [],
   "source": [
    "# Else code will only be run if loop is not broken by break"
   ]
  },
  {
   "cell_type": "code",
   "execution_count": 40,
   "id": "7b424e0f-45b5-4b7e-8a91-874b6dd88e56",
   "metadata": {},
   "outputs": [
    {
     "name": "stdin",
     "output_type": "stream",
     "text": [
      " 78\n"
     ]
    },
    {
     "name": "stdout",
     "output_type": "stream",
     "text": [
      "Not Prime\n"
     ]
    }
   ],
   "source": [
    "n = int(input())\n",
    "for i in range(2,n):\n",
    "    if n%i == 0:\n",
    "        print(\"Not Prime\")\n",
    "        break\n",
    "else:\n",
    "    print(\"Is Prime\")"
   ]
  },
  {
   "cell_type": "code",
   "execution_count": null,
   "id": "45450b91-3a9f-45e1-80b8-ea8188e9df48",
   "metadata": {},
   "outputs": [],
   "source": []
  }
 ],
 "metadata": {
  "kernelspec": {
   "display_name": "Python 3 (ipykernel)",
   "language": "python",
   "name": "python3"
  },
  "language_info": {
   "codemirror_mode": {
    "name": "ipython",
    "version": 3
   },
   "file_extension": ".py",
   "mimetype": "text/x-python",
   "name": "python",
   "nbconvert_exporter": "python",
   "pygments_lexer": "ipython3",
   "version": "3.11.7"
  }
 },
 "nbformat": 4,
 "nbformat_minor": 5
}
