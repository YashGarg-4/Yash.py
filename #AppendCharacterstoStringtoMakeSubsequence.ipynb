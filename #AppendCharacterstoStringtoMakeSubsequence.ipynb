{
 "cells": [
  {
   "cell_type": "code",
   "execution_count": 54,
   "id": "12a2f06c-e099-458c-b3c6-aafe064c5cef",
   "metadata": {},
   "outputs": [],
   "source": [
    "#Append Characters to String to Make Subsequence"
   ]
  },
  {
   "cell_type": "code",
   "execution_count": 59,
   "id": "2363b61f-a005-4e40-b92e-6fff3cc56c9f",
   "metadata": {},
   "outputs": [
    {
     "name": "stdin",
     "output_type": "stream",
     "text": [
      " abcde\n",
      " cdefg\n"
     ]
    },
    {
     "name": "stdout",
     "output_type": "stream",
     "text": [
      "2\n"
     ]
    }
   ],
   "source": [
    "s = str(input())\n",
    "t = str(input())\n",
    "i=0\n",
    "j=0\n",
    "while i<len(s) and j<len(t):\n",
    "    if s[i] == t[j]:\n",
    "        j+=1\n",
    "    i += 1\n",
    "print(len(t)-j)"
   ]
  },
  {
   "cell_type": "code",
   "execution_count": 69,
   "id": "6ee6be0c-a9a1-400a-aa7e-9fbae85e4844",
   "metadata": {},
   "outputs": [
    {
     "name": "stdin",
     "output_type": "stream",
     "text": [
      " #Append Characters to String to Make Subsequence\n"
     ]
    },
    {
     "name": "stdout",
     "output_type": "stream",
     "text": [
      "#AppendCharacterstoStringtoMakeSubsequence"
     ]
    }
   ],
   "source": [
    "s = [s for s in input().split()]\n",
    "for j in s:\n",
    "    print(j, end= '')"
   ]
  }
 ],
 "metadata": {
  "kernelspec": {
   "display_name": "Python 3 (ipykernel)",
   "language": "python",
   "name": "python3"
  },
  "language_info": {
   "codemirror_mode": {
    "name": "ipython",
    "version": 3
   },
   "file_extension": ".py",
   "mimetype": "text/x-python",
   "name": "python",
   "nbconvert_exporter": "python",
   "pygments_lexer": "ipython3",
   "version": "3.11.7"
  }
 },
 "nbformat": 4,
 "nbformat_minor": 5
}
