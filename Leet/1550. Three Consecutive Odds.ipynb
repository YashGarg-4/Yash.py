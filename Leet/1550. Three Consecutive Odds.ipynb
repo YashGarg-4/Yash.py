{
 "cells": [
  {
   "cell_type": "code",
   "execution_count": null,
   "id": "f3f74374-ea38-450d-80b1-659dfc2ce59b",
   "metadata": {},
   "outputs": [],
   "source": [
    "class Solution:\n",
    "    def threeConsecutiveOdds(self, arr: List[int]) -> bool:\n",
    "        if len(arr)<3:\n",
    "            return False\n",
    "        for i in range(len(arr)-2):\n",
    "            if arr[i]%2==1 and arr[i+1]%2==1 and arr[i+2]%2 ==1:\n",
    "                return True\n",
    "        return False"
   ]
  }
 ],
 "metadata": {
  "kernelspec": {
   "display_name": "Python 3 (ipykernel)",
   "language": "python",
   "name": "python3"
  },
  "language_info": {
   "codemirror_mode": {
    "name": "ipython",
    "version": 3
   },
   "file_extension": ".py",
   "mimetype": "text/x-python",
   "name": "python",
   "nbconvert_exporter": "python",
   "pygments_lexer": "ipython3",
   "version": "3.11.7"
  }
 },
 "nbformat": 4,
 "nbformat_minor": 5
}
