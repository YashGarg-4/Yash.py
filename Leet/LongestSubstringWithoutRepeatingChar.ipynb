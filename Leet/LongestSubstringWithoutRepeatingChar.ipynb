{
 "cells": [
  {
   "cell_type": "code",
   "execution_count": 5,
   "id": "92e96182-dac4-40fc-8989-a71f232596e1",
   "metadata": {},
   "outputs": [],
   "source": [
    "# LongestSubstringWithoutRepeatingChar"
   ]
  },
  {
   "cell_type": "code",
   "execution_count": 42,
   "id": "b82791d1-5a54-442e-a76d-cfb45a8be8cb",
   "metadata": {},
   "outputs": [
    {
     "name": "stdin",
     "output_type": "stream",
     "text": [
      " abcabcccbb\n"
     ]
    },
    {
     "name": "stdout",
     "output_type": "stream",
     "text": [
      "3\n"
     ]
    }
   ],
   "source": [
    "s = str(input())\n",
    "if len(s) == 0:\n",
    "    print(0)\n",
    "if len(s) == 1:\n",
    "    print(1)\n",
    "n = 1\n",
    "l = [s[0]]\n",
    "ans = 0\n",
    "for n in range(1,len(s)):\n",
    "\n",
    "    if s[n] not in l:\n",
    "        l.append(s[n])\n",
    "    else:\n",
    "        for i in range(len(l)):\n",
    "            if l[0]!=s[n]:\n",
    "                l.pop(0) \n",
    "            else:\n",
    "                l.pop(0)\n",
    "                l.append(s[n])\n",
    "                break\n",
    "    ans = max(ans,len(l))\n",
    "print(ans)\n"
   ]
  }
 ],
 "metadata": {
  "kernelspec": {
   "display_name": "Python 3 (ipykernel)",
   "language": "python",
   "name": "python3"
  },
  "language_info": {
   "codemirror_mode": {
    "name": "ipython",
    "version": 3
   },
   "file_extension": ".py",
   "mimetype": "text/x-python",
   "name": "python",
   "nbconvert_exporter": "python",
   "pygments_lexer": "ipython3",
   "version": "3.11.7"
  }
 },
 "nbformat": 4,
 "nbformat_minor": 5
}
