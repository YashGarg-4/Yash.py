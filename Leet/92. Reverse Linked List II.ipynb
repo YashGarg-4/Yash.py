{
 "cells": [
  {
   "cell_type": "code",
   "execution_count": null,
   "id": "9ee9693e-bb9d-420d-acb0-9368eca5a181",
   "metadata": {},
   "outputs": [],
   "source": [
    "# Definition for singly-linked list.\n",
    "class ListNode:\n",
    "    def __init__(self, val=0, next=None):\n",
    "        self.val = val\n",
    "        self.next = next\n",
    "\n",
    "class Solution:\n",
    "    def reverseBetween(self, head: Optional[ListNode], left: int, right: int) -> Optional[ListNode]:\n",
    "        # Edge case: if the list is empty or has only one element, return it as is\n",
    "        if not head or left == right:\n",
    "            return head\n",
    "\n",
    "        # Create a dummy node to simplify edge cases\n",
    "        dummy = ListNode(0)\n",
    "        dummy.next = head\n",
    "        prev = dummy\n",
    "\n",
    "        # Move `prev` to the node just before the `left` position\n",
    "        for _ in range(left - 1):\n",
    "            prev = prev.next\n",
    "        \n",
    "        # The `start` node is the first node in the section to be reversed\n",
    "        start = prev.next\n",
    "        # The `then` node is the one immediately after `start`\n",
    "        then = start.next\n",
    "\n",
    "        # Reverse the sublist from left to right\n",
    "        for _ in range(right - left):\n",
    "            start.next = then.next\n",
    "            then.next = prev.next\n",
    "            prev.next = then\n",
    "            then = start.next\n",
    "\n",
    "        return dummy.next\n"
   ]
  }
 ],
 "metadata": {
  "kernelspec": {
   "display_name": "Python 3 (ipykernel)",
   "language": "python",
   "name": "python3"
  },
  "language_info": {
   "codemirror_mode": {
    "name": "ipython",
    "version": 3
   },
   "file_extension": ".py",
   "mimetype": "text/x-python",
   "name": "python",
   "nbconvert_exporter": "python",
   "pygments_lexer": "ipython3",
   "version": "3.11.7"
  }
 },
 "nbformat": 4,
 "nbformat_minor": 5
}
