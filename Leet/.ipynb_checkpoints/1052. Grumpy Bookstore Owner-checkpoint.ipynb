{
 "cells": [
  {
   "cell_type": "code",
   "execution_count": 8,
   "id": "b085beae-935f-4f4e-85a4-8634bbddc868",
   "metadata": {},
   "outputs": [
    {
     "name": "stdout",
     "output_type": "stream",
     "text": [
      "16\n"
     ]
    }
   ],
   "source": [
    "class Solution:\n",
    "    def maxSatisfied(self, customers, grumpy, minutes):\n",
    "        if len(grumpy) == 1:\n",
    "            if grumpy[0] == 0 or minutes >= 1:\n",
    "                return customers[0]\n",
    "            else:\n",
    "                return 0\n",
    "        i, j = 0, 1 \n",
    "        maxx = (0,0)\n",
    "        summ = 0\n",
    "        while i <= len(grumpy) - minutes:\n",
    "            if 1 in grumpy[i:i+minutes]:\n",
    "                for j in range(i, i + minutes):\n",
    "                    if j == len(grumpy):\n",
    "                        break\n",
    "                    if grumpy[j] == 1:\n",
    "                        summ += customers[j]\n",
    "            if summ > maxx[0]:\n",
    "                maxx = (summ,i)    \n",
    "            summ = 0\n",
    "            i+=1\n",
    "        for i in range(maxx[1], maxx[1] + minutes):\n",
    "            grumpy[i] = 0\n",
    "        ans = 0\n",
    "        for i in range(len(grumpy)):\n",
    "            if grumpy[i] == 0:\n",
    "                ans += customers[i]\n",
    "        return ans\n",
    "             \n",
    "\n",
    "\n",
    "a = Solution()\n",
    "print(a.maxSatisfied([1,0,1,2,1,1,7,5], [0,1,0,1,0,1,0,1], 3))"
   ]
  }
 ],
 "metadata": {
  "kernelspec": {
   "display_name": "Python 3 (ipykernel)",
   "language": "python",
   "name": "python3"
  },
  "language_info": {
   "codemirror_mode": {
    "name": "ipython",
    "version": 3
   },
   "file_extension": ".py",
   "mimetype": "text/x-python",
   "name": "python",
   "nbconvert_exporter": "python",
   "pygments_lexer": "ipython3",
   "version": "3.11.7"
  }
 },
 "nbformat": 4,
 "nbformat_minor": 5
}
