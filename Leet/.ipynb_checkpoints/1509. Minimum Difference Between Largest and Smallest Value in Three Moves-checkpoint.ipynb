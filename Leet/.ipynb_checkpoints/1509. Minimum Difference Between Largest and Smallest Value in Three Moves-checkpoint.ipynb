{
 "cells": [
  {
   "cell_type": "code",
   "execution_count": null,
   "id": "2fd35593-6b44-4a3f-be2d-b41c2ab112b3",
   "metadata": {},
   "outputs": [],
   "source": [
    "class Solution:\n",
    "    def minDifference(self, nums: List[int]) -> int:\n",
    "        if len(nums) <= 4:\n",
    "            return 0       \n",
    "        arr = []\n",
    "        i=1\n",
    "        nums.sort()\n",
    "        while i < len(nums):\n",
    "            arr.append(nums[i]-nums[i-1])\n",
    "            i+=1\n",
    "        i, j = 0, len(nums)-1\n",
    "        dic = {1:sum(arr[-3:]), 2: int(arr[0]) + sum(arr[-2:]), 3: sum(arr[:2]) + int(arr[-1]), 4:\n",
    "        sum(arr[:3])}\n",
    "        maxx = (1,dic[1])\n",
    "        for i in dic:\n",
    "            if dic[i] > maxx[1]:\n",
    "                maxx = (i,dic[i])\n",
    "        return sum(arr)-dic[maxx[0]]\n",
    "\n"
   ]
  }
 ],
 "metadata": {
  "kernelspec": {
   "display_name": "Python 3 (ipykernel)",
   "language": "python",
   "name": "python3"
  },
  "language_info": {
   "codemirror_mode": {
    "name": "ipython",
    "version": 3
   },
   "file_extension": ".py",
   "mimetype": "text/x-python",
   "name": "python",
   "nbconvert_exporter": "python",
   "pygments_lexer": "ipython3",
   "version": "3.11.7"
  }
 },
 "nbformat": 4,
 "nbformat_minor": 5
}
