{
 "cells": [
  {
   "cell_type": "code",
   "execution_count": null,
   "id": "c17a9495-e9dc-40d1-abcc-b69191c94d0d",
   "metadata": {},
   "outputs": [],
   "source": [
    "class Solution:\n",
    "    def luckyNumbers (self, matrix: List[List[int]]) -> List[int]:\n",
    "        trans = [[] for i in matrix[0]]\n",
    "        for i in range(len(matrix[0])):\n",
    "            for j in matrix:\n",
    "                trans[i].append(j[i])\n",
    "        for i in range(len(matrix)):\n",
    "            matrix[i] = min(matrix[i])\n",
    "        for i in range(len(trans)):\n",
    "            trans[i] = max(trans[i])\n",
    "        print(matrix, trans)\n",
    "        ans = []\n",
    "        for i in matrix:\n",
    "            if i in trans:\n",
    "                ans.append(i)\n",
    "        \n",
    "        return ans"
   ]
  }
 ],
 "metadata": {
  "kernelspec": {
   "display_name": "Python 3 (ipykernel)",
   "language": "python",
   "name": "python3"
  },
  "language_info": {
   "codemirror_mode": {
    "name": "ipython",
    "version": 3
   },
   "file_extension": ".py",
   "mimetype": "text/x-python",
   "name": "python",
   "nbconvert_exporter": "python",
   "pygments_lexer": "ipython3",
   "version": "3.11.7"
  }
 },
 "nbformat": 4,
 "nbformat_minor": 5
}
