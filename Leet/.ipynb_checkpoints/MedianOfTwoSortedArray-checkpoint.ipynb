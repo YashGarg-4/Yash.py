{
 "cells": [
  {
   "cell_type": "code",
   "execution_count": 2,
   "id": "b56d22b1-5296-492a-b4b7-f7f3a317dacb",
   "metadata": {},
   "outputs": [],
   "source": [
    "#median of two sorted lists\n"
   ]
  },
  {
   "cell_type": "code",
   "execution_count": 22,
   "id": "cb721495-6ac4-412d-a209-5d86f2d73e6c",
   "metadata": {},
   "outputs": [
    {
     "name": "stdout",
     "output_type": "stream",
     "text": [
      "{1: 1, 3: 1, 2: 1}\n",
      "1 0\n",
      "3 1\n",
      "2 2\n",
      "2.0\n"
     ]
    }
   ],
   "source": [
    "nums1 = [1,3]\n",
    "nums2 = [2]\n",
    "dic = {}\n",
    "for i in nums1:\n",
    "    if i in dic:\n",
    "        dic[i] += 1\n",
    "    else:\n",
    "        dic.setdefault(i,1)\n",
    "for i in nums2:\n",
    "    if i in dic:\n",
    "        dic[i] += 1\n",
    "    else:\n",
    "        dic.setdefault(i,1)\n",
    "j = 0\n",
    "for i in dic:    \n",
    "    j = max(j,dic[i])\n",
    "print(dic)\n",
    "k=0\n",
    "median = 0\n",
    "for i in dic:\n",
    "    if dic[i] == j:\n",
    "        print(i,k)\n",
    "        median = median + i\n",
    "        k+=1\n",
    "print(median/k)"
   ]
  },
  {
   "cell_type": "code",
   "execution_count": 29,
   "id": "10f200c5-921e-4f7f-8c16-9a705545ce1f",
   "metadata": {},
   "outputs": [
    {
     "name": "stdout",
     "output_type": "stream",
     "text": [
      "2.5\n"
     ]
    }
   ],
   "source": [
    "import numpy as np\n",
    "nums1 = [1,3]\n",
    "nums2 = [2,7]\n",
    "for i in nums1:\n",
    "    nums2.append(i)\n",
    "a = np.array(nums2)\n",
    "print(np.median(a))\n",
    "\n"
   ]
  },
  {
   "cell_type": "code",
   "execution_count": 31,
   "id": "a76d6b91-254a-40f8-84e4-ac5875ccc25d",
   "metadata": {},
   "outputs": [],
   "source": [
    "#Without Numpy"
   ]
  },
  {
   "cell_type": "code",
   "execution_count": null,
   "id": "a2d7e16e-6929-4060-8277-066677b0e55b",
   "metadata": {},
   "outputs": [],
   "source": [
    "nums1 = []\n",
    "nums2 = []\n",
    "nums1 = nums1 + nums2\n",
    "nums1.sort()\n",
    "k = len(nums1) + len(nums2)\n",
    "if k % 2 == 1:\n",
    "    return nums1[int(k/2)]\n",
    "else:\n",
    "    return (nums1[int((k-2)/2)] + nums1[int(k/2)]/2)"
   ]
  }
 ],
 "metadata": {
  "kernelspec": {
   "display_name": "Python 3 (ipykernel)",
   "language": "python",
   "name": "python3"
  },
  "language_info": {
   "codemirror_mode": {
    "name": "ipython",
    "version": 3
   },
   "file_extension": ".py",
   "mimetype": "text/x-python",
   "name": "python",
   "nbconvert_exporter": "python",
   "pygments_lexer": "ipython3",
   "version": "3.11.7"
  }
 },
 "nbformat": 4,
 "nbformat_minor": 5
}
