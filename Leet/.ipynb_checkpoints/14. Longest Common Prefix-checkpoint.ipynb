{
 "cells": [
  {
   "cell_type": "code",
   "execution_count": null,
   "id": "182a6c92-4b57-4392-a809-4c65579f8c56",
   "metadata": {},
   "outputs": [],
   "source": [
    "class Solution:\n",
    "    def longestCommonPrefix(self, strs: List[str]) -> str:\n",
    "        longest = \"\"\n",
    "\n",
    "        resulting = strs[0]\n",
    "\n",
    "        for i in range(1, len(strs)):\n",
    "            word = strs[i]\n",
    "\n",
    "            tmp_resulting = \"\"\n",
    "            for j in range(0, min(len(word), len(resulting))):\n",
    "                if word[j] == resulting[j]:\n",
    "                    tmp_resulting += word[j]\n",
    "                else:\n",
    "                    break\n",
    "            \n",
    "            resulting = tmp_resulting\n",
    "\n",
    "        return resulting"
   ]
  }
 ],
 "metadata": {
  "kernelspec": {
   "display_name": "Python 3 (ipykernel)",
   "language": "python",
   "name": "python3"
  },
  "language_info": {
   "codemirror_mode": {
    "name": "ipython",
    "version": 3
   },
   "file_extension": ".py",
   "mimetype": "text/x-python",
   "name": "python",
   "nbconvert_exporter": "python",
   "pygments_lexer": "ipython3",
   "version": "3.11.7"
  }
 },
 "nbformat": 4,
 "nbformat_minor": 5
}
