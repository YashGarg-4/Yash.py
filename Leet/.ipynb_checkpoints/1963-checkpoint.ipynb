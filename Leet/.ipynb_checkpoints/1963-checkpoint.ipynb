{
 "cells": [
  {
   "cell_type": "code",
   "execution_count": null,
   "id": "73d61e9e-0b00-4ab9-848f-228c9822bf5d",
   "metadata": {},
   "outputs": [],
   "source": [
    "#Minimum Number of Swaps to Make the String Balanced"
   ]
  },
  {
   "cell_type": "code",
   "execution_count": 24,
   "id": "1c55535d-5847-45c8-9415-f5e56a9f7e4b",
   "metadata": {},
   "outputs": [
    {
     "name": "stdout",
     "output_type": "stream",
     "text": [
      "0\n"
     ]
    }
   ],
   "source": [
    "s = \"[]\"\n",
    "s = [i for i in s]\n",
    "j = 0\n",
    "k = 0\n",
    "for i in range(len(s)):\n",
    "    if s[i] == '[':\n",
    "        j+=1\n",
    "    elif j>0 and s[i] == ']':\n",
    "        j-=1\n",
    "print((j+1)//2)"
   ]
  },
  {
   "cell_type": "code",
   "execution_count": null,
   "id": "22dc52b6-b756-4a64-a62a-65dccb15d5cd",
   "metadata": {},
   "outputs": [],
   "source": [
    "#Submission"
   ]
  },
  {
   "cell_type": "code",
   "execution_count": null,
   "id": "d4fdd459-8596-47b4-a146-a194873a0baf",
   "metadata": {},
   "outputs": [],
   "source": [
    "s = [i for i in s]\n",
    "j = 0\n",
    "k = 0\n",
    "for i in range(len(s)):\n",
    "    if s[i] == '[':\n",
    "        j+=1\n",
    "    elif j>0 and s[i] == ']':\n",
    "        j-=1\n",
    "print((j+1)//2)"
   ]
  }
 ],
 "metadata": {
  "kernelspec": {
   "display_name": "Python 3 (ipykernel)",
   "language": "python",
   "name": "python3"
  },
  "language_info": {
   "codemirror_mode": {
    "name": "ipython",
    "version": 3
   },
   "file_extension": ".py",
   "mimetype": "text/x-python",
   "name": "python",
   "nbconvert_exporter": "python",
   "pygments_lexer": "ipython3",
   "version": "3.11.7"
  }
 },
 "nbformat": 4,
 "nbformat_minor": 5
}
