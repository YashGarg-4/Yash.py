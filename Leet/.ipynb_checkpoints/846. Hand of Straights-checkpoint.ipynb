{
 "cells": [
  {
   "cell_type": "code",
   "execution_count": 40,
   "id": "57983754-da18-479a-b692-4c3b9fc62f75",
   "metadata": {},
   "outputs": [
    {
     "name": "stdout",
     "output_type": "stream",
     "text": [
      "[[5, 3], [6, 4], [7, 1]]\n"
     ]
    },
    {
     "ename": "IndexError",
     "evalue": "list index out of range",
     "output_type": "error",
     "traceback": [
      "\u001b[1;31m---------------------------------------------------------------------------\u001b[0m",
      "\u001b[1;31mIndexError\u001b[0m                                Traceback (most recent call last)",
      "Cell \u001b[1;32mIn[40], line 37\u001b[0m\n\u001b[0;32m     34\u001b[0m         \u001b[38;5;28;01mreturn\u001b[39;00m \u001b[38;5;28;01mTrue\u001b[39;00m\n\u001b[0;32m     36\u001b[0m a \u001b[38;5;241m=\u001b[39m Solution()\n\u001b[1;32m---> 37\u001b[0m \u001b[38;5;28mprint\u001b[39m(a\u001b[38;5;241m.\u001b[39misNStraightHand([\u001b[38;5;241m6\u001b[39m,\u001b[38;5;241m6\u001b[39m,\u001b[38;5;241m6\u001b[39m,\u001b[38;5;241m7\u001b[39m,\u001b[38;5;241m5\u001b[39m,\u001b[38;5;241m5\u001b[39m,\u001b[38;5;241m6\u001b[39m,\u001b[38;5;241m5\u001b[39m], \u001b[38;5;241m8\u001b[39m))\n",
      "Cell \u001b[1;32mIn[40], line 25\u001b[0m, in \u001b[0;36mSolution.isNStraightHand\u001b[1;34m(self, hand, groupSize)\u001b[0m\n\u001b[0;32m     23\u001b[0m     i\u001b[38;5;241m+\u001b[39m\u001b[38;5;241m=\u001b[39m\u001b[38;5;241m1\u001b[39m\n\u001b[0;32m     24\u001b[0m     \u001b[38;5;28;01mcontinue\u001b[39;00m\n\u001b[1;32m---> 25\u001b[0m \u001b[38;5;28;01mif\u001b[39;00m temp[i\u001b[38;5;241m+\u001b[39mk][\u001b[38;5;241m0\u001b[39m] \u001b[38;5;241m==\u001b[39m temp[i][\u001b[38;5;241m0\u001b[39m] \u001b[38;5;241m+\u001b[39m k \u001b[38;5;129;01mand\u001b[39;00m temp[i\u001b[38;5;241m+\u001b[39mk][\u001b[38;5;241m1\u001b[39m] \u001b[38;5;241m!=\u001b[39m \u001b[38;5;241m0\u001b[39m:\n\u001b[0;32m     26\u001b[0m     temp[i\u001b[38;5;241m+\u001b[39mk][\u001b[38;5;241m1\u001b[39m] \u001b[38;5;241m-\u001b[39m\u001b[38;5;241m=\u001b[39m\u001b[38;5;241m1\u001b[39m\n\u001b[0;32m     27\u001b[0m     counter \u001b[38;5;241m+\u001b[39m\u001b[38;5;241m=\u001b[39m\u001b[38;5;241m1\u001b[39m\n",
      "\u001b[1;31mIndexError\u001b[0m: list index out of range"
     ]
    }
   ],
   "source": [
    "class Solution:\n",
    "    def isNStraightHand(self, hand, groupSize):\n",
    "        if len(hand)%groupSize != 0:\n",
    "            print(' break at L4')\n",
    "            return False\n",
    "        dic = {}\n",
    "        for i in hand:\n",
    "            if i in dic:\n",
    "                dic[i] += 1\n",
    "            else:\n",
    "                dic.setdefault(i,1)\n",
    "        temp = [[i,dic[i]] for i in dic]\n",
    "        temp.sort()\n",
    "        print(temp)\n",
    "        i=0\n",
    "        while i < len(temp):\n",
    "            if temp[i][1] == 0:\n",
    "                i+=1\n",
    "                continue\n",
    "            counter = 0\n",
    "            for k in range(groupSize):\n",
    "                if i+k == len(temp):\n",
    "                    i+=1\n",
    "                    continue\n",
    "                if temp[i+k][0] == temp[i][0] + k and temp[i+k][1] != 0:\n",
    "                    temp[i+k][1] -=1\n",
    "                    counter +=1\n",
    "                    # print(temp[i+k][0], temp[i][0] + k, temp[i+k][1])######\n",
    "                else:\n",
    "                    print('break at L24')\n",
    "                    return False\n",
    "            if counter < groupSize:\n",
    "                return False\n",
    "        return True\n",
    "                                                                                                        \n",
    "a = Solution()\n",
    "print(a.isNStraightHand([6,6,6,7,5,5,6,5], 8))"
   ]
  },
  {
   "cell_type": "code",
   "execution_count": null,
   "id": "dbbb49f1-6e13-419c-bd6b-59f25245ee49",
   "metadata": {},
   "outputs": [],
   "source": [
    "class Solution:\n",
    "    def isNStraightHand(self, hand, groupSize):\n",
    "        if len(hand)%groupSize != 0:\n",
    "            return False\n",
    "        if len(hand) == groupSize:\n",
    "            hand.sort()\n",
    "            for i in range(groupSize-1):\n",
    "                if hand[i] != hand[i+1]-1:\n",
    "                    return False\n",
    "            return True\n",
    "        dic = {}\n",
    "        for i in hand:\n",
    "            if i in dic:\n",
    "                dic[i] += 1\n",
    "            else:\n",
    "                dic.setdefault(i,1)\n",
    "        temp = [[i,dic[i]] for i in dic]\n",
    "        temp.sort()\n",
    "        i=0\n",
    "        while i < len(temp):\n",
    "            if temp[i][1] == 0:\n",
    "                i+=1\n",
    "                continue\n",
    "            counter = 0\n",
    "            for k in range(groupSize):\n",
    "                if i+k == len(temp):\n",
    "                    i+=1\n",
    "                    continue\n",
    "                if temp[i+k][0] == temp[i][0] + k and temp[i+k][1] != 0:\n",
    "                    temp[i+k][1] -=1\n",
    "                    counter +=1\n",
    "                else:\n",
    "                    return False\n",
    "            if counter < groupSize:\n",
    "                return False\n",
    "        return True"
   ]
  }
 ],
 "metadata": {
  "kernelspec": {
   "display_name": "Python 3 (ipykernel)",
   "language": "python",
   "name": "python3"
  },
  "language_info": {
   "codemirror_mode": {
    "name": "ipython",
    "version": 3
   },
   "file_extension": ".py",
   "mimetype": "text/x-python",
   "name": "python",
   "nbconvert_exporter": "python",
   "pygments_lexer": "ipython3",
   "version": "3.11.7"
  }
 },
 "nbformat": 4,
 "nbformat_minor": 5
}
