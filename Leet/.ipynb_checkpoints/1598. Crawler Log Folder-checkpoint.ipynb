{
 "cells": [
  {
   "cell_type": "code",
   "execution_count": null,
   "id": "f6e02f95-dada-4022-885b-ab6208ce2ea0",
   "metadata": {},
   "outputs": [],
   "source": [
    "class Solution:\n",
    "    def minOperations(self, logs: List[str]) -> int:\n",
    "        count = 0\n",
    "        for i in logs:\n",
    "            if i == './':\n",
    "                continue\n",
    "            elif i == '../':\n",
    "                if count > 0:\n",
    "                    count-=1\n",
    "                continue\n",
    "            else:\n",
    "                count+=1       \n",
    "        return count"
   ]
  }
 ],
 "metadata": {
  "kernelspec": {
   "display_name": "Python 3 (ipykernel)",
   "language": "python",
   "name": "python3"
  },
  "language_info": {
   "codemirror_mode": {
    "name": "ipython",
    "version": 3
   },
   "file_extension": ".py",
   "mimetype": "text/x-python",
   "name": "python",
   "nbconvert_exporter": "python",
   "pygments_lexer": "ipython3",
   "version": "3.11.7"
  }
 },
 "nbformat": 4,
 "nbformat_minor": 5
}
