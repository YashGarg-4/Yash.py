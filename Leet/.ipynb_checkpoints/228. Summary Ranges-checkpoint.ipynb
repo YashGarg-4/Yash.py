{
 "cells": [
  {
   "cell_type": "code",
   "execution_count": null,
   "id": "d0e31684-7183-4da1-b1cb-7a568b77ca91",
   "metadata": {},
   "outputs": [],
   "source": [
    "class Solution:\n",
    "    def summaryRanges(self, nums: List[int]) -> List[str]:\n",
    "        i = 0\n",
    "        j = 0\n",
    "        ans = []\n",
    "        while i + j < len(nums):\n",
    "            while i + j < len(nums) and nums[i+j] == nums[i] + j:\n",
    "                j+=1\n",
    "                if i+j >= len(nums) or nums[i+j] != nums[i] + j:\n",
    "                    j-=1\n",
    "                    break\n",
    "            if j>0:\n",
    "                ans.append(f'{nums[i]}->{nums[i+j]}')\n",
    "            else:\n",
    "                ans.append(str(nums[i]))\n",
    "            i+=j+1\n",
    "            j=0\n",
    "        return ans                \n",
    "\n",
    "a = Solution()\n",
    "print(a.summaryRanges())"
   ]
  }
 ],
 "metadata": {
  "kernelspec": {
   "display_name": "Python 3 (ipykernel)",
   "language": "python",
   "name": "python3"
  },
  "language_info": {
   "codemirror_mode": {
    "name": "ipython",
    "version": 3
   },
   "file_extension": ".py",
   "mimetype": "text/x-python",
   "name": "python",
   "nbconvert_exporter": "python",
   "pygments_lexer": "ipython3",
   "version": "3.11.7"
  }
 },
 "nbformat": 4,
 "nbformat_minor": 5
}
