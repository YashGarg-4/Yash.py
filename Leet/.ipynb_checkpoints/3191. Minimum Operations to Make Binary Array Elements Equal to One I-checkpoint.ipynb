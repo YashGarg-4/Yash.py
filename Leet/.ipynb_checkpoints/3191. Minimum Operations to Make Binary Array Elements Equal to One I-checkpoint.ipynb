{
 "cells": [
  {
   "cell_type": "code",
   "execution_count": null,
   "id": "534c9c3a-74bf-4bcc-a86e-44c900050b47",
   "metadata": {},
   "outputs": [],
   "source": [
    "class Solution:\n",
    "    def minOperations(self, nums: List[int]) -> int:\n",
    "        ans = 0\n",
    "        for i in range(len(nums)-2):\n",
    "            if nums[i] == 0:\n",
    "                nums[i] = 1\n",
    "                nums[i+1] = abs(nums[i+1]-1)\n",
    "                nums[i+2] = abs(nums[i+2]-1)\n",
    "                ans+=1\n",
    "        if nums[i+1] == 0 or nums[i+2] == 0:\n",
    "            return -1\n",
    "        return ans\n",
    "\n",
    "\n"
   ]
  }
 ],
 "metadata": {
  "kernelspec": {
   "display_name": "Python 3 (ipykernel)",
   "language": "python",
   "name": "python3"
  },
  "language_info": {
   "codemirror_mode": {
    "name": "ipython",
    "version": 3
   },
   "file_extension": ".py",
   "mimetype": "text/x-python",
   "name": "python",
   "nbconvert_exporter": "python",
   "pygments_lexer": "ipython3",
   "version": "3.11.7"
  }
 },
 "nbformat": 4,
 "nbformat_minor": 5
}
