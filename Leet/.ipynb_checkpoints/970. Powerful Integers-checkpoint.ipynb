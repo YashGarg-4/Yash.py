{
 "cells": [
  {
   "cell_type": "code",
   "execution_count": 1,
   "id": "5f3b2489-25a7-4e6c-8cac-dce7e251d9db",
   "metadata": {},
   "outputs": [
    {
     "name": "stdout",
     "output_type": "stream",
     "text": [
      "[9, 2, 3, 5]\n"
     ]
    }
   ],
   "source": [
    "class Solution:\n",
    "    def powerfulIntegers(self, x: int, y: int, bound: int) -> List[int]:\n",
    "        i,j = 0,0\n",
    "        ans = []\n",
    "        if bound < 2:\n",
    "            return []\n",
    "        if x ==1 and y == 1:\n",
    "            return [2]\n",
    "        if x == 1 or y == 1:\n",
    "            if x == 1:\n",
    "                while y**i + 1 <= bound:\n",
    "                    ans.append(y**i + 1)\n",
    "                    i+=1\n",
    "                return list(set(ans))\n",
    "            else:\n",
    "                while x**i + 1 <= bound:\n",
    "                    ans.append(x**i + 1)\n",
    "                    i+=1\n",
    "                return list(set(ans))\n",
    "        while True:\n",
    "            j = 0\n",
    "            if x**i + 1 > bound:\n",
    "                break\n",
    "            while True:\n",
    "                if x**i + y**j <= bound:\n",
    "                    ans.append(x**i + y**j)\n",
    "                    j+=1\n",
    "                    continue\n",
    "                else:\n",
    "                    i+=1\n",
    "                    break\n",
    "                    \n",
    "        return list(set(ans))\n",
    "        \n",
    "\n",
    "a = Solution()\n",
    "print(a.powerfulIntegers(2,1,10))"
   ]
  }
 ],
 "metadata": {
  "kernelspec": {
   "display_name": "Python 3 (ipykernel)",
   "language": "python",
   "name": "python3"
  },
  "language_info": {
   "codemirror_mode": {
    "name": "ipython",
    "version": 3
   },
   "file_extension": ".py",
   "mimetype": "text/x-python",
   "name": "python",
   "nbconvert_exporter": "python",
   "pygments_lexer": "ipython3",
   "version": "3.11.7"
  }
 },
 "nbformat": 4,
 "nbformat_minor": 5
}
