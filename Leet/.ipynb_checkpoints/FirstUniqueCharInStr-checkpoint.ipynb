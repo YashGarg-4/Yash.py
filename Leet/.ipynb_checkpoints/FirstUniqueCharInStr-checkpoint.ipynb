{
 "cells": [
  {
   "cell_type": "code",
   "execution_count": 39,
   "id": "541ee9fc-7709-48e9-8172-39b27f1be8e3",
   "metadata": {},
   "outputs": [
    {
     "name": "stdout",
     "output_type": "stream",
     "text": [
      "2\n"
     ]
    }
   ],
   "source": [
    "s = \"loveleetcode\"\n",
    "s = [i for i in s]\n",
    "dic = {}\n",
    "j = ''\n",
    "for i in range(len(s)):\n",
    "    if s[i] not in dic:\n",
    "        dic.setdefault(s[i],1)\n",
    "    else:\n",
    "        dic[s[i]] +=1\n",
    "for i in dic:\n",
    "    if dic[i] == 1:\n",
    "        j = i\n",
    "        break\n",
    "if j == '':\n",
    "    print -1\n",
    "else:\n",
    "    for i in range(len(s)):\n",
    "        if s[i] == j:\n",
    "            print(i)\n",
    "            break"
   ]
  }
 ],
 "metadata": {
  "kernelspec": {
   "display_name": "Python 3 (ipykernel)",
   "language": "python",
   "name": "python3"
  },
  "language_info": {
   "codemirror_mode": {
    "name": "ipython",
    "version": 3
   },
   "file_extension": ".py",
   "mimetype": "text/x-python",
   "name": "python",
   "nbconvert_exporter": "python",
   "pygments_lexer": "ipython3",
   "version": "3.11.7"
  }
 },
 "nbformat": 4,
 "nbformat_minor": 5
}
