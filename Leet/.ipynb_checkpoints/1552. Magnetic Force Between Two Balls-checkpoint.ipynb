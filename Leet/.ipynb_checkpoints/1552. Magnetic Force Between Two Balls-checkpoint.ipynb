{
 "cells": [
  {
   "cell_type": "code",
   "execution_count": null,
   "id": "f35515c9-f26a-4712-958b-72595ada3022",
   "metadata": {},
   "outputs": [],
   "source": [
    "##Final"
   ]
  },
  {
   "cell_type": "code",
   "execution_count": null,
   "id": "bfc7b00a-b881-4e8c-aae1-141ce9dff417",
   "metadata": {},
   "outputs": [],
   "source": [
    "class Solution:\n",
    "    def maxDistance(self, position, m):\n",
    "        position.sort()\n",
    "        logap, higap =1, (position[-1] - position[0]) // (m-1)\n",
    "        ans = 1\n",
    "\n",
    "        while logap <= higap:\n",
    "            midgap =logap + (higap - logap) // 2\n",
    "            if self.check(position, midgap, m):\n",
    "                ans = midgap\n",
    "                logap = midgap + 1      \n",
    "            else:\n",
    "                higap = midgap-1\n",
    "            \n",
    "        return ans\n",
    "    \n",
    "    \n",
    "    def check(self, arr, gap, balls):\n",
    "        counter = 1\n",
    "        lastball = arr[0]\n",
    "        for i in range(1,len(arr)):\n",
    "            if arr[i] - lastball >= gap:\n",
    "                counter +=1\n",
    "                lastball = arr[i]\n",
    "            if counter >= balls:\n",
    "                return True\n",
    "        return False\n",
    "        \n",
    "\n",
    "\n",
    "a = Solution()\n",
    "print(a.maxDistance([1,2,3,4,7],3))        "
   ]
  },
  {
   "cell_type": "code",
   "execution_count": 35,
   "id": "b01c6aa3-8aaa-41cd-9ddb-0328b6b0d92a",
   "metadata": {},
   "outputs": [
    {
     "name": "stdout",
     "output_type": "stream",
     "text": [
      "[1, 4, 7]  temp\n",
      "[1, 2, 3, 4, 7]  pos\n",
      "2  Diff\n",
      "1  Diff\n",
      "Pancho\n",
      "[1, 7]  ans\n",
      "0\n"
     ]
    }
   ],
   "source": [
    "class Solution:\n",
    "    def maxDistance(self, position, m):\n",
    "        position.sort()\n",
    "        end = len(position)-1\n",
    "        if m == 2:\n",
    "            return position[end] - position[0]\n",
    "        m-=1\n",
    "\n",
    "        val = (position[end]-position[0])//m\n",
    "        temp = [position[0]]\n",
    "        for i in range(1,m+1):\n",
    "            temp.append(position[0] + (val*i))\n",
    "        print(temp, ' temp')\n",
    "        print(position, ' pos')\n",
    "        i = 1\n",
    "        j = 2\n",
    "        diff = 0\n",
    "        ans = [position[0]]\n",
    "        while i < len(temp):\n",
    "            if j >= end:\n",
    "                ans.append(position[end])\n",
    "                print('Pancho')\n",
    "                break\n",
    "            \n",
    "            diff = abs(temp[i] - position [j-1])\n",
    "            print(diff, ' Diff')\n",
    "            \n",
    "            if abs(temp[i] - position[j]) >= diff:\n",
    "                print(j, ' Being appended')\n",
    "                ans.append(position[j-1])\n",
    "                j+=1\n",
    "                i+=1\n",
    "                continue\n",
    "            j+=1\n",
    "        print(ans, ' ans')    \n",
    "                \n",
    "        return 0\n",
    "        \n",
    "a = Solution()\n",
    "print(a.maxDistance([1,2,3,4,7],3))"
   ]
  },
  {
   "cell_type": "code",
   "execution_count": 36,
   "id": "7123c12e-f02e-458e-a425-f3b173f7b05b",
   "metadata": {},
   "outputs": [],
   "source": [
    "# New attempt\n"
   ]
  },
  {
   "cell_type": "code",
   "execution_count": 39,
   "id": "457eb963-e08e-422c-8ff7-8db6d0249407",
   "metadata": {},
   "outputs": [
    {
     "name": "stdout",
     "output_type": "stream",
     "text": [
      "3\n"
     ]
    }
   ],
   "source": [
    "class Solution:\n",
    "    def maxDistance(self, position, m):\n",
    "        position.sort()\n",
    "        logap, higap =1, (position[-1] - position[0]) // (m-1)\n",
    "        ans = 1\n",
    "\n",
    "        while logap <= higap:\n",
    "            midgap =logap + (higap - logap) // 2\n",
    "            if self.check(position, midgap, m):\n",
    "                ans = midgap\n",
    "                logap = midgap + 1      \n",
    "            else:\n",
    "                higap = midgap-1\n",
    "            \n",
    "        return ans\n",
    "    \n",
    "    \n",
    "    def check(self, arr, gap, balls):\n",
    "        counter = 1\n",
    "        lastball = arr[0]\n",
    "        for i in range(1,len(arr)):\n",
    "            if arr[i] - lastball >= gap:\n",
    "                counter +=1\n",
    "                lastball = arr[i]\n",
    "            if counter >= balls:\n",
    "                return True\n",
    "        return False\n",
    "        \n",
    "\n",
    "\n",
    "a = Solution()\n",
    "print(a.maxDistance([1,2,3,4,7],3))        "
   ]
  }
 ],
 "metadata": {
  "kernelspec": {
   "display_name": "Python 3 (ipykernel)",
   "language": "python",
   "name": "python3"
  },
  "language_info": {
   "codemirror_mode": {
    "name": "ipython",
    "version": 3
   },
   "file_extension": ".py",
   "mimetype": "text/x-python",
   "name": "python",
   "nbconvert_exporter": "python",
   "pygments_lexer": "ipython3",
   "version": "3.11.7"
  }
 },
 "nbformat": 4,
 "nbformat_minor": 5
}
