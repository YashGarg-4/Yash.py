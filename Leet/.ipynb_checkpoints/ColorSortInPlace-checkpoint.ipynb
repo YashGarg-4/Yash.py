{
 "cells": [
  {
   "cell_type": "code",
   "execution_count": null,
   "id": "dee31e08-2c82-41f6-ab90-dc91bc63cd1b",
   "metadata": {},
   "outputs": [],
   "source": [
    "class Solution:\n",
    "    def sortColors(self, nums: List[int]) -> None:\n",
    "        zer = 0\n",
    "        one = 0\n",
    "        two = 0\n",
    "\n",
    "        for i in nums:\n",
    "            if i == 0:\n",
    "                zer += 1\n",
    "            elif i == 1:\n",
    "                one += 1\n",
    "            else:\n",
    "                two += 1\n",
    "        \n",
    "        for i in range(zer):\n",
    "            nums[i] = 0\n",
    "        \n",
    "        for i in range(zer, zer+one):\n",
    "            nums[i] = 1\n",
    "        \n",
    "        for i in range(zer + one, len(nums)):\n",
    "            nums[i] = 2\n",
    "        "
   ]
  }
 ],
 "metadata": {
  "kernelspec": {
   "display_name": "Python 3 (ipykernel)",
   "language": "python",
   "name": "python3"
  },
  "language_info": {
   "codemirror_mode": {
    "name": "ipython",
    "version": 3
   },
   "file_extension": ".py",
   "mimetype": "text/x-python",
   "name": "python",
   "nbconvert_exporter": "python",
   "pygments_lexer": "ipython3",
   "version": "3.11.7"
  }
 },
 "nbformat": 4,
 "nbformat_minor": 5
}
