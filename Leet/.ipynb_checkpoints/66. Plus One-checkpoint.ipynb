{
 "cells": [
  {
   "cell_type": "code",
   "execution_count": null,
   "id": "ea7ba7ba-51aa-4e8d-8ed1-3f6ae4eba9cc",
   "metadata": {},
   "outputs": [],
   "source": [
    "class Solution:\n",
    "    def plusOne(self, digits: List[int]) -> List[int]:\n",
    "        j = 0\n",
    "        ans = []\n",
    "        num = 0\n",
    "        \n",
    "        for i in range(len(digits)-1,-1,-1):\n",
    "            num += digits[i]*(10**j)\n",
    "            j+=1\n",
    "        \n",
    "        num += 1\n",
    "\n",
    "        while num != 0:\n",
    "            a = num%10\n",
    "            num = num//10\n",
    "            ans = [a] + ans\n",
    "\n",
    "        return ans\n",
    "\n",
    "\n",
    "            \n",
    "            \n"
   ]
  }
 ],
 "metadata": {
  "kernelspec": {
   "display_name": "Python 3 (ipykernel)",
   "language": "python",
   "name": "python3"
  },
  "language_info": {
   "codemirror_mode": {
    "name": "ipython",
    "version": 3
   },
   "file_extension": ".py",
   "mimetype": "text/x-python",
   "name": "python",
   "nbconvert_exporter": "python",
   "pygments_lexer": "ipython3",
   "version": "3.11.7"
  }
 },
 "nbformat": 4,
 "nbformat_minor": 5
}
