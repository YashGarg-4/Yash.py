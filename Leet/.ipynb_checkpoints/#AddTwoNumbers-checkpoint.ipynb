{
 "cells": [
  {
   "cell_type": "code",
   "execution_count": null,
   "id": "6bd9bb4e-95b1-49ac-a6bd-9bc2d95c47c1",
   "metadata": {},
   "outputs": [],
   "source": [
    "#Add Two Numbers\n",
    "#_You are given two non-empty linked lists representing two non-negative integers. The digits are stored in reverse order, and each of their nodes contains a single digit. Add the two numbers and return the sum as a linked list."
   ]
  },
  {
   "cell_type": "code",
   "execution_count": null,
   "id": "4a9cd6fc-a888-42e7-8e33-dc3f7a2bb5bc",
   "metadata": {},
   "outputs": [],
   "source": [
    "# Definition for singly-linked list.\n",
    "# class ListNode:\n",
    "#     def __init__(self, val=0, next=None):\n",
    "#         self.val = val\n",
    "#         self.next = next\n",
    "class Solution:\n",
    "    def addTwoNumbers(self, l1: Optional[ListNode], l2: Optional[ListNode]) -> Optional[ListNode]:\n",
    "        head = ListNode()\n",
    "        itr = head \n",
    "        carry = 0\n",
    "        while l1 or l2 or carry:\n",
    "            sum = 0\n",
    "            if l1!=None:\n",
    "                sum += l1.val\n",
    "                l1 = l1.next\n",
    "            if l2!=None:\n",
    "                sum += l2.val\n",
    "                l2 = l2.next        \n",
    "            if carry!=0:\n",
    "                sum += carry\n",
    "            carry = sum//10 \n",
    "            newnode = ListNode(sum%10)\n",
    "            itr.next = newnode\n",
    "            itr = newnode\n",
    "        return head.next"
   ]
  }
 ],
 "metadata": {
  "kernelspec": {
   "display_name": "Python 3 (ipykernel)",
   "language": "python",
   "name": "python3"
  },
  "language_info": {
   "codemirror_mode": {
    "name": "ipython",
    "version": 3
   },
   "file_extension": ".py",
   "mimetype": "text/x-python",
   "name": "python",
   "nbconvert_exporter": "python",
   "pygments_lexer": "ipython3",
   "version": "3.11.7"
  }
 },
 "nbformat": 4,
 "nbformat_minor": 5
}
