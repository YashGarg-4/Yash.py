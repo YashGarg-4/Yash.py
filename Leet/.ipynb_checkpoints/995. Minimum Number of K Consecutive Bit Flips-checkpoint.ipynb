{
 "cells": [
  {
   "cell_type": "code",
   "execution_count": null,
   "id": "f0efbf1d-59c5-480a-8de9-98d1d4a054cc",
   "metadata": {},
   "outputs": [],
   "source": [
    "class Solution:\n",
    "    def minKBitFlips(self, nums: List[int], k: int) -> int:\n",
    "        import numpy as np\n",
    "        a = [1 for i in range(k)]\n",
    "        a = np.array(a)\n",
    "        nums = np.array(nums)\n",
    "        ans = 0\n",
    "        for i in range(len(nums)-k+1):\n",
    "            if nums[i] == 0:\n",
    "                nums[i:i+k] = a - nums[i:i+k]\n",
    "                ans +=1\n",
    "        print(nums)\n",
    "        if 0 in nums[len(nums)-k:len(nums)]:\n",
    "            return -1\n",
    "        return ans\n",
    "        \n"
   ]
  }
 ],
 "metadata": {
  "kernelspec": {
   "display_name": "Python 3 (ipykernel)",
   "language": "python",
   "name": "python3"
  },
  "language_info": {
   "codemirror_mode": {
    "name": "ipython",
    "version": 3
   },
   "file_extension": ".py",
   "mimetype": "text/x-python",
   "name": "python",
   "nbconvert_exporter": "python",
   "pygments_lexer": "ipython3",
   "version": "3.11.7"
  }
 },
 "nbformat": 4,
 "nbformat_minor": 5
}
