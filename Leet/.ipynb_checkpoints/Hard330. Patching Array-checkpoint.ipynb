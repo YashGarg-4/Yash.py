{
 "cells": [
  {
   "cell_type": "code",
   "execution_count": 2,
   "id": "d5c79130-b586-49c2-b429-e629d803697e",
   "metadata": {},
   "outputs": [
    {
     "name": "stdout",
     "output_type": "stream",
     "text": [
      "[1, 3, 34, 67, 2, 33, 66, 31, 64] AOS line 13\n",
      "[2147480002]  AOP\n",
      "28  ans\n"
     ]
    }
   ],
   "source": [
    "nums = [1,2,31,33]\n",
    "n = 2147483647\n",
    "arrofsums = []\n",
    "AOP = []\n",
    "\n",
    "for i in range(len(nums)):\n",
    "    for j in range(i+1,len(nums)+1):\n",
    "        k = sum(nums[i:j])\n",
    "        if k in arrofsums:\n",
    "            continue\n",
    "        else:\n",
    "            arrofsums.append(k)\n",
    "\n",
    "print(arrofsums, 'AOS line 13')\n",
    "\n",
    "# narr = [i for i in range(1,n+1)]\n",
    "\n",
    "g = 1 + 10000*(n//10000)\n",
    "\n",
    "for i in range(1,n+1,g): #narr\n",
    "    if i not in arrofsums:\n",
    "        AOP += [i]\n",
    "if AOP == []:\n",
    "    print(0)\n",
    "i = 0\n",
    "\n",
    "print(AOP,' AOP')\n",
    "\n",
    "while True:\n",
    "    if 2**i >= AOP[len(AOP)-1]:\n",
    "        break\n",
    "    i+=1\n",
    "ref = [2**j for j in range(i)] ############\n",
    "\n",
    "if max(AOP) > max(ref):\n",
    "    ref += [ref[len(ref)-1]*2]\n",
    "\n",
    "refdic = {2**j:j for j in range(i)}\n",
    "\n",
    "# print(ref,' ref')\n",
    "\n",
    "# print(refdic,' refdic')\n",
    "\n",
    "diffref = []\n",
    "for j in range(len(AOP)):\n",
    "    for k in range(len(ref)):\n",
    "        if AOP[j] == ref[k]:\n",
    "            break\n",
    "        if ref[k] > AOP[j]:\n",
    "            diff = AOP[j] - ref[k-1]\n",
    "            if diff not in diffref:\n",
    "                diffref += [diff]\n",
    "            break\n",
    "\n",
    "# print(diffref,' diffref')\n",
    "\n",
    "for i in refdic:\n",
    "    if max(diffref) < i:\n",
    "        ans = refdic[i]\n",
    "        break\n",
    "        \n",
    "# print(ans, ' before removal')        \n",
    "\n",
    "for i in nums:\n",
    "    if i in ref:\n",
    "        ans-=1\n",
    "print(ans,' ans')\n",
    "            \n",
    "    "
   ]
  }
 ],
 "metadata": {
  "kernelspec": {
   "display_name": "Python 3 (ipykernel)",
   "language": "python",
   "name": "python3"
  },
  "language_info": {
   "codemirror_mode": {
    "name": "ipython",
    "version": 3
   },
   "file_extension": ".py",
   "mimetype": "text/x-python",
   "name": "python",
   "nbconvert_exporter": "python",
   "pygments_lexer": "ipython3",
   "version": "3.11.7"
  }
 },
 "nbformat": 4,
 "nbformat_minor": 5
}
