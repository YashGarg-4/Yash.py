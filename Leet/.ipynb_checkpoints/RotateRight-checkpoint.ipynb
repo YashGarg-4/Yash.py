{
 "cells": [
  {
   "cell_type": "code",
   "execution_count": 19,
   "id": "447e8c56-064b-4813-a522-b1c7755fe9a3",
   "metadata": {},
   "outputs": [
    {
     "name": "stdout",
     "output_type": "stream",
     "text": [
      "[2, 3, 4, 5, 6, 7, 1]\n",
      "[3, 4, 5, 6, 7, 1, 2]\n",
      "[4, 5, 6, 7, 1, 2, 3]\n",
      "[5, 6, 7, 1, 2, 3, 4]\n"
     ]
    }
   ],
   "source": [
    "nums = [1,2,3,4,5,6,7]\n",
    "k = 3\n",
    "shift = len(nums) - k\n",
    "for i in range(shift):\n",
    "    a = nums.pop(0)\n",
    "    nums.append(a)\n",
    "    print(nums)\n",
    "# nums = nums[k+1:] + nums[:k+1]\n",
    "# a = [int(i) for i in nums]\n",
    "# a"
   ]
  },
  {
   "cell_type": "code",
   "execution_count": 24,
   "id": "8d1bc3f7-d2e1-45f8-8f5d-e99a743cbb8d",
   "metadata": {},
   "outputs": [
    {
     "name": "stdout",
     "output_type": "stream",
     "text": [
      "[3, 1, 2]\n"
     ]
    }
   ],
   "source": [
    "nums = [1,2,3]\n",
    "k = 4\n",
    "for i in range(k):\n",
    "    a = nums.pop(len(nums)-1)\n",
    "    temp = [a]\n",
    "    nums = temp + nums\n",
    "print(nums)"
   ]
  },
  {
   "cell_type": "code",
   "execution_count": 29,
   "id": "e66aaf03-6833-4ea3-9b92-81e79c92bf61",
   "metadata": {},
   "outputs": [
    {
     "name": "stdout",
     "output_type": "stream",
     "text": [
      "[5, 6, 7, 1, 2, 3, 4]\n"
     ]
    }
   ],
   "source": [
    "nums = [1,2,3,4,5,6,7]\n",
    "k = 3\n",
    "temp = []    \n",
    "for i in range(k):\n",
    "    a = nums.pop(len(nums)-1)\n",
    "    temp = [a]\n",
    "    nums = temp + nums\n",
    "print(nums)"
   ]
  },
  {
   "cell_type": "code",
   "execution_count": 38,
   "id": "79d5f8f6-f19e-4c72-af17-54250272cdd4",
   "metadata": {},
   "outputs": [
    {
     "name": "stdout",
     "output_type": "stream",
     "text": [
      "[3, 1, 2]\n"
     ]
    }
   ],
   "source": [
    "nums = [1,2,3]\n",
    "k = 1\n",
    "temp2 = nums[:k+1]\n",
    "temp1 = nums[k+1:]\n",
    "nums = temp1 + temp2\n"
   ]
  },
  {
   "cell_type": "code",
   "execution_count": null,
   "id": "f4c033b2-ffa5-4135-b485-57505a5946a9",
   "metadata": {},
   "outputs": [],
   "source": [
    "class Solution:\n",
    "    def rotate(self, nums: List[int], k: int) -> None:\n",
    "        n = len(nums)\n",
    "        k = k % n \n",
    "        temp = nums[-k:]  \n",
    "        nums[k:] = nums[:-k]  \n",
    "        nums[:k] = temp\n",
    "                "
   ]
  }
 ],
 "metadata": {
  "kernelspec": {
   "display_name": "Python 3 (ipykernel)",
   "language": "python",
   "name": "python3"
  },
  "language_info": {
   "codemirror_mode": {
    "name": "ipython",
    "version": 3
   },
   "file_extension": ".py",
   "mimetype": "text/x-python",
   "name": "python",
   "nbconvert_exporter": "python",
   "pygments_lexer": "ipython3",
   "version": "3.11.7"
  }
 },
 "nbformat": 4,
 "nbformat_minor": 5
}
