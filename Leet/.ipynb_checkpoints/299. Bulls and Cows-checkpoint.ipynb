{
 "cells": [
  {
   "cell_type": "code",
   "execution_count": null,
   "id": "b7990c73-ad35-480b-ae58-47d3a1c66832",
   "metadata": {},
   "outputs": [],
   "source": [
    "#Final"
   ]
  },
  {
   "cell_type": "code",
   "execution_count": 1,
   "id": "e069dced-194f-4062-bf2d-71522ca469a8",
   "metadata": {},
   "outputs": [
    {
     "ename": "TypeError",
     "evalue": "Solution.getHint() missing 2 required positional arguments: 'secret' and 'guess'",
     "output_type": "error",
     "traceback": [
      "\u001b[1;31m---------------------------------------------------------------------------\u001b[0m",
      "\u001b[1;31mTypeError\u001b[0m                                 Traceback (most recent call last)",
      "Cell \u001b[1;32mIn[1], line 25\u001b[0m\n\u001b[0;32m     22\u001b[0m         \u001b[38;5;28;01mreturn\u001b[39;00m \u001b[38;5;28mstr\u001b[39m(A)\u001b[38;5;241m+\u001b[39m\u001b[38;5;124m'\u001b[39m\u001b[38;5;124mA\u001b[39m\u001b[38;5;124m'\u001b[39m\u001b[38;5;241m+\u001b[39m\u001b[38;5;28mstr\u001b[39m(B)\u001b[38;5;241m+\u001b[39m\u001b[38;5;124m'\u001b[39m\u001b[38;5;124mB\u001b[39m\u001b[38;5;124m'\u001b[39m \n\u001b[0;32m     24\u001b[0m a \u001b[38;5;241m=\u001b[39m Solution()\n\u001b[1;32m---> 25\u001b[0m \u001b[38;5;28mprint\u001b[39m(a\u001b[38;5;241m.\u001b[39mgetHint())\n",
      "\u001b[1;31mTypeError\u001b[0m: Solution.getHint() missing 2 required positional arguments: 'secret' and 'guess'"
     ]
    }
   ],
   "source": [
    "class Solution:\n",
    "    def getHint(self, secret, guess):\n",
    "        A=0\n",
    "        secret = [i for i in secret]\n",
    "        guess=[i for i in guess]\n",
    "        for i in range(len(guess)):\n",
    "            if guess[i] == secret[i]:\n",
    "                A+=1\n",
    "                secret[i] = guess[i] = 'x'\n",
    "        dic = {}\n",
    "        for i in secret:\n",
    "            if i in dic:\n",
    "                dic[i] +=1\n",
    "            else:\n",
    "                dic.setdefault(i,1)\n",
    "        B = 0\n",
    "        for i in range(len(guess)):\n",
    "            if guess[i] != 'x' and guess[i] in dic:\n",
    "                if dic[guess[i]]!=0:\n",
    "                    B+=1\n",
    "                    dic[guess[i]]-=1\n",
    "        return str(A)+'A'+str(B)+'B' \n",
    "\n",
    "a = Solution()\n",
    "print(a.getHint())"
   ]
  }
 ],
 "metadata": {
  "kernelspec": {
   "display_name": "Python 3 (ipykernel)",
   "language": "python",
   "name": "python3"
  },
  "language_info": {
   "codemirror_mode": {
    "name": "ipython",
    "version": 3
   },
   "file_extension": ".py",
   "mimetype": "text/x-python",
   "name": "python",
   "nbconvert_exporter": "python",
   "pygments_lexer": "ipython3",
   "version": "3.11.7"
  }
 },
 "nbformat": 4,
 "nbformat_minor": 5
}
