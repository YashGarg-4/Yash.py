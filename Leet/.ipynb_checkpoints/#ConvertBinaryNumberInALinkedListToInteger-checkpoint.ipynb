{
 "cells": [
  {
   "cell_type": "code",
   "execution_count": 1,
   "id": "7f5e6d33-b0ee-40ec-9a17-f657c2994f7d",
   "metadata": {},
   "outputs": [],
   "source": [
    "#Convert Binary Number in a Linked List to Integer\n"
   ]
  },
  {
   "cell_type": "code",
   "execution_count": null,
   "id": "b13d8037-51d8-4009-a274-6e9d5364c86e",
   "metadata": {},
   "outputs": [],
   "source": [
    "# Definition for singly-linked list.\n",
    "# class ListNode:\n",
    "#     def __init__(self, val=0, next=None):\n",
    "#         self.val = val\n",
    "#         self.next = next\n",
    "class Solution:\n",
    "    def getDecimalValue(self, head: ListNode) -> int:\n",
    "        i=-1\n",
    "        ans = 0\n",
    "        temp = head\n",
    "        while head:\n",
    "            i+=1\n",
    "            head = head.next\n",
    "        while i>=0:\n",
    "            ans += temp.val * 2**(i)\n",
    "            temp = temp.next\n",
    "            i-=1\n",
    "        return ans"
   ]
  }
 ],
 "metadata": {
  "kernelspec": {
   "display_name": "Python 3 (ipykernel)",
   "language": "python",
   "name": "python3"
  },
  "language_info": {
   "codemirror_mode": {
    "name": "ipython",
    "version": 3
   },
   "file_extension": ".py",
   "mimetype": "text/x-python",
   "name": "python",
   "nbconvert_exporter": "python",
   "pygments_lexer": "ipython3",
   "version": "3.11.7"
  }
 },
 "nbformat": 4,
 "nbformat_minor": 5
}
