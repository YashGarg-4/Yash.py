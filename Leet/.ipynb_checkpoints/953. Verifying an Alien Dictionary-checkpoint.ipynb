{
 "cells": [
  {
   "cell_type": "code",
   "execution_count": null,
   "id": "6c955878-e57d-472c-b5ec-eeb896c15742",
   "metadata": {},
   "outputs": [],
   "source": [
    "class Solution:\n",
    "    def isAlienSorted(self, words: List[str], order: str) -> bool:\n",
    "        dic = {}\n",
    "        count = 1\n",
    "        for i in order:\n",
    "            dic.setdefault(i,count)\n",
    "            count+=1\n",
    "        for i in range(len(words)):\n",
    "            if i + 1 == len(words):\n",
    "                break\n",
    "            if words[i] == words[i+1]:\n",
    "                continue\n",
    "            j=0\n",
    "            if words[i+1] in words[i]:\n",
    "                return False\n",
    "            while j < min(len(words[i]), len(words[i+1])):\n",
    "                if dic[words[i][j]] == dic[words[i+1][j]]:\n",
    "                    j+=1\n",
    "                    continue\n",
    "                if dic[words[i][j]] < dic[words[i+1][j]]:\n",
    "                    break\n",
    "                if dic[words[i][j]] > dic[words[i+1][j]]:\n",
    "                    return False\n",
    "        return True        "
   ]
  }
 ],
 "metadata": {
  "kernelspec": {
   "display_name": "Python 3 (ipykernel)",
   "language": "python",
   "name": "python3"
  },
  "language_info": {
   "codemirror_mode": {
    "name": "ipython",
    "version": 3
   },
   "file_extension": ".py",
   "mimetype": "text/x-python",
   "name": "python",
   "nbconvert_exporter": "python",
   "pygments_lexer": "ipython3",
   "version": "3.11.7"
  }
 },
 "nbformat": 4,
 "nbformat_minor": 5
}
