{
 "cells": [
  {
   "cell_type": "code",
   "execution_count": null,
   "id": "ea914b19-ef16-48c8-9134-c06843b32527",
   "metadata": {
    "scrolled": true
   },
   "outputs": [],
   "source": [
    "class Solution:\n",
    "    def isPalindrome(self, x: int) -> bool:\n",
    "        x = str(x)\n",
    "        l = [l for l in x]\n",
    "\n",
    "        i,j=0,len(x)-1\n",
    "\n",
    "        while i<j:\n",
    "            if l[i] != l[j]:\n",
    "                return False\n",
    "            i+=1\n",
    "            j-=1\n",
    "        return True\n",
    "        "
   ]
  },
  {
   "cell_type": "code",
   "execution_count": null,
   "id": "f7fc40e8-fcce-4432-bfe7-6029ed752e2c",
   "metadata": {},
   "outputs": [],
   "source": [
    "# Got a runtime faster than 97.84% users w python"
   ]
  }
 ],
 "metadata": {
  "kernelspec": {
   "display_name": "Python 3 (ipykernel)",
   "language": "python",
   "name": "python3"
  },
  "language_info": {
   "codemirror_mode": {
    "name": "ipython",
    "version": 3
   },
   "file_extension": ".py",
   "mimetype": "text/x-python",
   "name": "python",
   "nbconvert_exporter": "python",
   "pygments_lexer": "ipython3",
   "version": "3.11.7"
  }
 },
 "nbformat": 4,
 "nbformat_minor": 5
}
