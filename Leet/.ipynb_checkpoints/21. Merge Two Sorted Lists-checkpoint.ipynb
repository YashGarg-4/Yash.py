{
 "cells": [
  {
   "cell_type": "code",
   "execution_count": null,
   "id": "f74cdc79-ae4b-42dd-8f52-a0bf31a9fe3e",
   "metadata": {},
   "outputs": [],
   "source": [
    "class Solution:\n",
    "    def mergeTwoLists(self, list1: Optional[ListNode], list2: Optional[ListNode]) -> Optional[ListNode]:\n",
    "        head = ListNode()\n",
    "        ans = head\n",
    "\n",
    "        while list1 and list2:\n",
    "            if list1.val < list2.val:\n",
    "                ans.next = list1\n",
    "                list1 = list1.next\n",
    "            else:\n",
    "                ans.next = list2\n",
    "                list2 = list2.next\n",
    "            ans = ans.next\n",
    "        ans.next = list1 or list2\n",
    "\n",
    "        return head.next\n"
   ]
  }
 ],
 "metadata": {
  "kernelspec": {
   "display_name": "Python 3 (ipykernel)",
   "language": "python",
   "name": "python3"
  },
  "language_info": {
   "codemirror_mode": {
    "name": "ipython",
    "version": 3
   },
   "file_extension": ".py",
   "mimetype": "text/x-python",
   "name": "python",
   "nbconvert_exporter": "python",
   "pygments_lexer": "ipython3",
   "version": "3.11.7"
  }
 },
 "nbformat": 4,
 "nbformat_minor": 5
}
