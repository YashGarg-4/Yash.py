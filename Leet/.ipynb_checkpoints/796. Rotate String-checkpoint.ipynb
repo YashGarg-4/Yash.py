{
 "cells": [
  {
   "cell_type": "code",
   "execution_count": null,
   "id": "d22de758-5c80-4f31-9bd1-39de1b8c0525",
   "metadata": {},
   "outputs": [],
   "source": [
    "class Solution:\n",
    "    def rotateString(self, s: str, goal: str) -> bool:\n",
    "        goal = [i for i in goal]\n",
    "        s = [i for i in s]\n",
    "        for i in goal:\n",
    "            if s == goal:\n",
    "                return True\n",
    "            s.append(s.pop(0))\n",
    "        return False"
   ]
  },
  {
   "cell_type": "code",
   "execution_count": null,
   "id": "ae753a0f-61f6-487e-ae62-8b50d47301c1",
   "metadata": {},
   "outputs": [],
   "source": [
    "class Solution:\n",
    "    def rotateString(self, s: str, goal: str) -> bool:\n",
    "        goal += goal\n",
    "        if s in goal and len(s) <= len(goal)/2:\n",
    "            return True\n",
    "        return False"
   ]
  }
 ],
 "metadata": {
  "kernelspec": {
   "display_name": "Python 3 (ipykernel)",
   "language": "python",
   "name": "python3"
  },
  "language_info": {
   "codemirror_mode": {
    "name": "ipython",
    "version": 3
   },
   "file_extension": ".py",
   "mimetype": "text/x-python",
   "name": "python",
   "nbconvert_exporter": "python",
   "pygments_lexer": "ipython3",
   "version": "3.11.7"
  }
 },
 "nbformat": 4,
 "nbformat_minor": 5
}
