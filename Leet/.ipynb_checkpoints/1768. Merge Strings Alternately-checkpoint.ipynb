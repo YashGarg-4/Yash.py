{
 "cells": [
  {
   "cell_type": "code",
   "execution_count": null,
   "id": "04cb7905-f599-4951-9b4c-5af4ebcd19de",
   "metadata": {},
   "outputs": [],
   "source": [
    "class Solution:\n",
    "    def mergeAlternately(self, word1: str, word2: str) -> str:\n",
    "        n= min(len(word1),len(word2))\n",
    "        j = ''\n",
    "        for i in range(n):\n",
    "            j += word1[i] + word2[i]\n",
    "        if len(word1) > n:\n",
    "            for i in range(n,len(word1)):\n",
    "                j += word1[i]\n",
    "        elif len(word2) > n:\n",
    "            for i in range(n,len(word2)):\n",
    "                j += word2[i]\n",
    "        return j        \n",
    "\n",
    "\n",
    "\n"
   ]
  }
 ],
 "metadata": {
  "kernelspec": {
   "display_name": "Python 3 (ipykernel)",
   "language": "python",
   "name": "python3"
  },
  "language_info": {
   "codemirror_mode": {
    "name": "ipython",
    "version": 3
   },
   "file_extension": ".py",
   "mimetype": "text/x-python",
   "name": "python",
   "nbconvert_exporter": "python",
   "pygments_lexer": "ipython3",
   "version": "3.11.7"
  }
 },
 "nbformat": 4,
 "nbformat_minor": 5
}
