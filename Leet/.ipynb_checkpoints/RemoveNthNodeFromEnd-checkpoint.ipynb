{
 "cells": [
  {
   "cell_type": "code",
   "execution_count": 1,
   "id": "6a70eb61-0a5b-44b0-ae7e-81730941e398",
   "metadata": {},
   "outputs": [],
   "source": [
    "# #Definition for singly-linked list.\n",
    "# class ListNode:\n",
    "#     def __init__(self, val=0, next=None):\n",
    "#         self.val = val\n",
    "#         self.next = next"
   ]
  },
  {
   "cell_type": "code",
   "execution_count": 2,
   "id": "9129fa3c-7c35-4933-be89-fa41b1a2d5fe",
   "metadata": {},
   "outputs": [],
   "source": [
    "# head = ListNode()\n",
    "# head = [1,2,3,4,5]"
   ]
  },
  {
   "cell_type": "code",
   "execution_count": null,
   "id": "70fefdb4-33ee-4090-9f8f-fb7639ffdee8",
   "metadata": {},
   "outputs": [],
   "source": [
    "# Definition for singly-linked list.\n",
    "# class ListNode:\n",
    "#     def __init__(self, val=0, next=None):\n",
    "#         self.val = val\n",
    "#         self.next = next\n",
    "class Solution:\n",
    "    def removeNthFromEnd(self, head: Optional[ListNode], n: int) -> Optional[ListNode]:\n",
    "        i=0\n",
    "        l1 = ListNode()\n",
    "        l1 = head\n",
    "        joke = ListNode(None)\n",
    "        while l1:\n",
    "            i+=1\n",
    "            l1 = l1.next\n",
    "        if i == n:\n",
    "            return head.next\n",
    "        if i == 1:\n",
    "            return joke\n",
    "        l1 = head\n",
    "        for x in range(i-n-1):\n",
    "            l1 = l1.next\n",
    "        if l1.next.next == None:\n",
    "            l1.next = None\n",
    "            return head\n",
    "        l1.next = l1.next.next    \n",
    "        return head"
   ]
  },
  {
   "cell_type": "code",
   "execution_count": null,
   "id": "25b78ecd-e902-4ba8-994e-cbbc800490d6",
   "metadata": {},
   "outputs": [],
   "source": []
  }
 ],
 "metadata": {
  "kernelspec": {
   "display_name": "Python 3 (ipykernel)",
   "language": "python",
   "name": "python3"
  },
  "language_info": {
   "codemirror_mode": {
    "name": "ipython",
    "version": 3
   },
   "file_extension": ".py",
   "mimetype": "text/x-python",
   "name": "python",
   "nbconvert_exporter": "python",
   "pygments_lexer": "ipython3",
   "version": "3.11.7"
  }
 },
 "nbformat": 4,
 "nbformat_minor": 5
}
