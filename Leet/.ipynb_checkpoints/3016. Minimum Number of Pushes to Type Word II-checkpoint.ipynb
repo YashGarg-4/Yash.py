{
 "cells": [
  {
   "cell_type": "code",
   "execution_count": null,
   "id": "ed942c2c-4b6e-4aab-9b48-829358dde565",
   "metadata": {},
   "outputs": [],
   "source": [
    "class Solution:\n",
    "    def minimumPushes(self, word: str) -> int:\n",
    "        dic = {}\n",
    "        temp = {}\n",
    "        for i in word:\n",
    "            if i in temp:\n",
    "                temp[i] +=1\n",
    "            else:\n",
    "                temp.setdefault(i, 1)\n",
    "        temp = dict(sorted(temp.items(), key= lambda x:x[1], reverse = True))\n",
    "        word = ''\n",
    "        for i in temp:\n",
    "            word += i*temp[i]\n",
    "        i= 0\n",
    "        j = 8\n",
    "        while set(word) != set(dic):\n",
    "            while len(dic) < j and i < len(word):\n",
    "                if word[i] not in dic:\n",
    "                    dic.setdefault(word[i],j/8)\n",
    "                i+=1\n",
    "            j += 8\n",
    "        ans = 0\n",
    "        for i in word:\n",
    "            ans += dic[i]\n",
    "        return int(ans)\n",
    "\n",
    "\n"
   ]
  }
 ],
 "metadata": {
  "kernelspec": {
   "display_name": "Python 3 (ipykernel)",
   "language": "python",
   "name": "python3"
  },
  "language_info": {
   "codemirror_mode": {
    "name": "ipython",
    "version": 3
   },
   "file_extension": ".py",
   "mimetype": "text/x-python",
   "name": "python",
   "nbconvert_exporter": "python",
   "pygments_lexer": "ipython3",
   "version": "3.10.13"
  }
 },
 "nbformat": 4,
 "nbformat_minor": 5
}
