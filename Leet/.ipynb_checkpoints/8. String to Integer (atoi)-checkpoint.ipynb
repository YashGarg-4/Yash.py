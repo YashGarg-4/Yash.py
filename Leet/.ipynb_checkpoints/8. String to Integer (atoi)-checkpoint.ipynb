{
 "cells": [
  {
   "cell_type": "code",
   "execution_count": 1,
   "id": "5f3b2489-25a7-4e6c-8cac-dce7e251d9db",
   "metadata": {},
   "outputs": [
    {
     "name": "stdout",
     "output_type": "stream",
     "text": [
      "[9, 2, 3, 5]\n"
     ]
    }
   ],
   "source": [
    "class Solution:\n",
    "    def myAtoi(self, s: str) -> int:\n",
    "        ref = [str(i) for i in range(10)]\n",
    "        flag = True\n",
    "        if s == '':\n",
    "            return 0\n",
    "        if set(s) == {' '}:\n",
    "            return 0\n",
    "        while s[0] == ' ':\n",
    "            s = s[1:]\n",
    "        if len(s) == 2 and s[0] not in ref and s[1] in ref:\n",
    "            if s[0] == '-':\n",
    "                return -int(s[1])\n",
    "            if s[0] == '+':\n",
    "                return int(s[1])\n",
    "            return 0\n",
    "        if (s[0] == '-' or s[0] == '+'):\n",
    "            if s[0] == '-':\n",
    "                flag = False\n",
    "                s = s[1:]\n",
    "            else:\n",
    "                s = s[1:]\n",
    "        i = 0\n",
    "        num = 0\n",
    "        while i<len(s) and s[i] in ref:\n",
    "            num = num*10 + int(s[i])\n",
    "            i+=1\n",
    "        if num > 2**31 - 1:\n",
    "            if flag == False:\n",
    "                return -2**31\n",
    "            return 2**31 - 1\n",
    "        if flag == False:\n",
    "            return -num\n",
    "        return num\n",
    "\n",
    "\n",
    "        \n",
    "\n",
    "a = Solution()\n",
    "print(a.powerfulIntegers(2,1,10))"
   ]
  }
 ],
 "metadata": {
  "kernelspec": {
   "display_name": "Python 3 (ipykernel)",
   "language": "python",
   "name": "python3"
  },
  "language_info": {
   "codemirror_mode": {
    "name": "ipython",
    "version": 3
   },
   "file_extension": ".py",
   "mimetype": "text/x-python",
   "name": "python",
   "nbconvert_exporter": "python",
   "pygments_lexer": "ipython3",
   "version": "3.11.7"
  }
 },
 "nbformat": 4,
 "nbformat_minor": 5
}
