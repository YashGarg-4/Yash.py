{
 "cells": [
  {
   "cell_type": "code",
   "execution_count": null,
   "id": "c14122f1-4166-4f68-a353-96cfa3f0ddff",
   "metadata": {},
   "outputs": [],
   "source": [
    "class Solution:\n",
    "    def sortPeople(self, names: List[str], heights: List[int]) -> List[str]:\n",
    "        dic = [(names[i], heights[i]) for i in range(len(names))]\n",
    "        dic.sort(key= lambda x: x[1], reverse = True)\n",
    "        ans = [i[0] for i in dic]\n",
    "        return ans"
   ]
  }
 ],
 "metadata": {
  "kernelspec": {
   "display_name": "Python 3 (ipykernel)",
   "language": "python",
   "name": "python3"
  },
  "language_info": {
   "codemirror_mode": {
    "name": "ipython",
    "version": 3
   },
   "file_extension": ".py",
   "mimetype": "text/x-python",
   "name": "python",
   "nbconvert_exporter": "python",
   "pygments_lexer": "ipython3",
   "version": "3.10.13"
  }
 },
 "nbformat": 4,
 "nbformat_minor": 5
}
