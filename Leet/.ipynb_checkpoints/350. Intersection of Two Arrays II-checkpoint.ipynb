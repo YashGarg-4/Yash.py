{
 "cells": [
  {
   "cell_type": "code",
   "execution_count": null,
   "id": "4b603e5d-9e2e-4c62-be9c-8c188f1186e4",
   "metadata": {},
   "outputs": [],
   "source": [
    "class Solution:\n",
    "    def intersect(self, nums1: List[int], nums2: List[int]) -> List[int]:\n",
    "        ans = []\n",
    "        nums1.sort()\n",
    "        nums2.sort()\n",
    "        i,j = 0,0\n",
    "        while i < len(nums1) and j < len(nums2):\n",
    "            while i < len(nums1) and j < len(nums2) and  nums1[i] != nums2[j]:\n",
    "                if nums2[j] > nums1[i]:\n",
    "                    i+=1\n",
    "                else:\n",
    "                    j+=1\n",
    "            while i < len(nums1) and j < len(nums2) and nums1[i] == nums2[j]:\n",
    "                ans.append(nums1[i])\n",
    "                i+=1\n",
    "                j+=1\n",
    "        return ans"
   ]
  }
 ],
 "metadata": {
  "kernelspec": {
   "display_name": "Python 3 (ipykernel)",
   "language": "python",
   "name": "python3"
  },
  "language_info": {
   "codemirror_mode": {
    "name": "ipython",
    "version": 3
   },
   "file_extension": ".py",
   "mimetype": "text/x-python",
   "name": "python",
   "nbconvert_exporter": "python",
   "pygments_lexer": "ipython3",
   "version": "3.11.7"
  }
 },
 "nbformat": 4,
 "nbformat_minor": 5
}
