{
 "cells": [
  {
   "cell_type": "code",
   "execution_count": null,
   "id": "7813f614-029a-4c5c-b0a6-27d9e05da55a",
   "metadata": {},
   "outputs": [],
   "source": [
    "class Solution:\n",
    "    def maximumGain(self, s: str, x: int, y: int) -> int:\n",
    "        class Solution:\n",
    "    def maximumGain(self, s: str, x: int, y: int) -> int:\n",
    "        ans1 = 0\n",
    "        ans2 = 0\n",
    "        if x>y:\n",
    "            big, small = x, y\n",
    "            flag = 'ab'\n",
    "            alt = 'ba'\n",
    "        else:\n",
    "            big, small = y, x\n",
    "            flag = 'ba'\n",
    "            alt = 'ab'\n",
    "        ans1, s = self.get(s, flag, big) \n",
    "        ans2, s = self.get(s, alt, small)\n",
    "        return ans1 + ans2\n",
    "\n",
    "    def get(self,s , check, num):\n",
    "        counter = 0\n",
    "        while check in s:\n",
    "            i=0\n",
    "            while i < len(s)-1:\n",
    "                if s[i:i+2] == check:\n",
    "                    counter += num\n",
    "                    if i+2 == len(s):\n",
    "                        s = s[:i]\n",
    "                    else:\n",
    "                        s = s[:i] + s[i+2:]\n",
    "                    if s and s[i-1] == check[0]:\n",
    "                        i-=1\n",
    "                        continue \n",
    "                i+=1 \n",
    "        return counter, s"
   ]
  },
  {
   "cell_type": "code",
   "execution_count": null,
   "id": "b86c504c-816b-4878-9a56-d6efa6d3cd20",
   "metadata": {},
   "outputs": [],
   "source": [
    "a = Solution()\n",
    "print(a.maxmimumGain())"
   ]
  }
 ],
 "metadata": {
  "kernelspec": {
   "display_name": "Python 3 (ipykernel)",
   "language": "python",
   "name": "python3"
  },
  "language_info": {
   "codemirror_mode": {
    "name": "ipython",
    "version": 3
   },
   "file_extension": ".py",
   "mimetype": "text/x-python",
   "name": "python",
   "nbconvert_exporter": "python",
   "pygments_lexer": "ipython3",
   "version": "3.11.7"
  }
 },
 "nbformat": 4,
 "nbformat_minor": 5
}
