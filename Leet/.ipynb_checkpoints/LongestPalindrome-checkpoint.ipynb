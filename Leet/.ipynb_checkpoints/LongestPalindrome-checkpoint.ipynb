{
 "cells": [
  {
   "cell_type": "code",
   "execution_count": 1,
   "id": "f957e361-251f-4fd8-b118-2dbac3f8b692",
   "metadata": {},
   "outputs": [
    {
     "name": "stdin",
     "output_type": "stream",
     "text": [
      " icayuecrbtgwoieurtbg;lsoxaune hr;dqowueirgvbw;oeuqfdgbr;oeu\n"
     ]
    },
    {
     "name": "stdout",
     "output_type": "stream",
     "text": [
      "47\n"
     ]
    }
   ],
   "source": [
    "s = str(input())\n",
    "j = [s[i] for i in range(len(s))]\n",
    "ans = 0\n",
    "Max_odd = 0\n",
    "dict = {}\n",
    "\n",
    "#registering all chars as keys\n",
    "for i in j:\n",
    "    if i not in dict:\n",
    "        dict.setdefault(i,0)\n",
    "\n",
    "for i in j:\n",
    "    dict[i] += 1\n",
    "\n",
    "for i in dict:\n",
    "    if dict[i]%2==0:\n",
    "        ans += dict[i]\n",
    "    else:\n",
    "        ans+= (dict[i] -1)\n",
    "        Max_odd = max(Max_odd, dict[i])\n",
    "if Max_odd != 0:\n",
    "    ans +=1\n",
    "print(ans)\n"
   ]
  }
 ],
 "metadata": {
  "kernelspec": {
   "display_name": "Python 3 (ipykernel)",
   "language": "python",
   "name": "python3"
  },
  "language_info": {
   "codemirror_mode": {
    "name": "ipython",
    "version": 3
   },
   "file_extension": ".py",
   "mimetype": "text/x-python",
   "name": "python",
   "nbconvert_exporter": "python",
   "pygments_lexer": "ipython3",
   "version": "3.11.7"
  }
 },
 "nbformat": 4,
 "nbformat_minor": 5
}
