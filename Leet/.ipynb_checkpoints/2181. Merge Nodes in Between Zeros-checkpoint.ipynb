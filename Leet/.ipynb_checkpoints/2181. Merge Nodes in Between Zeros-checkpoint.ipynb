{
 "cells": [
  {
   "cell_type": "code",
   "execution_count": null,
   "id": "faae983a-bf27-4c69-a482-877ed206b45f",
   "metadata": {},
   "outputs": [],
   "source": [
    "# Definition for singly-linked list.\n",
    "# class ListNode:\n",
    "#     def __init__(self, val=0, next=None):\n",
    "#         self.val = val\n",
    "#         self.next = next\n",
    "class Solution:\n",
    "    \n",
    "    def mergeNodes(self, head: Optional[ListNode]) -> Optional[ListNode]:\n",
    "        ans_head = ListNode()\n",
    "        ans = ans_head\n",
    "        while head:\n",
    "            if head.val == 0 and head.next:\n",
    "                head = head.next\n",
    "                count = 0\n",
    "                while head and head.val != 0:\n",
    "                    count += head.val\n",
    "                    head = head.next\n",
    "                ans.val = count\n",
    "                ans.next = ListNode()\n",
    "                ans = ans.next\n",
    "            else:\n",
    "                head = head.next\n",
    "        temp = ans_head\n",
    "        while temp:\n",
    "            if not temp.next.next:\n",
    "                temp.next = None\n",
    "            temp = temp.next\n",
    "\n",
    "        return ans_head\n",
    "\n",
    "        "
   ]
  }
 ],
 "metadata": {
  "kernelspec": {
   "display_name": "Python 3 (ipykernel)",
   "language": "python",
   "name": "python3"
  },
  "language_info": {
   "codemirror_mode": {
    "name": "ipython",
    "version": 3
   },
   "file_extension": ".py",
   "mimetype": "text/x-python",
   "name": "python",
   "nbconvert_exporter": "python",
   "pygments_lexer": "ipython3",
   "version": "3.11.7"
  }
 },
 "nbformat": 4,
 "nbformat_minor": 5
}
