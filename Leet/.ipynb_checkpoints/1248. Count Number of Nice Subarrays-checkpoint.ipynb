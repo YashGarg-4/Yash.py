{
 "cells": [
  {
   "cell_type": "code",
   "execution_count": null,
   "id": "0a62e15c-d4de-469c-8386-7e0e17874d12",
   "metadata": {},
   "outputs": [],
   "source": [
    "#Final"
   ]
  },
  {
   "cell_type": "code",
   "execution_count": null,
   "id": "58a007f9-eb89-4c0c-8638-4cc84008958f",
   "metadata": {},
   "outputs": [],
   "source": [
    "class Solution:\n",
    "    def numberOfSubarrays(self, nums, k):\n",
    "        extra, back ,counter, ans, i, j  = 0, 0, 0 , 0, 0, 0\n",
    "        while j <len(nums) and i < len(nums):\n",
    "            if nums[i]%2 == 1:\n",
    "                # print(\"k\")\n",
    "                while j< len(nums) and counter < k:\n",
    "                    if nums[j]%2 == 1:\n",
    "                        counter +=1\n",
    "                    j+=1\n",
    "                j-=1\n",
    "                extra = 1\n",
    "                if counter == k:\n",
    "                    while j+extra<len(nums) and nums[j+extra]%2 == 0:\n",
    "                        extra+=1\n",
    "                    print(\"k\")\n",
    "                    ans += extra*(i-back+1)\n",
    "                    back = i+1\n",
    "                    print(ans,' ans')\n",
    "                    counter -=1\n",
    "                    j+=1\n",
    "            i+=1\n",
    "            print(i,'-i', j,'-j')\n",
    "        return ans\n",
    "a = Solution()\n",
    "print(a.numberOfSubarrays([1,1,1,1,1],1))"
   ]
  },
  {
   "cell_type": "code",
   "execution_count": 65,
   "id": "4c527b7a-7f18-4277-b5e9-92d85b6eed48",
   "metadata": {},
   "outputs": [
    {
     "name": "stdout",
     "output_type": "stream",
     "text": [
      "(0, ' i', 1, 'j')\n",
      "(0, ' i', 2, 'j')\n",
      "(0, ' i', 3, 'j')\n",
      "(0, ' i', 4, 'j')\n"
     ]
    },
    {
     "ename": "UnboundLocalError",
     "evalue": "cannot access local variable 'extra' where it is not associated with a value",
     "output_type": "error",
     "traceback": [
      "\u001b[1;31m---------------------------------------------------------------------------\u001b[0m",
      "\u001b[1;31mUnboundLocalError\u001b[0m                         Traceback (most recent call last)",
      "Cell \u001b[1;32mIn[65], line 44\u001b[0m\n\u001b[0;32m     40\u001b[0m         \u001b[38;5;28;01mreturn\u001b[39;00m ans\n\u001b[0;32m     43\u001b[0m a \u001b[38;5;241m=\u001b[39m Solution()\n\u001b[1;32m---> 44\u001b[0m \u001b[38;5;28mprint\u001b[39m(a\u001b[38;5;241m.\u001b[39mnumberOfSubarrays([\u001b[38;5;241m1\u001b[39m,\u001b[38;5;241m1\u001b[39m,\u001b[38;5;241m2\u001b[39m,\u001b[38;5;241m1\u001b[39m,\u001b[38;5;241m1\u001b[39m], \u001b[38;5;241m3\u001b[39m))\n",
      "Cell \u001b[1;32mIn[65], line 24\u001b[0m, in \u001b[0;36mSolution.numberOfSubarrays\u001b[1;34m(self, nums, k)\u001b[0m\n\u001b[0;32m     22\u001b[0m         \u001b[38;5;28;01mbreak\u001b[39;00m\n\u001b[0;32m     23\u001b[0m \u001b[38;5;28;01mif\u001b[39;00m flag \u001b[38;5;241m==\u001b[39m \u001b[38;5;28;01mFalse\u001b[39;00m:\n\u001b[1;32m---> 24\u001b[0m     ans \u001b[38;5;241m+\u001b[39m\u001b[38;5;241m=\u001b[39m (i\u001b[38;5;241m-\u001b[39mback\u001b[38;5;241m+\u001b[39m\u001b[38;5;241m1\u001b[39m)\u001b[38;5;241m*\u001b[39m(extra\u001b[38;5;241m-\u001b[39mj\u001b[38;5;241m+\u001b[39m\u001b[38;5;241m1\u001b[39m)\n\u001b[0;32m     25\u001b[0m     \u001b[38;5;28;01mreturn\u001b[39;00m ans\n\u001b[0;32m     26\u001b[0m j\u001b[38;5;241m-\u001b[39m\u001b[38;5;241m=\u001b[39m\u001b[38;5;241m1\u001b[39m\n",
      "\u001b[1;31mUnboundLocalError\u001b[0m: cannot access local variable 'extra' where it is not associated with a value"
     ]
    }
   ],
   "source": [
    "class Solution:\n",
    "    def numberOfSubarrays(self, nums, k):\n",
    "        i = 0\n",
    "        j = 0\n",
    "        ans = 0\n",
    "        flag = True\n",
    "        back = 0\n",
    "        count = 0\n",
    "        while i < len(nums):\n",
    "            if nums[i]%2==1:\n",
    "                j = i\n",
    "                while count<k:\n",
    "                    if nums[j]%2==1:\n",
    "                        count+=1\n",
    "                    j+=1\n",
    "                    print((i,' i', j, 'j'))\n",
    "                    if j == len(nums) and count<k:\n",
    "                        print('17')\n",
    "                        return ans\n",
    "                    if j == len(nums) - 1  and count == k:\n",
    "                        flag = False\n",
    "                        break\n",
    "              \n",
    "                j-=1\n",
    "                extra = j+1\n",
    "                # if nums[extra+1]%2==0:\n",
    "                while extra < len(nums) and nums[extra]%2==0:\n",
    "                    extra+=1\n",
    "                    \n",
    "                extra-=1\n",
    "                # if flag == False:\n",
    "                #     ans += (i-back+1)*(extra-j+1)\n",
    "                #     i+=1\n",
    "                #     continue\n",
    "                print(back, i, j, extra)\n",
    "                ans += (i-back+1)*(extra-j+1)\n",
    "                print('ans inc')\n",
    "                back = i+1\n",
    "                count = 0\n",
    "            i += 1 \n",
    "            \n",
    "            flag = True\n",
    "            print(i,'--')\n",
    "        print(' 34')\n",
    "        return ans\n",
    "\n",
    "\n",
    "a = Solution()\n",
    "print(a.numberOfSubarrays([1,1,2,1,1], 3))"
   ]
  },
  {
   "cell_type": "code",
   "execution_count": 28,
   "id": "c6b553b0-1a1e-4185-b276-8e35c1bd95eb",
   "metadata": {},
   "outputs": [
    {
     "name": "stdout",
     "output_type": "stream",
     "text": [
      "k\n",
      "1  ans\n",
      "1 -i 1 -j\n",
      "k\n",
      "2  ans\n",
      "2 -i 2 -j\n",
      "k\n",
      "3  ans\n",
      "3 -i 3 -j\n",
      "k\n",
      "4  ans\n",
      "4 -i 4 -j\n",
      "k\n",
      "5  ans\n",
      "5 -i 5 -j\n",
      "5\n"
     ]
    }
   ],
   "source": [
    "class Solution:\n",
    "    def numberOfSubarrays(self, nums, k):\n",
    "        extra, back ,counter, ans, i, j  = 0, 0, 0 , 0, 0, 0\n",
    "        while j <len(nums) and i < len(nums):\n",
    "            if nums[i]%2 == 1:\n",
    "                # print(\"k\")\n",
    "                while j< len(nums) and counter < k:\n",
    "                    if nums[j]%2 == 1:\n",
    "                        counter +=1\n",
    "                    j+=1\n",
    "                j-=1\n",
    "                extra = 1\n",
    "                if counter == k:\n",
    "                    while j+extra<len(nums) and nums[j+extra]%2 == 0:\n",
    "                        extra+=1\n",
    "                    print(\"k\")\n",
    "                    ans += extra*(i-back+1)\n",
    "                    back = i+1\n",
    "                    print(ans,' ans')\n",
    "                    counter -=1\n",
    "                    j+=1\n",
    "            i+=1\n",
    "            print(i,'-i', j,'-j')\n",
    "        return ans\n",
    "a = Solution()\n",
    "print(a.numberOfSubarrays([1,1,1,1,1],1))"
   ]
  },
  {
   "cell_type": "code",
   "execution_count": null,
   "id": "2c8f5b0d-9abf-4c2a-9597-0c4efb35d265",
   "metadata": {},
   "outputs": [],
   "source": []
  },
  {
   "cell_type": "code",
   "execution_count": null,
   "id": "3d8266cd-cce8-4d69-a69c-1b257adabed1",
   "metadata": {},
   "outputs": [],
   "source": []
  }
 ],
 "metadata": {
  "kernelspec": {
   "display_name": "Python 3 (ipykernel)",
   "language": "python",
   "name": "python3"
  },
  "language_info": {
   "codemirror_mode": {
    "name": "ipython",
    "version": 3
   },
   "file_extension": ".py",
   "mimetype": "text/x-python",
   "name": "python",
   "nbconvert_exporter": "python",
   "pygments_lexer": "ipython3",
   "version": "3.11.7"
  }
 },
 "nbformat": 4,
 "nbformat_minor": 5
}
