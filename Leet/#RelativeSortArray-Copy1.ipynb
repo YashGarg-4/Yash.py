{
 "cells": [
  {
   "cell_type": "code",
   "execution_count": 1,
   "id": "7de8e34d-d89d-4147-a87e-0206b659aaef",
   "metadata": {},
   "outputs": [],
   "source": [
    "#Relative Sort Array"
   ]
  },
  {
   "cell_type": "code",
   "execution_count": 33,
   "id": "02b9b736-cc54-47e4-8eb4-c8998e0ecc57",
   "metadata": {},
   "outputs": [
    {
     "name": "stdout",
     "output_type": "stream",
     "text": [
      "[2, 2, 2, 1, 4, 3, 3, 9, 6, 7, 19]\n",
      "[2, 3, 1, 3, 2, 4, 6, 7, 9, 2, 19]\n",
      "[7, 19]\n"
     ]
    }
   ],
   "source": [
    "arr1 = [2,3,1,3,2,4,6,7,9,2,19]\n",
    "arr2 = [2,1,4,3,9,6]\n",
    "final = []\n",
    "map = {}\n",
    "end = []\n",
    "for i in arr1:\n",
    "    if i not in map:\n",
    "        map.setdefault(i,1)\n",
    "    else:\n",
    "        map[i] += 1\n",
    "for i in arr2:\n",
    "    if i in map:\n",
    "        for j in range(map[i]): \n",
    "            final.append(i)\n",
    "for i in arr1:\n",
    "    if i in final:\n",
    "        continue\n",
    "    else:\n",
    "        end.append(i)\n",
    "end.sort()\n",
    "final = final + end\n",
    "return final\n"
   ]
  },
  {
   "cell_type": "code",
   "execution_count": 12,
   "id": "4e62b2fd-9940-4198-a97d-fac3430ee6af",
   "metadata": {},
   "outputs": [
    {
     "data": {
      "text/plain": [
       "[28]"
      ]
     },
     "execution_count": 12,
     "metadata": {},
     "output_type": "execute_result"
    }
   ],
   "source": [
    "k = []\n",
    "k.append(7 * 4)\n",
    "k"
   ]
  }
 ],
 "metadata": {
  "kernelspec": {
   "display_name": "Python 3 (ipykernel)",
   "language": "python",
   "name": "python3"
  },
  "language_info": {
   "codemirror_mode": {
    "name": "ipython",
    "version": 3
   },
   "file_extension": ".py",
   "mimetype": "text/x-python",
   "name": "python",
   "nbconvert_exporter": "python",
   "pygments_lexer": "ipython3",
   "version": "3.11.7"
  }
 },
 "nbformat": 4,
 "nbformat_minor": 5
}
