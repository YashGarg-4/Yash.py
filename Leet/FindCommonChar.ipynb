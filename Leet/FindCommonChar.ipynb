{
 "cells": [
  {
   "cell_type": "code",
   "execution_count": null,
   "id": "918875db-18ec-46cc-884c-2d8b453cb60e",
   "metadata": {},
   "outputs": [],
   "source": [
    "#Find Common Characters"
   ]
  },
  {
   "cell_type": "code",
   "execution_count": 21,
   "id": "9f081a74-472e-4215-8ac6-2dd15b5f05a9",
   "metadata": {},
   "outputs": [],
   "source": [
    "words = [\"bella\",\"label\",\"roller\"]"
   ]
  },
  {
   "cell_type": "code",
   "execution_count": 27,
   "id": "0d4ea781-1440-4145-a060-96dcab39d246",
   "metadata": {},
   "outputs": [
    {
     "name": "stdout",
     "output_type": "stream",
     "text": [
      "['e', 'l', 'l']\n"
     ]
    }
   ],
   "source": [
    "coll=[]\n",
    "ans=[]\n",
    "for i in words:\n",
    "    dict={}\n",
    "    for j in range(len(i)):\n",
    "        if i[j] in dict:\n",
    "            dict[i[j]] +=1\n",
    "        else:\n",
    "            dict.setdefault(i[j],1)\n",
    "    coll.append(dict)\n",
    "\n",
    "for j in coll[0]:\n",
    "    count = coll[0][j]\n",
    "    for i in range(1,len(coll)):\n",
    "        if j not in coll[i]:\n",
    "            break\n",
    "        else:\n",
    "            count = min(count, coll[i][j])\n",
    "    else: \n",
    "        for k in range(count):\n",
    "            ans.append(j)\n",
    "print(ans)  \n",
    "        "
   ]
  }
 ],
 "metadata": {
  "kernelspec": {
   "display_name": "Python 3 (ipykernel)",
   "language": "python",
   "name": "python3"
  },
  "language_info": {
   "codemirror_mode": {
    "name": "ipython",
    "version": 3
   },
   "file_extension": ".py",
   "mimetype": "text/x-python",
   "name": "python",
   "nbconvert_exporter": "python",
   "pygments_lexer": "ipython3",
   "version": "3.11.7"
  }
 },
 "nbformat": 4,
 "nbformat_minor": 5
}
