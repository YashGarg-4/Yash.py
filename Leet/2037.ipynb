{
 "cells": [
  {
   "cell_type": "code",
   "execution_count": null,
   "id": "f1536db0-7a4d-444e-a2d2-e047c12a1a09",
   "metadata": {},
   "outputs": [],
   "source": [
    "#"
   ]
  },
  {
   "cell_type": "code",
   "execution_count": 3,
   "id": "d1f11888-436f-4380-8873-6787e4bffa15",
   "metadata": {},
   "outputs": [
    {
     "name": "stdout",
     "output_type": "stream",
     "text": [
      "4\n"
     ]
    }
   ],
   "source": [
    "seats = [3,1,5]\n",
    "students = [2,7,4]\n",
    "seats.sort()\n",
    "students.sort()\n",
    "import numpy as np\n",
    "a = np.array(seats)\n",
    "b = np.array(students)\n",
    "c = abs(b-a)\n",
    "print(c.sum())"
   ]
  },
  {
   "cell_type": "code",
   "execution_count": null,
   "id": "61c64201-ffca-4146-8fd9-37b77589f50f",
   "metadata": {},
   "outputs": [],
   "source": [
    "class Solution:\n",
    "    def minMovesToSeat(self, seats: List[int], students: List[int]) -> int:\n",
    "        seats.sort()\n",
    "        students.sort()\n",
    "        s = []\n",
    "        for i in range(len(seats)):\n",
    "            s.append(abs(seats[i]-students[i]))\n",
    "        return sum(s)\n"
   ]
  }
 ],
 "metadata": {
  "kernelspec": {
   "display_name": "Python 3 (ipykernel)",
   "language": "python",
   "name": "python3"
  },
  "language_info": {
   "codemirror_mode": {
    "name": "ipython",
    "version": 3
   },
   "file_extension": ".py",
   "mimetype": "text/x-python",
   "name": "python",
   "nbconvert_exporter": "python",
   "pygments_lexer": "ipython3",
   "version": "3.11.7"
  }
 },
 "nbformat": 4,
 "nbformat_minor": 5
}
