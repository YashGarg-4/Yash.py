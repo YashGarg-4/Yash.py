{
 "cells": [
  {
   "cell_type": "code",
   "execution_count": 1,
   "id": "f7105ca6-9388-4762-9b0d-3439a798bb4f",
   "metadata": {},
   "outputs": [
    {
     "name": "stdout",
     "output_type": "stream",
     "text": [
      "bab\n"
     ]
    }
   ],
   "source": [
    "j=s\n",
    "s = [i for i in s]\n",
    "ans = \"\"\n",
    "m = 0\n",
    "if len(s) == 1 or len(s) == 0:\n",
    "    return s[0]\n",
    "\n",
    "if len(s) == 2:\n",
    "    if s[0]==s[1]:\n",
    "        return j\n",
    "    else:\n",
    "        return s[0]\n",
    "for j in range(1,len(s)-1):\n",
    "    i=1\n",
    "    count = 0\n",
    "    \n",
    "    while j-i >= 0 and j+i < len(s):\n",
    "        if s[j-i] != s[j+i]:\n",
    "            break\n",
    "        count += 1\n",
    "        if (count*2+1) > m:\n",
    "            ans = ''.join(s[j-i:j+i+1])\n",
    "            m = count*2 + 1\n",
    "        i+=1\n",
    "\n",
    "    i = 1\n",
    "    while j-i+1 >= 0 and j+i < len(s):\n",
    "        if s[j-i+1] != s[j+i]:\n",
    "            break\n",
    "        count += 1\n",
    "        if (count*2+1) > m:\n",
    "            ans = ''.join(s[j-i+1:j+i+1])\n",
    "            m = count*2\n",
    "        i+=1    \n",
    "print(ans)"
   ]
  },
  {
   "cell_type": "code",
   "execution_count": 3,
   "id": "fab5c7cb-6b62-4c42-8adc-37d588f83d7f",
   "metadata": {},
   "outputs": [],
   "source": [
    "#final"
   ]
  },
  {
   "cell_type": "code",
   "execution_count": null,
   "id": "7789b402-09b6-4322-a86c-88eaf54036b3",
   "metadata": {},
   "outputs": [],
   "source": [
    "class Solution:\n",
    "    def longestPalindrome(self, s: str) -> str:\n",
    "        j=s\n",
    "        s = [i for i in s]\n",
    "        ans = \"\"\n",
    "        m = 0\n",
    "        if len(s) == 1 or len(s) == 0:\n",
    "            return s[0]\n",
    "        for j in range(len(s)-1):\n",
    "            i=1\n",
    "            count = 0\n",
    "            \n",
    "            while j-i+1 >= 0 and j+i < len(s):\n",
    "                if s[j-i+1] != s[j+i]:\n",
    "                    break\n",
    "                count += 1\n",
    "                if (count*2+1) > m:\n",
    "                    ans = ''.join(s[j-i+1:j+i+1])\n",
    "                    m = count*2\n",
    "                i+=1 \n",
    "            \n",
    "            i = 1\n",
    "            count = 0\n",
    "            while j-i >= 0 and j+i < len(s):\n",
    "                if s[j-i] != s[j+i]:\n",
    "                    break\n",
    "                count += 1\n",
    "                if (count*2+1) > m:\n",
    "                    ans = ''.join(s[j-i:j+i+1])\n",
    "                    m = count*2 + 1\n",
    "                i+=1\n",
    "        if ans == '':\n",
    "            return s[0]\n",
    "        else:   \n",
    "            return ans"
   ]
  }
 ],
 "metadata": {
  "kernelspec": {
   "display_name": "Python 3 (ipykernel)",
   "language": "python",
   "name": "python3"
  },
  "language_info": {
   "codemirror_mode": {
    "name": "ipython",
    "version": 3
   },
   "file_extension": ".py",
   "mimetype": "text/x-python",
   "name": "python",
   "nbconvert_exporter": "python",
   "pygments_lexer": "ipython3",
   "version": "3.11.7"
  }
 },
 "nbformat": 4,
 "nbformat_minor": 5
}
