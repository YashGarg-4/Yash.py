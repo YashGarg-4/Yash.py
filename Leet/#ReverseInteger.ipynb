{
 "cells": [
  {
   "cell_type": "code",
   "execution_count": 1,
   "id": "4af0e1e6-eb56-4ad1-a114-60a310a3b233",
   "metadata": {},
   "outputs": [],
   "source": [
    "#Reverse Integer"
   ]
  },
  {
   "cell_type": "code",
   "execution_count": 4,
   "id": "ed7113b8-e306-46fa-87f9-c5cebb80d567",
   "metadata": {},
   "outputs": [
    {
     "name": "stdin",
     "output_type": "stream",
     "text": [
      " 0509142897560248937560234789560234798562043956204387926345\n"
     ]
    },
    {
     "name": "stdout",
     "output_type": "stream",
     "text": [
      "0\n",
      "543629783402659340265897432065987432065739842065798241905\n"
     ]
    }
   ],
   "source": [
    "x = int(input())\n",
    "j = x\n",
    "x = abs(x)\n",
    "ans = 0\n",
    "i = 0\n",
    "while x != 0:\n",
    "    ans = ans*10 + x%10\n",
    "    x = x//10\n",
    "if ans not in range(-2**31,2**31):\n",
    "    print(0)\n",
    "if j<0:\n",
    "    print(-ans)\n",
    "else:\n",
    "    print(ans)    "
   ]
  },
  {
   "cell_type": "code",
   "execution_count": null,
   "id": "6341c771-8ae9-4393-8caf-304f347feb99",
   "metadata": {},
   "outputs": [],
   "source": [
    "\n",
    "\n",
    "\n"
   ]
  }
 ],
 "metadata": {
  "kernelspec": {
   "display_name": "Python 3 (ipykernel)",
   "language": "python",
   "name": "python3"
  },
  "language_info": {
   "codemirror_mode": {
    "name": "ipython",
    "version": 3
   },
   "file_extension": ".py",
   "mimetype": "text/x-python",
   "name": "python",
   "nbconvert_exporter": "python",
   "pygments_lexer": "ipython3",
   "version": "3.11.7"
  }
 },
 "nbformat": 4,
 "nbformat_minor": 5
}
