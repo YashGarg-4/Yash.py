{
 "cells": [
  {
   "cell_type": "markdown",
   "id": "c84afea5-562c-42f8-96a4-a703df61d372",
   "metadata": {},
   "source": [
    "### Continuous subarray sum"
   ]
  },
  {
   "cell_type": "code",
   "execution_count": 1,
   "id": "58b20861-2f4c-4c5f-83ec-7030a1bea809",
   "metadata": {},
   "outputs": [],
   "source": [
    "# Making subarrays"
   ]
  },
  {
   "cell_type": "code",
   "execution_count": 6,
   "id": "d5f24caf-7069-4bb3-8bcf-64645ee96caf",
   "metadata": {},
   "outputs": [
    {
     "name": "stdout",
     "output_type": "stream",
     "text": [
      "[[4], [4, 2], [4, 2, 3], [4, 2, 3, 5], [4, 2, 3, 5, 6], [4, 2, 3, 5, 6, 3], [4, 2, 3, 5, 6, 3, 12], [4, 2, 3, 5, 6, 3, 12, 1], [2], [2, 3], [2, 3, 5], [2, 3, 5, 6], [2, 3, 5, 6, 3], [2, 3, 5, 6, 3, 12], [2, 3, 5, 6, 3, 12, 1], [3], [3, 5], [3, 5, 6], [3, 5, 6, 3], [3, 5, 6, 3, 12], [3, 5, 6, 3, 12, 1], [5], [5, 6], [5, 6, 3], [5, 6, 3, 12], [5, 6, 3, 12, 1], [6], [6, 3], [6, 3, 12], [6, 3, 12, 1], [3], [3, 12], [3, 12, 1], [12], [12, 1], [1]]\n"
     ]
    }
   ],
   "source": [
    "nums = [4,2,3,5,6,3,12,1]\n",
    "k = 15\n",
    "for i in range(len(nums)):\n",
    "    for j in range(i+1,len(nums)+1):\n",
    "        if sum(nums[i:j]) < k:\n",
    "            continue\n",
    "        if sum(nums[i:j]) % nums == 0:\n",
    "            print(True)     \n"
   ]
  },
  {
   "cell_type": "code",
   "execution_count": 7,
   "id": "2ad3bccb-800a-411f-bb5f-5ecb04bee49d",
   "metadata": {},
   "outputs": [],
   "source": [
    " ### New Approach"
   ]
  },
  {
   "cell_type": "code",
   "execution_count": 10,
   "id": "eabcc1a7-d391-494f-8feb-0772676003f5",
   "metadata": {},
   "outputs": [
    {
     "name": "stdout",
     "output_type": "stream",
     "text": [
      "[0, 3, 6, 11, 18, 22, 25, 31, 38, 47, 53]\n"
     ]
    }
   ],
   "source": [
    "nums = [3,3,5,7,4,3,6,7,9,6,]\n",
    "k = 5\n",
    "l = [0]\n",
    "sum = 0\n",
    "for i in range(len(nums)):\n",
    "    sum = sum + nums[i]\n",
    "    l.append(sum)\n",
    "for i in range(len(l)-2):\n",
    "    for j in range(i+2, len(l)):\n",
    "        if (l[j] - l[i]) % k == 0:\n",
    "            return True"
   ]
  },
  {
   "cell_type": "code",
   "execution_count": 11,
   "id": "f62b2bbe-5679-49e6-849f-725e9617dc0a",
   "metadata": {},
   "outputs": [
    {
     "ename": "TypeError",
     "evalue": "'int' object is not iterable",
     "output_type": "error",
     "traceback": [
      "\u001b[1;31m---------------------------------------------------------------------------\u001b[0m",
      "\u001b[1;31mTypeError\u001b[0m                                 Traceback (most recent call last)",
      "Cell \u001b[1;32mIn[11], line 7\u001b[0m\n\u001b[0;32m      4\u001b[0m \u001b[38;5;28mdict\u001b[39m \u001b[38;5;241m=\u001b[39m {}\n\u001b[0;32m      5\u001b[0m cum \u001b[38;5;241m=\u001b[39m \u001b[38;5;241m0\u001b[39m\n\u001b[1;32m----> 7\u001b[0m \u001b[38;5;28;01mfor\u001b[39;00m i \u001b[38;5;129;01min\u001b[39;00m \u001b[38;5;28mlen\u001b[39m(x):\n\u001b[0;32m      8\u001b[0m     \u001b[38;5;28msum\u001b[39m \u001b[38;5;241m+\u001b[39m\u001b[38;5;241m=\u001b[39m x[i]\n\u001b[0;32m      9\u001b[0m     rem \u001b[38;5;241m=\u001b[39m \u001b[38;5;28msum\u001b[39m\u001b[38;5;241m%\u001b[39mk\n",
      "\u001b[1;31mTypeError\u001b[0m: 'int' object is not iterable"
     ]
    }
   ],
   "source": [
    "class Solution:\n",
    "    def checkSubarraySum(self, nums: List[int], k: int) -> bool:\n",
    "        prefix_mod = 0\n",
    "        mod_seen = {0: -1}\n",
    "\n",
    "        for i in range(len(nums)):\n",
    "            prefix_mod = (prefix_mod + nums[i]) % k\n",
    "\n",
    "            if prefix_mod in mod_seen:\n",
    "                # ensures that the size of subarray is at least 2\n",
    "                if i - mod_seen[prefix_mod] > 1:\n",
    "                    return True\n",
    "            else:\n",
    "                # mark the value of prefix_mod with the current index.\n",
    "                mod_seen[prefix_mod] = i\n",
    "\n",
    "        return False"
   ]
  }
 ],
 "metadata": {
  "kernelspec": {
   "display_name": "Python 3 (ipykernel)",
   "language": "python",
   "name": "python3"
  },
  "language_info": {
   "codemirror_mode": {
    "name": "ipython",
    "version": 3
   },
   "file_extension": ".py",
   "mimetype": "text/x-python",
   "name": "python",
   "nbconvert_exporter": "python",
   "pygments_lexer": "ipython3",
   "version": "3.11.7"
  }
 },
 "nbformat": 4,
 "nbformat_minor": 5
}
