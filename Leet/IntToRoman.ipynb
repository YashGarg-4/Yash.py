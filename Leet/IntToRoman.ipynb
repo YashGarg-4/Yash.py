{
 "cells": [
  {
   "cell_type": "code",
   "execution_count": 1,
   "id": "84bec638-4f6f-4778-adde-eab0688b1be8",
   "metadata": {},
   "outputs": [],
   "source": [
    "#IntToRoman"
   ]
  },
  {
   "cell_type": "code",
   "execution_count": 118,
   "id": "7536ff00-2520-4b5a-8095-ffee451fef5e",
   "metadata": {},
   "outputs": [
    {
     "data": {
      "text/plain": [
       "'XXXI'"
      ]
     },
     "execution_count": 118,
     "metadata": {},
     "output_type": "execute_result"
    }
   ],
   "source": [
    "num = 31\n",
    "ref = [1000, 500, 100, 50, 10, 5, 1]\n",
    "dic = {1000: 'M', 500:'D', 100:'C', 50:'L', 10:'X', 5:'V', 1:'I'}\n",
    "ans = []\n",
    "str = ''\n",
    "j = 0\n",
    "ptr = 0\n",
    "for i in dic:\n",
    "    if ptr + 1 <7:\n",
    "        if num//i == 0 and num%i >= 4*ref[ptr+1]:        \n",
    "            ans.append(dic[ref[ptr+1]])\n",
    "            ans.append(dic[i])\n",
    "            num = num - (i-ref[ptr+1])\n",
    "            ptr += 1\n",
    "            continue\n",
    "        if num%i >= 4*ref[ptr+1]:           \n",
    "            ans.append(dic[ref[ptr+1]])\n",
    "            ans.append(dic[ref[ptr - 1]])\n",
    "            num = num - (ref[ptr-1] - ref[ptr+1])\n",
    "            ptr += 1\n",
    "            continue\n",
    "    \n",
    "    temp = (num//i)*i\n",
    "    for q in range(int(temp/i)):\n",
    "        ans.append(dic[i])\n",
    "    num = num - temp\n",
    "    ptr += 1\n",
    "for i in ans:\n",
    "    str += i\n",
    "str"
   ]
  }
 ],
 "metadata": {
  "kernelspec": {
   "display_name": "Python 3 (ipykernel)",
   "language": "python",
   "name": "python3"
  },
  "language_info": {
   "codemirror_mode": {
    "name": "ipython",
    "version": 3
   },
   "file_extension": ".py",
   "mimetype": "text/x-python",
   "name": "python",
   "nbconvert_exporter": "python",
   "pygments_lexer": "ipython3",
   "version": "3.11.7"
  }
 },
 "nbformat": 4,
 "nbformat_minor": 5
}
