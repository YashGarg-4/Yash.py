{
 "cells": [
  {
   "cell_type": "code",
   "execution_count": 5,
   "id": "c501aa08-0ef2-453a-91ed-851add0f56de",
   "metadata": {},
   "outputs": [
    {
     "name": "stdout",
     "output_type": "stream",
     "text": [
      "[1, 3]\n"
     ]
    }
   ],
   "source": [
    "# Definition for singly-linked list.\n",
    "class ListNode:\n",
    "    def __init__(self, val=0, next=None):\n",
    "        self.val = val\n",
    "        self.next = next\n",
    "class Solution:\n",
    "    def nodesBetweenCriticalPoints(self, arr):\n",
    "        temp = ListNode()\n",
    "        head = temp\n",
    "        for i in arr:\n",
    "            temp.next = ListNode(i)\n",
    "            temp = temp.next\n",
    "        ans = []\n",
    "        head = head.next\n",
    "        counter = -1\n",
    "        while head.next.next:\n",
    "            counter += 1\n",
    "            if (head.next.val > head.val and head.next.val > head.next.next.val)  or head.next.val < head.val and head.next.val < head.next.next.val:\n",
    "                ans.append(counter)\n",
    "                head = head.next\n",
    "            else:\n",
    "                head = head.next\n",
    "        if len(ans)<2:\n",
    "            return [-1,-1]\n",
    "        maxx = max(ans) - min(ans)\n",
    "        minn = []\n",
    "        for i in range(1,len(ans)):\n",
    "            minn.append(ans[i]-ans[i-1])\n",
    "        return [min(minn),maxx]\n",
    "\n",
    "\n",
    "a = Solution()\n",
    "print(a.nodesBetweenCriticalPoints([5,3,1,2,5,1,2]))"
   ]
  }
 ],
 "metadata": {
  "kernelspec": {
   "display_name": "Python 3 (ipykernel)",
   "language": "python",
   "name": "python3"
  },
  "language_info": {
   "codemirror_mode": {
    "name": "ipython",
    "version": 3
   },
   "file_extension": ".py",
   "mimetype": "text/x-python",
   "name": "python",
   "nbconvert_exporter": "python",
   "pygments_lexer": "ipython3",
   "version": "3.11.7"
  }
 },
 "nbformat": 4,
 "nbformat_minor": 5
}
