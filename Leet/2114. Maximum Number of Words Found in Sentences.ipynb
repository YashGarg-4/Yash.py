{
 "cells": [
  {
   "cell_type": "code",
   "execution_count": null,
   "id": "7bb4a3d8-6e5d-43de-9f0a-0e8332acfe6f",
   "metadata": {},
   "outputs": [],
   "source": [
    "class Solution:\n",
    "    def mostWordsFound(self, sentences: List[str]) -> int:\n",
    "        ans=[]\n",
    "        for i in sentences:\n",
    "            count = 1\n",
    "            for j in i:\n",
    "                if j == ' ':\n",
    "                    count+=1\n",
    "            ans.append(count)\n",
    "        return max(ans)\n",
    "        \n",
    "\n",
    "            "
   ]
  }
 ],
 "metadata": {
  "kernelspec": {
   "display_name": "Python 3 (ipykernel)",
   "language": "python",
   "name": "python3"
  },
  "language_info": {
   "codemirror_mode": {
    "name": "ipython",
    "version": 3
   },
   "file_extension": ".py",
   "mimetype": "text/x-python",
   "name": "python",
   "nbconvert_exporter": "python",
   "pygments_lexer": "ipython3",
   "version": "3.11.7"
  }
 },
 "nbformat": 4,
 "nbformat_minor": 5
}
