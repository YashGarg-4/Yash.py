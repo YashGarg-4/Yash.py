{
 "cells": [
  {
   "cell_type": "code",
   "execution_count": null,
   "id": "1915b694-15f1-4cc4-8c21-3d85c09c3951",
   "metadata": {},
   "outputs": [],
   "source": [
    "class Solution:\n",
    "    def addToArrayForm(self, num: List[int], k: int) -> List[int]:\n",
    "        carry = 0\n",
    "        j = 1\n",
    "        n = 0\n",
    "        if k//10**len(num) != 0:\n",
    "            for i in range(len(num)):\n",
    "                n = n*10 + num[i]\n",
    "            n+=k\n",
    "            num = []\n",
    "            while n > 0:\n",
    "                num.insert(0,n%10)\n",
    "                n = n//10\n",
    "            return num   \n",
    "\n",
    "        while j<=len(num):\n",
    "            num[-j] = k%10 + num [-j] + carry\n",
    "            if num[-j] >= 10:\n",
    "                carry = 1 \n",
    "                num[-j] = num[-j]%10\n",
    "            else:\n",
    "                carry = 0  \n",
    "            k = k//10\n",
    "            if j == len(num) and carry != 0:\n",
    "                num.insert(0,carry)\n",
    "                return num\n",
    "            j+=1\n",
    "        return num"
   ]
  }
 ],
 "metadata": {
  "kernelspec": {
   "display_name": "Python 3 (ipykernel)",
   "language": "python",
   "name": "python3"
  },
  "language_info": {
   "codemirror_mode": {
    "name": "ipython",
    "version": 3
   },
   "file_extension": ".py",
   "mimetype": "text/x-python",
   "name": "python",
   "nbconvert_exporter": "python",
   "pygments_lexer": "ipython3",
   "version": "3.11.7"
  }
 },
 "nbformat": 4,
 "nbformat_minor": 5
}
