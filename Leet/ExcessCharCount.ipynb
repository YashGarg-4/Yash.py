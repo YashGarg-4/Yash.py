{
 "cells": [
  {
   "cell_type": "code",
   "execution_count": 1,
   "id": "e7e084c3-9089-4ea3-8cf3-7d7591c83e9a",
   "metadata": {},
   "outputs": [],
   "source": [
    "# Code to print how many different/excess characters exist in t than s"
   ]
  },
  {
   "cell_type": "code",
   "execution_count": 8,
   "id": "90274911-a2cd-42d6-93c8-2b3554cdf865",
   "metadata": {},
   "outputs": [
    {
     "name": "stdout",
     "output_type": "stream",
     "text": [
      "{'c': 2, 'o': 1, 'a': 1, 'h': 1, 'i': 1, 'n': 1, 'g': 1}\n",
      "\n",
      "{'c': 1, 'o': 1, 'd': 1, 'i': 1, 'n': 1, 'g': 1}\n",
      "\n",
      "3\n"
     ]
    }
   ],
   "source": [
    "s = \"coding\"\n",
    "t = \"coaching\"\n",
    "l ={}\n",
    "m={}\n",
    "ans = 0\n",
    "for i in t:\n",
    "    if i in l:\n",
    "        l[i] += 1\n",
    "    else:\n",
    "        l.setdefault(i,1)\n",
    "for i in s:\n",
    "    if i in m:\n",
    "        m[i] += 1\n",
    "    else:\n",
    "        m.setdefault(i,1)\n",
    "for i in l:\n",
    "    if i in m:\n",
    "        if l[i]>m[i]:\n",
    "            ans += l[i] - m[i]\n",
    "    else:\n",
    "        ans += l[i]\n",
    "\n",
    "print(ans)"
   ]
  }
 ],
 "metadata": {
  "kernelspec": {
   "display_name": "Python 3 (ipykernel)",
   "language": "python",
   "name": "python3"
  },
  "language_info": {
   "codemirror_mode": {
    "name": "ipython",
    "version": 3
   },
   "file_extension": ".py",
   "mimetype": "text/x-python",
   "name": "python",
   "nbconvert_exporter": "python",
   "pygments_lexer": "ipython3",
   "version": "3.11.7"
  }
 },
 "nbformat": 4,
 "nbformat_minor": 5
}
