{
 "cells": [
  {
   "cell_type": "code",
   "execution_count": 12,
   "id": "098c7a71-7eed-4136-92bd-5178c611f1fc",
   "metadata": {},
   "outputs": [],
   "source": [
    "class Solution:\n",
    "    def twoSum(self, nums: List[int], target: int) -> List[int]:\n",
    "        for i in range(len(nums)):\n",
    "            k = 1\n",
    "            while i+k<len(nums):\n",
    "                if nums[i] + nums[i+k] == target:\n",
    "                    return [i,i+k]\n",
    "                k+=1\n",
    "\n",
    "    ## Better way to searchin for complement in a dictionary"
   ]
  }
 ],
 "metadata": {
  "kernelspec": {
   "display_name": "Python 3 (ipykernel)",
   "language": "python",
   "name": "python3"
  },
  "language_info": {
   "codemirror_mode": {
    "name": "ipython",
    "version": 3
   },
   "file_extension": ".py",
   "mimetype": "text/x-python",
   "name": "python",
   "nbconvert_exporter": "python",
   "pygments_lexer": "ipython3",
   "version": "3.11.7"
  }
 },
 "nbformat": 4,
 "nbformat_minor": 5
}
