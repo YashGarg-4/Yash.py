{
 "cells": [
  {
   "cell_type": "code",
   "execution_count": 41,
   "id": "0998a17f-f582-4f52-8c1b-6206de7db082",
   "metadata": {},
   "outputs": [
    {
     "name": "stdout",
     "output_type": "stream",
     "text": [
      "{2: 4, 1: 3, 0: 2, 3: 2, 4: 1}\n",
      "43\n"
     ]
    }
   ],
   "source": [
    "class Solution:\n",
    "    def maximumImportance(self, n, roads):\n",
    "        dic = {}\n",
    "        for i in roads:\n",
    "            for j in range(2):\n",
    "                if i[j] in dic:\n",
    "                    dic[i[j]] +=1\n",
    "                else:\n",
    "                    dic.setdefault(i[j],1)\n",
    "        dic = dict(sorted(dic.items(), key=lambda item: item[1], reverse = True))\n",
    "        print(dic)\n",
    "        for i in dic:\n",
    "            dic[i] = n\n",
    "            n-=1\n",
    "        for i in range(len(roads)):\n",
    "            for j in range(2):\n",
    "                roads[i][j] = dic[roads[i][j]]\n",
    "            roads[i] = sum(roads[i])   \n",
    "        return sum(roads)\n",
    "a = Solution()\n",
    "print(a.maximumImportance(5,[[0,1],[1,2],[2,3],[0,2],[1,3],[2,4]]))"
   ]
  }
 ],
 "metadata": {
  "kernelspec": {
   "display_name": "Python 3 (ipykernel)",
   "language": "python",
   "name": "python3"
  },
  "language_info": {
   "codemirror_mode": {
    "name": "ipython",
    "version": 3
   },
   "file_extension": ".py",
   "mimetype": "text/x-python",
   "name": "python",
   "nbconvert_exporter": "python",
   "pygments_lexer": "ipython3",
   "version": "3.11.7"
  }
 },
 "nbformat": 4,
 "nbformat_minor": 5
}
