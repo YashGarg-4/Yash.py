{
 "cells": [
  {
   "cell_type": "code",
   "execution_count": null,
   "id": "c3fb159b-09a7-45c7-9cfa-dfb94b05d77f",
   "metadata": {},
   "outputs": [],
   "source": [
    "class Solution:\n",
    "    def smallerNumbersThanCurrent(self, nums: List[int]) -> List[int]:\n",
    "        dic = {}\n",
    "        lis = []\n",
    "        a = nums.copy()\n",
    "        a.sort()\n",
    "        for i in a:\n",
    "            if i in dic:\n",
    "                dic[i] +=1\n",
    "            else:\n",
    "                dic.setdefault(i,1)\n",
    "        for i in nums:\n",
    "            ans = 0\n",
    "            for j in dic:\n",
    "                if i > j:\n",
    "                    ans+= dic[j]\n",
    "            lis.append(ans)\n",
    "        return lis        \n",
    "            "
   ]
  }
 ],
 "metadata": {
  "kernelspec": {
   "display_name": "Python 3 (ipykernel)",
   "language": "python",
   "name": "python3"
  },
  "language_info": {
   "codemirror_mode": {
    "name": "ipython",
    "version": 3
   },
   "file_extension": ".py",
   "mimetype": "text/x-python",
   "name": "python",
   "nbconvert_exporter": "python",
   "pygments_lexer": "ipython3",
   "version": "3.11.7"
  }
 },
 "nbformat": 4,
 "nbformat_minor": 5
}
