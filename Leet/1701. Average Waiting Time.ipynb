{
 "cells": [
  {
   "cell_type": "code",
   "execution_count": null,
   "id": "b4aae8a4-1963-4406-ba8a-6345b114cee1",
   "metadata": {},
   "outputs": [],
   "source": [
    "class Solution:\n",
    "    def averageWaitingTime(self, customers: List[List[int]]) -> float:\n",
    "        waits = [customers[0][1]]\n",
    "        currtime = customers[0][0] + customers[0][1]\n",
    "        customers.pop(0)\n",
    "        for i in customers:\n",
    "            ta, currtime = self.getwait(currtime, i)\n",
    "            waits.append(ta)\n",
    "        return sum(waits)/(len(customers)+1)\n",
    "    \n",
    "    def getwait(self, currtime, customer):\n",
    "        temp = 0\n",
    "        if currtime > customer[0]:\n",
    "            temp = currtime - customer[0]\n",
    "        temp += customer[1]\n",
    "        currtime = max(sum(customer), currtime + customer[1])\n",
    "        return temp, currtime\n",
    "\n",
    "\n"
   ]
  }
 ],
 "metadata": {
  "kernelspec": {
   "display_name": "Python 3 (ipykernel)",
   "language": "python",
   "name": "python3"
  },
  "language_info": {
   "codemirror_mode": {
    "name": "ipython",
    "version": 3
   },
   "file_extension": ".py",
   "mimetype": "text/x-python",
   "name": "python",
   "nbconvert_exporter": "python",
   "pygments_lexer": "ipython3",
   "version": "3.11.7"
  }
 },
 "nbformat": 4,
 "nbformat_minor": 5
}
