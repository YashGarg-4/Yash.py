{
 "cells": [
  {
   "cell_type": "code",
   "execution_count": 1,
   "id": "28d6be64-b47e-4994-a50c-586fc4a80811",
   "metadata": {},
   "outputs": [
    {
     "name": "stdout",
     "output_type": "stream",
     "text": [
      "245\n",
      "1\n",
      "A\n"
     ]
    }
   ],
   "source": [
    "class Solution:\n",
    "    def gcdOfStrings(self, str1: str, str2: str) -> str:\n",
    "        if len(set(str1)) != len(set(str2)):\n",
    "            return ''\n",
    "        if len(str1)<len(str2):\n",
    "            if str2[:len(str1)] != str1[:len(str1)]:\n",
    "                return ''\n",
    "            else:\n",
    "                ref = str1\n",
    "        elif len(str1) == len(str2):\n",
    "            if str1 != str2:\n",
    "                return ''\n",
    "            else:\n",
    "                ref = str1\n",
    "        else:\n",
    "            if str2[:len(str2)] != str1[:len(str2)]:\n",
    "                return ''\n",
    "            else:\n",
    "                ref = str2\n",
    "        dic={}\n",
    "\n",
    "        for i in ref:\n",
    "            if i in dic:\n",
    "                dic[i] +=1\n",
    "            else:\n",
    "                dic.setdefault(i,1)\n",
    "        j = min(dic.values())\n",
    "        \n",
    "        j = len(ref)//j\n",
    "        ref = ref[:j] \n",
    "    \n",
    "        flag = False\n",
    "        i = min(len(str1),len(str2))//len(ref)\n",
    "        print(i)\n",
    "        pls = 1\n",
    "        while i > 0:\n",
    "            if (len(str1)/len(ref))%i == 0 and (len(str2)/len(ref))%i == 0:\n",
    "                pls = i \n",
    "                break\n",
    "            i-=1\n",
    "            pls = i\n",
    "        print(i)\n",
    "        for k in range(pls-1):\n",
    "            ref += ref\n",
    "        return ref\n",
    "        \n",
    "brrr = Solution()\n",
    "print(brrr.gcdOfStrings(\"AAAAAAAAAAAAAAAAAAAAAAAAAAAAAAAAAAAAAAAAAAAAAAAAAAAAAAAAAAAAAAAAAAAAAAAAAAAAAAAAAAAAAAAAAAAAAAAAAAAAAAAAAAAAAAAAAAAAAAAAAAAAAAAAAAAAAAAAAAAAAAAAAAAAAAAAAAAAAAAAAAAAAAAAAAAAAAAAAAAAAAAAAAAAAAAAAAAAAAAAAAAAAAAAAAAAAAAAAAAAAAAAAAAAAAAAAAAAAAAAAAAAA\",\"AAAAAAAAAAAAAAAAAAAAAAAAAAAAAAAAAAAAAAAAAAAAAAAAAAAAAAAAAAAAAAAAAAAAAAAAAAAAAAAAAAAAAAAAAAAAAAAAAAAAAAAAAAAAAAAAAAAAAAAAAAAAAAAAAAAAAAAAAAAAAAAAAAAAAAAAAAAAAAAAAAAAAAAAAAAAAAAAAAAAAAAAAAAAAAAAAAAAAAAAAAAAAAAAAAAAAAAAAAAAAAAAAAAAAAAAAAAAAAAAAAAAAAAAAAAAAAAAAAAAAAAAAAAAAAAAAAAAAAAAAAAAAAAAAAAAAAAAAAAAAAAAAAAAAAAAAAAAAAAAAAAAAAAAAAAAAAAAAAAAAAAAAAAAAAAAAAAAAAAAAAAAAAAAAAAAAAAAAAAAAAAAAAAAAAAAAAAAAAAAAAAAAAAAAAAAAAAAAAAAAAAAAAAAAAAAAAAAAAAAAAAAAAAAAAAAAAAAAAAAAAAAAAAAAAAAAAAAAAAAAAAAAAAAAAAAAAAAAAAAAAAAAAAAA\"))"
   ]
  },
  {
   "cell_type": "code",
   "execution_count": null,
   "id": "4d043364-9791-4843-b210-c48107e8d04e",
   "metadata": {},
   "outputs": [],
   "source": [
    "1071. Greatest Common Divisor of Strings"
   ]
  }
 ],
 "metadata": {
  "kernelspec": {
   "display_name": "Python 3 (ipykernel)",
   "language": "python",
   "name": "python3"
  },
  "language_info": {
   "codemirror_mode": {
    "name": "ipython",
    "version": 3
   },
   "file_extension": ".py",
   "mimetype": "text/x-python",
   "name": "python",
   "nbconvert_exporter": "python",
   "pygments_lexer": "ipython3",
   "version": "3.11.7"
  }
 },
 "nbformat": 4,
 "nbformat_minor": 5
}
