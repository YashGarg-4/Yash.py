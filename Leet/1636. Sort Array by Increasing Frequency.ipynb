{
 "cells": [
  {
   "cell_type": "code",
   "execution_count": null,
   "id": "a893f495-8b0b-4ab7-bc9e-618e948d48de",
   "metadata": {},
   "outputs": [],
   "source": [
    "class Solution:\n",
    "    def frequencySort(self, nums: List[int]) -> List[int]:\n",
    "        dic = {}\n",
    "        for i in nums:\n",
    "            if i not in dic:\n",
    "                dic.setdefault(i, 1)\n",
    "            else:\n",
    "                dic[i] += 1\n",
    "        # print(dic)\n",
    "        dic = dict(sorted(dic.items(), key= lambda x: x[1]))\n",
    "        # print(dic)\n",
    "        \n",
    "        temp = []\n",
    "        for i in dic:\n",
    "            temp.append((i, dic[i]))\n",
    "        # print(temp)\n",
    "        i = 0\n",
    "        while i < len(temp)-1:\n",
    "            if temp[i][1] == temp[i+1][1]:\n",
    "                j = i\n",
    "                while j < len(temp)-1 and temp[j][1] == temp[j+1][1]:\n",
    "                    j+=1\n",
    "                j+=1\n",
    "                # print(temp[i:j])\n",
    "                temp[i:j] = list(sorted(temp[i:j], key = lambda x: x[0], reverse = True))\n",
    "                i = j-1\n",
    "                continue\n",
    "            i+=1\n",
    "        # print(temp)\n",
    "        ans = []    \n",
    "        for i in temp:\n",
    "            for j in range(i[1]):\n",
    "                ans.append(i[0])\n",
    "        return ans"
   ]
  }
 ],
 "metadata": {
  "kernelspec": {
   "display_name": "Python 3 (ipykernel)",
   "language": "python",
   "name": "python3"
  },
  "language_info": {
   "codemirror_mode": {
    "name": "ipython",
    "version": 3
   },
   "file_extension": ".py",
   "mimetype": "text/x-python",
   "name": "python",
   "nbconvert_exporter": "python",
   "pygments_lexer": "ipython3",
   "version": "3.10.13"
  }
 },
 "nbformat": 4,
 "nbformat_minor": 5
}
