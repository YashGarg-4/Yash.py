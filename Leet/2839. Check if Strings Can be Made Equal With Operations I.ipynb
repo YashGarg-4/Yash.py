{
 "cells": [
  {
   "cell_type": "code",
   "execution_count": null,
   "id": "8716734c-73f9-4ee8-bc39-fdc575b3d9fc",
   "metadata": {},
   "outputs": [],
   "source": [
    "class Solution:\n",
    "    def canBeEqual(self, s1: str, s2: str) -> bool:\n",
    "        if set([s1[0],s1[2]]) == set([s2[0],s2[2]]) and set([s1[1],s1[3]]) == set([s2[1],s2[3]]):\n",
    "            return True\n",
    "        return False\n",
    "\n"
   ]
  }
 ],
 "metadata": {
  "kernelspec": {
   "display_name": "Python 3 (ipykernel)",
   "language": "python",
   "name": "python3"
  },
  "language_info": {
   "codemirror_mode": {
    "name": "ipython",
    "version": 3
   },
   "file_extension": ".py",
   "mimetype": "text/x-python",
   "name": "python",
   "nbconvert_exporter": "python",
   "pygments_lexer": "ipython3",
   "version": "3.10.13"
  }
 },
 "nbformat": 4,
 "nbformat_minor": 5
}
