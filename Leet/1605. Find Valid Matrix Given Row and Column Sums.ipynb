{
 "cells": [
  {
   "cell_type": "code",
   "execution_count": null,
   "id": "e2121aa5-9b37-43fb-b8af-ac31f15c0908",
   "metadata": {},
   "outputs": [],
   "source": [
    "class Solution:\n",
    "    def restoreMatrix(self, rowSum: List[int], colSum: List[int]) -> List[List[int]]:\n",
    "        ans = [[0 for i in range(len(colSum))] for i in range(len(rowSum))]\n",
    "        i, j = 0, 0 \n",
    "        while i < len(rowSum):\n",
    "            j = 0\n",
    "            while rowSum[i] != 0:\n",
    "                if colSum[j] >= rowSum[i]:\n",
    "                    ans[i][j] = rowSum[i]\n",
    "                    colSum[j] -= rowSum[i]\n",
    "                    rowSum[i] == 0\n",
    "                    break\n",
    "                else:\n",
    "                    ans[i][j] = colSum[j]\n",
    "                    rowSum[i] -= colSum[j]\n",
    "                    colSum[j] = 0\n",
    "                    j+=1\n",
    "            i+=1\n",
    "        return ans    \n",
    "\n",
    "\n",
    "                "
   ]
  }
 ],
 "metadata": {
  "kernelspec": {
   "display_name": "Python 3 (ipykernel)",
   "language": "python",
   "name": "python3"
  },
  "language_info": {
   "codemirror_mode": {
    "name": "ipython",
    "version": 3
   },
   "file_extension": ".py",
   "mimetype": "text/x-python",
   "name": "python",
   "nbconvert_exporter": "python",
   "pygments_lexer": "ipython3",
   "version": "3.11.7"
  }
 },
 "nbformat": 4,
 "nbformat_minor": 5
}
