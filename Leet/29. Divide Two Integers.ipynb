{
 "cells": [
  {
   "cell_type": "code",
   "execution_count": null,
   "id": "a7283b0f-3f6e-4b9a-9fd0-29999eae10f3",
   "metadata": {},
   "outputs": [],
   "source": [
    "class Solution:\n",
    "    def divide(self, dividend: int, divisor: int) -> int:\n",
    "        if dividend//divisor < (-2)**31 or dividend//divisor > 2**31-1:\n",
    "            if dividend//divisor<0:\n",
    "                return (-2)**31\n",
    "            return 2**31 - 1\n",
    "        if (dividend < 0 and divisor>0) or (dividend > 0 and divisor < 0):\n",
    "            if dividend%divisor == 0:\n",
    "                return -abs(dividend)//abs(divisor)\n",
    "            return -abs(dividend)//abs(divisor) + 1\n",
    "        return dividend//divisor"
   ]
  }
 ],
 "metadata": {
  "kernelspec": {
   "display_name": "Python 3 (ipykernel)",
   "language": "python",
   "name": "python3"
  },
  "language_info": {
   "codemirror_mode": {
    "name": "ipython",
    "version": 3
   },
   "file_extension": ".py",
   "mimetype": "text/x-python",
   "name": "python",
   "nbconvert_exporter": "python",
   "pygments_lexer": "ipython3",
   "version": "3.11.7"
  }
 },
 "nbformat": 4,
 "nbformat_minor": 5
}
