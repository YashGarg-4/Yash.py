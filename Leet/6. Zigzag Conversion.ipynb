{
 "cells": [
  {
   "cell_type": "code",
   "execution_count": 17,
   "id": "894afe8f-3e6e-4d74-95d4-e55da97ac323",
   "metadata": {},
   "outputs": [
    {
     "name": "stdout",
     "output_type": "stream",
     "text": [
      "ACEBDF\n"
     ]
    }
   ],
   "source": [
    "class Solution:\n",
    "    def convert(self, s, numRows):\n",
    "        matrix = [[] for i in range(numRows)]\n",
    "        # s = [i for i in s]\n",
    "        i = 0\n",
    "        flag = True\n",
    "        count = 0\n",
    "        ans = ''\n",
    "        k1 = ''\n",
    "        k2 = ''\n",
    "        if numRows == 2:\n",
    "            while i < len(s):\n",
    "                k1 += s[i]\n",
    "                i+=1\n",
    "                if i == len(s):\n",
    "                    break\n",
    "                k2 += s[i]\n",
    "                i+=1\n",
    "            return k1 + k2\n",
    "        if len(s) <= numRows or numRows == 1:\n",
    "            return s\n",
    "        while i < len(s):\n",
    "            if flag == True:\n",
    "                if i >= len(s):\n",
    "                    break\n",
    "                matrix[count].append(s[i])\n",
    "                i+=1\n",
    "                count+=1\n",
    "            if count == numRows:\n",
    "                count-=1\n",
    "                flag = False\n",
    "            \n",
    "            if flag == False:\n",
    "                count-=1\n",
    "                if i >= len(s):\n",
    "                    break\n",
    "                matrix[count].append(s[i])\n",
    "                i+=1\n",
    "            \n",
    "            if count == 1 and flag == False:\n",
    "                count = 0\n",
    "                flag = True     \n",
    "        for i in range(len(matrix)):\n",
    "            for j in range(len(matrix[i])):\n",
    "                ans += matrix[i][j]\n",
    "        return ans\n",
    "\n",
    "\n",
    "            \n",
    "\n",
    "\n",
    "n = Solution()\n",
    "print(n.convert(\"ABCDEF\", 2))"
   ]
  }
 ],
 "metadata": {
  "kernelspec": {
   "display_name": "Python 3 (ipykernel)",
   "language": "python",
   "name": "python3"
  },
  "language_info": {
   "codemirror_mode": {
    "name": "ipython",
    "version": 3
   },
   "file_extension": ".py",
   "mimetype": "text/x-python",
   "name": "python",
   "nbconvert_exporter": "python",
   "pygments_lexer": "ipython3",
   "version": "3.11.7"
  }
 },
 "nbformat": 4,
 "nbformat_minor": 5
}
