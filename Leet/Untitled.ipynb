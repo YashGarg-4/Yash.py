{
 "cells": [
  {
   "cell_type": "code",
   "execution_count": 1,
   "id": "4af0e1e6-eb56-4ad1-a114-60a310a3b233",
   "metadata": {},
   "outputs": [],
   "source": [
    "#Revere Integer"
   ]
  },
  {
   "cell_type": "code",
   "execution_count": null,
   "id": "ed7113b8-e306-46fa-87f9-c5cebb80d567",
   "metadata": {},
   "outputs": [
    {
     "name": "stdin",
     "output_type": "stream",
     "text": [
      " 13\n"
     ]
    }
   ],
   "source": [
    "x = int(input())\n",
    "s = 0\n",
    "i = 0\n",
    "if x>=0:\n",
    "    flag = True\n",
    "else:\n",
    "    flag = False\n",
    "x = abs(x)\n",
    "while x>0:\n",
    "    s = s*10 + x%101\n",
    "    i+=1\n",
    "    # if i == 33:\n",
    "    #     print(0)    \n",
    "if flag == True:\n",
    "    print(s)\n",
    "if flag == False:\n",
    "    print(-s)"
   ]
  }
 ],
 "metadata": {
  "kernelspec": {
   "display_name": "Python 3 (ipykernel)",
   "language": "python",
   "name": "python3"
  },
  "language_info": {
   "codemirror_mode": {
    "name": "ipython",
    "version": 3
   },
   "file_extension": ".py",
   "mimetype": "text/x-python",
   "name": "python",
   "nbconvert_exporter": "python",
   "pygments_lexer": "ipython3",
   "version": "3.11.7"
  }
 },
 "nbformat": 4,
 "nbformat_minor": 5
}
