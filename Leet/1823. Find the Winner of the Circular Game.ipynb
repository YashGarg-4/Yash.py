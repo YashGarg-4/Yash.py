{
 "cells": [
  {
   "cell_type": "code",
   "execution_count": 4,
   "id": "3d726d03-00e8-4bce-b014-15900edbfba3",
   "metadata": {},
   "outputs": [
    {
     "name": "stdout",
     "output_type": "stream",
     "text": [
      "0\n",
      "1\n",
      "2\n",
      "3\n",
      "[1, 2, 3, 4, 5, 6] 4\n",
      "0\n",
      "1\n",
      "2\n",
      "3\n",
      "[1, 2, 3, 4, 6] 3\n",
      "0\n",
      "1\n",
      "2\n",
      "3\n",
      "[1, 2, 3, 6] 3\n",
      "0\n",
      "1\n",
      "2\n",
      "3\n",
      "[1, 2, 3] 0\n",
      "0\n",
      "1\n",
      "2\n",
      "3\n",
      "[2, 3] 0\n",
      "ans 3\n",
      "3\n"
     ]
    }
   ],
   "source": [
    "class Solution:\n",
    "    def findTheWinner(self, n: int, k: int) -> int:\n",
    "        k -=1\n",
    "        arr = [i for i in range(1,n+1)]\n",
    "        return self.game(0, arr, k)\n",
    "        \n",
    "        \n",
    "    def game(self, start, arr, k):\n",
    "        if len(arr) == 1:\n",
    "            return arr[0]\n",
    "        count = 0\n",
    "        while count != k:\n",
    "            if start >= len(arr)-1:\n",
    "                start = 0\n",
    "                count += 1\n",
    "            else:\n",
    "                start +=1 \n",
    "                count += 1\n",
    "        if start == len(arr):\n",
    "            start = 0\n",
    "        arr.pop(start)\n",
    "        if start == len(arr):\n",
    "            start = 0\n",
    "        return self.game(start, arr, k)\n",
    "            \n",
    "            \n",
    "            \n",
    "            \n",
    "a = Solution()\n",
    "print(a.findTheWinner(6,5))"
   ]
  }
 ],
 "metadata": {
  "kernelspec": {
   "display_name": "Python 3 (ipykernel)",
   "language": "python",
   "name": "python3"
  },
  "language_info": {
   "codemirror_mode": {
    "name": "ipython",
    "version": 3
   },
   "file_extension": ".py",
   "mimetype": "text/x-python",
   "name": "python",
   "nbconvert_exporter": "python",
   "pygments_lexer": "ipython3",
   "version": "3.11.7"
  }
 },
 "nbformat": 4,
 "nbformat_minor": 5
}
