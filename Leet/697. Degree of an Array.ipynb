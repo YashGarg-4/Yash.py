{
 "cells": [
  {
   "cell_type": "code",
   "execution_count": null,
   "id": "64ef7eac-51f6-446e-98e1-b6f10c3817a5",
   "metadata": {},
   "outputs": [],
   "source": [
    "from typing import List\n",
    "\n",
    "class Solution:\n",
    "    def findShortestSubArray(self, nums: List[int]) -> int:\n",
    "        freq = {}\n",
    "        first_occurrence = {}\n",
    "        last_occurrence = {}\n",
    "        \n",
    "        for i, num in enumerate(nums):\n",
    "            if num not in freq:\n",
    "                freq[num] = 0\n",
    "                first_occurrence[num] = i\n",
    "            freq[num] += 1\n",
    "            last_occurrence[num] = i\n",
    "        \n",
    "        degree = max(freq.values())\n",
    "\n",
    "        min_length = len(nums)\n",
    "        for num in freq:\n",
    "            if freq[num] == degree:\n",
    "                min_length = min(min_length, last_occurrence[num] - first_occurrence[num] + 1)\n",
    "        \n",
    "        return min_length\n"
   ]
  }
 ],
 "metadata": {
  "kernelspec": {
   "display_name": "Python 3 (ipykernel)",
   "language": "python",
   "name": "python3"
  },
  "language_info": {
   "codemirror_mode": {
    "name": "ipython",
    "version": 3
   },
   "file_extension": ".py",
   "mimetype": "text/x-python",
   "name": "python",
   "nbconvert_exporter": "python",
   "pygments_lexer": "ipython3",
   "version": "3.11.7"
  }
 },
 "nbformat": 4,
 "nbformat_minor": 5
}
