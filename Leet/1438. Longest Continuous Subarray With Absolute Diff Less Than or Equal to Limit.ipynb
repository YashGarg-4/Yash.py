{
 "cells": [
  {
   "cell_type": "code",
   "execution_count": 56,
   "id": "a3c09de4-158f-4c77-96d4-132abd37c83f",
   "metadata": {},
   "outputs": [
    {
     "name": "stdout",
     "output_type": "stream",
     "text": [
      "6\n"
     ]
    }
   ],
   "source": [
    "class Solution:\n",
    "    def longestSubarray(self, nums, limit) -> int:\n",
    "        maxx = [nums[0], 0]\n",
    "        minn = [nums[0], 0]\n",
    "        ans = 0\n",
    "        j, i = 0, 0\n",
    "\n",
    "        while j < len(nums):\n",
    "            maxx = self.upmax(maxx, j, nums)\n",
    "            minn = self.upmin(minn, j, nums)\n",
    "            \n",
    "            while maxx[0] - minn[0] > limit:\n",
    "                i += 1\n",
    "                if maxx[1] < i:\n",
    "                    maxx = [nums[i], i]\n",
    "                    for k in range(i, j + 1):\n",
    "                        maxx = self.upmax(maxx, k, nums)\n",
    "                if minn[1] < i:\n",
    "                    minn = [nums[i], i]\n",
    "                    for k in range(i, j + 1):\n",
    "                        minn = self.upmin(minn, k, nums)\n",
    "            \n",
    "            ans = max(ans, j - i + 1)\n",
    "            j += 1\n",
    "\n",
    "        return ans\n",
    "\n",
    "    def upmax(self, ma, j, num):\n",
    "        if num[j] > ma[0]:\n",
    "            ma = [num[j], j]\n",
    "        return ma\n",
    "    \n",
    "    def upmin(self, mi, j, num):\n",
    "        if num[j] < mi[0]:\n",
    "            mi = [num[j], j]\n",
    "        return mi\n",
    "\n",
    "a = Solution()\n",
    "print(a.longestSubarray([2, 2, 2, 4, 4, 2, 5, 5, 5, 5, 5, 2], 2))\n"
   ]
  }
 ],
 "metadata": {
  "kernelspec": {
   "display_name": "Python 3 (ipykernel)",
   "language": "python",
   "name": "python3"
  },
  "language_info": {
   "codemirror_mode": {
    "name": "ipython",
    "version": 3
   },
   "file_extension": ".py",
   "mimetype": "text/x-python",
   "name": "python",
   "nbconvert_exporter": "python",
   "pygments_lexer": "ipython3",
   "version": "3.11.7"
  }
 },
 "nbformat": 4,
 "nbformat_minor": 5
}
