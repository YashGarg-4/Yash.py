{
 "cells": [
  {
   "cell_type": "code",
   "execution_count": null,
   "id": "ee061b68-8b39-4290-9589-bf8347d7bb32",
   "metadata": {},
   "outputs": [],
   "source": [
    "class Bank:\n",
    "    def __init__(self, balance: List[int]):\n",
    "        self.accounts = balance\n",
    "        return None\n",
    "    def transfer(self, account1: int, account2: int, money: int) -> bool:\n",
    "        if 1 <= account1 <= len(self.accounts) and 1 <= account2 <= len(self.accounts):\n",
    "            if self.accounts[account1 - 1] >= money:\n",
    "                self.accounts[account1 - 1] -= money\n",
    "                self.accounts[account2 - 1] += money\n",
    "                return True\n",
    "        return False\n",
    "\n",
    "    def deposit(self, account: int, money: int) -> bool:\n",
    "        if 1 <= account <= len(self.accounts):\n",
    "            self.accounts[account - 1] += money\n",
    "            return True\n",
    "        return False\n",
    "\n",
    "    def withdraw(self, account: int, money: int) -> bool:\n",
    "        if 1 <= account <= len(self.accounts) and self.accounts[account - 1] >= money:\n",
    "            self.accounts[account - 1] -= money\n",
    "            return True\n",
    "        return False\n",
    "\n",
    "# # Example usage:\n",
    "# initial_balance = [100, 200, 300]  # Initial balances for accounts\n",
    "# bank = Bank(initial_balance)\n",
    "\n",
    "# # Perform operations\n",
    "# print(bank.transfer(1, 2, 50))  # Transfer $50 from account 1 to account 2\n",
    "# print(bank.deposit(3, 100))     # Deposit $100 into account 3\n",
    "# print(bank.withdraw(1, 80))     # Withdraw $80 from account 1\n",
    "\n",
    "# # Check updated balances\n",
    "# print(bank.accounts)  # [70, 250, 400]\n"
   ]
  }
 ],
 "metadata": {
  "kernelspec": {
   "display_name": "Python 3 (ipykernel)",
   "language": "python",
   "name": "python3"
  },
  "language_info": {
   "codemirror_mode": {
    "name": "ipython",
    "version": 3
   },
   "file_extension": ".py",
   "mimetype": "text/x-python",
   "name": "python",
   "nbconvert_exporter": "python",
   "pygments_lexer": "ipython3",
   "version": "3.11.7"
  }
 },
 "nbformat": 4,
 "nbformat_minor": 5
}
