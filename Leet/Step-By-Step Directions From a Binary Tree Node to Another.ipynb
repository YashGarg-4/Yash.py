{
 "cells": [
  {
   "cell_type": "code",
   "execution_count": null,
   "id": "077c0d8c-8b3d-415e-8ca8-9caac7ca5264",
   "metadata": {},
   "outputs": [],
   "source": [
    "https://leetcode.com/problems/step-by-step-directions-from-a-binary-tree-node-to-another/submissions/1323263827/"
   ]
  },
  {
   "cell_type": "code",
   "execution_count": null,
   "id": "cb635bd7-2969-4bd5-b95d-a852946f86fd",
   "metadata": {},
   "outputs": [],
   "source": [
    "class Solution:\n",
    "    def getDirections(self, root: Optional[TreeNode], startValue: int, destValue: int) -> str:\n",
    "        q: list[TreeNode] = [root]\n",
    "        while q:\n",
    "            cur_node: TreeNode = q.pop()\n",
    "            if cur_node.val == startValue:\n",
    "                start_node = cur_node  # here we're setting up the start node\n",
    "                break\n",
    "\n",
    "            if cur_node.left:\n",
    "                q.append(cur_node.left)\n",
    "            if cur_node.right:\n",
    "                q.append(cur_node.right)\n",
    "ss\n",
    "        # child node value -> TreeNode object which is parent to node with this value\n",
    "        nodes_parents: dict[int, TreeNode] = {}\n",
    "        q = [root]\n",
    "        while q:\n",
    "            cur_node = q.pop()\n",
    "            if cur_node.left:\n",
    "                nodes_parents[cur_node.left.val] = cur_node\n",
    "                q.append(cur_node.left)\n",
    "            if cur_node.right:\n",
    "                nodes_parents[cur_node.right.val] = cur_node\n",
    "                q.append(cur_node.right)\n",
    "\n",
    "        visited = set()\n",
    "        q = [start_node]\n",
    "        # key is the destination node to which we travel - value is a tuple with 2 elements - (source_node, direction)\n",
    "        tracked_path: dict[TreeNode, tuple(TreeNode, str)] = {}\n",
    "\n",
    "        while q:\n",
    "            cur_node = q.pop()\n",
    "            visited.add(cur_node)\n",
    "\n",
    "            if cur_node.val == destValue:\n",
    "                destination_node = cur_node\n",
    "                break  # we've reached the target node\n",
    "\n",
    "            if cur_node.val in nodes_parents and nodes_parents[cur_node.val] not in visited:\n",
    "                parent = nodes_parents[cur_node.val]\n",
    "                q.append(parent)\n",
    "                tracked_path[parent] = (cur_node, \"U\")  # this is parent node, we go up\n",
    "\n",
    "            if cur_node.left and cur_node.left not in visited:\n",
    "                q.append(cur_node.left)\n",
    "                tracked_path[cur_node.left] = (cur_node, \"L\")\n",
    "\n",
    "            if cur_node.right and cur_node.right not in visited:\n",
    "                q.append(cur_node.right)\n",
    "                tracked_path[cur_node.right] = (cur_node, \"R\")\n",
    "\n",
    "        # Now we need to construct path in a string from tracked_path we have\n",
    "        result_path: list[str] = []\n",
    "        cur_node = destination_node\n",
    "\n",
    "        while cur_node != start_node:\n",
    "            source_node, direction = tracked_path[cur_node]\n",
    "            result_path.append(direction)  # directions will be in reversed order\n",
    "            cur_node = source_node\n",
    "\n",
    "        result_path.reverse()\n",
    "        return \"\".join(result_path)"
   ]
  }
 ],
 "metadata": {
  "kernelspec": {
   "display_name": "Python 3 (ipykernel)",
   "language": "python",
   "name": "python3"
  },
  "language_info": {
   "codemirror_mode": {
    "name": "ipython",
    "version": 3
   },
   "file_extension": ".py",
   "mimetype": "text/x-python",
   "name": "python",
   "nbconvert_exporter": "python",
   "pygments_lexer": "ipython3",
   "version": "3.11.7"
  }
 },
 "nbformat": 4,
 "nbformat_minor": 5
}
