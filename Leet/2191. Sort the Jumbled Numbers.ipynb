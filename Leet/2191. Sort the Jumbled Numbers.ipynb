{
 "cells": [
  {
   "cell_type": "code",
   "execution_count": null,
   "id": "9336215b-c306-4673-9326-7c30aeefd53b",
   "metadata": {},
   "outputs": [],
   "source": [
    "class Solution:\n",
    "    def sortJumbled(self, mapping: List[int], nums: List[int]) -> List[int]:\n",
    "        nums_temp = []\n",
    "        nums = [str(i) for i in nums]\n",
    "        mapping = [str(i) for i in mapping]\n",
    "        for i in range(len(nums)):\n",
    "            temp = [j for j in nums[i]]\n",
    "            nums_temp.append(temp)\n",
    "        check = []\n",
    "        for i in range(len(nums_temp)):\n",
    "            temp = ''\n",
    "            for j in nums_temp[i]:\n",
    "                temp += mapping[int(j)]\n",
    "            check.append((int(temp),i))\n",
    "        check.sort(key=lambda x: x[0])\n",
    "        ans= []\n",
    "        for i in check:\n",
    "            ans.append(int(nums[i[1]]))\n",
    "        # print(check)\n",
    "        return ans"
   ]
  }
 ],
 "metadata": {
  "kernelspec": {
   "display_name": "Python 3 (ipykernel)",
   "language": "python",
   "name": "python3"
  },
  "language_info": {
   "codemirror_mode": {
    "name": "ipython",
    "version": 3
   },
   "file_extension": ".py",
   "mimetype": "text/x-python",
   "name": "python",
   "nbconvert_exporter": "python",
   "pygments_lexer": "ipython3",
   "version": "3.10.13"
  }
 },
 "nbformat": 4,
 "nbformat_minor": 5
}
