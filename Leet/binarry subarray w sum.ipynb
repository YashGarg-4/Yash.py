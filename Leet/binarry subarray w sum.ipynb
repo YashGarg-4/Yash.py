{
 "cells": [
  {
   "cell_type": "code",
   "execution_count": 66,
   "id": "c6a6e0a1-1696-493a-82fc-440e434b3d27",
   "metadata": {},
   "outputs": [],
   "source": [
    "class Solution:\n",
    "    def numSubarraysWithSum(self, nums, goal):\n",
    "        ans, i, j = 0, 0, 0\n",
    "        a, b = 0, 0\n",
    "        ans = 0\n",
    "        while j < len(nums)-1:\n",
    "            while sum(nums[i:j+1]) < goal and j<len(nums):\n",
    "                j+=1\n",
    "                # print(j)\n",
    "            # j-=1\n",
    "            b = j\n",
    "            while b < len(nums) and sum(nums[i:b+1]) == goal:\n",
    "                b+=1\n",
    "            b-=1\n",
    "            a = i\n",
    "            while i<len(nums)-1 and nums[i] == 0:\n",
    "                i+=1\n",
    "            print(a, i,j, b)\n",
    "            ans += (i-a+1)*(b-j+1)\n",
    "            if j == len(nums)-1:\n",
    "                return ans\n",
    "            i = a+1\n",
    "            j = i\n",
    "        return ans\n",
    "            \n",
    "              \n",
    "            "
   ]
  },
  {
   "cell_type": "code",
   "execution_count": 67,
   "id": "d617965c-ee1b-46ea-88ab-ca5130ba7a1b",
   "metadata": {},
   "outputs": [
    {
     "name": "stdout",
     "output_type": "stream",
     "text": [
      "0 2 0 2\n",
      "1 2 1 2\n",
      "13\n"
     ]
    }
   ],
   "source": [
    "a = Solution()\n",
    "print(a.numSubarraysWithSum([0,0,0], 0))"
   ]
  }
 ],
 "metadata": {
  "kernelspec": {
   "display_name": "Python 3 (ipykernel)",
   "language": "python",
   "name": "python3"
  },
  "language_info": {
   "codemirror_mode": {
    "name": "ipython",
    "version": 3
   },
   "file_extension": ".py",
   "mimetype": "text/x-python",
   "name": "python",
   "nbconvert_exporter": "python",
   "pygments_lexer": "ipython3",
   "version": "3.10.13"
  }
 },
 "nbformat": 4,
 "nbformat_minor": 5
}
