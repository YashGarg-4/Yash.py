{
 "cells": [
  {
   "cell_type": "code",
   "execution_count": null,
   "id": "d92da89a-1fca-4e79-8c49-0d424f4ab3c2",
   "metadata": {},
   "outputs": [],
   "source": [
    "class Solution:\n",
    "    def canBeEqual(self, target: List[int], arr: List[int]) -> bool:\n",
    "        target.sort()\n",
    "        arr.sort()\n",
    "        if arr == target:\n",
    "            return True\n",
    "        else:\n",
    "            return False"
   ]
  }
 ],
 "metadata": {
  "kernelspec": {
   "display_name": "Python 3 (ipykernel)",
   "language": "python",
   "name": "python3"
  },
  "language_info": {
   "codemirror_mode": {
    "name": "ipython",
    "version": 3
   },
   "file_extension": ".py",
   "mimetype": "text/x-python",
   "name": "python",
   "nbconvert_exporter": "python",
   "pygments_lexer": "ipython3",
   "version": "3.10.13"
  }
 },
 "nbformat": 4,
 "nbformat_minor": 5
}
