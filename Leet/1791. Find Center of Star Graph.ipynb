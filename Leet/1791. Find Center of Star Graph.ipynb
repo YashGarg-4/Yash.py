{
 "cells": [
  {
   "cell_type": "code",
   "execution_count": 2,
   "id": "3c1a5b23-62fe-457d-b7f6-92dfa66f2569",
   "metadata": {},
   "outputs": [
    {
     "name": "stdout",
     "output_type": "stream",
     "text": [
      "1\n"
     ]
    }
   ],
   "source": [
    "class Solution:\n",
    "    def findCenter(self, edges):\n",
    "        for i in edges:\n",
    "            if edges[1][0] not in i:\n",
    "                return edges[1][1]\n",
    "        return edges[1][0]\n",
    "                \n",
    "\n",
    "a = Solution()\n",
    "print(a.findCenter([[1,2],[5,1],[1,3],[1,4]]))"
   ]
  }
 ],
 "metadata": {
  "kernelspec": {
   "display_name": "Python 3 (ipykernel)",
   "language": "python",
   "name": "python3"
  },
  "language_info": {
   "codemirror_mode": {
    "name": "ipython",
    "version": 3
   },
   "file_extension": ".py",
   "mimetype": "text/x-python",
   "name": "python",
   "nbconvert_exporter": "python",
   "pygments_lexer": "ipython3",
   "version": "3.11.7"
  }
 },
 "nbformat": 4,
 "nbformat_minor": 5
}
