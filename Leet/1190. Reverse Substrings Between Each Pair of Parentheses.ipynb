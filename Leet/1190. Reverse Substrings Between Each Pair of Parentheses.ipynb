{
 "cells": [
  {
   "cell_type": "code",
   "execution_count": 34,
   "id": "214b48a4-6220-43af-b2c9-57a6bcc48cd9",
   "metadata": {},
   "outputs": [],
   "source": [
    "class Solution:\n",
    "    def reverseParentheses(self, s: str) -> str:\n",
    "      stack = []\n",
    "\n",
    "      for c in s:\n",
    "        if c == \")\":\n",
    "          word = \"\"\n",
    "          while stack and stack[-1] != \"(\":\n",
    "            word += stack.pop()[::-1]\n",
    "          stack.pop()\n",
    "          stack.append(word)\n",
    "        else:\n",
    "          stack.append(c)\n",
    "          \n",
    "      return \"\".join(stack)"
   ]
  },
  {
   "cell_type": "code",
   "execution_count": 35,
   "id": "737e3341-382f-41f4-93e8-d6c0f8cc736a",
   "metadata": {},
   "outputs": [
    {
     "name": "stdout",
     "output_type": "stream",
     "text": [
      "fluaonbqytsj\n"
     ]
    }
   ],
   "source": [
    "a = Solution()\n",
    "print(a.reverseParentheses(\"f(ul)ao(t(y)qbn)()sj\"))"
   ]
  }
 ],
 "metadata": {
  "kernelspec": {
   "display_name": "Python 3 (ipykernel)",
   "language": "python",
   "name": "python3"
  },
  "language_info": {
   "codemirror_mode": {
    "name": "ipython",
    "version": 3
   },
   "file_extension": ".py",
   "mimetype": "text/x-python",
   "name": "python",
   "nbconvert_exporter": "python",
   "pygments_lexer": "ipython3",
   "version": "3.11.7"
  }
 },
 "nbformat": 4,
 "nbformat_minor": 5
}
