{
 "cells": [
  {
   "cell_type": "code",
   "execution_count": null,
   "id": "76ea0154-bddb-4ef0-a3d4-d8abba063f00",
   "metadata": {},
   "outputs": [],
   "source": [
    "class Solution:\n",
    "    def balanceBST(self, root: TreeNode) -> TreeNode:\n",
    "        def get_inorder(node):\n",
    "            if not node:\n",
    "                return []\n",
    "            return get_inorder(node.left) + [node.val] + get_inorder(node.right)\n",
    "\n",
    "        def construct_bst(arr, start, end):\n",
    "            if start > end:\n",
    "                return None\n",
    "\n",
    "            mid = (start + end) // 2\n",
    "            node = TreeNode(arr[mid])\n",
    "            node.left = construct_bst(arr, start, mid - 1)\n",
    "            node.right = construct_bst(arr, mid + 1, end)\n",
    "            return node\n",
    "\n",
    "        inorder_values = get_inorder(root)\n",
    "        n = len(inorder_values)\n",
    "        return construct_bst(inorder_values, 0, n - 1)\n"
   ]
  },
  {
   "cell_type": "code",
   "execution_count": 8,
   "id": "f3027a04-6c27-4295-993c-17e22c019eb6",
   "metadata": {},
   "outputs": [
    {
     "name": "stdout",
     "output_type": "stream",
     "text": [
      "None\n"
     ]
    }
   ],
   "source": [
    "# Definition for a binary tree node.\n",
    "class TreeNode:\n",
    "    def __init__(self, val=0, left=None, right=None):\n",
    "        self.val = val\n",
    "        self.left = left\n",
    "        self.right = right\n",
    "class Solution:\n",
    "    def balanceBST(self, root):\n",
    "        root = TreeNode(root)\n",
    "        node = root\n",
    "        count = 0\n",
    "        while node:\n",
    "            count +=1\n",
    "            node = node.left\n",
    "        return root.left\n",
    "        # def bal(node, n):\n",
    "\n",
    "\n",
    "\n",
    "\n",
    "            \n",
    "a = Solution()\n",
    "print(a.balanceBST([1,None,2,None,3,None,4,None,None]))"
   ]
  },
  {
   "cell_type": "code",
   "execution_count": 2,
   "id": "f3d43348-70be-4c66-b18e-445415b33e7f",
   "metadata": {},
   "outputs": [
    {
     "name": "stdout",
     "output_type": "stream",
     "text": [
      "<class '__main__.TreeNode'>\n"
     ]
    }
   ],
   "source": [
    "class TreeNode:\n",
    "    def __init__(self, val=0, left=None, right=None):\n",
    "        self.val = val\n",
    "        self.left = left\n",
    "        self.right = right\n",
    "node = TreeNode()\n",
    "while i < 5:\n",
    "    "
   ]
  }
 ],
 "metadata": {
  "kernelspec": {
   "display_name": "Python 3 (ipykernel)",
   "language": "python",
   "name": "python3"
  },
  "language_info": {
   "codemirror_mode": {
    "name": "ipython",
    "version": 3
   },
   "file_extension": ".py",
   "mimetype": "text/x-python",
   "name": "python",
   "nbconvert_exporter": "python",
   "pygments_lexer": "ipython3",
   "version": "3.11.7"
  }
 },
 "nbformat": 4,
 "nbformat_minor": 5
}
