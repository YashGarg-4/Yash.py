{
 "cells": [
  {
   "cell_type": "code",
   "execution_count": 1,
   "id": "5e6b0fd4-0616-4e44-ab34-c720cd84cf94",
   "metadata": {},
   "outputs": [],
   "source": [
    "#RomanToInt"
   ]
  },
  {
   "cell_type": "code",
   "execution_count": null,
   "id": "6fa3f04b-fff8-4ac2-aa66-15be359658a7",
   "metadata": {},
   "outputs": [],
   "source": [
    "class Solution:\n",
    "    def romanToInt(self, s: str) -> int:\n",
    "        dic = {'I':1,'V':5,'X':10, 'L':50, 'C':100, 'D':500, 'M':1000}\n",
    "        s = [i for i in s]\n",
    "        sum = dic[s[len(s)-1]]\n",
    "        for i in range(len(s)-1,-1,-1):\n",
    "            if i-1 < 0:\n",
    "                break\n",
    "            if dic[s[i]] > dic[s[i-1]]:\n",
    "                sum -= dic[s[i-1]]\n",
    "                \n",
    "            else:\n",
    "                sum += dic[s[i-1]]\n",
    "        return sum"
   ]
  }
 ],
 "metadata": {
  "kernelspec": {
   "display_name": "Python 3 (ipykernel)",
   "language": "python",
   "name": "python3"
  },
  "language_info": {
   "codemirror_mode": {
    "name": "ipython",
    "version": 3
   },
   "file_extension": ".py",
   "mimetype": "text/x-python",
   "name": "python",
   "nbconvert_exporter": "python",
   "pygments_lexer": "ipython3",
   "version": "3.11.7"
  }
 },
 "nbformat": 4,
 "nbformat_minor": 5
}
