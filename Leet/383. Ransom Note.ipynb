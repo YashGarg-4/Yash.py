{
 "cells": [
  {
   "cell_type": "code",
   "execution_count": null,
   "id": "4541d165-706e-40bf-a834-17acc1ca7eae",
   "metadata": {},
   "outputs": [],
   "source": [
    "class Solution:\n",
    "    def canConstruct(self, ransomNote: str, magazine: str) -> bool:\n",
    "        dic1 = {}\n",
    "        dic2 = {}\n",
    "        # ransomnote = [i for i in ransomNote]\n",
    "        # magazine = [i for i in magazine]\n",
    "        # print(magazine)\n",
    "        for i in ransomNote:\n",
    "            if i in dic1:\n",
    "                dic1[i] +=1\n",
    "            else:\n",
    "                dic1.setdefault(i,1)\n",
    "        for i in magazine:\n",
    "            if i in dic2:\n",
    "                dic2[i] +=1\n",
    "            else:\n",
    "                dic2.setdefault(i,1)\n",
    "        # print(dic2)\n",
    "        for i in dic1:\n",
    "            if i not in dic2:\n",
    "                return False\n",
    "            for j in dic2:\n",
    "                if dic1[i] > dic2[i]:\n",
    "                    return False\n",
    "        return True\n"
   ]
  }
 ],
 "metadata": {
  "kernelspec": {
   "display_name": "Python 3 (ipykernel)",
   "language": "python",
   "name": "python3"
  },
  "language_info": {
   "codemirror_mode": {
    "name": "ipython",
    "version": 3
   },
   "file_extension": ".py",
   "mimetype": "text/x-python",
   "name": "python",
   "nbconvert_exporter": "python",
   "pygments_lexer": "ipython3",
   "version": "3.11.7"
  }
 },
 "nbformat": 4,
 "nbformat_minor": 5
}
