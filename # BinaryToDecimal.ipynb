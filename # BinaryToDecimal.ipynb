{
 "cells": [
  {
   "cell_type": "code",
   "execution_count": 3,
   "id": "cf112ddc-8bf4-45a2-a8ef-6eb7814b63fa",
   "metadata": {},
   "outputs": [],
   "source": [
    "#Longest substring without repeating characters"
   ]
  },
  {
   "cell_type": "code",
   "execution_count": null,
   "id": "bfe276e3-6bc9-46e2-aab9-00fcb767209e",
   "metadata": {},
   "outputs": [],
   "source": [
    "s = str(input())\n",
    "i=0\n",
    "j=1\n",
    "dict= {}\n",
    "while j<len(s):\n",
    "    if"
   ]
  },
  {
   "cell_type": "code",
   "execution_count": 5,
   "id": "92e96182-dac4-40fc-8989-a71f232596e1",
   "metadata": {},
   "outputs": [],
   "source": [
    "# BinaryToDecimal"
   ]
  },
  {
   "cell_type": "code",
   "execution_count": 14,
   "id": "b82791d1-5a54-442e-a76d-cfb45a8be8cb",
   "metadata": {},
   "outputs": [
    {
     "name": "stdin",
     "output_type": "stream",
     "text": [
      " 1 0 1 1\n"
     ]
    },
    {
     "name": "stdout",
     "output_type": "stream",
     "text": [
      "11\n"
     ]
    }
   ],
   "source": [
    "n = [int(s) for s in input().split()]\n",
    "ans = 0\n",
    "j=0\n",
    "for i in range(len(n)-1,-1,-1):\n",
    "    ans = ans + n[i]*(2**j)\n",
    "    j+=1\n",
    "print(ans)"
   ]
  }
 ],
 "metadata": {
  "kernelspec": {
   "display_name": "Python 3 (ipykernel)",
   "language": "python",
   "name": "python3"
  },
  "language_info": {
   "codemirror_mode": {
    "name": "ipython",
    "version": 3
   },
   "file_extension": ".py",
   "mimetype": "text/x-python",
   "name": "python",
   "nbconvert_exporter": "python",
   "pygments_lexer": "ipython3",
   "version": "3.11.7"
  }
 },
 "nbformat": 4,
 "nbformat_minor": 5
}
