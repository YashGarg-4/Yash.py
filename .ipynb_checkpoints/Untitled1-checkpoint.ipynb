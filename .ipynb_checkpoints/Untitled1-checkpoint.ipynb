{
 "cells": [
  {
   "cell_type": "code",
   "execution_count": null,
   "id": "e385b549-8f09-4691-a551-2740fa818e77",
   "metadata": {},
   "outputs": [],
   "source": [
    "n = len(arr)\n",
    "    dic = {}\n",
    "    count = 0\n",
    "    for i in arr:\n",
    "        if i in dic:\n",
    "            dic[i] +=1\n",
    "        else:\n",
    "            dic.setdefault(i,1)\n",
    "    for i in dic:\n",
    "        if i*r in dic and i*r*r in dic:\n",
    "            count+= max(dic[i],dic[i*r*r],dic[i*r])\n",
    "    return count"
   ]
  }
 ],
 "metadata": {
  "kernelspec": {
   "display_name": "Python 3 (ipykernel)",
   "language": "python",
   "name": "python3"
  },
  "language_info": {
   "codemirror_mode": {
    "name": "ipython",
    "version": 3
   },
   "file_extension": ".py",
   "mimetype": "text/x-python",
   "name": "python",
   "nbconvert_exporter": "python",
   "pygments_lexer": "ipython3",
   "version": "3.11.7"
  }
 },
 "nbformat": 4,
 "nbformat_minor": 5
}
