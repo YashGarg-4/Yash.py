{
 "cells": [
  {
   "cell_type": "code",
   "execution_count": 2,
   "id": "3dcf319b-fa46-45aa-b100-9f047ccde7f5",
   "metadata": {},
   "outputs": [],
   "source": [
    "# To print all words w freq Q\n",
    "\n"
   ]
  },
  {
   "cell_type": "code",
   "execution_count": null,
   "id": "05ab868f-ffb2-48a0-a021-581b5a0987b8",
   "metadata": {},
   "outputs": [],
   "source": [
    "s = list[\"Hi how how are are are you you!!!!\".split]\n",
    "k = int(input())\n",
    "\n",
    "\n"
   ]
  }
 ],
 "metadata": {
  "kernelspec": {
   "display_name": "Python 3 (ipykernel)",
   "language": "python",
   "name": "python3"
  },
  "language_info": {
   "codemirror_mode": {
    "name": "ipython",
    "version": 3
   },
   "file_extension": ".py",
   "mimetype": "text/x-python",
   "name": "python",
   "nbconvert_exporter": "python",
   "pygments_lexer": "ipython3",
   "version": "3.11.7"
  }
 },
 "nbformat": 4,
 "nbformat_minor": 5
}
