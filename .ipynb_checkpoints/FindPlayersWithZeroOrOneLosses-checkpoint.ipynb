{
 "cells": [
  {
   "cell_type": "code",
   "execution_count": 1,
   "id": "c55fe90a-ba20-4f7f-8afa-57308e6218c4",
   "metadata": {},
   "outputs": [],
   "source": [
    "#FindPlayersWithZeroOrOneLosses"
   ]
  },
  {
   "cell_type": "code",
   "execution_count": 21,
   "id": "55ffd6d8-2701-415b-a5e9-312552b67183",
   "metadata": {},
   "outputs": [
    {
     "name": "stdout",
     "output_type": "stream",
     "text": [
      "[[1, 2, 10], [4, 5, 7, 8]]\n"
     ]
    }
   ],
   "source": [
    "matches = [[1,3],[2,3],[3,6],[5,6],[5,7],[4,5],[4,8],[4,9],[10,4],[10,9]]\n",
    "dict = {}\n",
    "answer =[]\n",
    "answer1 = []\n",
    "answer2 = []\n",
    "for i in matches:\n",
    "    if i[0] not in dict or i[1] not in dict:\n",
    "        dict.update([(i[0],0), (i[1],0)])\n",
    "for i in matches:\n",
    "    dict[i[1]] +=1\n",
    "for i in dict:\n",
    "    if dict[i]==0:\n",
    "        answer1.append(i)\n",
    "    if dict[i]==1:\n",
    "        answer2.append(i)\n",
    "answer1.sort()\n",
    "answer2.sort()\n",
    "answer.append(answer1)\n",
    "answer.append(answer2)\n",
    "print(answer)"
   ]
  }
 ],
 "metadata": {
  "kernelspec": {
   "display_name": "Python 3 (ipykernel)",
   "language": "python",
   "name": "python3"
  },
  "language_info": {
   "codemirror_mode": {
    "name": "ipython",
    "version": 3
   },
   "file_extension": ".py",
   "mimetype": "text/x-python",
   "name": "python",
   "nbconvert_exporter": "python",
   "pygments_lexer": "ipython3",
   "version": "3.11.7"
  }
 },
 "nbformat": 4,
 "nbformat_minor": 5
}
