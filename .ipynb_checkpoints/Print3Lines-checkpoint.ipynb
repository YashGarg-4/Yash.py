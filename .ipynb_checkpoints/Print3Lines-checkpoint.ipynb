{
 "cells": [
  {
   "cell_type": "code",
   "execution_count": null,
   "id": "e0d22fb3-a1d6-4fbc-9290-9f8be0861058",
   "metadata": {},
   "outputs": [],
   "source": [
    " # Printing first three lines"
   ]
  },
  {
   "cell_type": "code",
   "execution_count": 10,
   "id": "d0580f60-6738-4771-8821-9d8367cd33b8",
   "metadata": {},
   "outputs": [
    {
     "name": "stdout",
     "output_type": "stream",
     "text": [
      "1 DD37Cf93aecA6Dc Sheryl Baxter Rasmussen Group East Leonard Chile 229.077.5154 397.884.0519x718 zunigavanessa@smith.info 2020-08-24 http://www.stephenson.com/ \n",
      "2 1Ef7b82A4CAAD10 Preston Lozano Vega-Gentry East Jimmychester Djibouti 5153435776 686-620-1820x944 vmata@colon.com 2021-04-23 http://www.hobbs.com/ \n",
      "3 6F94879bDAfE5a6 Roy Berry Murillo-Perry Isabelborough Antigua and Barbuda +1-539-402-0259 (496)978-3969x58947 beckycarr@hogan.com 2020-03-25 http://www.lawrence.com/ \n"
     ]
    }
   ],
   "source": [
    "import csv\n",
    "with open('customers-100.csv','r') as obj:\n",
    "    data = csv.reader(obj)\n",
    "    data_list = list(data)\n",
    "\n",
    "for i in data_list[1:4]:\n",
    "    for j in i:\n",
    "        print(f'{j} ', end='')\n",
    "    print()\n",
    "    "
   ]
  }
 ],
 "metadata": {
  "kernelspec": {
   "display_name": "Python 3 (ipykernel)",
   "language": "python",
   "name": "python3"
  },
  "language_info": {
   "codemirror_mode": {
    "name": "ipython",
    "version": 3
   },
   "file_extension": ".py",
   "mimetype": "text/x-python",
   "name": "python",
   "nbconvert_exporter": "python",
   "pygments_lexer": "ipython3",
   "version": "3.11.7"
  }
 },
 "nbformat": 4,
 "nbformat_minor": 5
}
