{
 "cells": [
  {
   "cell_type": "code",
   "execution_count": 39,
   "id": "6ad542b7-5790-45a4-a6ee-78075bb7b671",
   "metadata": {},
   "outputs": [
    {
     "name": "stdout",
     "output_type": "stream",
     "text": [
      "False\n"
     ]
    }
   ],
   "source": [
    "class Solution:\n",
    "    def isMatch(self, s: str, p: str) -> bool:\n",
    "        ans = True\n",
    "        i,j=0,0\n",
    "        if len(p)<len(s) and len(p) == 1:\n",
    "            return False\n",
    "        if len(p)<len(s) and p[-1] != '*' and p[-2] != '.':\n",
    "            return False\n",
    "        while p[-1] == '*' and p[-2] == '*':\n",
    "            p = p[:len(p)-1]\n",
    "        \n",
    "        while j < len(s):\n",
    "            \n",
    "            while i < len(p):\n",
    "                # print(i,j)\n",
    "                if p[i] == s[j]:\n",
    "                    i+=1\n",
    "                    j+=1\n",
    "                    break\n",
    "                if p[i] != s[j] and p[i+1]!='*':\n",
    "                    i+=1\n",
    "                    j+=1\n",
    "                    break\n",
    "                if p[i] != s[j] and p[i]!='*' and p[i]!='.':\n",
    "                    return False\n",
    "                if p[i] == '.':\n",
    "                    i+=1\n",
    "                    j+=1\n",
    "                    break\n",
    "                if p[i] == '*' and p[i-1] == '.':\n",
    "                    i+=1\n",
    "                    while p[i] != s[j]:\n",
    "                        j+=1\n",
    "                    break\n",
    "                if p[i] == '*' and i == len(p) - 1:\n",
    "                    i+=1\n",
    "                    j+=1\n",
    "                    break\n",
    "                if p[i] == '*':\n",
    "                    if p[i-1] == s[j]: \n",
    "                        while s[j] == p[i-1]:\n",
    "                            j+=1\n",
    "                            break\n",
    "                        i+=1\n",
    "                        continue\n",
    "                    i+=1\n",
    "                    j+=1\n",
    "                    break\n",
    "            j+=1\n",
    "        print(i,j)\n",
    "        if (j == len(s) and i == len(p)) or (j == len(s) and i == len(p)-1):\n",
    "            return True\n",
    "        else:\n",
    "            return False\n",
    "            \n",
    "                \n",
    "a = Solution()\n",
    "print(a.isMatch('aab', 'c*a*b'))"
   ]
  },
  {
   "cell_type": "code",
   "execution_count": null,
   "id": "4807f20b-e17f-4eaa-a2ca-8650670bd9ee",
   "metadata": {},
   "outputs": [],
   "source": []
  }
 ],
 "metadata": {
  "kernelspec": {
   "display_name": "Python 3 (ipykernel)",
   "language": "python",
   "name": "python3"
  },
  "language_info": {
   "codemirror_mode": {
    "name": "ipython",
    "version": 3
   },
   "file_extension": ".py",
   "mimetype": "text/x-python",
   "name": "python",
   "nbconvert_exporter": "python",
   "pygments_lexer": "ipython3",
   "version": "3.11.7"
  }
 },
 "nbformat": 4,
 "nbformat_minor": 5
}
