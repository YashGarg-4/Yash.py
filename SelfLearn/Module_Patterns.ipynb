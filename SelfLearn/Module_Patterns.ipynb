{
 "cells": [
  {
   "cell_type": "code",
   "execution_count": 20,
   "id": "e5c6ca97-bdca-478a-ac53-2715ec19ea0e",
   "metadata": {},
   "outputs": [],
   "source": [
    "## Print first n natural numbers"
   ]
  },
  {
   "cell_type": "code",
   "execution_count": 40,
   "id": "5275b923-afea-4244-9368-6332db54a933",
   "metadata": {},
   "outputs": [
    {
     "name": "stdin",
     "output_type": "stream",
     "text": [
      " 5\n"
     ]
    },
    {
     "name": "stdout",
     "output_type": "stream",
     "text": [
      "0\n",
      "1\n",
      "2\n",
      "3\n",
      "4\n",
      "5\n"
     ]
    }
   ],
   "source": [
    "n = int(input())\n",
    "i = 0\n",
    "\n",
    "while n>=0:\n",
    "    print(i)\n",
    "    i=i+1\n",
    "    n=n-1\n",
    "    "
   ]
  },
  {
   "cell_type": "code",
   "execution_count": 22,
   "id": "7faf2205-a6a3-4abd-8112-2cd6bd20becc",
   "metadata": {},
   "outputs": [],
   "source": [
    "## sum of all even numbers form 1 to n"
   ]
  },
  {
   "cell_type": "code",
   "execution_count": 23,
   "id": "4c2ce75d-f8c2-461f-937f-d855495066bb",
   "metadata": {},
   "outputs": [
    {
     "name": "stdin",
     "output_type": "stream",
     "text": [
      " 4\n"
     ]
    },
    {
     "name": "stdout",
     "output_type": "stream",
     "text": [
      "6\n"
     ]
    }
   ],
   "source": [
    "n = int(input())\n",
    "i=2\n",
    "sum = 0\n",
    "while i<=n:\n",
    "    sum = sum + i\n",
    "    i = i+2\n",
    "print(sum)"
   ]
  },
  {
   "cell_type": "code",
   "execution_count": 24,
   "id": "39b0275c-60e0-49fa-9aac-83a581aec0eb",
   "metadata": {},
   "outputs": [],
   "source": [
    "## checking if prime"
   ]
  },
  {
   "cell_type": "code",
   "execution_count": 25,
   "id": "94cbccfd-37d5-45ca-a051-6ebe43d32e92",
   "metadata": {},
   "outputs": [
    {
     "name": "stdin",
     "output_type": "stream",
     "text": [
      " 4\n"
     ]
    },
    {
     "name": "stdout",
     "output_type": "stream",
     "text": [
      "Not Prime\n"
     ]
    }
   ],
   "source": [
    "check = 2\n",
    "n = int(input())\n",
    "flag = 1\n",
    "while check<n:\n",
    "    if n%check != 0:\n",
    "        check = check + 1\n",
    "        continue\n",
    "    else:\n",
    "        flag=0\n",
    "        break\n",
    "\n",
    "if flag == 0:\n",
    "    print(\"Not Prime\")\n",
    "else:\n",
    "    print(\"Prime\")\n",
    "\n",
    "## More memory used but lesser time to execute\n",
    "\n"
   ]
  },
  {
   "cell_type": "code",
   "execution_count": 26,
   "id": "5da61f76-c6de-4ad2-8ba4-3bb638bef9c1",
   "metadata": {},
   "outputs": [],
   "source": [
    "## Farenheit to Celcius"
   ]
  },
  {
   "cell_type": "code",
   "execution_count": 27,
   "id": "f62d2b46-d256-422a-a621-b9d326be5340",
   "metadata": {},
   "outputs": [
    {
     "name": "stdin",
     "output_type": "stream",
     "text": [
      " 4\n",
      " 4\n",
      " 4\n"
     ]
    },
    {
     "name": "stdout",
     "output_type": "stream",
     "text": [
      "4 : -15.555555555555557\n",
      "\n"
     ]
    }
   ],
   "source": [
    "S = int(input())\n",
    "E = int(input())\n",
    "W = int(input())\n",
    "N = 0\n",
    "while S<=E:\n",
    "    N = (5/9)*(S-32)\n",
    "    print(f\"{S} : {N}\\n\")\n",
    "    S=S+W\n"
   ]
  },
  {
   "cell_type": "code",
   "execution_count": 28,
   "id": "94ed6672-a51c-4e90-b4d1-78afd3a9b8e4",
   "metadata": {},
   "outputs": [],
   "source": [
    "## to print stars w N rows and N columns, N is input"
   ]
  },
  {
   "cell_type": "code",
   "execution_count": 29,
   "id": "2800f53a-3f4d-4e8d-beb0-dedbf79287c3",
   "metadata": {},
   "outputs": [
    {
     "name": "stdin",
     "output_type": "stream",
     "text": [
      " 4\n"
     ]
    },
    {
     "name": "stdout",
     "output_type": "stream",
     "text": [
      "1234\n",
      "1234\n",
      "1234\n",
      "1234\n"
     ]
    }
   ],
   "source": [
    "n = int(input())\n",
    "i=n\n",
    "while i>0:\n",
    "    k=1\n",
    "    j=n\n",
    "    while j>0:\n",
    "        print(k, end=\"\")\n",
    "        j= j-1\n",
    "        k=k+1\n",
    "    print()\n",
    "    i= i-1\n",
    "    "
   ]
  },
  {
   "cell_type": "code",
   "execution_count": 30,
   "id": "9fbb5b46-54c4-46d7-a67d-ee4b307d8626",
   "metadata": {},
   "outputs": [
    {
     "name": "stdin",
     "output_type": "stream",
     "text": [
      " 4\n"
     ]
    },
    {
     "name": "stdout",
     "output_type": "stream",
     "text": [
      "4321\n",
      "4321\n",
      "4321\n",
      "4321\n"
     ]
    }
   ],
   "source": [
    "n = int(input())\n",
    "i=n\n",
    "while i>0:\n",
    "    k=n\n",
    "    j=n\n",
    "    while j>0:\n",
    "        print(k, end=\"\")\n",
    "        j= j-1\n",
    "        k=k-1\n",
    "    print()\n",
    "    i= i-1\n",
    "    "
   ]
  },
  {
   "cell_type": "code",
   "execution_count": 31,
   "id": "3dafccad-3f35-4a9b-9568-f98725335a2e",
   "metadata": {},
   "outputs": [
    {
     "name": "stdin",
     "output_type": "stream",
     "text": [
      " 4\n"
     ]
    },
    {
     "name": "stdout",
     "output_type": "stream",
     "text": [
      "1111\n",
      "2222\n",
      "3333\n",
      "4444\n"
     ]
    }
   ],
   "source": [
    "n = int(input())\n",
    "i=n\n",
    "k=1\n",
    "while i>0:\n",
    "    j=n\n",
    "    while j>0:\n",
    "        print(k, end=\"\")\n",
    "        j= j-1\n",
    "    k=k+1\n",
    "    print()\n",
    "    i= i-1\n",
    "    "
   ]
  },
  {
   "cell_type": "code",
   "execution_count": 32,
   "id": "da9ade45-f078-4d43-ad36-e2668605bf94",
   "metadata": {},
   "outputs": [],
   "source": [
    "## Triangle pattern"
   ]
  },
  {
   "cell_type": "code",
   "execution_count": 33,
   "id": "6127aae8-dc4b-4704-98f3-5437d6f81a19",
   "metadata": {},
   "outputs": [
    {
     "name": "stdin",
     "output_type": "stream",
     "text": [
      " 4\n"
     ]
    },
    {
     "name": "stdout",
     "output_type": "stream",
     "text": [
      "1\n",
      "12\n",
      "123\n",
      "1234\n"
     ]
    }
   ],
   "source": [
    "n = int(input())\n",
    "i=n\n",
    "while i>0:\n",
    "    j=n-i\n",
    "    k=1\n",
    "    while j>=0:\n",
    "        print(k, end=\"\")\n",
    "        k = k+1\n",
    "        j = j-1\n",
    "    i = i-1\n",
    "    print()\n",
    "    "
   ]
  },
  {
   "cell_type": "code",
   "execution_count": 34,
   "id": "e4bfc22b-4f50-4c5d-a9e0-ee6cffc25227",
   "metadata": {},
   "outputs": [],
   "source": [
    "##Reverse Number triangle\n"
   ]
  },
  {
   "cell_type": "code",
   "execution_count": 35,
   "id": "34590411-f229-4817-b891-38dfc9652c12",
   "metadata": {},
   "outputs": [
    {
     "name": "stdin",
     "output_type": "stream",
     "text": [
      " 4\n"
     ]
    },
    {
     "name": "stdout",
     "output_type": "stream",
     "text": [
      "1\n",
      "21\n",
      "321\n",
      "4321\n"
     ]
    }
   ],
   "source": [
    "n = int(input())\n",
    "i=n\n",
    "while i>0:\n",
    "    j=n-i\n",
    "    k=n-i+1\n",
    "    while j>=0:\n",
    "        print(k, end=\"\")\n",
    "        k = k-1\n",
    "        j = j-1\n",
    "    i = i-1\n",
    "    print()\n",
    "    "
   ]
  },
  {
   "cell_type": "code",
   "execution_count": 36,
   "id": "13857c8a-74ba-45d1-b59d-fa3b8459ed6a",
   "metadata": {},
   "outputs": [],
   "source": [
    "## Char patterns"
   ]
  },
  {
   "cell_type": "code",
   "execution_count": 37,
   "id": "46e55187-bcf5-40c1-a6ab-76fdaa91bb20",
   "metadata": {},
   "outputs": [
    {
     "name": "stdin",
     "output_type": "stream",
     "text": [
      " 4\n"
     ]
    },
    {
     "name": "stdout",
     "output_type": "stream",
     "text": [
      "ABCD\n",
      "ABCD\n",
      "ABCD\n",
      "ABCD\n"
     ]
    }
   ],
   "source": [
    "n = int(input())\n",
    "i=n\n",
    "while i>0:\n",
    "    k= ord(\"A\")\n",
    "    j=n\n",
    "    while j>0:\n",
    "        print(chr(k), end=\"\")\n",
    "        j= j-1\n",
    "        k = k+1\n",
    "    print()\n",
    "    i= i-1\n",
    "    "
   ]
  },
  {
   "cell_type": "code",
   "execution_count": 38,
   "id": "be30d57b-84a9-49b1-bcb6-0faacb4c7bc8",
   "metadata": {},
   "outputs": [],
   "source": [
    "## char pattern with progression"
   ]
  },
  {
   "cell_type": "code",
   "execution_count": 39,
   "id": "b49e119e-be1c-441c-80aa-8ea3b938d1fa",
   "metadata": {},
   "outputs": [
    {
     "name": "stdin",
     "output_type": "stream",
     "text": [
      " 4\n"
     ]
    },
    {
     "name": "stdout",
     "output_type": "stream",
     "text": [
      "ABCD\n",
      "BCDE\n",
      "CDEF\n",
      "DEFG\n"
     ]
    }
   ],
   "source": [
    "n = int(input())\n",
    "i=n\n",
    "o=0\n",
    "while i>0:\n",
    "    k= ord(\"A\")+o\n",
    "    j=n\n",
    "    while j>0:\n",
    "        print(chr(k), end=\"\")\n",
    "        j= j-1\n",
    "        k = k+1\n",
    "    print()\n",
    "    i= i-1\n",
    "    o=o+1\n",
    "    "
   ]
  },
  {
   "cell_type": "code",
   "execution_count": 43,
   "id": "ac6852f5-3060-4e69-b33b-5cc97c5278ed",
   "metadata": {},
   "outputs": [],
   "source": [
    "## printing alpha pattern"
   ]
  },
  {
   "cell_type": "code",
   "execution_count": 49,
   "id": "b3904820-bbb7-4a48-8634-6040f3039a46",
   "metadata": {},
   "outputs": [
    {
     "name": "stdin",
     "output_type": "stream",
     "text": [
      " 4\n"
     ]
    },
    {
     "name": "stdout",
     "output_type": "stream",
     "text": [
      "A\n",
      "BB\n",
      "CCC\n",
      "DDDD\n"
     ]
    }
   ],
   "source": [
    "n= int(input())\n",
    "start=ord(\"A\")\n",
    "j=0\n",
    "while n>0:\n",
    "    j=j+1\n",
    "    m=j\n",
    "    while m>0:\n",
    "        print(chr(start), end = \"\")\n",
    "        m=m-1\n",
    "    print()\n",
    "    n=n-1\n",
    "    start = start + 1\n",
    "    "
   ]
  },
  {
   "cell_type": "code",
   "execution_count": 50,
   "id": "20cb6ff6-32b3-494b-ab4e-804b653abf34",
   "metadata": {},
   "outputs": [],
   "source": [
    "## Char pattern"
   ]
  },
  {
   "cell_type": "code",
   "execution_count": 52,
   "id": "e98de5f6-0f6e-4039-a81e-bf62560749ec",
   "metadata": {},
   "outputs": [
    {
     "name": "stdin",
     "output_type": "stream",
     "text": [
      " 5\n"
     ]
    },
    {
     "name": "stdout",
     "output_type": "stream",
     "text": [
      "A\n",
      "BC\n",
      "DEF\n",
      "GHIJ\n",
      "KLMNO\n"
     ]
    }
   ],
   "source": [
    "n= int(input())\n",
    "start=ord(\"A\")\n",
    "j=0\n",
    "while n>0:\n",
    "    j=j+1\n",
    "    m=j\n",
    "    while m>0:\n",
    "        print(chr(start), end = \"\")\n",
    "        m=m-1\n",
    "        start = start + 1\n",
    "    print()\n",
    "    n=n-1\n",
    "    "
   ]
  },
  {
   "cell_type": "code",
   "execution_count": 55,
   "id": "5f2faabc-a6e2-4164-b27f-e19af73dc695",
   "metadata": {},
   "outputs": [],
   "source": [
    "##Interesting Alphabets\n"
   ]
  },
  {
   "cell_type": "code",
   "execution_count": 58,
   "id": "efcd537a-b14c-487a-9a4f-2b1cd1227ed4",
   "metadata": {},
   "outputs": [
    {
     "name": "stdin",
     "output_type": "stream",
     "text": [
      " 4\n"
     ]
    },
    {
     "name": "stdout",
     "output_type": "stream",
     "text": [
      "E\n",
      "DE\n",
      "CDE\n",
      "BCDE\n",
      "ABCDE\n"
     ]
    }
   ],
   "source": [
    "n = int(input())\n",
    "start= ord(\"A\") + n\n",
    "j=n\n",
    "while n>=0:\n",
    "    i = j-n\n",
    "    while i>=0:\n",
    "        print( chr(start-i), end= \"\")\n",
    "        i=i-1\n",
    "    print()\n",
    "    n=n-1\n",
    "        \n",
    "        "
   ]
  },
  {
   "cell_type": "code",
   "execution_count": 2,
   "id": "d8977b60-d9bf-4d08-b3c7-ae91492e0b9a",
   "metadata": {},
   "outputs": [],
   "source": [
    "    ## mirror pattern"
   ]
  },
  {
   "cell_type": "code",
   "execution_count": 1,
   "id": "9b712a76-50b6-4e9a-8a36-63305f950991",
   "metadata": {},
   "outputs": [
    {
     "name": "stdin",
     "output_type": "stream",
     "text": [
      " 7\n"
     ]
    },
    {
     "name": "stdout",
     "output_type": "stream",
     "text": [
      "      1\n",
      "     21\n",
      "    321\n",
      "   4321\n",
      "  54321\n",
      " 654321\n",
      "7654321\n"
     ]
    }
   ],
   "source": [
    "n = int(input())\n",
    "j=n\n",
    "while n>0:\n",
    "    print(' '*(n-1), end=\"\")\n",
    "    o=j-n+1\n",
    "    while o>0:\n",
    "        print(o, end='')\n",
    "        o-=1\n",
    "    print()\n",
    "    n-=1\n",
    "    \n",
    "    \n",
    "    "
   ]
  },
  {
   "cell_type": "code",
   "execution_count": 3,
   "id": "dc72f3aa-0071-4346-aee9-da6231af3cc6",
   "metadata": {},
   "outputs": [],
   "source": [
    "## isosceles pattern"
   ]
  },
  {
   "cell_type": "code",
   "execution_count": 14,
   "id": "4d821fdd-6462-4b4a-afb0-3a68ea901906",
   "metadata": {},
   "outputs": [
    {
     "name": "stdin",
     "output_type": "stream",
     "text": [
      " 9\n"
     ]
    },
    {
     "name": "stdout",
     "output_type": "stream",
     "text": [
      "        1\n",
      "       212\n",
      "      32123\n",
      "     4321234\n",
      "    543212345\n",
      "   65432123456\n",
      "  7654321234567\n",
      " 876543212345678\n",
      "98765432123456789\n"
     ]
    }
   ],
   "source": [
    "n = int(input())\n",
    "j=n\n",
    "while n>0:\n",
    "    print(' '*(n-1), end=\"\")\n",
    "    o=j-n+1\n",
    "    while o>0:\n",
    "        print(o, end='')\n",
    "        o-=1\n",
    "    i=1\n",
    "    while i<=(j-n):\n",
    "        print(1+i, end =\"\")\n",
    "        i+=1\n",
    "    print()\n",
    "    n-=1\n",
    "    \n",
    "    \n",
    "    "
   ]
  },
  {
   "cell_type": "code",
   "execution_count": null,
   "id": "3e63c300-aa25-405e-8697-3cb731d5bd12",
   "metadata": {},
   "outputs": [],
   "source": []
  }
 ],
 "metadata": {
  "kernelspec": {
   "display_name": "Python 3 (ipykernel)",
   "language": "python",
   "name": "python3"
  },
  "language_info": {
   "codemirror_mode": {
    "name": "ipython",
    "version": 3
   },
   "file_extension": ".py",
   "mimetype": "text/x-python",
   "name": "python",
   "nbconvert_exporter": "python",
   "pygments_lexer": "ipython3",
   "version": "3.11.7"
  }
 },
 "nbformat": 4,
 "nbformat_minor": 5
}
