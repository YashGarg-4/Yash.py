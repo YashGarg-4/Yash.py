{
 "cells": [
  {
   "cell_type": "code",
   "execution_count": 1,
   "id": "0289a04c-3fbe-4354-a646-a4e82ded251c",
   "metadata": {},
   "outputs": [],
   "source": [
    "# Finding nCr using functions"
   ]
  },
  {
   "cell_type": "code",
   "execution_count": 2,
   "id": "4e66d996-e643-4b68-be0f-b96115735762",
   "metadata": {},
   "outputs": [],
   "source": [
    "def fact(n):\n",
    "    fact = 1\n",
    "    for i in range(1,n+1):\n",
    "        fact *= i\n",
    "    return fact    "
   ]
  },
  {
   "cell_type": "code",
   "execution_count": 5,
   "id": "98df97a6-8c34-4fb1-a86a-ef76a17cb4f0",
   "metadata": {},
   "outputs": [
    {
     "name": "stdin",
     "output_type": "stream",
     "text": [
      " 4\n",
      " 2\n"
     ]
    },
    {
     "name": "stdout",
     "output_type": "stream",
     "text": [
      "6\n"
     ]
    }
   ],
   "source": [
    "n = int(input())\n",
    "r = int(input())\n",
    "\n",
    "fn= fact(n)\n",
    "fr= fact(r)\n",
    "fnr= fact(n-r)\n",
    "\n",
    "print(fn//(fr*fnr))"
   ]
  },
  {
   "cell_type": "code",
   "execution_count": 86,
   "id": "0beece8e-7bec-4560-8445-6ac629508825",
   "metadata": {},
   "outputs": [
    {
     "name": "stdin",
     "output_type": "stream",
     "text": [
      " abcd\n"
     ]
    },
    {
     "data": {
      "text/plain": [
       "['a', 'ab', 'abc', 'abcd', 'b', 'bc', 'bcd', 'c', 'cd', 'd']"
      ]
     },
     "execution_count": 86,
     "metadata": {},
     "output_type": "execute_result"
    }
   ],
   "source": [
    "n = str(input())\n",
    "l = len(n)\n",
    "i=0\n",
    "m=[]\n",
    "for i in range(l):\n",
    "    for j in range(1,l+1):\n",
    "        if n[i:j]=='':\n",
    "            continue\n",
    "        m.append(n[i:j])\n"
   ]
  },
  {
   "cell_type": "code",
   "execution_count": 155,
   "id": "097c240f-7bb2-4dc8-ac61-b821f2edcf40",
   "metadata": {},
   "outputs": [
    {
     "name": "stdout",
     "output_type": "stream",
     "text": [
      "8\n"
     ]
    }
   ],
   "source": [
    "\n",
    "s = 'lihgflhfglkffajehgfilegfier'\n",
    "# To print sub\n",
    "m = []\n",
    "\n",
    "for i in range(len(s)):\n",
    "    for j in range(i+1,len(s)+1):\n",
    "        m.append(s[i:j])\n",
    "o=[]\n",
    "\n",
    "for i in range(len(m)):\n",
    "    flag = False\n",
    "        \n",
    "    for j in range(len(m[i])-1):\n",
    "        for k in range(j+1,len(m[i])):\n",
    "            if m[i][j] == m[i][k]:\n",
    "                # print(m[i])\n",
    "                flag = True\n",
    "                break\n",
    "        # else:\n",
    "        #     o.append(m[i])\n",
    "    if flag == True:\n",
    "        flag= False\n",
    "    else:\n",
    "        o.append(m[i])\n",
    "\n",
    "#print(o)\n",
    "\n",
    "# for i in range(ogl-1):\n",
    "#     m.remove(m[0])\n",
    "    \n",
    "        \n",
    "# for i in range((len(m)-1), -1, -1):\n",
    "#     j = len(m[i])\n",
    "#     for l in range(j-1,-1,-1):\n",
    "#         for k in range(j-1,0,-1):\n",
    "#             if l+k>=j:\n",
    "#                 break\n",
    "#             if m[i][l]==m[i][l+k]:\n",
    "#                 m.remove(m[i])\n",
    "#                 break\n",
    "#print(m)\n",
    "m = [len(s) for s in o]\n",
    "#print(m)\n",
    "k=0\n",
    "\n",
    "for i in o:\n",
    "    if k<len(i):\n",
    "        k=len(i)\n",
    "        \n",
    "print(k)\n",
    "        \n",
    "    \n",
    "\n",
    "\n"
   ]
  },
  {
   "cell_type": "code",
   "execution_count": 89,
   "id": "c76a1420-9eac-4782-bd90-a3f2e355ba24",
   "metadata": {},
   "outputs": [],
   "source": [
    "# to eliminate substrings from a list that have repeating character\n"
   ]
  },
  {
   "cell_type": "code",
   "execution_count": null,
   "id": "f8af132e-4e5b-4723-865e-746e3adb3d61",
   "metadata": {},
   "outputs": [],
   "source": []
  }
 ],
 "metadata": {
  "kernelspec": {
   "display_name": "Python 3 (ipykernel)",
   "language": "python",
   "name": "python3"
  },
  "language_info": {
   "codemirror_mode": {
    "name": "ipython",
    "version": 3
   },
   "file_extension": ".py",
   "mimetype": "text/x-python",
   "name": "python",
   "nbconvert_exporter": "python",
   "pygments_lexer": "ipython3",
   "version": "3.11.7"
  }
 },
 "nbformat": 4,
 "nbformat_minor": 5
}
