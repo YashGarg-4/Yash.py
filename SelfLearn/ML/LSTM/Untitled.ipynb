{
 "cells": [
  {
   "cell_type": "code",
   "execution_count": 3,
   "id": "b2138949-7063-4601-9ef7-a71dd17bfc24",
   "metadata": {},
   "outputs": [],
   "source": [
    "import yfinance as yf\n",
    "import pandas as pd"
   ]
  },
  {
   "cell_type": "code",
   "execution_count": 4,
   "id": "db08e972-3cf5-40a0-b8d5-e24315b8603a",
   "metadata": {},
   "outputs": [],
   "source": [
    "obj = yf.Ticker('AAPL')"
   ]
  },
  {
   "cell_type": "code",
   "execution_count": 5,
   "id": "d23e3955-a98f-4a92-9cdd-4060680ef390",
   "metadata": {},
   "outputs": [],
   "source": [
    "data= obj.history(period='5y')"
   ]
  },
  {
   "cell_type": "code",
   "execution_count": 6,
   "id": "ada56607-054b-486e-a75f-9c82b7a19e8b",
   "metadata": {},
   "outputs": [],
   "source": [
    "data = pd.DataFrame(data)"
   ]
  },
  {
   "cell_type": "code",
   "execution_count": 7,
   "id": "07fc4e55-1809-464b-a6d0-80c0a6a245dd",
   "metadata": {},
   "outputs": [
    {
     "data": {
      "text/html": [
       "<div>\n",
       "<style scoped>\n",
       "    .dataframe tbody tr th:only-of-type {\n",
       "        vertical-align: middle;\n",
       "    }\n",
       "\n",
       "    .dataframe tbody tr th {\n",
       "        vertical-align: top;\n",
       "    }\n",
       "\n",
       "    .dataframe thead th {\n",
       "        text-align: right;\n",
       "    }\n",
       "</style>\n",
       "<table border=\"1\" class=\"dataframe\">\n",
       "  <thead>\n",
       "    <tr style=\"text-align: right;\">\n",
       "      <th></th>\n",
       "      <th>Open</th>\n",
       "      <th>High</th>\n",
       "      <th>Low</th>\n",
       "      <th>Close</th>\n",
       "      <th>Volume</th>\n",
       "      <th>Dividends</th>\n",
       "      <th>Stock Splits</th>\n",
       "    </tr>\n",
       "    <tr>\n",
       "      <th>Date</th>\n",
       "      <th></th>\n",
       "      <th></th>\n",
       "      <th></th>\n",
       "      <th></th>\n",
       "      <th></th>\n",
       "      <th></th>\n",
       "      <th></th>\n",
       "    </tr>\n",
       "  </thead>\n",
       "  <tbody>\n",
       "    <tr>\n",
       "      <th>2019-08-07 00:00:00-04:00</th>\n",
       "      <td>47.147416</td>\n",
       "      <td>48.148703</td>\n",
       "      <td>46.763791</td>\n",
       "      <td>48.023239</td>\n",
       "      <td>133457600</td>\n",
       "      <td>0.0000</td>\n",
       "      <td>0.0</td>\n",
       "    </tr>\n",
       "    <tr>\n",
       "      <th>2019-08-08 00:00:00-04:00</th>\n",
       "      <td>48.303109</td>\n",
       "      <td>49.106553</td>\n",
       "      <td>48.107678</td>\n",
       "      <td>49.082424</td>\n",
       "      <td>108038000</td>\n",
       "      <td>0.0000</td>\n",
       "      <td>0.0</td>\n",
       "    </tr>\n",
       "    <tr>\n",
       "      <th>2019-08-09 00:00:00-04:00</th>\n",
       "      <td>48.753050</td>\n",
       "      <td>49.106646</td>\n",
       "      <td>48.266243</td>\n",
       "      <td>48.677971</td>\n",
       "      <td>98478800</td>\n",
       "      <td>0.1925</td>\n",
       "      <td>0.0</td>\n",
       "    </tr>\n",
       "    <tr>\n",
       "      <th>2019-08-12 00:00:00-04:00</th>\n",
       "      <td>48.346170</td>\n",
       "      <td>48.934696</td>\n",
       "      <td>48.232340</td>\n",
       "      <td>48.554455</td>\n",
       "      <td>89927600</td>\n",
       "      <td>0.0000</td>\n",
       "      <td>0.0</td>\n",
       "    </tr>\n",
       "    <tr>\n",
       "      <th>2019-08-13 00:00:00-04:00</th>\n",
       "      <td>48.685235</td>\n",
       "      <td>51.378398</td>\n",
       "      <td>48.554450</td>\n",
       "      <td>50.610653</td>\n",
       "      <td>188874000</td>\n",
       "      <td>0.0000</td>\n",
       "      <td>0.0</td>\n",
       "    </tr>\n",
       "    <tr>\n",
       "      <th>...</th>\n",
       "      <td>...</td>\n",
       "      <td>...</td>\n",
       "      <td>...</td>\n",
       "      <td>...</td>\n",
       "      <td>...</td>\n",
       "      <td>...</td>\n",
       "      <td>...</td>\n",
       "    </tr>\n",
       "    <tr>\n",
       "      <th>2024-07-31 00:00:00-04:00</th>\n",
       "      <td>221.440002</td>\n",
       "      <td>223.820007</td>\n",
       "      <td>220.630005</td>\n",
       "      <td>222.080002</td>\n",
       "      <td>50036300</td>\n",
       "      <td>0.0000</td>\n",
       "      <td>0.0</td>\n",
       "    </tr>\n",
       "    <tr>\n",
       "      <th>2024-08-01 00:00:00-04:00</th>\n",
       "      <td>224.369995</td>\n",
       "      <td>224.479996</td>\n",
       "      <td>217.020004</td>\n",
       "      <td>218.360001</td>\n",
       "      <td>62501000</td>\n",
       "      <td>0.0000</td>\n",
       "      <td>0.0</td>\n",
       "    </tr>\n",
       "    <tr>\n",
       "      <th>2024-08-02 00:00:00-04:00</th>\n",
       "      <td>219.149994</td>\n",
       "      <td>225.600006</td>\n",
       "      <td>217.710007</td>\n",
       "      <td>219.860001</td>\n",
       "      <td>105568600</td>\n",
       "      <td>0.0000</td>\n",
       "      <td>0.0</td>\n",
       "    </tr>\n",
       "    <tr>\n",
       "      <th>2024-08-05 00:00:00-04:00</th>\n",
       "      <td>199.089996</td>\n",
       "      <td>213.500000</td>\n",
       "      <td>196.000000</td>\n",
       "      <td>209.270004</td>\n",
       "      <td>119548600</td>\n",
       "      <td>0.0000</td>\n",
       "      <td>0.0</td>\n",
       "    </tr>\n",
       "    <tr>\n",
       "      <th>2024-08-06 00:00:00-04:00</th>\n",
       "      <td>205.300003</td>\n",
       "      <td>209.990005</td>\n",
       "      <td>201.070007</td>\n",
       "      <td>207.229996</td>\n",
       "      <td>69548700</td>\n",
       "      <td>0.0000</td>\n",
       "      <td>0.0</td>\n",
       "    </tr>\n",
       "  </tbody>\n",
       "</table>\n",
       "<p>1258 rows × 7 columns</p>\n",
       "</div>"
      ],
      "text/plain": [
       "                                 Open        High         Low       Close  \\\n",
       "Date                                                                        \n",
       "2019-08-07 00:00:00-04:00   47.147416   48.148703   46.763791   48.023239   \n",
       "2019-08-08 00:00:00-04:00   48.303109   49.106553   48.107678   49.082424   \n",
       "2019-08-09 00:00:00-04:00   48.753050   49.106646   48.266243   48.677971   \n",
       "2019-08-12 00:00:00-04:00   48.346170   48.934696   48.232340   48.554455   \n",
       "2019-08-13 00:00:00-04:00   48.685235   51.378398   48.554450   50.610653   \n",
       "...                               ...         ...         ...         ...   \n",
       "2024-07-31 00:00:00-04:00  221.440002  223.820007  220.630005  222.080002   \n",
       "2024-08-01 00:00:00-04:00  224.369995  224.479996  217.020004  218.360001   \n",
       "2024-08-02 00:00:00-04:00  219.149994  225.600006  217.710007  219.860001   \n",
       "2024-08-05 00:00:00-04:00  199.089996  213.500000  196.000000  209.270004   \n",
       "2024-08-06 00:00:00-04:00  205.300003  209.990005  201.070007  207.229996   \n",
       "\n",
       "                              Volume  Dividends  Stock Splits  \n",
       "Date                                                           \n",
       "2019-08-07 00:00:00-04:00  133457600     0.0000           0.0  \n",
       "2019-08-08 00:00:00-04:00  108038000     0.0000           0.0  \n",
       "2019-08-09 00:00:00-04:00   98478800     0.1925           0.0  \n",
       "2019-08-12 00:00:00-04:00   89927600     0.0000           0.0  \n",
       "2019-08-13 00:00:00-04:00  188874000     0.0000           0.0  \n",
       "...                              ...        ...           ...  \n",
       "2024-07-31 00:00:00-04:00   50036300     0.0000           0.0  \n",
       "2024-08-01 00:00:00-04:00   62501000     0.0000           0.0  \n",
       "2024-08-02 00:00:00-04:00  105568600     0.0000           0.0  \n",
       "2024-08-05 00:00:00-04:00  119548600     0.0000           0.0  \n",
       "2024-08-06 00:00:00-04:00   69548700     0.0000           0.0  \n",
       "\n",
       "[1258 rows x 7 columns]"
      ]
     },
     "execution_count": 7,
     "metadata": {},
     "output_type": "execute_result"
    }
   ],
   "source": [
    "data"
   ]
  },
  {
   "cell_type": "code",
   "execution_count": 8,
   "id": "57e9a79d-650d-4f81-9374-3973705156bc",
   "metadata": {},
   "outputs": [],
   "source": [
    "close_data=data.Close"
   ]
  },
  {
   "cell_type": "code",
   "execution_count": 9,
   "id": "250bcf76-adf8-4419-8ac5-5aea0321b1f8",
   "metadata": {},
   "outputs": [
    {
     "data": {
      "text/plain": [
       "(1258,)"
      ]
     },
     "execution_count": 9,
     "metadata": {},
     "output_type": "execute_result"
    }
   ],
   "source": [
    "close_data.shape"
   ]
  },
  {
   "cell_type": "code",
   "execution_count": 12,
   "id": "4f41762e-1a67-494e-b311-279c41663d96",
   "metadata": {},
   "outputs": [
    {
     "data": {
      "text/plain": [
       "<function matplotlib.pyplot.show(close=None, block=None)>"
      ]
     },
     "execution_count": 12,
     "metadata": {},
     "output_type": "execute_result"
    },
    {
     "data": {
      "image/png": "[encoded data removed]",
      "text/plain": [
       "<Figure size 640x480 with 1 Axes>"
      ]
     },
     "metadata": {},
     "output_type": "display_data"
    }
   ],
   "source": [
    "import matplotlib.pyplot as plt\n",
    "plt.plot(close_data)\n",
    "plt.show"
   ]
  },
  {
   "cell_type": "code",
   "execution_count": 17,
   "id": "c5a0d675-00b1-4e5a-b56b-9b3269211d1f",
   "metadata": {},
   "outputs": [],
   "source": [
    "from sklearn.preprocessing import MinMaxScaler\n",
    "scaler = MinMaxScaler(feature_range=(0,1))"
   ]
  },
  {
   "cell_type": "code",
   "execution_count": 18,
   "id": "5c54ae62-c5f9-439d-b887-b3b3cface668",
   "metadata": {},
   "outputs": [],
   "source": [
    "import numpy as np\n",
    "close_data = np.array(close_data)"
   ]
  },
  {
   "cell_type": "code",
   "execution_count": 19,
   "id": "c73b7f6b-899a-4631-895c-6787bcda9b49",
   "metadata": {},
   "outputs": [],
   "source": [
    "close_data = scaler.fit_transform(close_data.reshape(-1, 1))"
   ]
  },
  {
   "cell_type": "code",
   "execution_count": 20,
   "id": "1199b09a-61f2-4058-8139-351b407fc9ee",
   "metadata": {},
   "outputs": [
    {
     "data": {
      "text/plain": [
       "array([[0.        ],\n",
       "       [0.00567025],\n",
       "       [0.00350505],\n",
       "       ...,\n",
       "       [0.91991293],\n",
       "       [0.86322032],\n",
       "       [0.85229931]])"
      ]
     },
     "execution_count": 20,
     "metadata": {},
     "output_type": "execute_result"
    }
   ],
   "source": [
    "close_data"
   ]
  },
  {
   "cell_type": "code",
   "execution_count": 21,
   "id": "cf6c0704-fae1-492f-829b-5480f91ebd4f",
   "metadata": {},
   "outputs": [],
   "source": [
    "tr_size = int(0.65*len(close_data))\n",
    "te_size = len(close_data) - tr_size"
   ]
  },
  {
   "cell_type": "code",
   "execution_count": 22,
   "id": "9990659a-7add-40f7-a005-349db2feafd0",
   "metadata": {},
   "outputs": [],
   "source": [
    "def create_dataset(data, look_period):\n",
    "    dataX, dataY = [], []\n",
    "    for i in range(data.shape[0] - look_period):\n",
    "        dataX.append(data[i:i+look_period, 0])\n",
    "        dataY.append(data[i+look_period, 0])\n",
    "    return np.array(dataX), np.array(dataY)"
   ]
  },
  {
   "cell_type": "code",
   "execution_count": 23,
   "id": "ed32cd47-1927-402e-aad4-c09e5bd2c24a",
   "metadata": {},
   "outputs": [],
   "source": [
    "x_train, y_train = create_dataset(close_data[:tr_size], 100)\n",
    "x_test, y_test = create_dataset(close_data[tr_size:], 100)"
   ]
  },
  {
   "cell_type": "code",
   "execution_count": 24,
   "id": "a8bf98e2-20e6-4603-a252-35d0c20e9bdf",
   "metadata": {},
   "outputs": [],
   "source": [
    "##Creating the stacked lSTM model"
   ]
  },
  {
   "cell_type": "code",
   "execution_count": 25,
   "id": "cd5d984b-2457-4242-aecd-24e1df87a912",
   "metadata": {},
   "outputs": [],
   "source": [
    "import keras\n",
    "from keras.models import Sequential\n",
    "from keras.layers import LSTM, Dense"
   ]
  },
  {
   "cell_type": "code",
   "execution_count": 26,
   "id": "e430d4ac-d372-444d-991d-0dc163a5314b",
   "metadata": {},
   "outputs": [],
   "source": [
    "model = Sequential()"
   ]
  },
  {
   "cell_type": "code",
   "execution_count": 27,
   "id": "4676632f-0cb9-4d38-ac83-b29f0f7feb60",
   "metadata": {},
   "outputs": [
    {
     "name": "stderr",
     "output_type": "stream",
     "text": [
      "C:\\Users\\Yash Garg\\anaconda3\\Lib\\site-packages\\keras\\src\\layers\\rnn\\rnn.py:204: UserWarning: Do not pass an `input_shape`/`input_dim` argument to a layer. When using Sequential models, prefer using an `Input(shape)` object as the first layer in the model instead.\n",
      "  super().__init__(**kwargs)\n"
     ]
    }
   ],
   "source": [
    "model.add(LSTM(50, return_sequences= True, input_shape= (100, 1)))\n",
    "model.add(LSTM(50, return_sequences= True))\n",
    "model.add(LSTM(50))\n",
    "model.add(Dense(1))\n",
    "model.compile(loss='mean_squared_error', optimizer = 'adam', metrics = ['accuracy'])"
   ]
  },
  {
   "cell_type": "code",
   "execution_count": 28,
   "id": "715cc0df-ea40-4fac-950d-f44183da5a9e",
   "metadata": {},
   "outputs": [
    {
     "name": "stdout",
     "output_type": "stream",
     "text": [
      "Epoch 1/100\n",
      "\u001b[1m12/12\u001b[0m \u001b[32m━━━━━━━━━━━━━━━━━━━━\u001b[0m\u001b[37m\u001b[0m \u001b[1m10s\u001b[0m 266ms/step - accuracy: 0.0000e+00 - loss: 0.1406 - val_accuracy: 0.0029 - val_loss: 0.0055\n",
      "Epoch 2/100\n",
      "\u001b[1m12/12\u001b[0m \u001b[32m━━━━━━━━━━━━━━━━━━━━\u001b[0m\u001b[37m\u001b[0m \u001b[1m2s\u001b[0m 180ms/step - accuracy: 0.0000e+00 - loss: 0.0079 - val_accuracy: 0.0029 - val_loss: 0.0067\n",
      "Epoch 3/100\n",
      "\u001b[1m12/12\u001b[0m \u001b[32m━━━━━━━━━━━━━━━━━━━━\u001b[0m\u001b[37m\u001b[0m \u001b[1m2s\u001b[0m 187ms/step - accuracy: 0.0000e+00 - loss: 0.0047 - val_accuracy: 0.0029 - val_loss: 0.0187\n",
      "Epoch 4/100\n",
      "\u001b[1m12/12\u001b[0m \u001b[32m━━━━━━━━━━━━━━━━━━━━\u001b[0m\u001b[37m\u001b[0m \u001b[1m2s\u001b[0m 185ms/step - accuracy: 0.0000e+00 - loss: 0.0038 - val_accuracy: 0.0029 - val_loss: 0.0036\n",
      "Epoch 5/100\n",
      "\u001b[1m12/12\u001b[0m \u001b[32m━━━━━━━━━━━━━━━━━━━━\u001b[0m\u001b[37m\u001b[0m \u001b[1m2s\u001b[0m 173ms/step - accuracy: 0.0000e+00 - loss: 0.0021 - val_accuracy: 0.0029 - val_loss: 0.0024\n",
      "Epoch 6/100\n",
      "\u001b[1m12/12\u001b[0m \u001b[32m━━━━━━━━━━━━━━━━━━━━\u001b[0m\u001b[37m\u001b[0m \u001b[1m2s\u001b[0m 153ms/step - accuracy: 0.0000e+00 - loss: 0.0016 - val_accuracy: 0.0029 - val_loss: 0.0019\n",
      "Epoch 7/100\n",
      "\u001b[1m12/12\u001b[0m \u001b[32m━━━━━━━━━━━━━━━━━━━━\u001b[0m\u001b[37m\u001b[0m \u001b[1m2s\u001b[0m 149ms/step - accuracy: 0.0000e+00 - loss: 0.0016 - val_accuracy: 0.0029 - val_loss: 0.0021\n",
      "Epoch 8/100\n",
      "\u001b[1m12/12\u001b[0m \u001b[32m━━━━━━━━━━━━━━━━━━━━\u001b[0m\u001b[37m\u001b[0m \u001b[1m2s\u001b[0m 188ms/step - accuracy: 0.0000e+00 - loss: 0.0015 - val_accuracy: 0.0029 - val_loss: 0.0021\n",
      "Epoch 9/100\n",
      "\u001b[1m12/12\u001b[0m \u001b[32m━━━━━━━━━━━━━━━━━━━━\u001b[0m\u001b[37m\u001b[0m \u001b[1m2s\u001b[0m 160ms/step - accuracy: 0.0000e+00 - loss: 0.0014 - val_accuracy: 0.0029 - val_loss: 0.0023\n",
      "Epoch 10/100\n",
      "\u001b[1m12/12\u001b[0m \u001b[32m━━━━━━━━━━━━━━━━━━━━\u001b[0m\u001b[37m\u001b[0m \u001b[1m3s\u001b[0m 208ms/step - accuracy: 0.0000e+00 - loss: 0.0014 - val_accuracy: 0.0029 - val_loss: 0.0032\n",
      "Epoch 11/100\n",
      "\u001b[1m12/12\u001b[0m \u001b[32m━━━━━━━━━━━━━━━━━━━━\u001b[0m\u001b[37m\u001b[0m \u001b[1m2s\u001b[0m 181ms/step - accuracy: 0.0000e+00 - loss: 0.0014 - val_accuracy: 0.0029 - val_loss: 0.0025\n",
      "Epoch 12/100\n",
      "\u001b[1m12/12\u001b[0m \u001b[32m━━━━━━━━━━━━━━━━━━━━\u001b[0m\u001b[37m\u001b[0m \u001b[1m2s\u001b[0m 185ms/step - accuracy: 0.0000e+00 - loss: 0.0014 - val_accuracy: 0.0029 - val_loss: 0.0033\n",
      "Epoch 13/100\n",
      "\u001b[1m12/12\u001b[0m \u001b[32m━━━━━━━━━━━━━━━━━━━━\u001b[0m\u001b[37m\u001b[0m \u001b[1m3s\u001b[0m 203ms/step - accuracy: 0.0000e+00 - loss: 0.0014 - val_accuracy: 0.0029 - val_loss: 0.0033\n",
      "Epoch 14/100\n",
      "\u001b[1m12/12\u001b[0m \u001b[32m━━━━━━━━━━━━━━━━━━━━\u001b[0m\u001b[37m\u001b[0m \u001b[1m2s\u001b[0m 149ms/step - accuracy: 0.0000e+00 - loss: 0.0014 - val_accuracy: 0.0029 - val_loss: 0.0025\n",
      "Epoch 15/100\n",
      "\u001b[1m12/12\u001b[0m \u001b[32m━━━━━━━━━━━━━━━━━━━━\u001b[0m\u001b[37m\u001b[0m \u001b[1m2s\u001b[0m 182ms/step - accuracy: 0.0000e+00 - loss: 0.0013 - val_accuracy: 0.0029 - val_loss: 0.0023\n",
      "Epoch 16/100\n",
      "\u001b[1m12/12\u001b[0m \u001b[32m━━━━━━━━━━━━━━━━━━━━\u001b[0m\u001b[37m\u001b[0m \u001b[1m2s\u001b[0m 199ms/step - accuracy: 0.0000e+00 - loss: 0.0012 - val_accuracy: 0.0029 - val_loss: 0.0020\n",
      "Epoch 17/100\n",
      "\u001b[1m12/12\u001b[0m \u001b[32m━━━━━━━━━━━━━━━━━━━━\u001b[0m\u001b[37m\u001b[0m \u001b[1m2s\u001b[0m 198ms/step - accuracy: 0.0000e+00 - loss: 0.0013 - val_accuracy: 0.0029 - val_loss: 0.0029\n",
      "Epoch 18/100\n",
      "\u001b[1m12/12\u001b[0m \u001b[32m━━━━━━━━━━━━━━━━━━━━\u001b[0m\u001b[37m\u001b[0m \u001b[1m2s\u001b[0m 183ms/step - accuracy: 0.0000e+00 - loss: 0.0012 - val_accuracy: 0.0029 - val_loss: 0.0029\n",
      "Epoch 19/100\n",
      "\u001b[1m12/12\u001b[0m \u001b[32m━━━━━━━━━━━━━━━━━━━━\u001b[0m\u001b[37m\u001b[0m \u001b[1m3s\u001b[0m 217ms/step - accuracy: 0.0000e+00 - loss: 0.0013 - val_accuracy: 0.0029 - val_loss: 0.0026\n",
      "Epoch 20/100\n",
      "\u001b[1m12/12\u001b[0m \u001b[32m━━━━━━━━━━━━━━━━━━━━\u001b[0m\u001b[37m\u001b[0m \u001b[1m2s\u001b[0m 190ms/step - accuracy: 0.0000e+00 - loss: 0.0011 - val_accuracy: 0.0029 - val_loss: 0.0021\n",
      "Epoch 21/100\n",
      "\u001b[1m12/12\u001b[0m \u001b[32m━━━━━━━━━━━━━━━━━━━━\u001b[0m\u001b[37m\u001b[0m \u001b[1m2s\u001b[0m 155ms/step - accuracy: 0.0000e+00 - loss: 0.0012 - val_accuracy: 0.0029 - val_loss: 0.0018\n",
      "Epoch 22/100\n",
      "\u001b[1m12/12\u001b[0m \u001b[32m━━━━━━━━━━━━━━━━━━━━\u001b[0m\u001b[37m\u001b[0m \u001b[1m2s\u001b[0m 204ms/step - accuracy: 0.0000e+00 - loss: 0.0012 - val_accuracy: 0.0029 - val_loss: 0.0025\n",
      "Epoch 23/100\n",
      "\u001b[1m12/12\u001b[0m \u001b[32m━━━━━━━━━━━━━━━━━━━━\u001b[0m\u001b[37m\u001b[0m \u001b[1m2s\u001b[0m 173ms/step - accuracy: 0.0000e+00 - loss: 0.0012 - val_accuracy: 0.0029 - val_loss: 0.0026\n",
      "Epoch 24/100\n",
      "\u001b[1m12/12\u001b[0m \u001b[32m━━━━━━━━━━━━━━━━━━━━\u001b[0m\u001b[37m\u001b[0m \u001b[1m2s\u001b[0m 191ms/step - accuracy: 0.0000e+00 - loss: 0.0012 - val_accuracy: 0.0029 - val_loss: 0.0016\n",
      "Epoch 25/100\n",
      "\u001b[1m12/12\u001b[0m \u001b[32m━━━━━━━━━━━━━━━━━━━━\u001b[0m\u001b[37m\u001b[0m \u001b[1m2s\u001b[0m 162ms/step - accuracy: 0.0000e+00 - loss: 0.0011 - val_accuracy: 0.0029 - val_loss: 0.0013\n",
      "Epoch 26/100\n",
      "\u001b[1m12/12\u001b[0m \u001b[32m━━━━━━━━━━━━━━━━━━━━\u001b[0m\u001b[37m\u001b[0m \u001b[1m2s\u001b[0m 157ms/step - accuracy: 0.0000e+00 - loss: 9.8122e-04 - val_accuracy: 0.0029 - val_loss: 0.0018\n",
      "Epoch 27/100\n",
      "\u001b[1m12/12\u001b[0m \u001b[32m━━━━━━━━━━━━━━━━━━━━\u001b[0m\u001b[37m\u001b[0m \u001b[1m2s\u001b[0m 159ms/step - accuracy: 0.0000e+00 - loss: 9.5221e-04 - val_accuracy: 0.0029 - val_loss: 0.0013\n",
      "Epoch 28/100\n",
      "\u001b[1m12/12\u001b[0m \u001b[32m━━━━━━━━━━━━━━━━━━━━\u001b[0m\u001b[37m\u001b[0m \u001b[1m2s\u001b[0m 161ms/step - accuracy: 0.0000e+00 - loss: 0.0010 - val_accuracy: 0.0029 - val_loss: 0.0019\n",
      "Epoch 29/100\n",
      "\u001b[1m12/12\u001b[0m \u001b[32m━━━━━━━━━━━━━━━━━━━━\u001b[0m\u001b[37m\u001b[0m \u001b[1m3s\u001b[0m 167ms/step - accuracy: 0.0000e+00 - loss: 0.0010 - val_accuracy: 0.0029 - val_loss: 0.0023\n",
      "Epoch 30/100\n",
      "\u001b[1m12/12\u001b[0m \u001b[32m━━━━━━━━━━━━━━━━━━━━\u001b[0m\u001b[37m\u001b[0m \u001b[1m2s\u001b[0m 165ms/step - accuracy: 0.0000e+00 - loss: 9.0718e-04 - val_accuracy: 0.0029 - val_loss: 0.0018\n",
      "Epoch 31/100\n",
      "\u001b[1m12/12\u001b[0m \u001b[32m━━━━━━━━━━━━━━━━━━━━\u001b[0m\u001b[37m\u001b[0m \u001b[1m2s\u001b[0m 167ms/step - accuracy: 0.0000e+00 - loss: 9.1213e-04 - val_accuracy: 0.0029 - val_loss: 0.0013\n",
      "Epoch 32/100\n",
      "\u001b[1m12/12\u001b[0m \u001b[32m━━━━━━━━━━━━━━━━━━━━\u001b[0m\u001b[37m\u001b[0m \u001b[1m2s\u001b[0m 177ms/step - accuracy: 0.0000e+00 - loss: 9.6575e-04 - val_accuracy: 0.0029 - val_loss: 0.0016\n",
      "Epoch 33/100\n",
      "\u001b[1m12/12\u001b[0m \u001b[32m━━━━━━━━━━━━━━━━━━━━\u001b[0m\u001b[37m\u001b[0m \u001b[1m3s\u001b[0m 211ms/step - accuracy: 0.0000e+00 - loss: 8.8298e-04 - val_accuracy: 0.0029 - val_loss: 9.9132e-04\n",
      "Epoch 34/100\n",
      "\u001b[1m12/12\u001b[0m \u001b[32m━━━━━━━━━━━━━━━━━━━━\u001b[0m\u001b[37m\u001b[0m \u001b[1m2s\u001b[0m 199ms/step - accuracy: 0.0000e+00 - loss: 0.0010 - val_accuracy: 0.0029 - val_loss: 0.0022\n",
      "Epoch 35/100\n",
      "\u001b[1m12/12\u001b[0m \u001b[32m━━━━━━━━━━━━━━━━━━━━\u001b[0m\u001b[37m\u001b[0m \u001b[1m2s\u001b[0m 199ms/step - accuracy: 0.0000e+00 - loss: 9.1696e-04 - val_accuracy: 0.0029 - val_loss: 0.0017\n",
      "Epoch 36/100\n",
      "\u001b[1m12/12\u001b[0m \u001b[32m━━━━━━━━━━━━━━━━━━━━\u001b[0m\u001b[37m\u001b[0m \u001b[1m3s\u001b[0m 211ms/step - accuracy: 0.0000e+00 - loss: 9.0553e-04 - val_accuracy: 0.0029 - val_loss: 9.4873e-04\n",
      "Epoch 37/100\n",
      "\u001b[1m12/12\u001b[0m \u001b[32m━━━━━━━━━━━━━━━━━━━━\u001b[0m\u001b[37m\u001b[0m \u001b[1m2s\u001b[0m 193ms/step - accuracy: 0.0000e+00 - loss: 0.0010 - val_accuracy: 0.0029 - val_loss: 0.0040\n",
      "Epoch 38/100\n",
      "\u001b[1m12/12\u001b[0m \u001b[32m━━━━━━━━━━━━━━━━━━━━\u001b[0m\u001b[37m\u001b[0m \u001b[1m3s\u001b[0m 213ms/step - accuracy: 0.0000e+00 - loss: 9.0776e-04 - val_accuracy: 0.0029 - val_loss: 0.0015\n",
      "Epoch 39/100\n",
      "\u001b[1m12/12\u001b[0m \u001b[32m━━━━━━━━━━━━━━━━━━━━\u001b[0m\u001b[37m\u001b[0m \u001b[1m2s\u001b[0m 181ms/step - accuracy: 0.0000e+00 - loss: 8.2386e-04 - val_accuracy: 0.0029 - val_loss: 0.0018\n",
      "Epoch 40/100\n",
      "\u001b[1m12/12\u001b[0m \u001b[32m━━━━━━━━━━━━━━━━━━━━\u001b[0m\u001b[37m\u001b[0m \u001b[1m2s\u001b[0m 179ms/step - accuracy: 0.0000e+00 - loss: 8.8716e-04 - val_accuracy: 0.0029 - val_loss: 0.0016\n",
      "Epoch 41/100\n",
      "\u001b[1m12/12\u001b[0m \u001b[32m━━━━━━━━━━━━━━━━━━━━\u001b[0m\u001b[37m\u001b[0m \u001b[1m2s\u001b[0m 161ms/step - accuracy: 0.0000e+00 - loss: 7.5245e-04 - val_accuracy: 0.0029 - val_loss: 0.0013\n",
      "Epoch 42/100\n",
      "\u001b[1m12/12\u001b[0m \u001b[32m━━━━━━━━━━━━━━━━━━━━\u001b[0m\u001b[37m\u001b[0m \u001b[1m2s\u001b[0m 166ms/step - accuracy: 0.0000e+00 - loss: 7.8352e-04 - val_accuracy: 0.0029 - val_loss: 0.0012\n",
      "Epoch 43/100\n",
      "\u001b[1m12/12\u001b[0m \u001b[32m━━━━━━━━━━━━━━━━━━━━\u001b[0m\u001b[37m\u001b[0m \u001b[1m2s\u001b[0m 161ms/step - accuracy: 0.0000e+00 - loss: 7.6698e-04 - val_accuracy: 0.0029 - val_loss: 0.0013\n",
      "Epoch 44/100\n",
      "\u001b[1m12/12\u001b[0m \u001b[32m━━━━━━━━━━━━━━━━━━━━\u001b[0m\u001b[37m\u001b[0m \u001b[1m3s\u001b[0m 216ms/step - accuracy: 0.0000e+00 - loss: 8.5091e-04 - val_accuracy: 0.0029 - val_loss: 9.4118e-04\n",
      "Epoch 45/100\n",
      "\u001b[1m12/12\u001b[0m \u001b[32m━━━━━━━━━━━━━━━━━━━━\u001b[0m\u001b[37m\u001b[0m \u001b[1m3s\u001b[0m 217ms/step - accuracy: 0.0000e+00 - loss: 8.2062e-04 - val_accuracy: 0.0029 - val_loss: 0.0028\n",
      "Epoch 46/100\n",
      "\u001b[1m12/12\u001b[0m \u001b[32m━━━━━━━━━━━━━━━━━━━━\u001b[0m\u001b[37m\u001b[0m \u001b[1m2s\u001b[0m 199ms/step - accuracy: 0.0000e+00 - loss: 7.4961e-04 - val_accuracy: 0.0029 - val_loss: 0.0011\n",
      "Epoch 47/100\n",
      "\u001b[1m12/12\u001b[0m \u001b[32m━━━━━━━━━━━━━━━━━━━━\u001b[0m\u001b[37m\u001b[0m \u001b[1m2s\u001b[0m 183ms/step - accuracy: 0.0000e+00 - loss: 6.9772e-04 - val_accuracy: 0.0029 - val_loss: 0.0021\n",
      "Epoch 48/100\n",
      "\u001b[1m12/12\u001b[0m \u001b[32m━━━━━━━━━━━━━━━━━━━━\u001b[0m\u001b[37m\u001b[0m \u001b[1m2s\u001b[0m 164ms/step - accuracy: 0.0000e+00 - loss: 7.5917e-04 - val_accuracy: 0.0029 - val_loss: 0.0025\n",
      "Epoch 49/100\n",
      "\u001b[1m12/12\u001b[0m \u001b[32m━━━━━━━━━━━━━━━━━━━━\u001b[0m\u001b[37m\u001b[0m \u001b[1m2s\u001b[0m 167ms/step - accuracy: 0.0000e+00 - loss: 7.9015e-04 - val_accuracy: 0.0029 - val_loss: 0.0020\n",
      "Epoch 50/100\n",
      "\u001b[1m12/12\u001b[0m \u001b[32m━━━━━━━━━━━━━━━━━━━━\u001b[0m\u001b[37m\u001b[0m \u001b[1m2s\u001b[0m 172ms/step - accuracy: 0.0000e+00 - loss: 7.4708e-04 - val_accuracy: 0.0029 - val_loss: 8.6591e-04\n",
      "Epoch 51/100\n",
      "\u001b[1m12/12\u001b[0m \u001b[32m━━━━━━━━━━━━━━━━━━━━\u001b[0m\u001b[37m\u001b[0m \u001b[1m2s\u001b[0m 165ms/step - accuracy: 0.0000e+00 - loss: 9.2310e-04 - val_accuracy: 0.0029 - val_loss: 0.0024\n",
      "Epoch 52/100\n",
      "\u001b[1m12/12\u001b[0m \u001b[32m━━━━━━━━━━━━━━━━━━━━\u001b[0m\u001b[37m\u001b[0m \u001b[1m2s\u001b[0m 162ms/step - accuracy: 0.0000e+00 - loss: 6.8435e-04 - val_accuracy: 0.0029 - val_loss: 9.5322e-04\n",
      "Epoch 53/100\n",
      "\u001b[1m12/12\u001b[0m \u001b[32m━━━━━━━━━━━━━━━━━━━━\u001b[0m\u001b[37m\u001b[0m \u001b[1m2s\u001b[0m 171ms/step - accuracy: 0.0000e+00 - loss: 6.7937e-04 - val_accuracy: 0.0029 - val_loss: 0.0015\n",
      "Epoch 54/100\n",
      "\u001b[1m12/12\u001b[0m \u001b[32m━━━━━━━━━━━━━━━━━━━━\u001b[0m\u001b[37m\u001b[0m \u001b[1m2s\u001b[0m 157ms/step - accuracy: 0.0000e+00 - loss: 6.4295e-04 - val_accuracy: 0.0029 - val_loss: 0.0011\n",
      "Epoch 55/100\n",
      "\u001b[1m12/12\u001b[0m \u001b[32m━━━━━━━━━━━━━━━━━━━━\u001b[0m\u001b[37m\u001b[0m \u001b[1m2s\u001b[0m 170ms/step - accuracy: 0.0000e+00 - loss: 6.4666e-04 - val_accuracy: 0.0029 - val_loss: 0.0018\n",
      "Epoch 56/100\n",
      "\u001b[1m12/12\u001b[0m \u001b[32m━━━━━━━━━━━━━━━━━━━━\u001b[0m\u001b[37m\u001b[0m \u001b[1m2s\u001b[0m 185ms/step - accuracy: 0.0000e+00 - loss: 6.5605e-04 - val_accuracy: 0.0029 - val_loss: 0.0011\n",
      "Epoch 57/100\n",
      "\u001b[1m12/12\u001b[0m \u001b[32m━━━━━━━━━━━━━━━━━━━━\u001b[0m\u001b[37m\u001b[0m \u001b[1m2s\u001b[0m 164ms/step - accuracy: 0.0000e+00 - loss: 6.7587e-04 - val_accuracy: 0.0029 - val_loss: 7.6187e-04\n",
      "Epoch 58/100\n",
      "\u001b[1m12/12\u001b[0m \u001b[32m━━━━━━━━━━━━━━━━━━━━\u001b[0m\u001b[37m\u001b[0m \u001b[1m3s\u001b[0m 246ms/step - accuracy: 0.0000e+00 - loss: 6.8146e-04 - val_accuracy: 0.0029 - val_loss: 0.0025\n",
      "Epoch 59/100\n",
      "\u001b[1m12/12\u001b[0m \u001b[32m━━━━━━━━━━━━━━━━━━━━\u001b[0m\u001b[37m\u001b[0m \u001b[1m3s\u001b[0m 213ms/step - accuracy: 0.0000e+00 - loss: 7.1543e-04 - val_accuracy: 0.0029 - val_loss: 8.0693e-04\n",
      "Epoch 60/100\n",
      "\u001b[1m12/12\u001b[0m \u001b[32m━━━━━━━━━━━━━━━━━━━━\u001b[0m\u001b[37m\u001b[0m \u001b[1m3s\u001b[0m 210ms/step - accuracy: 0.0000e+00 - loss: 7.0661e-04 - val_accuracy: 0.0029 - val_loss: 9.8519e-04\n",
      "Epoch 61/100\n",
      "\u001b[1m12/12\u001b[0m \u001b[32m━━━━━━━━━━━━━━━━━━━━\u001b[0m\u001b[37m\u001b[0m \u001b[1m3s\u001b[0m 213ms/step - accuracy: 0.0000e+00 - loss: 6.3838e-04 - val_accuracy: 0.0029 - val_loss: 0.0012\n",
      "Epoch 62/100\n",
      "\u001b[1m12/12\u001b[0m \u001b[32m━━━━━━━━━━━━━━━━━━━━\u001b[0m\u001b[37m\u001b[0m \u001b[1m3s\u001b[0m 228ms/step - accuracy: 0.0000e+00 - loss: 5.8766e-04 - val_accuracy: 0.0029 - val_loss: 0.0011\n",
      "Epoch 63/100\n",
      "\u001b[1m12/12\u001b[0m \u001b[32m━━━━━━━━━━━━━━━━━━━━\u001b[0m\u001b[37m\u001b[0m \u001b[1m3s\u001b[0m 231ms/step - accuracy: 0.0000e+00 - loss: 6.2652e-04 - val_accuracy: 0.0029 - val_loss: 0.0016\n",
      "Epoch 64/100\n",
      "\u001b[1m12/12\u001b[0m \u001b[32m━━━━━━━━━━━━━━━━━━━━\u001b[0m\u001b[37m\u001b[0m \u001b[1m3s\u001b[0m 241ms/step - accuracy: 0.0000e+00 - loss: 6.5199e-04 - val_accuracy: 0.0029 - val_loss: 6.9256e-04\n",
      "Epoch 65/100\n",
      "\u001b[1m12/12\u001b[0m \u001b[32m━━━━━━━━━━━━━━━━━━━━\u001b[0m\u001b[37m\u001b[0m \u001b[1m3s\u001b[0m 213ms/step - accuracy: 0.0000e+00 - loss: 6.4736e-04 - val_accuracy: 0.0029 - val_loss: 6.8901e-04\n",
      "Epoch 66/100\n",
      "\u001b[1m12/12\u001b[0m \u001b[32m━━━━━━━━━━━━━━━━━━━━\u001b[0m\u001b[37m\u001b[0m \u001b[1m3s\u001b[0m 212ms/step - accuracy: 0.0000e+00 - loss: 6.5332e-04 - val_accuracy: 0.0029 - val_loss: 0.0014\n",
      "Epoch 67/100\n",
      "\u001b[1m12/12\u001b[0m \u001b[32m━━━━━━━━━━━━━━━━━━━━\u001b[0m\u001b[37m\u001b[0m \u001b[1m2s\u001b[0m 194ms/step - accuracy: 0.0000e+00 - loss: 5.9421e-04 - val_accuracy: 0.0029 - val_loss: 9.9253e-04\n",
      "Epoch 68/100\n",
      "\u001b[1m12/12\u001b[0m \u001b[32m━━━━━━━━━━━━━━━━━━━━\u001b[0m\u001b[37m\u001b[0m \u001b[1m2s\u001b[0m 185ms/step - accuracy: 0.0000e+00 - loss: 6.1321e-04 - val_accuracy: 0.0029 - val_loss: 0.0015\n",
      "Epoch 69/100\n",
      "\u001b[1m12/12\u001b[0m \u001b[32m━━━━━━━━━━━━━━━━━━━━\u001b[0m\u001b[37m\u001b[0m \u001b[1m3s\u001b[0m 210ms/step - accuracy: 0.0000e+00 - loss: 5.5699e-04 - val_accuracy: 0.0029 - val_loss: 0.0014\n",
      "Epoch 70/100\n",
      "\u001b[1m12/12\u001b[0m \u001b[32m━━━━━━━━━━━━━━━━━━━━\u001b[0m\u001b[37m\u001b[0m \u001b[1m3s\u001b[0m 220ms/step - accuracy: 0.0000e+00 - loss: 6.0679e-04 - val_accuracy: 0.0029 - val_loss: 6.1910e-04\n",
      "Epoch 71/100\n",
      "\u001b[1m12/12\u001b[0m \u001b[32m━━━━━━━━━━━━━━━━━━━━\u001b[0m\u001b[37m\u001b[0m \u001b[1m4s\u001b[0m 164ms/step - accuracy: 0.0000e+00 - loss: 6.1380e-04 - val_accuracy: 0.0029 - val_loss: 0.0011\n",
      "Epoch 72/100\n",
      "\u001b[1m12/12\u001b[0m \u001b[32m━━━━━━━━━━━━━━━━━━━━\u001b[0m\u001b[37m\u001b[0m \u001b[1m2s\u001b[0m 171ms/step - accuracy: 0.0000e+00 - loss: 5.5925e-04 - val_accuracy: 0.0029 - val_loss: 9.4904e-04\n",
      "Epoch 73/100\n",
      "\u001b[1m12/12\u001b[0m \u001b[32m━━━━━━━━━━━━━━━━━━━━\u001b[0m\u001b[37m\u001b[0m \u001b[1m2s\u001b[0m 175ms/step - accuracy: 0.0000e+00 - loss: 5.2851e-04 - val_accuracy: 0.0029 - val_loss: 0.0013\n",
      "Epoch 74/100\n",
      "\u001b[1m12/12\u001b[0m \u001b[32m━━━━━━━━━━━━━━━━━━━━\u001b[0m\u001b[37m\u001b[0m \u001b[1m2s\u001b[0m 168ms/step - accuracy: 0.0000e+00 - loss: 5.5700e-04 - val_accuracy: 0.0029 - val_loss: 0.0012\n",
      "Epoch 75/100\n",
      "\u001b[1m12/12\u001b[0m \u001b[32m━━━━━━━━━━━━━━━━━━━━\u001b[0m\u001b[37m\u001b[0m \u001b[1m2s\u001b[0m 168ms/step - accuracy: 0.0000e+00 - loss: 5.3279e-04 - val_accuracy: 0.0029 - val_loss: 0.0014\n",
      "Epoch 76/100\n",
      "\u001b[1m12/12\u001b[0m \u001b[32m━━━━━━━━━━━━━━━━━━━━\u001b[0m\u001b[37m\u001b[0m \u001b[1m2s\u001b[0m 170ms/step - accuracy: 0.0000e+00 - loss: 5.4343e-04 - val_accuracy: 0.0029 - val_loss: 0.0010\n",
      "Epoch 77/100\n",
      "\u001b[1m12/12\u001b[0m \u001b[32m━━━━━━━━━━━━━━━━━━━━\u001b[0m\u001b[37m\u001b[0m \u001b[1m2s\u001b[0m 182ms/step - accuracy: 0.0000e+00 - loss: 4.9128e-04 - val_accuracy: 0.0029 - val_loss: 0.0010\n",
      "Epoch 78/100\n",
      "\u001b[1m12/12\u001b[0m \u001b[32m━━━━━━━━━━━━━━━━━━━━\u001b[0m\u001b[37m\u001b[0m \u001b[1m2s\u001b[0m 175ms/step - accuracy: 0.0000e+00 - loss: 4.8219e-04 - val_accuracy: 0.0029 - val_loss: 0.0013\n",
      "Epoch 79/100\n",
      "\u001b[1m12/12\u001b[0m \u001b[32m━━━━━━━━━━━━━━━━━━━━\u001b[0m\u001b[37m\u001b[0m \u001b[1m2s\u001b[0m 193ms/step - accuracy: 0.0000e+00 - loss: 5.7495e-04 - val_accuracy: 0.0029 - val_loss: 7.7086e-04\n",
      "Epoch 80/100\n",
      "\u001b[1m12/12\u001b[0m \u001b[32m━━━━━━━━━━━━━━━━━━━━\u001b[0m\u001b[37m\u001b[0m \u001b[1m2s\u001b[0m 193ms/step - accuracy: 0.0000e+00 - loss: 4.7494e-04 - val_accuracy: 0.0029 - val_loss: 8.0561e-04\n",
      "Epoch 81/100\n",
      "\u001b[1m12/12\u001b[0m \u001b[32m━━━━━━━━━━━━━━━━━━━━\u001b[0m\u001b[37m\u001b[0m \u001b[1m2s\u001b[0m 196ms/step - accuracy: 0.0000e+00 - loss: 5.1622e-04 - val_accuracy: 0.0029 - val_loss: 5.6754e-04\n",
      "Epoch 82/100\n",
      "\u001b[1m12/12\u001b[0m \u001b[32m━━━━━━━━━━━━━━━━━━━━\u001b[0m\u001b[37m\u001b[0m \u001b[1m2s\u001b[0m 205ms/step - accuracy: 0.0000e+00 - loss: 6.0589e-04 - val_accuracy: 0.0029 - val_loss: 0.0022\n",
      "Epoch 83/100\n",
      "\u001b[1m12/12\u001b[0m \u001b[32m━━━━━━━━━━━━━━━━━━━━\u001b[0m\u001b[37m\u001b[0m \u001b[1m3s\u001b[0m 241ms/step - accuracy: 0.0000e+00 - loss: 6.5915e-04 - val_accuracy: 0.0029 - val_loss: 0.0026\n",
      "Epoch 84/100\n",
      "\u001b[1m12/12\u001b[0m \u001b[32m━━━━━━━━━━━━━━━━━━━━\u001b[0m\u001b[37m\u001b[0m \u001b[1m2s\u001b[0m 183ms/step - accuracy: 0.0000e+00 - loss: 6.4648e-04 - val_accuracy: 0.0029 - val_loss: 5.0532e-04\n",
      "Epoch 85/100\n",
      "\u001b[1m12/12\u001b[0m \u001b[32m━━━━━━━━━━━━━━━━━━━━\u001b[0m\u001b[37m\u001b[0m \u001b[1m3s\u001b[0m 223ms/step - accuracy: 0.0000e+00 - loss: 5.4289e-04 - val_accuracy: 0.0029 - val_loss: 5.1966e-04\n",
      "Epoch 86/100\n",
      "\u001b[1m12/12\u001b[0m \u001b[32m━━━━━━━━━━━━━━━━━━━━\u001b[0m\u001b[37m\u001b[0m \u001b[1m3s\u001b[0m 234ms/step - accuracy: 0.0000e+00 - loss: 4.8955e-04 - val_accuracy: 0.0029 - val_loss: 0.0014\n",
      "Epoch 87/100\n",
      "\u001b[1m12/12\u001b[0m \u001b[32m━━━━━━━━━━━━━━━━━━━━\u001b[0m\u001b[37m\u001b[0m \u001b[1m3s\u001b[0m 223ms/step - accuracy: 0.0000e+00 - loss: 5.5706e-04 - val_accuracy: 0.0029 - val_loss: 8.4371e-04\n",
      "Epoch 88/100\n",
      "\u001b[1m12/12\u001b[0m \u001b[32m━━━━━━━━━━━━━━━━━━━━\u001b[0m\u001b[37m\u001b[0m \u001b[1m3s\u001b[0m 214ms/step - accuracy: 0.0000e+00 - loss: 4.9033e-04 - val_accuracy: 0.0029 - val_loss: 5.8286e-04\n",
      "Epoch 89/100\n",
      "\u001b[1m12/12\u001b[0m \u001b[32m━━━━━━━━━━━━━━━━━━━━\u001b[0m\u001b[37m\u001b[0m \u001b[1m3s\u001b[0m 228ms/step - accuracy: 0.0000e+00 - loss: 6.0447e-04 - val_accuracy: 0.0029 - val_loss: 0.0011\n",
      "Epoch 90/100\n",
      "\u001b[1m12/12\u001b[0m \u001b[32m━━━━━━━━━━━━━━━━━━━━\u001b[0m\u001b[37m\u001b[0m \u001b[1m2s\u001b[0m 190ms/step - accuracy: 0.0000e+00 - loss: 5.2169e-04 - val_accuracy: 0.0029 - val_loss: 0.0012\n",
      "Epoch 91/100\n",
      "\u001b[1m12/12\u001b[0m \u001b[32m━━━━━━━━━━━━━━━━━━━━\u001b[0m\u001b[37m\u001b[0m \u001b[1m2s\u001b[0m 189ms/step - accuracy: 0.0000e+00 - loss: 5.5029e-04 - val_accuracy: 0.0029 - val_loss: 0.0014\n",
      "Epoch 92/100\n",
      "\u001b[1m12/12\u001b[0m \u001b[32m━━━━━━━━━━━━━━━━━━━━\u001b[0m\u001b[37m\u001b[0m \u001b[1m2s\u001b[0m 193ms/step - accuracy: 0.0000e+00 - loss: 7.1227e-04 - val_accuracy: 0.0029 - val_loss: 5.3177e-04\n",
      "Epoch 93/100\n",
      "\u001b[1m12/12\u001b[0m \u001b[32m━━━━━━━━━━━━━━━━━━━━\u001b[0m\u001b[37m\u001b[0m \u001b[1m2s\u001b[0m 199ms/step - accuracy: 0.0000e+00 - loss: 5.8209e-04 - val_accuracy: 0.0029 - val_loss: 5.4811e-04\n",
      "Epoch 94/100\n",
      "\u001b[1m12/12\u001b[0m \u001b[32m━━━━━━━━━━━━━━━━━━━━\u001b[0m\u001b[37m\u001b[0m \u001b[1m3s\u001b[0m 200ms/step - accuracy: 0.0000e+00 - loss: 5.2278e-04 - val_accuracy: 0.0029 - val_loss: 0.0018\n",
      "Epoch 95/100\n",
      "\u001b[1m12/12\u001b[0m \u001b[32m━━━━━━━━━━━━━━━━━━━━\u001b[0m\u001b[37m\u001b[0m \u001b[1m3s\u001b[0m 260ms/step - accuracy: 0.0000e+00 - loss: 5.6683e-04 - val_accuracy: 0.0029 - val_loss: 4.6576e-04\n",
      "Epoch 96/100\n",
      "\u001b[1m12/12\u001b[0m \u001b[32m━━━━━━━━━━━━━━━━━━━━\u001b[0m\u001b[37m\u001b[0m \u001b[1m5s\u001b[0m 217ms/step - accuracy: 0.0000e+00 - loss: 6.0807e-04 - val_accuracy: 0.0029 - val_loss: 4.4030e-04\n",
      "Epoch 97/100\n",
      "\u001b[1m12/12\u001b[0m \u001b[32m━━━━━━━━━━━━━━━━━━━━\u001b[0m\u001b[37m\u001b[0m \u001b[1m3s\u001b[0m 231ms/step - accuracy: 0.0000e+00 - loss: 4.9143e-04 - val_accuracy: 0.0029 - val_loss: 0.0015\n",
      "Epoch 98/100\n",
      "\u001b[1m12/12\u001b[0m \u001b[32m━━━━━━━━━━━━━━━━━━━━\u001b[0m\u001b[37m\u001b[0m \u001b[1m3s\u001b[0m 255ms/step - accuracy: 0.0000e+00 - loss: 4.8959e-04 - val_accuracy: 0.0029 - val_loss: 5.1789e-04\n",
      "Epoch 99/100\n",
      "\u001b[1m12/12\u001b[0m \u001b[32m━━━━━━━━━━━━━━━━━━━━\u001b[0m\u001b[37m\u001b[0m \u001b[1m3s\u001b[0m 278ms/step - accuracy: 0.0000e+00 - loss: 4.5668e-04 - val_accuracy: 0.0029 - val_loss: 4.2871e-04\n",
      "Epoch 100/100\n",
      "\u001b[1m12/12\u001b[0m \u001b[32m━━━━━━━━━━━━━━━━━━━━\u001b[0m\u001b[37m\u001b[0m \u001b[1m4s\u001b[0m 200ms/step - accuracy: 0.0000e+00 - loss: 4.4353e-04 - val_accuracy: 0.0029 - val_loss: 5.4673e-04\n"
     ]
    },
    {
     "data": {
      "text/plain": [
       "<keras.src.callbacks.history.History at 0x1ccd7c8fbd0>"
      ]
     },
     "execution_count": 28,
     "metadata": {},
     "output_type": "execute_result"
    }
   ],
   "source": [
    "model.fit(x_train, y_train, epochs = 100, validation_data=(x_test, y_test), batch_size = 64, verbose = 1)"
   ]
  },
  {
   "cell_type": "code",
   "execution_count": 30,
   "id": "069142a2-fc40-4252-a3af-20367aa257a9",
   "metadata": {},
   "outputs": [
    {
     "name": "stdout",
     "output_type": "stream",
     "text": [
      "\u001b[1m23/23\u001b[0m \u001b[32m━━━━━━━━━━━━━━━━━━━━\u001b[0m\u001b[37m\u001b[0m \u001b[1m3s\u001b[0m 82ms/step\n",
      "\u001b[1m11/11\u001b[0m \u001b[32m━━━━━━━━━━━━━━━━━━━━\u001b[0m\u001b[37m\u001b[0m \u001b[1m1s\u001b[0m 47ms/step\n"
     ]
    }
   ],
   "source": [
    "train_predict = model.predict(x_train)\n",
    "test_predict = model.predict(x_test)"
   ]
  }
 ],
 "metadata": {
  "kernelspec": {
   "display_name": "Python 3 (ipykernel)",
   "language": "python",
   "name": "python3"
  },
  "language_info": {
   "codemirror_mode": {
    "name": "ipython",
    "version": 3
   },
   "file_extension": ".py",
   "mimetype": "text/x-python",
   "name": "python",
   "nbconvert_exporter": "python",
   "pygments_lexer": "ipython3",
   "version": "3.11.7"
  }
 },
 "nbformat": 4,
 "nbformat_minor": 5
}
