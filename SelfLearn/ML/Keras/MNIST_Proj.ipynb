{
 "cells": [
  {
   "cell_type": "code",
   "execution_count": 100,
   "id": "d1b0debd-778f-4afc-9e37-81cb48ee3e44",
   "metadata": {},
   "outputs": [],
   "source": [
    "import keras\n",
    "import tensorflow as tf\n",
    "from keras import Sequential\n",
    "from keras.layers import Dense\n",
    "from sklearn import datasets\n",
    "from sklearn.model_selection import train_test_split\n",
    "from sklearn.preprocessing import StandardScaler\n",
    "from sklearn.preprocessing import OneHotEncoder"
   ]
  },
  {
   "cell_type": "code",
   "execution_count": 101,
   "id": "6b48a469-7c20-4111-a039-744e70ebf117",
   "metadata": {},
   "outputs": [],
   "source": [
    "ohe = OneHotEncoder(sparse = False)"
   ]
  },
  {
   "cell_type": "code",
   "execution_count": 102,
   "id": "46d346ee-f441-4652-9cd8-0513154d36ac",
   "metadata": {},
   "outputs": [],
   "source": [
    "data = datasets.load_digits()\n",
    "x = data.data\n",
    "y = data.target"
   ]
  },
  {
   "cell_type": "code",
   "execution_count": 103,
   "id": "3b811c94-8ee1-4653-b511-6a522b8e97ac",
   "metadata": {},
   "outputs": [],
   "source": [
    "y = y.reshape(-1,1)\n",
    "y = ohe.fit_transform(y)"
   ]
  },
  {
   "cell_type": "code",
   "execution_count": 104,
   "id": "ef856930-9f76-498f-a45e-56da14d4e17e",
   "metadata": {},
   "outputs": [],
   "source": [
    "# x_train[0]"
   ]
  },
  {
   "cell_type": "code",
   "execution_count": 105,
   "id": "52922163-74b1-4302-80d1-b04a1ade5eb0",
   "metadata": {},
   "outputs": [],
   "source": [
    "x_train, x_test, y_train, y_test = train_test_split(x,y)"
   ]
  },
  {
   "cell_type": "code",
   "execution_count": 106,
   "id": "9c868e9e-9ed1-4913-a730-2d1aad99c851",
   "metadata": {},
   "outputs": [],
   "source": [
    "model = Sequential()"
   ]
  },
  {
   "cell_type": "code",
   "execution_count": 107,
   "id": "85310e6a-7999-47bb-a7ee-67e6dda4fc61",
   "metadata": {},
   "outputs": [],
   "source": [
    "model.add(Dense(units = 64, activation = 'relu6'))\n",
    "model.add(Dense(units = 32, activation = 'relu6'))\n",
    "model.add(Dense(units = 32, activation = 'relu6'))\n",
    "model.add(Dense(units = 10, activation = 'sigmoid'))"
   ]
  },
  {
   "cell_type": "code",
   "execution_count": 108,
   "id": "b5787786-7a82-41c9-8c2a-d23c79280c7f",
   "metadata": {},
   "outputs": [],
   "source": [
    "model.compile(optimizer = 'adam', loss = 'mean_squared_error', metrics = 'accuracy')"
   ]
  },
  {
   "cell_type": "code",
   "execution_count": 109,
   "id": "aa6e6c33-9da9-4ef6-bf50-50c5195aa80b",
   "metadata": {},
   "outputs": [
    {
     "name": "stdout",
     "output_type": "stream",
     "text": [
      "Epoch 1/10\n",
      "674/674 [==============================] - 3s 3ms/step - loss: 0.0656 - accuracy: 0.5598 - val_loss: 0.0273 - val_accuracy: 0.8600\n",
      "Epoch 2/10\n",
      "674/674 [==============================] - 2s 3ms/step - loss: 0.0186 - accuracy: 0.9035 - val_loss: 0.0151 - val_accuracy: 0.9267\n",
      "Epoch 3/10\n",
      "674/674 [==============================] - 2s 3ms/step - loss: 0.0096 - accuracy: 0.9525 - val_loss: 0.0107 - val_accuracy: 0.9422\n",
      "Epoch 4/10\n",
      "674/674 [==============================] - 2s 3ms/step - loss: 0.0063 - accuracy: 0.9725 - val_loss: 0.0078 - val_accuracy: 0.9622\n",
      "Epoch 5/10\n",
      "674/674 [==============================] - 3s 4ms/step - loss: 0.0053 - accuracy: 0.9725 - val_loss: 0.0117 - val_accuracy: 0.9178\n",
      "Epoch 6/10\n",
      "674/674 [==============================] - 2s 3ms/step - loss: 0.0047 - accuracy: 0.9748 - val_loss: 0.0063 - val_accuracy: 0.9600\n",
      "Epoch 7/10\n",
      "674/674 [==============================] - 2s 3ms/step - loss: 0.0037 - accuracy: 0.9829 - val_loss: 0.0059 - val_accuracy: 0.9622\n",
      "Epoch 8/10\n",
      "674/674 [==============================] - 2s 3ms/step - loss: 0.0028 - accuracy: 0.9837 - val_loss: 0.0069 - val_accuracy: 0.9578\n",
      "Epoch 9/10\n",
      "674/674 [==============================] - 2s 3ms/step - loss: 0.0026 - accuracy: 0.9859 - val_loss: 0.0054 - val_accuracy: 0.9689\n",
      "Epoch 10/10\n",
      "674/674 [==============================] - 2s 4ms/step - loss: 0.0024 - accuracy: 0.9866 - val_loss: 0.0093 - val_accuracy: 0.9422\n"
     ]
    },
    {
     "data": {
      "text/plain": [
       "<keras.callbacks.History at 0x2a34f1ddae0>"
      ]
     },
     "execution_count": 109,
     "metadata": {},
     "output_type": "execute_result"
    }
   ],
   "source": [
    "model.fit(x_train, y_train, epochs = 10, batch_size = 2, validation_data=(x_test, y_test))"
   ]
  },
  {
   "cell_type": "code",
   "execution_count": 110,
   "id": "9fd40f6e-85db-4359-8ec9-0b39356865a9",
   "metadata": {},
   "outputs": [],
   "source": [
    "# Donee!!!!!!!!!!!!"
   ]
  }
 ],
 "metadata": {
  "kernelspec": {
   "display_name": "Python 3 (ipykernel)",
   "language": "python",
   "name": "python3"
  },
  "language_info": {
   "codemirror_mode": {
    "name": "ipython",
    "version": 3
   },
   "file_extension": ".py",
   "mimetype": "text/x-python",
   "name": "python",
   "nbconvert_exporter": "python",
   "pygments_lexer": "ipython3",
   "version": "3.10.13"
  }
 },
 "nbformat": 4,
 "nbformat_minor": 5
}
