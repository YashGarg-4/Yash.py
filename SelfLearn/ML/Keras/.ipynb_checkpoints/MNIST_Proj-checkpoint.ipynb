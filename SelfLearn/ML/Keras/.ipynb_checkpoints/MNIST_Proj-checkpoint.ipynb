{
 "cells": [
  {
   "cell_type": "code",
   "execution_count": 12,
   "id": "d1b0debd-778f-4afc-9e37-81cb48ee3e44",
   "metadata": {},
   "outputs": [],
   "source": [
    "import keras\n",
    "import tensorflow as tf\n",
    "from keras import Sequential\n",
    "from keras.layers import Dense\n",
    "from sklearn import datasets\n",
    "from sklearn.model_selection import train_test_split\n",
    "from sklearn.preprocessing import StandardScaler\n",
    "from sklearn.preprocessing import OneHotEncoder"
   ]
  },
  {
   "cell_type": "code",
   "execution_count": 13,
   "id": "6b48a469-7c20-4111-a039-744e70ebf117",
   "metadata": {},
   "outputs": [],
   "source": [
    "ohe = OneHotEncoder(sparse = False)"
   ]
  },
  {
   "cell_type": "code",
   "execution_count": 14,
   "id": "46d346ee-f441-4652-9cd8-0513154d36ac",
   "metadata": {},
   "outputs": [],
   "source": [
    "data = datasets.load_digits()\n",
    "x = data.data\n",
    "y = data.target"
   ]
  },
  {
   "cell_type": "code",
   "execution_count": 15,
   "id": "3b811c94-8ee1-4653-b511-6a522b8e97ac",
   "metadata": {},
   "outputs": [],
   "source": [
    "y = y.reshape(-1,1)\n",
    "y = ohe.fit_transform(y)"
   ]
  },
  {
   "cell_type": "code",
   "execution_count": 24,
   "id": "ef856930-9f76-498f-a45e-56da14d4e17e",
   "metadata": {},
   "outputs": [
    {
     "data": {
      "text/plain": [
       "array([ 0.,  0.,  9., 12., 13.,  6.,  0.,  0.,  0.,  0., 16.,  8.,  8.,\n",
       "       15.,  2.,  0.,  0.,  0., 16., 10.,  9., 16.,  5.,  0.,  0.,  0.,\n",
       "        4., 12., 11., 12.,  5.,  0.,  0.,  0.,  0.,  0.,  0.,  8.,  8.,\n",
       "        0.,  0.,  0.,  0.,  0.,  0.,  9.,  7.,  0.,  0.,  0.,  8.,  4.,\n",
       "        7., 16.,  2.,  0.,  0.,  0., 10., 16., 16.,  7.,  0.,  0.])"
      ]
     },
     "execution_count": 24,
     "metadata": {},
     "output_type": "execute_result"
    }
   ],
   "source": [
    "x_train[0]"
   ]
  },
  {
   "cell_type": "code",
   "execution_count": 17,
   "id": "52922163-74b1-4302-80d1-b04a1ade5eb0",
   "metadata": {},
   "outputs": [],
   "source": [
    "x_train, x_test, y_train, y_test = train_test_split(x,y)"
   ]
  },
  {
   "cell_type": "code",
   "execution_count": 21,
   "id": "9c868e9e-9ed1-4913-a730-2d1aad99c851",
   "metadata": {},
   "outputs": [],
   "source": [
    "model = Sequential()"
   ]
  },
  {
   "cell_type": "code",
   "execution_count": 25,
   "id": "85310e6a-7999-47bb-a7ee-67e6dda4fc61",
   "metadata": {},
   "outputs": [],
   "source": [
    "model.add(Dense(units = 64, activation = 'relu'))\n",
    "model.add(Dense(units = 32, activation = 'relu6'))\n",
    "model.add(Dense(units = 10, activation = 'sigmoid'))"
   ]
  },
  {
   "cell_type": "code",
   "execution_count": 29,
   "id": "b5787786-7a82-41c9-8c2a-d23c79280c7f",
   "metadata": {},
   "outputs": [],
   "source": [
    "model.compile(optimizer = 'adam', loss = 'mean_squared_error', metrics = 'accuracy')"
   ]
  },
  {
   "cell_type": "code",
   "execution_count": 30,
   "id": "aa6e6c33-9da9-4ef6-bf50-50c5195aa80b",
   "metadata": {},
   "outputs": [
    {
     "name": "stdout",
     "output_type": "stream",
     "text": [
      "Epoch 1/30\n",
      "3/3 [==============================] - 1s 124ms/step - loss: 0.0026 - accuracy: 0.9918 - val_loss: 0.0072 - val_accuracy: 0.9644\n",
      "Epoch 2/30\n",
      "3/3 [==============================] - 0s 24ms/step - loss: 0.0024 - accuracy: 0.9955 - val_loss: 0.0072 - val_accuracy: 0.9711\n",
      "Epoch 3/30\n",
      "3/3 [==============================] - 0s 18ms/step - loss: 0.0021 - accuracy: 0.9963 - val_loss: 0.0072 - val_accuracy: 0.9667\n",
      "Epoch 4/30\n",
      "3/3 [==============================] - 0s 20ms/step - loss: 0.0020 - accuracy: 0.9970 - val_loss: 0.0071 - val_accuracy: 0.9689\n",
      "Epoch 5/30\n",
      "3/3 [==============================] - 0s 21ms/step - loss: 0.0018 - accuracy: 0.9970 - val_loss: 0.0072 - val_accuracy: 0.9689\n",
      "Epoch 6/30\n",
      "3/3 [==============================] - 0s 21ms/step - loss: 0.0018 - accuracy: 0.9963 - val_loss: 0.0071 - val_accuracy: 0.9689\n",
      "Epoch 7/30\n",
      "3/3 [==============================] - 0s 19ms/step - loss: 0.0017 - accuracy: 0.9978 - val_loss: 0.0069 - val_accuracy: 0.9667\n",
      "Epoch 8/30\n",
      "3/3 [==============================] - 0s 19ms/step - loss: 0.0016 - accuracy: 0.9978 - val_loss: 0.0068 - val_accuracy: 0.9711\n",
      "Epoch 9/30\n",
      "3/3 [==============================] - 0s 22ms/step - loss: 0.0015 - accuracy: 0.9978 - val_loss: 0.0067 - val_accuracy: 0.9689\n",
      "Epoch 10/30\n",
      "3/3 [==============================] - 0s 21ms/step - loss: 0.0014 - accuracy: 0.9985 - val_loss: 0.0065 - val_accuracy: 0.9689\n",
      "Epoch 11/30\n",
      "3/3 [==============================] - 0s 23ms/step - loss: 0.0013 - accuracy: 0.9993 - val_loss: 0.0065 - val_accuracy: 0.9689\n",
      "Epoch 12/30\n",
      "3/3 [==============================] - 0s 21ms/step - loss: 0.0013 - accuracy: 0.9993 - val_loss: 0.0066 - val_accuracy: 0.9667\n",
      "Epoch 13/30\n",
      "3/3 [==============================] - 0s 23ms/step - loss: 0.0012 - accuracy: 0.9993 - val_loss: 0.0065 - val_accuracy: 0.9644\n",
      "Epoch 14/30\n",
      "3/3 [==============================] - 0s 21ms/step - loss: 0.0011 - accuracy: 0.9993 - val_loss: 0.0064 - val_accuracy: 0.9667\n",
      "Epoch 15/30\n",
      "3/3 [==============================] - 0s 23ms/step - loss: 0.0011 - accuracy: 0.9993 - val_loss: 0.0063 - val_accuracy: 0.9667\n",
      "Epoch 16/30\n",
      "3/3 [==============================] - 0s 25ms/step - loss: 0.0010 - accuracy: 0.9993 - val_loss: 0.0063 - val_accuracy: 0.9667\n",
      "Epoch 17/30\n",
      "3/3 [==============================] - 0s 24ms/step - loss: 9.8301e-04 - accuracy: 0.9993 - val_loss: 0.0063 - val_accuracy: 0.9667\n",
      "Epoch 18/30\n",
      "3/3 [==============================] - 0s 23ms/step - loss: 9.4337e-04 - accuracy: 0.9993 - val_loss: 0.0061 - val_accuracy: 0.9667\n",
      "Epoch 19/30\n",
      "3/3 [==============================] - 0s 23ms/step - loss: 8.9659e-04 - accuracy: 0.9993 - val_loss: 0.0061 - val_accuracy: 0.9689\n",
      "Epoch 20/30\n",
      "3/3 [==============================] - 0s 22ms/step - loss: 8.6951e-04 - accuracy: 0.9993 - val_loss: 0.0061 - val_accuracy: 0.9689\n",
      "Epoch 21/30\n",
      "3/3 [==============================] - 0s 26ms/step - loss: 8.2665e-04 - accuracy: 0.9993 - val_loss: 0.0061 - val_accuracy: 0.9711\n",
      "Epoch 22/30\n",
      "3/3 [==============================] - 0s 24ms/step - loss: 8.0566e-04 - accuracy: 0.9993 - val_loss: 0.0060 - val_accuracy: 0.9689\n",
      "Epoch 23/30\n",
      "3/3 [==============================] - 0s 24ms/step - loss: 7.6767e-04 - accuracy: 0.9993 - val_loss: 0.0059 - val_accuracy: 0.9689\n",
      "Epoch 24/30\n",
      "3/3 [==============================] - 0s 23ms/step - loss: 7.4130e-04 - accuracy: 0.9993 - val_loss: 0.0060 - val_accuracy: 0.9711\n",
      "Epoch 25/30\n",
      "3/3 [==============================] - 0s 22ms/step - loss: 7.0508e-04 - accuracy: 0.9993 - val_loss: 0.0059 - val_accuracy: 0.9689\n",
      "Epoch 26/30\n",
      "3/3 [==============================] - 0s 26ms/step - loss: 6.7892e-04 - accuracy: 0.9993 - val_loss: 0.0059 - val_accuracy: 0.9689\n",
      "Epoch 27/30\n",
      "3/3 [==============================] - 0s 23ms/step - loss: 6.5246e-04 - accuracy: 0.9993 - val_loss: 0.0058 - val_accuracy: 0.9689\n",
      "Epoch 28/30\n",
      "3/3 [==============================] - 0s 22ms/step - loss: 6.2161e-04 - accuracy: 0.9993 - val_loss: 0.0058 - val_accuracy: 0.9711\n",
      "Epoch 29/30\n",
      "3/3 [==============================] - 0s 26ms/step - loss: 6.0614e-04 - accuracy: 0.9993 - val_loss: 0.0058 - val_accuracy: 0.9667\n",
      "Epoch 30/30\n",
      "3/3 [==============================] - 0s 39ms/step - loss: 5.8465e-04 - accuracy: 0.9993 - val_loss: 0.0058 - val_accuracy: 0.9667\n"
     ]
    },
    {
     "data": {
      "text/plain": [
       "<keras.callbacks.History at 0x290956b9930>"
      ]
     },
     "execution_count": 30,
     "metadata": {},
     "output_type": "execute_result"
    }
   ],
   "source": [
    "model.fit(x_train, y_train, epochs = 30, batch_size = 500, validation_data=(x_test, y_test))"
   ]
  },
  {
   "cell_type": "code",
   "execution_count": null,
   "id": "9fd40f6e-85db-4359-8ec9-0b39356865a9",
   "metadata": {},
   "outputs": [],
   "source": [
    "# Donee!!!!!!!!!!!!"
   ]
  }
 ],
 "metadata": {
  "kernelspec": {
   "display_name": "Python 3 (ipykernel)",
   "language": "python",
   "name": "python3"
  },
  "language_info": {
   "codemirror_mode": {
    "name": "ipython",
    "version": 3
   },
   "file_extension": ".py",
   "mimetype": "text/x-python",
   "name": "python",
   "nbconvert_exporter": "python",
   "pygments_lexer": "ipython3",
   "version": "3.10.13"
  }
 },
 "nbformat": 4,
 "nbformat_minor": 5
}
