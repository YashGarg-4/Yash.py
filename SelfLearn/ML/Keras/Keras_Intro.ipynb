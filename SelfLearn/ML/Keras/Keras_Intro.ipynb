{
 "cells": [
  {
   "cell_type": "code",
   "execution_count": 121,
   "id": "3ff04945-9750-424a-bde2-ab1f1e50bb03",
   "metadata": {},
   "outputs": [],
   "source": [
    "import keras\n",
    "import tensorflow as tf"
   ]
  },
  {
   "cell_type": "code",
   "execution_count": 122,
   "id": "c4f5f969-a1bb-462b-b52e-b83723fea365",
   "metadata": {},
   "outputs": [],
   "source": [
    "from keras import Sequential\n",
    "from keras.layers import Dense\n",
    "model = Sequential()"
   ]
  },
  {
   "cell_type": "code",
   "execution_count": 123,
   "id": "4b4cc01c-b94d-494d-abf5-ef3e62e52ebe",
   "metadata": {},
   "outputs": [],
   "source": [
    "layer1 = Dense(units = 32, activation = 'relu', input_dim = 30)\n",
    "model.add(layer1)"
   ]
  },
  {
   "cell_type": "code",
   "execution_count": 124,
   "id": "d293d148-b1f3-4286-83a8-d88927b423e0",
   "metadata": {},
   "outputs": [],
   "source": [
    "model.add(Dense(units = 16, activation = 'relu'))\n",
    "model.add(Dense(units = 1, activation = 'sigmoid'))"
   ]
  },
  {
   "cell_type": "code",
   "execution_count": 125,
   "id": "065c61d7-617e-4a21-bd6a-f0b5adb50f2a",
   "metadata": {},
   "outputs": [],
   "source": [
    "##Compiling"
   ]
  },
  {
   "cell_type": "code",
   "execution_count": 126,
   "id": "9f6488f4-9586-4e6d-be05-bac79a52834d",
   "metadata": {},
   "outputs": [],
   "source": [
    "##1: Optimizer ... 2:Loss Fx ... 3: Metrics =[' ']"
   ]
  },
  {
   "cell_type": "code",
   "execution_count": 127,
   "id": "9dd3931b-c5fa-4fc9-bedc-32c76a9b2710",
   "metadata": {},
   "outputs": [],
   "source": [
    "model.compile(optimizer = 'adam', loss = 'binary_crossentropy', metrics =['accuracy'])"
   ]
  },
  {
   "cell_type": "code",
   "execution_count": 128,
   "id": "8ead265f-3824-47a6-b530-c85f78c6503d",
   "metadata": {},
   "outputs": [],
   "source": [
    "from sklearn import datasets\n",
    "from sklearn.model_selection import train_test_split\n",
    "from sklearn.preprocessing import StandardScaler\n",
    "ss = StandardScaler()"
   ]
  },
  {
   "cell_type": "code",
   "execution_count": 129,
   "id": "24125612-2ef2-4dff-9fe3-bf5cef60547b",
   "metadata": {},
   "outputs": [],
   "source": [
    "data = datasets.load_breast_cancer()\n",
    "x = data.data\n",
    "y = data.target"
   ]
  },
  {
   "cell_type": "code",
   "execution_count": 130,
   "id": "8398bb99-7857-44ba-83bf-d43272dec1c6",
   "metadata": {},
   "outputs": [],
   "source": [
    "x_train, x_test, y_train, y_test = train_test_split(x,y)"
   ]
  },
  {
   "cell_type": "code",
   "execution_count": 131,
   "id": "287326e2-1b4a-453a-95b0-42586291e85a",
   "metadata": {},
   "outputs": [
    {
     "name": "stdout",
     "output_type": "stream",
     "text": [
      "[1.845e+01 2.191e+01 1.202e+02 1.075e+03 9.430e-02 9.709e-02 1.153e-01\n",
      " 6.847e-02 1.692e-01 5.727e-02 5.959e-01 1.202e+00 3.766e+00 6.835e+01\n",
      " 6.001e-03 1.422e-02 2.855e-02 9.148e-03 1.492e-02 2.205e-03 2.252e+01\n",
      " 3.139e+01 1.456e+02 1.590e+03 1.465e-01 2.275e-01 3.965e-01 1.379e-01\n",
      " 3.109e-01 7.610e-02]\n",
      "[ 1.0351321   0.72275828  0.9789506   0.98752871 -0.27027478 -0.18809561\n",
      "  0.25136307  0.41769034 -0.51283281 -0.78132905  0.45660021 -0.02103158\n",
      "  0.26275241  0.38862953 -0.43279031 -0.65119535 -0.15947535 -0.4609706\n",
      " -0.67691801 -0.73919055  1.12596942  1.03647579  0.99263019  1.10027377\n",
      "  0.44596336 -0.18635625  0.55471154  0.27330782  0.35161922 -0.48352175]\n"
     ]
    }
   ],
   "source": [
    "x_train = ss.fit_transform(x_train)\n",
    "print(x_test[0])\n",
    "x_test = ss.fit_transform(x_test)\n",
    "print(x_test[0])"
   ]
  },
  {
   "cell_type": "code",
   "execution_count": 136,
   "id": "60b23db6-5114-4cc9-b4ae-c035f982300a",
   "metadata": {},
   "outputs": [
    {
     "name": "stdout",
     "output_type": "stream",
     "text": [
      "Epoch 1/25\n",
      "9/9 [==============================] - 0s 19ms/step - loss: 0.0099 - accuracy: 0.9953 - val_loss: 0.1643 - val_accuracy: 0.9650\n",
      "Epoch 2/25\n",
      "9/9 [==============================] - 0s 10ms/step - loss: 0.0097 - accuracy: 0.9953 - val_loss: 0.1651 - val_accuracy: 0.9650\n",
      "Epoch 3/25\n",
      "9/9 [==============================] - 0s 9ms/step - loss: 0.0095 - accuracy: 0.9953 - val_loss: 0.1657 - val_accuracy: 0.9650\n",
      "Epoch 4/25\n",
      "9/9 [==============================] - 0s 14ms/step - loss: 0.0096 - accuracy: 0.9953 - val_loss: 0.1663 - val_accuracy: 0.9650\n",
      "Epoch 5/25\n",
      "9/9 [==============================] - 0s 9ms/step - loss: 0.0092 - accuracy: 0.9953 - val_loss: 0.1685 - val_accuracy: 0.9650\n",
      "Epoch 6/25\n",
      "9/9 [==============================] - 0s 9ms/step - loss: 0.0089 - accuracy: 0.9953 - val_loss: 0.1701 - val_accuracy: 0.9650\n",
      "Epoch 7/25\n",
      "9/9 [==============================] - 0s 8ms/step - loss: 0.0088 - accuracy: 0.9953 - val_loss: 0.1704 - val_accuracy: 0.9650\n",
      "Epoch 8/25\n",
      "9/9 [==============================] - 0s 9ms/step - loss: 0.0086 - accuracy: 0.9953 - val_loss: 0.1721 - val_accuracy: 0.9650\n",
      "Epoch 9/25\n",
      "9/9 [==============================] - 0s 9ms/step - loss: 0.0085 - accuracy: 0.9953 - val_loss: 0.1734 - val_accuracy: 0.9650\n",
      "Epoch 10/25\n",
      "9/9 [==============================] - 0s 9ms/step - loss: 0.0083 - accuracy: 0.9953 - val_loss: 0.1741 - val_accuracy: 0.9650\n",
      "Epoch 11/25\n",
      "9/9 [==============================] - 0s 9ms/step - loss: 0.0082 - accuracy: 0.9953 - val_loss: 0.1757 - val_accuracy: 0.9650\n",
      "Epoch 12/25\n",
      "9/9 [==============================] - 0s 9ms/step - loss: 0.0080 - accuracy: 0.9977 - val_loss: 0.1768 - val_accuracy: 0.9650\n",
      "Epoch 13/25\n",
      "9/9 [==============================] - 0s 10ms/step - loss: 0.0079 - accuracy: 0.9977 - val_loss: 0.1782 - val_accuracy: 0.9650\n",
      "Epoch 14/25\n",
      "9/9 [==============================] - 0s 9ms/step - loss: 0.0077 - accuracy: 0.9977 - val_loss: 0.1794 - val_accuracy: 0.9650\n",
      "Epoch 15/25\n",
      "9/9 [==============================] - 0s 10ms/step - loss: 0.0076 - accuracy: 0.9977 - val_loss: 0.1800 - val_accuracy: 0.9650\n",
      "Epoch 16/25\n",
      "9/9 [==============================] - 0s 9ms/step - loss: 0.0075 - accuracy: 0.9977 - val_loss: 0.1803 - val_accuracy: 0.9650\n",
      "Epoch 17/25\n",
      "9/9 [==============================] - 0s 11ms/step - loss: 0.0074 - accuracy: 0.9977 - val_loss: 0.1823 - val_accuracy: 0.9650\n",
      "Epoch 18/25\n",
      "9/9 [==============================] - 0s 10ms/step - loss: 0.0073 - accuracy: 0.9977 - val_loss: 0.1838 - val_accuracy: 0.9650\n",
      "Epoch 19/25\n",
      "9/9 [==============================] - 0s 11ms/step - loss: 0.0072 - accuracy: 0.9977 - val_loss: 0.1845 - val_accuracy: 0.9650\n",
      "Epoch 20/25\n",
      "9/9 [==============================] - 0s 11ms/step - loss: 0.0071 - accuracy: 0.9977 - val_loss: 0.1859 - val_accuracy: 0.9650\n",
      "Epoch 21/25\n",
      "9/9 [==============================] - 0s 11ms/step - loss: 0.0069 - accuracy: 0.9977 - val_loss: 0.1865 - val_accuracy: 0.9650\n",
      "Epoch 22/25\n",
      "9/9 [==============================] - 0s 11ms/step - loss: 0.0068 - accuracy: 0.9977 - val_loss: 0.1877 - val_accuracy: 0.9650\n",
      "Epoch 23/25\n",
      "9/9 [==============================] - 0s 11ms/step - loss: 0.0067 - accuracy: 0.9977 - val_loss: 0.1881 - val_accuracy: 0.9650\n",
      "Epoch 24/25\n",
      "9/9 [==============================] - 0s 11ms/step - loss: 0.0066 - accuracy: 0.9977 - val_loss: 0.1886 - val_accuracy: 0.9650\n",
      "Epoch 25/25\n",
      "9/9 [==============================] - 0s 11ms/step - loss: 0.0067 - accuracy: 0.9977 - val_loss: 0.1893 - val_accuracy: 0.9650\n"
     ]
    },
    {
     "data": {
      "text/plain": [
       "<keras.callbacks.History at 0x256bc3d6c20>"
      ]
     },
     "execution_count": 136,
     "metadata": {},
     "output_type": "execute_result"
    }
   ],
   "source": [
    "model.fit(x_train, y_train, epochs = 25, batch_size = 50, validation_data=(x_test, y_test))"
   ]
  },
  {
   "cell_type": "code",
   "execution_count": 137,
   "id": "678f9494-97f9-4785-99a5-98bf0c520670",
   "metadata": {},
   "outputs": [
    {
     "name": "stdout",
     "output_type": "stream",
     "text": [
      "5/5 [==============================] - 0s 3ms/step - loss: 0.1893 - accuracy: 0.9650\n"
     ]
    }
   ],
   "source": [
    "score = model.evaluate(x_test, y_test)"
   ]
  }
 ],
 "metadata": {
  "kernelspec": {
   "display_name": "Python 3 (ipykernel)",
   "language": "python",
   "name": "python3"
  },
  "language_info": {
   "codemirror_mode": {
    "name": "ipython",
    "version": 3
   },
   "file_extension": ".py",
   "mimetype": "text/x-python",
   "name": "python",
   "nbconvert_exporter": "python",
   "pygments_lexer": "ipython3",
   "version": "3.10.13"
  }
 },
 "nbformat": 4,
 "nbformat_minor": 5
}
