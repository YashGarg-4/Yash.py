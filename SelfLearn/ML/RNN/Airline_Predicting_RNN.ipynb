{
 "cells": [
  {
   "cell_type": "code",
   "execution_count": 128,
   "id": "9eeaeb2e-1f85-438f-9a91-7efba952b8b5",
   "metadata": {},
   "outputs": [],
   "source": [
    "import tensorflow as tf\n",
    "import pandas as pd"
   ]
  },
  {
   "cell_type": "code",
   "execution_count": 129,
   "id": "c94e72cd-4ad0-4d74-8aa3-e18b66b319f7",
   "metadata": {},
   "outputs": [],
   "source": [
    "j = pd.read_csv('international-airline-passengers.csv', usecols=[1])"
   ]
  },
  {
   "cell_type": "code",
   "execution_count": 130,
   "id": "f71007fe-6c92-4d69-a5aa-b7f203fac331",
   "metadata": {},
   "outputs": [
    {
     "data": {
      "text/plain": [
       "<bound method NDFrame.describe of      International airline passengers: monthly totals in thousands. Jan 49 ? Dec 60\n",
       "0                                                  112                             \n",
       "1                                                  118                             \n",
       "2                                                  132                             \n",
       "3                                                  129                             \n",
       "4                                                  121                             \n",
       "..                                                 ...                             \n",
       "139                                                606                             \n",
       "140                                                508                             \n",
       "141                                                461                             \n",
       "142                                                390                             \n",
       "143                                                432                             \n",
       "\n",
       "[144 rows x 1 columns]>"
      ]
     },
     "execution_count": 130,
     "metadata": {},
     "output_type": "execute_result"
    }
   ],
   "source": [
    "j.describe"
   ]
  },
  {
   "cell_type": "code",
   "execution_count": 131,
   "id": "8bbb762b-e7b1-47e9-bcd9-021bf4630876",
   "metadata": {},
   "outputs": [],
   "source": [
    "values = j.values.astype('float32')"
   ]
  },
  {
   "cell_type": "code",
   "execution_count": 132,
   "id": "bda69903-f86e-4b49-be66-6fd35368230d",
   "metadata": {},
   "outputs": [
    {
     "data": {
      "text/plain": [
       "array([[112.],\n",
       "       [118.],\n",
       "       [132.],\n",
       "       [129.],\n",
       "       [121.],\n",
       "       [135.],\n",
       "       [148.],\n",
       "       [148.],\n",
       "       [136.],\n",
       "       [119.],\n",
       "       [104.],\n",
       "       [118.],\n",
       "       [115.],\n",
       "       [126.],\n",
       "       [141.],\n",
       "       [135.],\n",
       "       [125.],\n",
       "       [149.],\n",
       "       [170.],\n",
       "       [170.],\n",
       "       [158.],\n",
       "       [133.],\n",
       "       [114.],\n",
       "       [140.],\n",
       "       [145.],\n",
       "       [150.],\n",
       "       [178.],\n",
       "       [163.],\n",
       "       [172.],\n",
       "       [178.],\n",
       "       [199.],\n",
       "       [199.],\n",
       "       [184.],\n",
       "       [162.],\n",
       "       [146.],\n",
       "       [166.],\n",
       "       [171.],\n",
       "       [180.],\n",
       "       [193.],\n",
       "       [181.],\n",
       "       [183.],\n",
       "       [218.],\n",
       "       [230.],\n",
       "       [242.],\n",
       "       [209.],\n",
       "       [191.],\n",
       "       [172.],\n",
       "       [194.],\n",
       "       [196.],\n",
       "       [196.],\n",
       "       [236.],\n",
       "       [235.],\n",
       "       [229.],\n",
       "       [243.],\n",
       "       [264.],\n",
       "       [272.],\n",
       "       [237.],\n",
       "       [211.],\n",
       "       [180.],\n",
       "       [201.],\n",
       "       [204.],\n",
       "       [188.],\n",
       "       [235.],\n",
       "       [227.],\n",
       "       [234.],\n",
       "       [264.],\n",
       "       [302.],\n",
       "       [293.],\n",
       "       [259.],\n",
       "       [229.],\n",
       "       [203.],\n",
       "       [229.],\n",
       "       [242.],\n",
       "       [233.],\n",
       "       [267.],\n",
       "       [269.],\n",
       "       [270.],\n",
       "       [315.],\n",
       "       [364.],\n",
       "       [347.],\n",
       "       [312.],\n",
       "       [274.],\n",
       "       [237.],\n",
       "       [278.],\n",
       "       [284.],\n",
       "       [277.],\n",
       "       [317.],\n",
       "       [313.],\n",
       "       [318.],\n",
       "       [374.],\n",
       "       [413.],\n",
       "       [405.],\n",
       "       [355.],\n",
       "       [306.],\n",
       "       [271.],\n",
       "       [306.],\n",
       "       [315.],\n",
       "       [301.],\n",
       "       [356.],\n",
       "       [348.],\n",
       "       [355.],\n",
       "       [422.],\n",
       "       [465.],\n",
       "       [467.],\n",
       "       [404.],\n",
       "       [347.],\n",
       "       [305.],\n",
       "       [336.],\n",
       "       [340.],\n",
       "       [318.],\n",
       "       [362.],\n",
       "       [348.],\n",
       "       [363.],\n",
       "       [435.],\n",
       "       [491.],\n",
       "       [505.],\n",
       "       [404.],\n",
       "       [359.],\n",
       "       [310.],\n",
       "       [337.],\n",
       "       [360.],\n",
       "       [342.],\n",
       "       [406.],\n",
       "       [396.],\n",
       "       [420.],\n",
       "       [472.],\n",
       "       [548.],\n",
       "       [559.],\n",
       "       [463.],\n",
       "       [407.],\n",
       "       [362.],\n",
       "       [405.],\n",
       "       [417.],\n",
       "       [391.],\n",
       "       [419.],\n",
       "       [461.],\n",
       "       [472.],\n",
       "       [535.],\n",
       "       [622.],\n",
       "       [606.],\n",
       "       [508.],\n",
       "       [461.],\n",
       "       [390.],\n",
       "       [432.]], dtype=float32)"
      ]
     },
     "execution_count": 132,
     "metadata": {},
     "output_type": "execute_result"
    }
   ],
   "source": [
    "values"
   ]
  },
  {
   "cell_type": "code",
   "execution_count": 133,
   "id": "1c25d4c7-85bf-4eaf-bde7-3501a575cf3c",
   "metadata": {},
   "outputs": [
    {
     "name": "stdout",
     "output_type": "stream",
     "text": [
      "96 47\n"
     ]
    }
   ],
   "source": [
    "train_size = int(j.shape[0] * 0.67)\n",
    "test_size = int(j.shape[0] * 0.33)\n",
    "\n",
    "print(train_size, test_size)\n",
    "\n",
    "train = values[:train_size]\n",
    "test = values[train_size:]"
   ]
  },
  {
   "cell_type": "code",
   "execution_count": 134,
   "id": "618d0fef-66e0-4fe2-a2c9-7ecb4253cc60",
   "metadata": {},
   "outputs": [
    {
     "data": {
      "text/plain": [
       "(144, 1)"
      ]
     },
     "execution_count": 134,
     "metadata": {},
     "output_type": "execute_result"
    }
   ],
   "source": [
    "values.shape"
   ]
  },
  {
   "cell_type": "code",
   "execution_count": 135,
   "id": "63c4d7da-c8bf-47d8-989e-f40e03df237c",
   "metadata": {},
   "outputs": [],
   "source": [
    "from sklearn.preprocessing import MinMaxScaler\n",
    "scaler = MinMaxScaler(feature_range=(0,1))"
   ]
  },
  {
   "cell_type": "code",
   "execution_count": 136,
   "id": "c76df517-eba5-40e5-9182-afeb85b93f9a",
   "metadata": {},
   "outputs": [],
   "source": [
    "train = scaler.fit_transform(train)\n",
    "test = scaler.transform(test)"
   ]
  },
  {
   "cell_type": "code",
   "execution_count": 137,
   "id": "197e8b21-3c99-4e3c-a508-e5274f57cf35",
   "metadata": {},
   "outputs": [
    {
     "data": {
      "text/plain": [
       "array([[0.02588999],\n",
       "       [0.04530746],\n",
       "       [0.09061491],\n",
       "       [0.08090615],\n",
       "       [0.05501619],\n",
       "       [0.10032365],\n",
       "       [0.14239484],\n",
       "       [0.14239484],\n",
       "       [0.10355988],\n",
       "       [0.04854369],\n",
       "       [0.        ],\n",
       "       [0.04530746],\n",
       "       [0.03559873],\n",
       "       [0.07119742],\n",
       "       [0.11974111],\n",
       "       [0.10032365],\n",
       "       [0.06796119],\n",
       "       [0.14563107],\n",
       "       [0.21359226],\n",
       "       [0.21359226],\n",
       "       [0.17475727],\n",
       "       [0.09385115],\n",
       "       [0.03236246],\n",
       "       [0.11650488],\n",
       "       [0.13268611],\n",
       "       [0.14886734],\n",
       "       [0.2394822 ],\n",
       "       [0.1909385 ],\n",
       "       [0.22006473],\n",
       "       [0.2394822 ],\n",
       "       [0.3074434 ],\n",
       "       [0.3074434 ],\n",
       "       [0.25889972],\n",
       "       [0.18770227],\n",
       "       [0.13592234],\n",
       "       [0.20064726],\n",
       "       [0.2168285 ],\n",
       "       [0.24595472],\n",
       "       [0.2880259 ],\n",
       "       [0.24919096],\n",
       "       [0.25566342],\n",
       "       [0.36893204],\n",
       "       [0.40776703],\n",
       "       [0.44660196],\n",
       "       [0.33980587],\n",
       "       [0.28155342],\n",
       "       [0.22006473],\n",
       "       [0.29126218],\n",
       "       [0.29773465],\n",
       "       [0.29773465],\n",
       "       [0.4271845 ],\n",
       "       [0.42394826],\n",
       "       [0.4045308 ],\n",
       "       [0.4498382 ],\n",
       "       [0.5177994 ],\n",
       "       [0.54368937],\n",
       "       [0.43042073],\n",
       "       [0.34627834],\n",
       "       [0.24595472],\n",
       "       [0.31391588],\n",
       "       [0.32362464],\n",
       "       [0.27184466],\n",
       "       [0.42394826],\n",
       "       [0.39805827],\n",
       "       [0.42071202],\n",
       "       [0.5177994 ],\n",
       "       [0.64077675],\n",
       "       [0.61165047],\n",
       "       [0.50161815],\n",
       "       [0.4045308 ],\n",
       "       [0.32038835],\n",
       "       [0.4045308 ],\n",
       "       [0.44660196],\n",
       "       [0.41747573],\n",
       "       [0.52750814],\n",
       "       [0.5339806 ],\n",
       "       [0.5372169 ],\n",
       "       [0.682848  ],\n",
       "       [0.841424  ],\n",
       "       [0.7864078 ],\n",
       "       [0.6731392 ],\n",
       "       [0.55016184],\n",
       "       [0.43042073],\n",
       "       [0.5631068 ],\n",
       "       [0.5825243 ],\n",
       "       [0.5598706 ],\n",
       "       [0.68932045],\n",
       "       [0.6763755 ],\n",
       "       [0.69255674],\n",
       "       [0.87378645],\n",
       "       [1.0000001 ],\n",
       "       [0.9741101 ],\n",
       "       [0.8122978 ],\n",
       "       [0.6537217 ],\n",
       "       [0.5404531 ],\n",
       "       [0.6537217 ]], dtype=float32)"
      ]
     },
     "execution_count": 137,
     "metadata": {},
     "output_type": "execute_result"
    }
   ],
   "source": [
    "train"
   ]
  },
  {
   "cell_type": "code",
   "execution_count": 138,
   "id": "9cd62d48-a009-4104-9dcb-176351509865",
   "metadata": {},
   "outputs": [],
   "source": [
    "import numpy as np"
   ]
  },
  {
   "cell_type": "code",
   "execution_count": 139,
   "id": "d5263942-0dbf-45b6-9fb5-beb3226aaa4c",
   "metadata": {},
   "outputs": [],
   "source": [
    "def create_dataset(data, k):\n",
    "    dataX, dataY= [], []\n",
    "    for i in range(data.shape[0] - k):\n",
    "        x = data[i : i+k, 0]\n",
    "        y = data[i+k, 0]\n",
    "        dataX.append(x)\n",
    "        dataY.append(y)\n",
    "    return np.array(dataX), np.array(dataY)     "
   ]
  },
  {
   "cell_type": "code",
   "execution_count": 140,
   "id": "5137c5ee-1f51-4f65-9a22-588511ce932d",
   "metadata": {},
   "outputs": [
    {
     "data": {
      "text/plain": [
       "(array([[0.682848  , 0.63754046, 0.815534  , 0.7896441 , 0.8122978 ,\n",
       "         1.0291263 , 1.1682849 , 1.1747574 , 0.97087383, 0.7864078 ,\n",
       "         0.6504855 , 0.7508091 ],\n",
       "        [0.63754046, 0.815534  , 0.7896441 , 0.8122978 , 1.0291263 ,\n",
       "         1.1682849 , 1.1747574 , 0.97087383, 0.7864078 , 0.6504855 ,\n",
       "         0.7508091 , 0.7637541 ],\n",
       "        [0.815534  , 0.7896441 , 0.8122978 , 1.0291263 , 1.1682849 ,\n",
       "         1.1747574 , 0.97087383, 0.7864078 , 0.6504855 , 0.7508091 ,\n",
       "         0.7637541 , 0.69255674],\n",
       "        [0.7896441 , 0.8122978 , 1.0291263 , 1.1682849 , 1.1747574 ,\n",
       "         0.97087383, 0.7864078 , 0.6504855 , 0.7508091 , 0.7637541 ,\n",
       "         0.69255674, 0.8349515 ],\n",
       "        [0.8122978 , 1.0291263 , 1.1682849 , 1.1747574 , 0.97087383,\n",
       "         0.7864078 , 0.6504855 , 0.7508091 , 0.7637541 , 0.69255674,\n",
       "         0.8349515 , 0.7896441 ],\n",
       "        [1.0291263 , 1.1682849 , 1.1747574 , 0.97087383, 0.7864078 ,\n",
       "         0.6504855 , 0.7508091 , 0.7637541 , 0.69255674, 0.8349515 ,\n",
       "         0.7896441 , 0.8381878 ],\n",
       "        [1.1682849 , 1.1747574 , 0.97087383, 0.7864078 , 0.6504855 ,\n",
       "         0.7508091 , 0.7637541 , 0.69255674, 0.8349515 , 0.7896441 ,\n",
       "         0.8381878 , 1.0711975 ],\n",
       "        [1.1747574 , 0.97087383, 0.7864078 , 0.6504855 , 0.7508091 ,\n",
       "         0.7637541 , 0.69255674, 0.8349515 , 0.7896441 , 0.8381878 ,\n",
       "         1.0711975 , 1.2524272 ],\n",
       "        [0.97087383, 0.7864078 , 0.6504855 , 0.7508091 , 0.7637541 ,\n",
       "         0.69255674, 0.8349515 , 0.7896441 , 0.8381878 , 1.0711975 ,\n",
       "         1.2524272 , 1.2977347 ],\n",
       "        [0.7864078 , 0.6504855 , 0.7508091 , 0.7637541 , 0.69255674,\n",
       "         0.8349515 , 0.7896441 , 0.8381878 , 1.0711975 , 1.2524272 ,\n",
       "         1.2977347 , 0.97087383],\n",
       "        [0.6504855 , 0.7508091 , 0.7637541 , 0.69255674, 0.8349515 ,\n",
       "         0.7896441 , 0.8381878 , 1.0711975 , 1.2524272 , 1.2977347 ,\n",
       "         0.97087383, 0.82524276],\n",
       "        [0.7508091 , 0.7637541 , 0.69255674, 0.8349515 , 0.7896441 ,\n",
       "         0.8381878 , 1.0711975 , 1.2524272 , 1.2977347 , 0.97087383,\n",
       "         0.82524276, 0.66666675],\n",
       "        [0.7637541 , 0.69255674, 0.8349515 , 0.7896441 , 0.8381878 ,\n",
       "         1.0711975 , 1.2524272 , 1.2977347 , 0.97087383, 0.82524276,\n",
       "         0.66666675, 0.75404537],\n",
       "        [0.69255674, 0.8349515 , 0.7896441 , 0.8381878 , 1.0711975 ,\n",
       "         1.2524272 , 1.2977347 , 0.97087383, 0.82524276, 0.66666675,\n",
       "         0.75404537, 0.82847905],\n",
       "        [0.8349515 , 0.7896441 , 0.8381878 , 1.0711975 , 1.2524272 ,\n",
       "         1.2977347 , 0.97087383, 0.82524276, 0.66666675, 0.75404537,\n",
       "         0.82847905, 0.7702266 ],\n",
       "        [0.7896441 , 0.8381878 , 1.0711975 , 1.2524272 , 1.2977347 ,\n",
       "         0.97087383, 0.82524276, 0.66666675, 0.75404537, 0.82847905,\n",
       "         0.7702266 , 0.9773463 ],\n",
       "        [0.8381878 , 1.0711975 , 1.2524272 , 1.2977347 , 0.97087383,\n",
       "         0.82524276, 0.66666675, 0.75404537, 0.82847905, 0.7702266 ,\n",
       "         0.9773463 , 0.94498384],\n",
       "        [1.0711975 , 1.2524272 , 1.2977347 , 0.97087383, 0.82524276,\n",
       "         0.66666675, 0.75404537, 0.82847905, 0.7702266 , 0.9773463 ,\n",
       "         0.94498384, 1.0226538 ],\n",
       "        [1.2524272 , 1.2977347 , 0.97087383, 0.82524276, 0.66666675,\n",
       "         0.75404537, 0.82847905, 0.7702266 , 0.9773463 , 0.94498384,\n",
       "         1.0226538 , 1.1909386 ],\n",
       "        [1.2977347 , 0.97087383, 0.82524276, 0.66666675, 0.75404537,\n",
       "         0.82847905, 0.7702266 , 0.9773463 , 0.94498384, 1.0226538 ,\n",
       "         1.1909386 , 1.4368933 ],\n",
       "        [0.97087383, 0.82524276, 0.66666675, 0.75404537, 0.82847905,\n",
       "         0.7702266 , 0.9773463 , 0.94498384, 1.0226538 , 1.1909386 ,\n",
       "         1.4368933 , 1.472492  ],\n",
       "        [0.82524276, 0.66666675, 0.75404537, 0.82847905, 0.7702266 ,\n",
       "         0.9773463 , 0.94498384, 1.0226538 , 1.1909386 , 1.4368933 ,\n",
       "         1.472492  , 1.1618124 ],\n",
       "        [0.66666675, 0.75404537, 0.82847905, 0.7702266 , 0.9773463 ,\n",
       "         0.94498384, 1.0226538 , 1.1909386 , 1.4368933 , 1.472492  ,\n",
       "         1.1618124 , 0.9805826 ],\n",
       "        [0.75404537, 0.82847905, 0.7702266 , 0.9773463 , 0.94498384,\n",
       "         1.0226538 , 1.1909386 , 1.4368933 , 1.472492  , 1.1618124 ,\n",
       "         0.9805826 , 0.8349515 ],\n",
       "        [0.82847905, 0.7702266 , 0.9773463 , 0.94498384, 1.0226538 ,\n",
       "         1.1909386 , 1.4368933 , 1.472492  , 1.1618124 , 0.9805826 ,\n",
       "         0.8349515 , 0.9741101 ],\n",
       "        [0.7702266 , 0.9773463 , 0.94498384, 1.0226538 , 1.1909386 ,\n",
       "         1.4368933 , 1.472492  , 1.1618124 , 0.9805826 , 0.8349515 ,\n",
       "         0.9741101 , 1.012945  ],\n",
       "        [0.9773463 , 0.94498384, 1.0226538 , 1.1909386 , 1.4368933 ,\n",
       "         1.472492  , 1.1618124 , 0.9805826 , 0.8349515 , 0.9741101 ,\n",
       "         1.012945  , 0.9288026 ],\n",
       "        [0.94498384, 1.0226538 , 1.1909386 , 1.4368933 , 1.472492  ,\n",
       "         1.1618124 , 0.9805826 , 0.8349515 , 0.9741101 , 1.012945  ,\n",
       "         0.9288026 , 1.0194175 ],\n",
       "        [1.0226538 , 1.1909386 , 1.4368933 , 1.472492  , 1.1618124 ,\n",
       "         0.9805826 , 0.8349515 , 0.9741101 , 1.012945  , 0.9288026 ,\n",
       "         1.0194175 , 1.1553398 ],\n",
       "        [1.1909386 , 1.4368933 , 1.472492  , 1.1618124 , 0.9805826 ,\n",
       "         0.8349515 , 0.9741101 , 1.012945  , 0.9288026 , 1.0194175 ,\n",
       "         1.1553398 , 1.1909386 ],\n",
       "        [1.4368933 , 1.472492  , 1.1618124 , 0.9805826 , 0.8349515 ,\n",
       "         0.9741101 , 1.012945  , 0.9288026 , 1.0194175 , 1.1553398 ,\n",
       "         1.1909386 , 1.3948221 ],\n",
       "        [1.472492  , 1.1618124 , 0.9805826 , 0.8349515 , 0.9741101 ,\n",
       "         1.012945  , 0.9288026 , 1.0194175 , 1.1553398 , 1.1909386 ,\n",
       "         1.3948221 , 1.6763754 ],\n",
       "        [1.1618124 , 0.9805826 , 0.8349515 , 0.9741101 , 1.012945  ,\n",
       "         0.9288026 , 1.0194175 , 1.1553398 , 1.1909386 , 1.3948221 ,\n",
       "         1.6763754 , 1.6245955 ],\n",
       "        [0.9805826 , 0.8349515 , 0.9741101 , 1.012945  , 0.9288026 ,\n",
       "         1.0194175 , 1.1553398 , 1.1909386 , 1.3948221 , 1.6763754 ,\n",
       "         1.6245955 , 1.3074435 ],\n",
       "        [0.8349515 , 0.9741101 , 1.012945  , 0.9288026 , 1.0194175 ,\n",
       "         1.1553398 , 1.1909386 , 1.3948221 , 1.6763754 , 1.6245955 ,\n",
       "         1.3074435 , 1.1553398 ],\n",
       "        [0.9741101 , 1.012945  , 0.9288026 , 1.0194175 , 1.1553398 ,\n",
       "         1.1909386 , 1.3948221 , 1.6763754 , 1.6245955 , 1.3074435 ,\n",
       "         1.1553398 , 0.92556643]], dtype=float32),\n",
       " array([0.7637541 , 0.69255674, 0.8349515 , 0.7896441 , 0.8381878 ,\n",
       "        1.0711975 , 1.2524272 , 1.2977347 , 0.97087383, 0.82524276,\n",
       "        0.66666675, 0.75404537, 0.82847905, 0.7702266 , 0.9773463 ,\n",
       "        0.94498384, 1.0226538 , 1.1909386 , 1.4368933 , 1.472492  ,\n",
       "        1.1618124 , 0.9805826 , 0.8349515 , 0.9741101 , 1.012945  ,\n",
       "        0.9288026 , 1.0194175 , 1.1553398 , 1.1909386 , 1.3948221 ,\n",
       "        1.6763754 , 1.6245955 , 1.3074435 , 1.1553398 , 0.92556643,\n",
       "        1.0614887 ], dtype=float32))"
      ]
     },
     "execution_count": 140,
     "metadata": {},
     "output_type": "execute_result"
    }
   ],
   "source": [
    "create_dataset(test, 12)"
   ]
  },
  {
   "cell_type": "code",
   "execution_count": 141,
   "id": "4909237a-bc13-49f8-a29a-d7fe59c3443e",
   "metadata": {},
   "outputs": [
    {
     "data": {
      "text/plain": [
       "(84, 12)"
      ]
     },
     "execution_count": 141,
     "metadata": {},
     "output_type": "execute_result"
    }
   ],
   "source": [
    "lookback = 12\n",
    "trainX, trainY = create_dataset(train, lookback)\n",
    "testX, testY = create_dataset(test, lookback)\n",
    "trainX.shape"
   ]
  },
  {
   "cell_type": "code",
   "execution_count": 142,
   "id": "88dbbb2d-c482-452c-91dc-b34fd4ff8c21",
   "metadata": {},
   "outputs": [],
   "source": [
    "## SO WE GOTTA PASS A 3D ARRAY TO TRAIN THE RNN (NO. OF TRAINING DATA POINT, LENGTH OF SEQUENCE PER DATA POINT, NO. OF FEATURES PER TIMEFRAME)\n",
    "# Hence gotta reshape"
   ]
  },
  {
   "cell_type": "code",
   "execution_count": 143,
   "id": "c84fb13d-c7bf-4e6a-b785-51ec3b410439",
   "metadata": {},
   "outputs": [
    {
     "data": {
      "text/plain": [
       "(84, 12, 1)"
      ]
     },
     "execution_count": 143,
     "metadata": {},
     "output_type": "execute_result"
    }
   ],
   "source": [
    "trainX = np.reshape(trainX,(trainX.shape[0], trainX.shape[1], 1))\n",
    "testX = np.reshape(testX, (testX.shape[0], testX.shape[1], 1))\n",
    "trainX.shape"
   ]
  },
  {
   "cell_type": "code",
   "execution_count": 144,
   "id": "f86cd970-7286-41a6-8dff-4cf172fe074a",
   "metadata": {},
   "outputs": [],
   "source": [
    "# tanh is a std activation function used in RNN"
   ]
  },
  {
   "cell_type": "code",
   "execution_count": 145,
   "id": "1b05137a-5094-4d66-beec-89ca336c2c0b",
   "metadata": {},
   "outputs": [],
   "source": [
    "from keras.models import Sequential\n",
    "from keras.layers import SimpleRNN, Dense"
   ]
  },
  {
   "cell_type": "code",
   "execution_count": 151,
   "id": "ac41f232-be43-4bd8-a55b-904348978d03",
   "metadata": {},
   "outputs": [],
   "source": [
    "model = Sequential()"
   ]
  },
  {
   "cell_type": "code",
   "execution_count": 152,
   "id": "edbb77b1-78f2-44a7-b56d-8fcb66bb3a4d",
   "metadata": {},
   "outputs": [
    {
     "name": "stdout",
     "output_type": "stream",
     "text": [
      "Epoch 1/25\n",
      "84/84 [==============================] - 1s 3ms/step - loss: 0.1520\n",
      "Epoch 2/25\n",
      "84/84 [==============================] - 0s 3ms/step - loss: 0.0329\n",
      "Epoch 3/25\n",
      "84/84 [==============================] - 0s 3ms/step - loss: 0.0187\n",
      "Epoch 4/25\n",
      "84/84 [==============================] - 0s 3ms/step - loss: 0.0123\n",
      "Epoch 5/25\n",
      "84/84 [==============================] - 0s 3ms/step - loss: 0.0085\n",
      "Epoch 6/25\n",
      "84/84 [==============================] - 0s 3ms/step - loss: 0.0065\n",
      "Epoch 7/25\n",
      "84/84 [==============================] - 0s 3ms/step - loss: 0.0062\n",
      "Epoch 8/25\n",
      "84/84 [==============================] - 0s 3ms/step - loss: 0.0059\n",
      "Epoch 9/25\n",
      "84/84 [==============================] - 0s 3ms/step - loss: 0.0056\n",
      "Epoch 10/25\n",
      "84/84 [==============================] - 0s 3ms/step - loss: 0.0056\n",
      "Epoch 11/25\n",
      "84/84 [==============================] - 0s 3ms/step - loss: 0.0057\n",
      "Epoch 12/25\n",
      "84/84 [==============================] - 0s 3ms/step - loss: 0.0055\n",
      "Epoch 13/25\n",
      "84/84 [==============================] - 0s 3ms/step - loss: 0.0053\n",
      "Epoch 14/25\n",
      "84/84 [==============================] - 0s 3ms/step - loss: 0.0055\n",
      "Epoch 15/25\n",
      "84/84 [==============================] - 0s 3ms/step - loss: 0.0060\n",
      "Epoch 16/25\n",
      "84/84 [==============================] - 0s 3ms/step - loss: 0.0056\n",
      "Epoch 17/25\n",
      "84/84 [==============================] - 0s 3ms/step - loss: 0.0056\n",
      "Epoch 18/25\n",
      "84/84 [==============================] - 0s 3ms/step - loss: 0.0052\n",
      "Epoch 19/25\n",
      "84/84 [==============================] - 0s 3ms/step - loss: 0.0055\n",
      "Epoch 20/25\n",
      "84/84 [==============================] - 0s 3ms/step - loss: 0.0053\n",
      "Epoch 21/25\n",
      "84/84 [==============================] - 0s 3ms/step - loss: 0.0050\n",
      "Epoch 22/25\n",
      "84/84 [==============================] - 0s 3ms/step - loss: 0.0055\n",
      "Epoch 23/25\n",
      "84/84 [==============================] - 0s 3ms/step - loss: 0.0053\n",
      "Epoch 24/25\n",
      "84/84 [==============================] - 0s 3ms/step - loss: 0.0051\n",
      "Epoch 25/25\n",
      "84/84 [==============================] - 0s 3ms/step - loss: 0.0052\n"
     ]
    },
    {
     "data": {
      "text/plain": [
       "<keras.callbacks.History at 0x1bb4c6fccd0>"
      ]
     },
     "execution_count": 152,
     "metadata": {},
     "output_type": "execute_result"
    }
   ],
   "source": [
    "model.add(SimpleRNN(4, input_shape=(lookback , 1)))\n",
    "model.add(Dense(1))\n",
    "model.compile(loss='mean_squared_error', optimizer='adam')\n",
    "model.fit(trainX, trainY, epochs= 25, batch_size = 1)"
   ]
  },
  {
   "cell_type": "code",
   "execution_count": 153,
   "id": "fc4f1951-4cfe-47b2-a44e-925ad02e6aac",
   "metadata": {},
   "outputs": [
    {
     "name": "stdout",
     "output_type": "stream",
     "text": [
      "2/2 [==============================] - 0s 8ms/step\n",
      "3/3 [==============================] - 0s 0s/step\n"
     ]
    }
   ],
   "source": [
    "testPredict = model.predict(testX)\n",
    "testPredict = scaler.inverse_transform(testPredict).ravel()\n",
    "\n",
    "trainPredict = model.predict(trainX)\n",
    "trainPredict = scaler.inverse_transform(trainPredict).ravel()\n",
    "#.ravel() reshapes it into (x,) from (x,y)\n",
    "\n",
    "testTrue = scaler.inverse_transform([testY]).ravel()\n",
    "trainTrue = scaler.inverse_transform([trainY]).ravel()\n"
   ]
  },
  {
   "cell_type": "code",
   "execution_count": 154,
   "id": "79734d63-fb2e-49e3-9224-4511319a03d7",
   "metadata": {},
   "outputs": [
    {
     "data": {
      "text/plain": [
       "<function matplotlib.pyplot.show(close=None, block=None)>"
      ]
     },
     "execution_count": 154,
     "metadata": {},
     "output_type": "execute_result"
    },
    {
     "data": {
      "image/png": "[encoded data removed]",
      "text/plain": [
       "<Figure size 640x480 with 1 Axes>"
      ]
     },
     "metadata": {},
     "output_type": "display_data"
    }
   ],
   "source": [
    "import matplotlib.pyplot as plt\n",
    "plt.plot(testTrue)\n",
    "plt.plot(testPredict)\n",
    "plt.show"
   ]
  },
  {
   "cell_type": "code",
   "execution_count": 155,
   "id": "e9b33f53-6f99-4e28-a333-0da2c12c37f7",
   "metadata": {},
   "outputs": [
    {
     "data": {
      "text/plain": [
       "<function matplotlib.pyplot.show(close=None, block=None)>"
      ]
     },
     "execution_count": 155,
     "metadata": {},
     "output_type": "execute_result"
    },
    {
     "data": {
      "image/png": "[encoded data removed]",
      "text/plain": [
       "<Figure size 640x480 with 1 Axes>"
      ]
     },
     "metadata": {},
     "output_type": "display_data"
    }
   ],
   "source": [
    "CombPred = np.concatenate((trainPredict, testPredict))\n",
    "CombTrue = np.concatenate((trainTrue, testTrue))\n",
    "plt.plot(CombPred)\n",
    "plt.plot(CombTrue)\n",
    "plt.show"
   ]
  }
 ],
 "metadata": {
  "kernelspec": {
   "display_name": "Python 3 (ipykernel)",
   "language": "python",
   "name": "python3"
  },
  "language_info": {
   "codemirror_mode": {
    "name": "ipython",
    "version": 3
   },
   "file_extension": ".py",
   "mimetype": "text/x-python",
   "name": "python",
   "nbconvert_exporter": "python",
   "pygments_lexer": "ipython3",
   "version": "3.10.13"
  }
 },
 "nbformat": 4,
 "nbformat_minor": 5
}
