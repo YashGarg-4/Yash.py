{
 "cells": [
  {
   "cell_type": "code",
   "execution_count": 2,
   "id": "e49cb084-abb7-4938-a708-5e624361bbde",
   "metadata": {},
   "outputs": [],
   "source": [
    "# CREATE AN ENVIRNOMENT WITH PYTHON 3.11.6 AND THEN DOWNLOAD THE PACKAGE AND LAUNCH JUPYTER THROUGH THAT ENV"
   ]
  },
  {
   "cell_type": "code",
   "execution_count": 2,
   "id": "916a1889-2321-4e38-9737-7bf433f12733",
   "metadata": {},
   "outputs": [],
   "source": [
    "import tensorflow as tf\n",
    "from tensorflow import keras"
   ]
  }
 ],
 "metadata": {
  "kernelspec": {
   "display_name": "Python 3 (ipykernel)",
   "language": "python",
   "name": "python3"
  },
  "language_info": {
   "codemirror_mode": {
    "name": "ipython",
    "version": 3
   },
   "file_extension": ".py",
   "mimetype": "text/x-python",
   "name": "python",
   "nbconvert_exporter": "python",
   "pygments_lexer": "ipython3",
   "version": "3.10.13"
  }
 },
 "nbformat": 4,
 "nbformat_minor": 5
}
