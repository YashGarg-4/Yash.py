{
 "cells": [
  {
   "cell_type": "code",
   "execution_count": 41,
   "id": "e5d98aed-62da-4584-9e89-034ff12be80f",
   "metadata": {},
   "outputs": [],
   "source": [
    "import tensorflow as tf\n",
    "import numpy as np\n",
    "##### YOU DON'T NEED TO INITIALIZE VARS OR CREATE A SESSION TO RUN CODE IN TF 2.X"
   ]
  },
  {
   "cell_type": "code",
   "execution_count": 42,
   "id": "37efa71e-07a8-4f57-8ee3-f213b778c91a",
   "metadata": {},
   "outputs": [
    {
     "name": "stdout",
     "output_type": "stream",
     "text": [
      "11\n"
     ]
    }
   ],
   "source": [
    "# with tf.compat.v1.Session() as sess:\n",
    "a =  tf.constant(5)\n",
    "b = tf.constant(6)\n",
    "c = tf.add(a , b)\n",
    "    # print(c.eval())\n",
    "print(c.numpy())"
   ]
  },
  {
   "cell_type": "code",
   "execution_count": 56,
   "id": "fda0a502-cb25-4ad0-80cc-22e26d13ac07",
   "metadata": {},
   "outputs": [
    {
     "name": "stdout",
     "output_type": "stream",
     "text": [
      "53\n"
     ]
    }
   ],
   "source": [
    "var1 = tf.Variable(100)\n",
    "var2 = tf.Variable(3)\n",
    "var1.assign(50)\n",
    "sum = var1 + var2\n",
    "print(sum.numpy()) ## This is how you run in TF 2.X"
   ]
  }
 ],
 "metadata": {
  "kernelspec": {
   "display_name": "Python 3 (ipykernel)",
   "language": "python",
   "name": "python3"
  },
  "language_info": {
   "codemirror_mode": {
    "name": "ipython",
    "version": 3
   },
   "file_extension": ".py",
   "mimetype": "text/x-python",
   "name": "python",
   "nbconvert_exporter": "python",
   "pygments_lexer": "ipython3",
   "version": "3.10.13"
  }
 },
 "nbformat": 4,
 "nbformat_minor": 5
}
