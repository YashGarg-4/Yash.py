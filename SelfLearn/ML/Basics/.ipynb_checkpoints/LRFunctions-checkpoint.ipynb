{
 "cells": [
  {
   "cell_type": "code",
   "execution_count": null,
   "id": "14216e92-e90c-4cda-8652-ddf9414ab7bd",
   "metadata": {},
   "outputs": [],
   "source": [
    "# Write the following funciton\n",
    "# 1- fit(x,y)  return m,c\n",
    "# 2- predict(x,m,c) return y_pred\n",
    "# 3- CD(y_pred,y_true) return score\n",
    "# 4- cost(x,y,m,c) return cost\n",
    "\n",
    "# Use Numpy"
   ]
  }
 ],
 "metadata": {
  "kernelspec": {
   "display_name": "Python 3 (ipykernel)",
   "language": "python",
   "name": "python3"
  },
  "language_info": {
   "codemirror_mode": {
    "name": "ipython",
    "version": 3
   },
   "file_extension": ".py",
   "mimetype": "text/x-python",
   "name": "python",
   "nbconvert_exporter": "python",
   "pygments_lexer": "ipython3",
   "version": "3.11.7"
  }
 },
 "nbformat": 4,
 "nbformat_minor": 5
}
