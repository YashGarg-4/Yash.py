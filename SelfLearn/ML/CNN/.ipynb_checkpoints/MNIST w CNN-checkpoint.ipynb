{
 "cells": [
  {
   "cell_type": "code",
   "execution_count": 125,
   "id": "c38e5509-17d2-4c3f-a10b-92852ceb3633",
   "metadata": {},
   "outputs": [],
   "source": [
    "import tensorflow as tf\n",
    "import keras \n",
    "from sklearn import model_selection\n",
    "from keras import datasets\n",
    "from keras import layers\n",
    "import numpy as np"
   ]
  },
  {
   "cell_type": "code",
   "execution_count": 126,
   "id": "f0b0cc34-f873-4e89-9496-2bd88bffce56",
   "metadata": {},
   "outputs": [],
   "source": [
    "(x_train, y_train), (x_test, y_test) = datasets.mnist.load_data()"
   ]
  },
  {
   "cell_type": "code",
   "execution_count": 127,
   "id": "267fbe8a-8a92-46bd-ad6a-fd8dde42704d",
   "metadata": {},
   "outputs": [],
   "source": [
    "x_train, x_test = x_train/255, x_test/255"
   ]
  },
  {
   "cell_type": "code",
   "execution_count": 128,
   "id": "cb7c2913-1d82-4f6c-9ffb-9392216b7a64",
   "metadata": {},
   "outputs": [],
   "source": [
    "model = keras.models.Sequential()"
   ]
  },
  {
   "cell_type": "code",
   "execution_count": 149,
   "id": "8e5ba22e-51c4-4c1b-aa95-9f83e056ea19",
   "metadata": {},
   "outputs": [
    {
     "data": {
      "text/plain": [
       "((28, 28, 1), 60000)"
      ]
     },
     "execution_count": 149,
     "metadata": {},
     "output_type": "execute_result"
    }
   ],
   "source": [
    "x_train[0].shape, x_train.shape[0] #First gives shape of image, next gives number of images"
   ]
  },
  {
   "cell_type": "code",
   "execution_count": 130,
   "id": "15a6fb19-7713-4735-9fc8-bf185b2210b3",
   "metadata": {},
   "outputs": [],
   "source": [
    "x_train = x_train.reshape(x_train.shape[0], 28,28,1)"
   ]
  },
  {
   "cell_type": "code",
   "execution_count": 131,
   "id": "0855694e-7a96-4105-b094-b942b0e52372",
   "metadata": {},
   "outputs": [],
   "source": [
    "model.add(layers.Conv2D(16, (3,3), activation = 'relu', input_shape=(28,28,1)))\n",
    "model.add(layers.MaxPooling2D(2,2))\n",
    "model.add(layers.Conv2D(8, (3,3), activation = 'relu'))\n",
    "model.add(layers.MaxPooling2D(2,2))\n",
    "\n",
    "model.add(layers.Flatten())\n",
    "\n",
    "model.add(layers.Dense(16, activation='relu'))\n",
    "model.add(layers.Dense(12, activation='relu'))\n",
    "model.add(layers.Dense(10, activation='softmax'))"
   ]
  },
  {
   "cell_type": "code",
   "execution_count": 154,
   "id": "d91f9f2c-7ef0-4062-a78e-60dd917e39e2",
   "metadata": {},
   "outputs": [],
   "source": [
    "model.compile(optimizer='adam',\n",
    "              loss='SparseCategoricalCrossentropy',\n",
    "              metrics = 'accuracy')"
   ]
  },
  {
   "cell_type": "code",
   "execution_count": 155,
   "id": "45d8985a-8a07-462d-af27-cadf32e3ac71",
   "metadata": {},
   "outputs": [
    {
     "name": "stdout",
     "output_type": "stream",
     "text": [
      "1875/1875 [==============================] - 157s 83ms/step - loss: 0.1574 - accuracy: 0.9552 - val_loss: 0.0865 - val_accuracy: 0.9732\n"
     ]
    }
   ],
   "source": [
    "nn = model.fit(x_train, y_train, epochs=1, validation_data=(x_test, y_test))"
   ]
  },
  {
   "cell_type": "code",
   "execution_count": 206,
   "id": "6085f5d2-088f-45c0-9be2-98c1e539ed00",
   "metadata": {},
   "outputs": [],
   "source": [
    "import numpy as np"
   ]
  },
  {
   "cell_type": "code",
   "execution_count": 222,
   "id": "81a2e28c-ef08-4761-a6ac-94875c341748",
   "metadata": {},
   "outputs": [],
   "source": [
    "k = np.array(x_train[8567])"
   ]
  },
  {
   "cell_type": "code",
   "execution_count": 223,
   "id": "db6a8380-589e-4beb-926e-8aa4b5c11882",
   "metadata": {},
   "outputs": [],
   "source": [
    "k = k.reshape((1,28,28,1))"
   ]
  },
  {
   "cell_type": "code",
   "execution_count": 224,
   "id": "74fbafd3-a816-4367-ab8d-1cc6770fa83c",
   "metadata": {},
   "outputs": [
    {
     "data": {
      "text/plain": [
       "(1, 28, 28, 1)"
      ]
     },
     "execution_count": 224,
     "metadata": {},
     "output_type": "execute_result"
    }
   ],
   "source": [
    "k.shape"
   ]
  },
  {
   "cell_type": "code",
   "execution_count": 225,
   "id": "490f9df6-e0e4-4cb3-971c-d1b7e44f6027",
   "metadata": {},
   "outputs": [
    {
     "name": "stdout",
     "output_type": "stream",
     "text": [
      "1/1 [==============================] - 0s 36ms/step\n"
     ]
    },
    {
     "data": {
      "text/plain": [
       "array([[1.6309563e-06, 8.2327061e-09, 1.4007857e-08, 3.9993577e-09,\n",
       "        9.9983919e-01, 2.5463864e-10, 1.8630704e-08, 6.6608882e-06,\n",
       "        2.1057744e-08, 1.5242091e-04]], dtype=float32)"
      ]
     },
     "execution_count": 225,
     "metadata": {},
     "output_type": "execute_result"
    }
   ],
   "source": [
    "model.predict(k)"
   ]
  },
  {
   "cell_type": "code",
   "execution_count": 226,
   "id": "4cf5c605-9c4b-4b75-a727-197488525f7c",
   "metadata": {},
   "outputs": [
    {
     "data": {
      "text/plain": [
       "4"
      ]
     },
     "execution_count": 226,
     "metadata": {},
     "output_type": "execute_result"
    }
   ],
   "source": [
    "y_train[8567]"
   ]
  },
  {
   "cell_type": "code",
   "execution_count": null,
   "id": "41ea2c53-3675-4fbe-919a-2b91e4e739e5",
   "metadata": {},
   "outputs": [],
   "source": [
    "# WoooHoooo Success!!"
   ]
  }
 ],
 "metadata": {
  "kernelspec": {
   "display_name": "Python 3 (ipykernel)",
   "language": "python",
   "name": "python3"
  },
  "language_info": {
   "codemirror_mode": {
    "name": "ipython",
    "version": 3
   },
   "file_extension": ".py",
   "mimetype": "text/x-python",
   "name": "python",
   "nbconvert_exporter": "python",
   "pygments_lexer": "ipython3",
   "version": "3.10.13"
  }
 },
 "nbformat": 4,
 "nbformat_minor": 5
}
