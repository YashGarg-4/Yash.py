{
 "cells": [
  {
   "cell_type": "code",
   "execution_count": 36,
   "id": "3397689d-32a4-4ace-b0b9-e6dcaaeeb280",
   "metadata": {},
   "outputs": [],
   "source": [
    "import numpy as np\n",
    "import sklearn as sk\n",
    "from sklearn import preprocessing"
   ]
  },
  {
   "cell_type": "code",
   "execution_count": 37,
   "id": "91618e89-b259-4b6d-9b01-3dccd82ff3a2",
   "metadata": {},
   "outputs": [
    {
     "data": {
      "text/plain": [
       "(7176, 5)"
      ]
     },
     "execution_count": 37,
     "metadata": {},
     "output_type": "execute_result"
    }
   ],
   "source": [
    "obj = np.loadtxt('train.csv', delimiter = ',')\n",
    "x = obj[:, :4]\n",
    "y = obj[:, 4:]\n",
    "obj.shape"
   ]
  },
  {
   "cell_type": "code",
   "execution_count": 38,
   "id": "1d5269e2-a32b-443e-8e68-50036b49218b",
   "metadata": {},
   "outputs": [
    {
     "data": {
      "text/plain": [
       "array([[0.19935218, 0.2316726 , 0.69636229, 0.7883378 ],\n",
       "       [0.58833922, 0.58434164, 0.60183123, 0.55201072],\n",
       "       [0.43669022, 0.41921708, 0.46176689, 0.71313673],\n",
       "       ...,\n",
       "       [0.82420495, 0.78256228, 0.40757238, 0.52520107],\n",
       "       [0.42873969, 0.51494662, 0.61989607, 0.51032172],\n",
       "       [0.83333333, 0.65266904, 0.44048503, 0.3002681 ]])"
      ]
     },
     "execution_count": 38,
     "metadata": {},
     "output_type": "execute_result"
    }
   ],
   "source": [
    "scaler = preprocessing.MinMaxScaler()\n",
    "x_scaled = scaler.fit(x)\n",
    "x_scaled = x_scaled.transform(x)\n",
    "x_scaled"
   ]
  },
  {
   "cell_type": "code",
   "execution_count": 48,
   "id": "645355c0-49c5-4599-bbe5-879a0b55f200",
   "metadata": {},
   "outputs": [
    {
     "data": {
      "text/plain": [
       "array([[482.26],\n",
       "       [446.94],\n",
       "       [452.56],\n",
       "       ...,\n",
       "       [437.65],\n",
       "       [459.97],\n",
       "       [444.42]])"
      ]
     },
     "execution_count": 48,
     "metadata": {},
     "output_type": "execute_result"
    }
   ],
   "source": [
    "# y_scaled = scaler.fit_transform(y) #This combines fit and transform\n",
    "y_scaled = y\n",
    "y_scaled"
   ]
  },
  {
   "cell_type": "code",
   "execution_count": 49,
   "id": "1a42428d-29c4-42fc-a604-a1fdbed9de87",
   "metadata": {},
   "outputs": [
    {
     "data": {
      "text/plain": [
       "array([[0.19935218, 0.2316726 , 0.69636229, 0.7883378 , 0.82119205],\n",
       "       [0.58833922, 0.58434164, 0.60183123, 0.55201072, 0.35337748],\n",
       "       [0.43669022, 0.41921708, 0.46176689, 0.71313673, 0.42781457],\n",
       "       ...,\n",
       "       [0.82420495, 0.78256228, 0.40757238, 0.52520107, 0.23033113],\n",
       "       [0.42873969, 0.51494662, 0.61989607, 0.51032172, 0.52596026],\n",
       "       [0.83333333, 0.65266904, 0.44048503, 0.3002681 , 0.32      ]])"
      ]
     },
     "execution_count": 49,
     "metadata": {},
     "output_type": "execute_result"
    }
   ],
   "source": [
    "data = scaler.fit_transform(obj)\n",
    "data"
   ]
  },
  {
   "cell_type": "code",
   "execution_count": 51,
   "id": "5bd899ea-8578-4b44-923f-1840032ffc36",
   "metadata": {},
   "outputs": [
    {
     "data": {
      "text/plain": [
       "array([475.72068585, 477.61377649, 435.51170205, ..., 438.56073225,\n",
       "       453.79617425, 449.06777764])"
      ]
     },
     "execution_count": 51,
     "metadata": {},
     "output_type": "execute_result"
    }
   ],
   "source": [
    "from sklearn.ensemble import GradientBoostingRegressor\n",
    "model=GradientBoostingRegressor()\n",
    "model.fit(x_scaled, y_scaled.ravel())\n",
    "test_data = np.loadtxt('test.csv', delimiter = ',')\n",
    "test_scaled = scaler.fit_transform(test_data)\n",
    "y_predict=model.predict(test_scaled)\n",
    "# y_scaled = [i[0] for i in y_scaled]\n",
    "y_predict"
   ]
  }
 ],
 "metadata": {
  "kernelspec": {
   "display_name": "Python 3 (ipykernel)",
   "language": "python",
   "name": "python3"
  },
  "language_info": {
   "codemirror_mode": {
    "name": "ipython",
    "version": 3
   },
   "file_extension": ".py",
   "mimetype": "text/x-python",
   "name": "python",
   "nbconvert_exporter": "python",
   "pygments_lexer": "ipython3",
   "version": "3.11.7"
  }
 },
 "nbformat": 4,
 "nbformat_minor": 5
}
