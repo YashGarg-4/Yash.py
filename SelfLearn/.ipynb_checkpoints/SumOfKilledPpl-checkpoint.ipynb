{
 "cells": [
  {
   "cell_type": "code",
   "execution_count": 2,
   "id": "95c7b7f0-2068-49bd-8c9f-174a7ee66adc",
   "metadata": {},
   "outputs": [],
   "source": [
    "#No of people killed in 2017"
   ]
  },
  {
   "cell_type": "code",
   "execution_count": 61,
   "id": "8232e71d-9d56-417c-8cc4-b63c3c169a4c",
   "metadata": {},
   "outputs": [
    {
     "ename": "TypeError",
     "evalue": "'int' object is not callable",
     "output_type": "error",
     "traceback": [
      "\u001b[1;31m---------------------------------------------------------------------------\u001b[0m",
      "\u001b[1;31mTypeError\u001b[0m                                 Traceback (most recent call last)",
      "Cell \u001b[1;32mIn[61], line 12\u001b[0m\n\u001b[0;32m     10\u001b[0m          k\u001b[38;5;241m.\u001b[39mappend(i[\u001b[38;5;241m9\u001b[39m])\n\u001b[0;32m     11\u001b[0m     k \u001b[38;5;241m=\u001b[39m [\u001b[38;5;28mfloat\u001b[39m(i) \u001b[38;5;28;01mfor\u001b[39;00m i \u001b[38;5;129;01min\u001b[39;00m k]\n\u001b[1;32m---> 12\u001b[0m j \u001b[38;5;241m=\u001b[39m \u001b[38;5;28msum\u001b[39m(k)\n\u001b[0;32m     13\u001b[0m \u001b[38;5;28mprint\u001b[39m(j)\n",
      "\u001b[1;31mTypeError\u001b[0m: 'int' object is not callable"
     ]
    }
   ],
   "source": [
    "import csv\n",
    "sum = 0\n",
    "k = []\n",
    "with open('year2017.csv') as obj:\n",
    "    data = csv.reader(obj, skipinitialspace = True)\n",
    "    l = list(data)\n",
    "    for i in l[1:]:\n",
    "         if i[9] == '':\n",
    "             continue\n",
    "         k.append(i[9])\n",
    "    k = [float(i) for i in k]\n",
    "j = sum(k)\n",
    "print(j)\n"
   ]
  },
  {
   "cell_type": "code",
   "execution_count": 22,
   "id": "849e6880-2c7d-47a6-ab88-946d309f5f30",
   "metadata": {},
   "outputs": [
    {
     "name": "stdout",
     "output_type": "stream",
     "text": [
      "13374.0\n"
     ]
    }
   ],
   "source": [
    "# Number of casualities by explosives\n",
    "import csv\n",
    "sum = 0\n",
    "with open('year2017.csv') as obj:\n",
    "    data = csv.DictReader(obj, skipinitialspace = True)\n",
    "    for i in data:\n",
    "        if i['Weapon_type'] == 'Explosives' and i['Killed'] != '':\n",
    "            sum += float(i['Killed'])\n",
    "    print(sum)"
   ]
  }
 ],
 "metadata": {
  "kernelspec": {
   "display_name": "Python 3 (ipykernel)",
   "language": "python",
   "name": "python3"
  },
  "language_info": {
   "codemirror_mode": {
    "name": "ipython",
    "version": 3
   },
   "file_extension": ".py",
   "mimetype": "text/x-python",
   "name": "python",
   "nbconvert_exporter": "python",
   "pygments_lexer": "ipython3",
   "version": "3.11.7"
  }
 },
 "nbformat": 4,
 "nbformat_minor": 5
}
