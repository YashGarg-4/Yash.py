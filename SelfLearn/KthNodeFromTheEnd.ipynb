{
 "cells": [
  {
   "cell_type": "code",
   "execution_count": 2,
   "id": "475bdeb9-3c24-4a88-883c-4cc3168388fa",
   "metadata": {},
   "outputs": [],
   "source": [
    "#Kth node from end"
   ]
  },
  {
   "cell_type": "code",
   "execution_count": null,
   "id": "6d1a9e73-bbdc-4005-845e-bdfed3d8d539",
   "metadata": {},
   "outputs": [],
   "source": [
    "class ListNode():\n",
    "    def __init__(self,val=0,next=None):\n",
    "        self.val = val\n",
    "        self.next = next\n",
    "#assuming input ll as l1\n",
    "k = int(input())\n",
    "i=0\n",
    "while l1:\n",
    "   i+=1\n",
    "    \n",
    "for x in range(i-k+1):\n",
    "    l1 = l1.next\n",
    "\n",
    "print(l1.val)\n",
    "    "
   ]
  }
 ],
 "metadata": {
  "kernelspec": {
   "display_name": "Python 3 (ipykernel)",
   "language": "python",
   "name": "python3"
  },
  "language_info": {
   "codemirror_mode": {
    "name": "ipython",
    "version": 3
   },
   "file_extension": ".py",
   "mimetype": "text/x-python",
   "name": "python",
   "nbconvert_exporter": "python",
   "pygments_lexer": "ipython3",
   "version": "3.11.7"
  }
 },
 "nbformat": 4,
 "nbformat_minor": 5
}
