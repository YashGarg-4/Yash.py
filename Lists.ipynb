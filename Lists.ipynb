{
 "cells": [
  {
   "cell_type": "code",
   "execution_count": 1,
   "id": "d4689503-38b9-4bc1-ab02-52838fa73018",
   "metadata": {},
   "outputs": [],
   "source": [
    "# Lists"
   ]
  },
  {
   "cell_type": "code",
   "execution_count": 5,
   "id": "64ac4171-6a40-41bd-bf5f-7f6577951d58",
   "metadata": {},
   "outputs": [
    {
     "name": "stdout",
     "output_type": "stream",
     "text": [
      "[3, 3, 3, 3, 3, 3, 3, 3, 3, 3]\n"
     ]
    }
   ],
   "source": [
    "a = [3 for j in range(0,10)]\n",
    "print(a)"
   ]
  },
  {
   "cell_type": "code",
   "execution_count": 6,
   "id": "7c688922-8ccb-4fd2-8522-12b9fc90003e",
   "metadata": {},
   "outputs": [],
   "source": [
    "# check palindrome"
   ]
  },
  {
   "cell_type": "code",
   "execution_count": 30,
   "id": "0317d128-9fa9-4197-9fdd-958584c044f4",
   "metadata": {},
   "outputs": [
    {
     "name": "stdin",
     "output_type": "stream",
     "text": [
      " abcba\n"
     ]
    },
    {
     "name": "stdout",
     "output_type": "stream",
     "text": [
      "Yup\n"
     ]
    }
   ],
   "source": [
    "n = str(input())\n",
    "j = len(n)\n",
    "j = int(j/2)\n",
    "\n",
    "for i in range(j+1):\n",
    "    if n[i] != n[-(i+1)]:\n",
    "        print(\"Not\")\n",
    "        break\n",
    "        \n",
    "else:\n",
    "    print(\"Yup\")\n",
    "        \n",
    "    "
   ]
  },
  {
   "cell_type": "code",
   "execution_count": 31,
   "id": "1e4669c2-4ad3-4ec0-af22-3b4ce6faf1a4",
   "metadata": {},
   "outputs": [],
   "source": [
    "# Printing sub strings of string"
   ]
  },
  {
   "cell_type": "code",
   "execution_count": 21,
   "id": "4054ddcf-138e-4ebc-801b-8247703f97d9",
   "metadata": {},
   "outputs": [
    {
     "name": "stdin",
     "output_type": "stream",
     "text": [
      " Yash\n"
     ]
    },
    {
     "name": "stdout",
     "output_type": "stream",
     "text": [
      "\n",
      "Y\n",
      "Ya\n",
      "Yas\n",
      "Yash\n",
      "\n",
      "\n",
      "a\n",
      "as\n",
      "ash\n",
      "\n",
      "\n",
      "\n",
      "s\n",
      "sh\n",
      "\n",
      "\n",
      "\n",
      "\n",
      "h\n"
     ]
    }
   ],
   "source": [
    "n = str(input())\n",
    "k = len(n)\n",
    "for i in range(k):\n",
    "    for j in range(k+1):\n",
    "        print(n[i:j])"
   ]
  },
  {
   "cell_type": "code",
   "execution_count": 22,
   "id": "14b49d63-8dc7-43f6-bbc9-c3cd21bf21f2",
   "metadata": {},
   "outputs": [],
   "source": [
    "## Input a list and find the difference of the sums of all the odd and even inputs"
   ]
  },
  {
   "cell_type": "code",
   "execution_count": 34,
   "id": "7da764af-7858-4796-974c-ffc8fda47d36",
   "metadata": {},
   "outputs": [
    {
     "name": "stdin",
     "output_type": "stream",
     "text": [
      " 1 2 3 4 5 6 7 8\n"
     ]
    },
    {
     "name": "stdout",
     "output_type": "stream",
     "text": [
      "[1, 2, 3, 4, 5, 6, 7, 8]\n",
      "4\n"
     ]
    }
   ],
   "source": [
    "n = str(input())\n",
    "l = [int(s) for s in n[:len(n):2]]\n",
    "ES = 0\n",
    "OS = 0\n",
    "print(l)\n",
    "for i in range(len(l)):\n",
    "    if l[i]%2 == 0:\n",
    "        ES+= l[i]\n",
    "    else:\n",
    "        OS+= l[i]\n",
    "print((ES - OS))"
   ]
  },
  {
   "cell_type": "code",
   "execution_count": 35,
   "id": "d9f5f602-8dd5-40ae-9f27-7745d7425106",
   "metadata": {},
   "outputs": [],
   "source": [
    "# Swap alternate"
   ]
  },
  {
   "cell_type": "code",
   "execution_count": 64,
   "id": "a4e0e204-95e5-43e9-9f32-6bb05981c1d3",
   "metadata": {},
   "outputs": [
    {
     "name": "stdin",
     "output_type": "stream",
     "text": [
      "Number of test cases:  1\n",
      "Enter size of array 1:  6\n",
      "Enter array 1:  1 2 3 4 5 6\n"
     ]
    },
    {
     "name": "stdout",
     "output_type": "stream",
     "text": [
      "[2, 1, 4, 3, 6, 5]\n"
     ]
    }
   ],
   "source": [
    "TestCases = int(input(\"Number of test cases: \"))\n",
    "\n",
    "n = []\n",
    "l = []\n",
    "\n",
    "for i in range(0,TestCases):\n",
    "    n.append(int(input(f\"Enter size of array {i+1}: \"))) \n",
    "    l.append([int(s) for s in input(f\"Enter array {i+1}: \").split()])\n",
    "\n",
    "for k in range(0,TestCases):\n",
    "\n",
    "    for j in range(0,int(n[k]),2):\n",
    "        if j+1>=(int(n[k])):\n",
    "            break\n",
    "        temp = l[k][j+1]\n",
    "        l[k][j+1] = l[k][j]\n",
    "        l[k][j] = temp\n",
    "    print(l[k])\n",
    "\n",
    "\n",
    "\n",
    "\n",
    "\n",
    "\n",
    "\n"
   ]
  },
  {
   "cell_type": "code",
   "execution_count": 65,
   "id": "217f559e-2aa5-46ab-90e0-da9912f1ee1b",
   "metadata": {},
   "outputs": [],
   "source": [
    "# Print sum of column\n"
   ]
  },
  {
   "cell_type": "code",
   "execution_count": 69,
   "id": "93560325-3792-434b-9415-6835d73be9de",
   "metadata": {},
   "outputs": [
    {
     "name": "stdin",
     "output_type": "stream",
     "text": [
      "Number of rows:  3\n",
      "Number of columns:  3\n",
      "Input row 0:  1 2 3\n",
      "Input row 1:  1 2 3\n",
      "Input row 2:  1 2 3\n"
     ]
    },
    {
     "name": "stdout",
     "output_type": "stream",
     "text": [
      "[3, 6, 9]\n"
     ]
    }
   ],
   "source": [
    "r = int(input(\"Number of rows: \"))\n",
    "c = int(input(\"Number of columns: \"))\n",
    "M =[]\n",
    "Sum=0\n",
    "Final = []\n",
    "for i in range(r):\n",
    "    M.append([int(s) for s in input(f\"Input row {i}: \").split()])\n",
    "\n",
    "for i in range(c):\n",
    "    #Sum of each column\n",
    "    Sum = 0\n",
    "    for j in range(r):\n",
    "        Sum+= M[j][i] \n",
    "\n",
    "    Final.append(Sum)\n",
    "\n",
    "print(Final)"
   ]
  },
  {
   "cell_type": "code",
   "execution_count": 70,
   "id": "11ca5e0e-e975-43c2-8541-e700de02286c",
   "metadata": {},
   "outputs": [],
   "source": [
    "# Wave print"
   ]
  },
  {
   "cell_type": "code",
   "execution_count": 97,
   "id": "6410d4e0-38c8-40a0-94fe-d70dce71368b",
   "metadata": {},
   "outputs": [
    {
     "name": "stdin",
     "output_type": "stream",
     "text": [
      " 3 3\n",
      " 1 2 3\n",
      " 4 5 6\n",
      " 7 8 9\n"
     ]
    },
    {
     "name": "stdout",
     "output_type": "stream",
     "text": [
      "147852369"
     ]
    }
   ],
   "source": [
    "n = [int(s) for s in input().split()]\n",
    "r = n[0]\n",
    "c = n[1]\n",
    "M = []\n",
    "for i in range(r):\n",
    "   M.append(list(int(s) for s in input().split()))\n",
    "\n",
    "for i in range(c):\n",
    "    if i%2==0:\n",
    "        for j in range(r):\n",
    "            print(M[j][i] , end=\"\")\n",
    "    else:\n",
    "        for j in range(r-1,-1,-1):\n",
    "            print(M[j][i] , end=\"\")"
   ]
  },
  {
   "cell_type": "code",
   "execution_count": null,
   "id": "b0fbfa68-dc86-4cdc-980e-884020594b0b",
   "metadata": {},
   "outputs": [],
   "source": []
  }
 ],
 "metadata": {
  "kernelspec": {
   "display_name": "Python 3 (ipykernel)",
   "language": "python",
   "name": "python3"
  },
  "language_info": {
   "codemirror_mode": {
    "name": "ipython",
    "version": 3
   },
   "file_extension": ".py",
   "mimetype": "text/x-python",
   "name": "python",
   "nbconvert_exporter": "python",
   "pygments_lexer": "ipython3",
   "version": "3.11.7"
  }
 },
 "nbformat": 4,
 "nbformat_minor": 5
}
