{
 "cells": [
  {
   "cell_type": "code",
   "execution_count": 1,
   "id": "544b6bba-b542-4d69-828c-b6cb151ef99c",
   "metadata": {},
   "outputs": [],
   "source": [
    "#starting numpy\n"
   ]
  },
  {
   "cell_type": "code",
   "execution_count": 3,
   "id": "85823de2-ee03-4f12-b37f-0ec772f975d8",
   "metadata": {},
   "outputs": [],
   "source": [
    "# Numpy becuase its faster, more space efficient and more functional"
   ]
  },
  {
   "cell_type": "code",
   "execution_count": 7,
   "id": "08efcb47-acb5-47d0-ab1c-715734c36d28",
   "metadata": {},
   "outputs": [
    {
     "name": "stdout",
     "output_type": "stream",
     "text": [
      "[ 9 10 11 12 13 14 15 16 17 18 19 20 21 22 23 24 25 26 27 28 29 30 31 32\n",
      " 33 34 35 36 37 38 39 40 41 42 43 44 45 46 47 48 49]\n"
     ]
    }
   ],
   "source": [
    "import numpy as np\n",
    "a = np.arange(9,50)\n",
    "print(a)"
   ]
  },
  {
   "cell_type": "code",
   "execution_count": 11,
   "id": "9898b2b6-3e1d-4a50-a199-40e286d625d5",
   "metadata": {},
   "outputs": [
    {
     "data": {
      "text/plain": [
       "array([[1., 0., 0., 0., 0., 0.],\n",
       "       [0., 1., 0., 0., 0., 0.],\n",
       "       [0., 0., 1., 0., 0., 0.],\n",
       "       [0., 0., 0., 1., 0., 0.],\n",
       "       [0., 0., 0., 0., 1., 0.]])"
      ]
     },
     "execution_count": 11,
     "metadata": {},
     "output_type": "execute_result"
    }
   ],
   "source": [
    "import numpy as np\n",
    "a = np.eye(5,6)\n",
    "a"
   ]
  },
  {
   "cell_type": "code",
   "execution_count": 13,
   "id": "3901934f-2f2a-48eb-bbcb-fc0a555b3f0f",
   "metadata": {},
   "outputs": [
    {
     "data": {
      "text/plain": [
       "array([0.        , 0.55555556, 1.11111111, 1.66666667, 2.22222222,\n",
       "       2.77777778, 3.33333333, 3.88888889, 4.44444444, 5.        ])"
      ]
     },
     "execution_count": 13,
     "metadata": {},
     "output_type": "execute_result"
    }
   ],
   "source": [
    "import numpy as np\n",
    "a = np.linspace(0,5,10)\n",
    "a"
   ]
  },
  {
   "cell_type": "code",
   "execution_count": 38,
   "id": "6e12b65a-08fd-48af-b8df-ea7177a1773b",
   "metadata": {},
   "outputs": [
    {
     "name": "stdout",
     "output_type": "stream",
     "text": [
      "[11 12 13]\n",
      "[ 9 14 19]\n",
      "[[11 12 13 14 15]\n",
      " [16 17 18 19 20]]\n",
      "[[ 7  8]\n",
      " [12 13]]\n"
     ]
    }
   ],
   "source": [
    "import numpy as np\n",
    "a = [[1,2,3,4,5],[6,7,8,9,10],[11,12,13,14,15],[16,17,18,19,20]]\n",
    "a = np.array(a)\n",
    "print(a[2,:3])\n",
    "print(a[1:4,3])\n",
    "print(a[2:4])\n",
    "print(a[1:3,1:3])"
   ]
  },
  {
   "cell_type": "code",
   "execution_count": 1,
   "id": "b8367158-eecf-48fe-962e-a6597c9f97ee",
   "metadata": {},
   "outputs": [],
   "source": [
    "#Mathematical Operations"
   ]
  },
  {
   "cell_type": "code",
   "execution_count": 2,
   "id": "d343418a-a39f-468a-ad46-d9b085c19400",
   "metadata": {},
   "outputs": [],
   "source": [
    "#Findin Indices of the non zero elements fromt he following array"
   ]
  },
  {
   "cell_type": "code",
   "execution_count": 5,
   "id": "36b57c02-fb73-4dd6-9ab5-b2e4bc307ca8",
   "metadata": {},
   "outputs": [
    {
     "name": "stdout",
     "output_type": "stream",
     "text": [
      "(array([2, 3, 5], dtype=int64),)\n"
     ]
    }
   ],
   "source": [
    "import numpy as np\n",
    "a = np.array([1,2,0,0,4,0])\n",
    "arr = np.where(a == 0)\n",
    "print(arr)"
   ]
  },
  {
   "cell_type": "code",
   "execution_count": 11,
   "id": "4a8d3a4d-dc51-4a54-98a6-1e8e863363e7",
   "metadata": {},
   "outputs": [
    {
     "name": "stdout",
     "output_type": "stream",
     "text": [
      "[1 4 7]\n"
     ]
    }
   ],
   "source": [
    "b = np.array([1,3,5,7,9,11,13,15,17,19])\n",
    "a = np.where(b%3==0)\n",
    "for i in a:\n",
    "    print(i)"
   ]
  },
  {
   "cell_type": "code",
   "execution_count": 20,
   "id": "4463f901-e725-436b-b480-950964fdfbdb",
   "metadata": {},
   "outputs": [
    {
     "data": {
      "text/plain": [
       "array([-1,  2, -1,  4, -1,  6, -1,  8, -1, 10])"
      ]
     },
     "execution_count": 20,
     "metadata": {},
     "output_type": "execute_result"
    }
   ],
   "source": [
    "b = np.arange(1,11)\n",
    "a = np.where((b%2)!=0)\n",
    "b[a] = -1\n",
    "b"
   ]
  },
  {
   "cell_type": "code",
   "execution_count": 32,
   "id": "77a30f37-ae2b-4f5b-a93e-d064974a1d40",
   "metadata": {},
   "outputs": [
    {
     "name": "stdout",
     "output_type": "stream",
     "text": [
      "[ 6 14  1  3  2  5 13  5 15  3]\n",
      "[ 6 14  1  3  2  5 13  5  0  3]\n"
     ]
    }
   ],
   "source": [
    "a = np.random.randint(0,20,10)\n",
    "print(a)\n",
    "b = np.argmax(a)\n",
    "a[b] = 0\n",
    "print(a)"
   ]
  },
  {
   "cell_type": "code",
   "execution_count": 54,
   "id": "11a525ec-3ca6-49a8-b918-dea137bc1562",
   "metadata": {},
   "outputs": [
    {
     "data": {
      "text/plain": [
       "array([ 1,  2,  9, 10])"
      ]
     },
     "execution_count": 54,
     "metadata": {},
     "output_type": "execute_result"
    }
   ],
   "source": [
    "#negate elemenets between 3 and 8 both inclusive\n",
    "a = np.arange(1,11)\n",
    "b = a[(a<3) | (a>8)]\n",
    "b"
   ]
  },
  {
   "cell_type": "code",
   "execution_count": 102,
   "id": "50f7b71e-90a0-4356-89d8-72fc26f4674a",
   "metadata": {},
   "outputs": [
    {
     "name": "stdout",
     "output_type": "stream",
     "text": [
      "[16 16 20 21 15 16 21 21 19 15 17 22 16 19 18 20 16 22 21 23]\n",
      "[145 153 163 162 157 149 153 161 155 153 159 164 160 156 153 149 148 160\n",
      " 152 162]\n",
      "20 -- 163\n",
      "21 -- 162\n",
      "15 -- 157\n",
      "21 -- 161\n",
      "17 -- 159\n",
      "22 -- 164\n",
      "16 -- 160\n",
      "19 -- 156\n",
      "22 -- 160\n",
      "23 -- 162\n"
     ]
    }
   ],
   "source": [
    "#print age w height of ppl taller than 155cm\n",
    "a = np.random.randint(15,25,20)\n",
    "b = np.random.randint(145,165,20)\n",
    "c = np.array(np.where(b>155))\n",
    "print(a)\n",
    "print(b)\n",
    "for i in c[0]:\n",
    "    print(f'{a[i]} -- {b[i]}')"
   ]
  },
  {
   "cell_type": "code",
   "execution_count": 113,
   "id": "ceeb21dc-c029-43d9-8545-070e530a6887",
   "metadata": {},
   "outputs": [
    {
     "data": {
      "text/plain": [
       "array([[ 0,  1,  2,  3,  4],\n",
       "       [ 5,  6,  7,  8,  9],\n",
       "       [10, 11, 12, 13, 14],\n",
       "       [15, 16, 17, 18, 19]])"
      ]
     },
     "execution_count": 113,
     "metadata": {},
     "output_type": "execute_result"
    }
   ],
   "source": [
    "### HOW TO MAKE A 2D ARRAY\n",
    "import numpy as np\n",
    "a = np.arange(20).reshape(4,5)\n",
    "a"
   ]
  },
  {
   "cell_type": "code",
   "execution_count": 7,
   "id": "bb09ec54-1f98-47ba-bbaf-bba50ee152a0",
   "metadata": {},
   "outputs": [
    {
     "name": "stdout",
     "output_type": "stream",
     "text": [
      "[[20 21 22 23 24]\n",
      " [25 26 27 28 29]\n",
      " [30 31 32 33 34]\n",
      " [35 36 37 38 39]]\n"
     ]
    },
    {
     "ename": "AttributeError",
     "evalue": "'numpy.ndarray' object has no attribute 'pop'",
     "output_type": "error",
     "traceback": [
      "\u001b[1;31m---------------------------------------------------------------------------\u001b[0m",
      "\u001b[1;31mAttributeError\u001b[0m                            Traceback (most recent call last)",
      "Cell \u001b[1;32mIn[7], line 12\u001b[0m\n\u001b[0;32m     10\u001b[0m         \u001b[38;5;28;01mif\u001b[39;00m m \u001b[38;5;129;01min\u001b[39;00m a:\n\u001b[0;32m     11\u001b[0m             ans\u001b[38;5;241m.\u001b[39mappend(i)\n\u001b[1;32m---> 12\u001b[0m             a\u001b[38;5;241m.\u001b[39mpop(i)\n\u001b[0;32m     13\u001b[0m             \u001b[38;5;28;01mbreak\u001b[39;00m\n\u001b[0;32m     14\u001b[0m \u001b[38;5;28mprint\u001b[39m(ans)\n",
      "\u001b[1;31mAttributeError\u001b[0m: 'numpy.ndarray' object has no attribute 'pop'"
     ]
    }
   ],
   "source": [
    "import numpy as np\n",
    "a = np.arange(20,40).reshape(4,5)\n",
    "print(a)\n",
    "ans = []\n",
    "m = 0\n",
    "for k in range(4):\n",
    "    for i in a[:,1]:\n",
    "        m = max(m,i)\n",
    "    for i in a:\n",
    "        if m in a:\n",
    "            ans.append(i)\n",
    "            a.pop(i)\n",
    "            break\n",
    "print(ans)"
   ]
  }
 ],
 "metadata": {
  "kernelspec": {
   "display_name": "Python 3 (ipykernel)",
   "language": "python",
   "name": "python3"
  },
  "language_info": {
   "codemirror_mode": {
    "name": "ipython",
    "version": 3
   },
   "file_extension": ".py",
   "mimetype": "text/x-python",
   "name": "python",
   "nbconvert_exporter": "python",
   "pygments_lexer": "ipython3",
   "version": "3.11.7"
  }
 },
 "nbformat": 4,
 "nbformat_minor": 5
}
