{
 "cells": [
  {
   "cell_type": "code",
   "execution_count": null,
   "id": "2af10e8a-c152-4074-9d1f-d46f3d2fee9f",
   "metadata": {},
   "outputs": [],
   "source": [
    "#Hound subbreeds"
   ]
  },
  {
   "cell_type": "code",
   "execution_count": 3,
   "id": "f86bfe73-df94-4b99-8d06-71e5f19f839a",
   "metadata": {},
   "outputs": [
    {
     "name": "stdout",
     "output_type": "stream",
     "text": [
      "['afghan', 'basset', 'blood', 'english', 'ibizan', 'plott', 'walker']\n"
     ]
    }
   ],
   "source": [
    "import requests \n",
    "api = requests.get('https://dog.ceo/api/breeds/list/all')\n",
    "data = api.json()\n",
    "print(data['message']['hound'])\n",
    " "
   ]
  },
  {
   "cell_type": "code",
   "execution_count": null,
   "id": "d789e3d4-b017-47df-be6a-151333e08f03",
   "metadata": {},
   "outputs": [],
   "source": [
    "#poodle subbreeds count"
   ]
  },
  {
   "cell_type": "code",
   "execution_count": 6,
   "id": "3d5e0a4d-7dca-464f-9a64-30850ab15ade",
   "metadata": {},
   "outputs": [
    {
     "name": "stdout",
     "output_type": "stream",
     "text": [
      "4\n"
     ]
    }
   ],
   "source": [
    "import requests \n",
    "api = requests.get('https://dog.ceo/api/breeds/list/all')\n",
    "data = api.json()\n",
    "print(len(data['message']['poodle']))\n",
    " "
   ]
  },
  {
   "cell_type": "code",
   "execution_count": 7,
   "id": "66195ac6-782f-4550-9778-b0e124ada760",
   "metadata": {},
   "outputs": [],
   "source": [
    "#Print name of all courses\n"
   ]
  },
  {
   "cell_type": "code",
   "execution_count": 22,
   "id": "a5580ccb-662b-4aa8-81e9-4d49df1bd0fa",
   "metadata": {},
   "outputs": [
    {
     "name": "stdout",
     "output_type": "stream",
     "text": [
      "Machine Learning\n",
      "Premium Web Dev Course\n",
      "Premium Competitive Course\n",
      "Premium Android Course\n",
      "Premium Machine Learning Course\n",
      "Data structures and Algorithms [C++/Java/Python]\n",
      "C++ & Data Structures\n",
      "Techvarsity\n",
      "System Design Course\n",
      "Front End (React)\n",
      "Premium Data Science Course\n",
      "Competitive Programmer\n",
      "Web Dev (Full Stack)\n",
      "Java & Data Structures\n",
      "Android Developer\n",
      "Python & Web Dev (MERN)\n",
      "Data Science\n",
      "Grokking the Operating Systems Interview\n",
      "Competitive Programming\n",
      "C++ & Web Dev (Node.js)\n",
      "Android (Kotlin)\n",
      "Data Scientist\n",
      "Machine Learning\n",
      "Aptitude Preparation\n"
     ]
    }
   ],
   "source": [
    "import requests\n",
    "CN = requests.get(\"https://api.codingninjas.com/api/v3/courses\")\n",
    "data = CN.json()\n",
    "for i in data['data']['courses']:\n",
    "    print(i['title'])"
   ]
  },
  {
   "cell_type": "code",
   "execution_count": null,
   "id": "4e295aac-8294-40e8-a1c0-c7dab858ad09",
   "metadata": {},
   "outputs": [],
   "source": [
    "#Print name of course with ID number 19"
   ]
  },
  {
   "cell_type": "code",
   "execution_count": 26,
   "id": "736a9752-c30e-433c-aeb3-e3182aa3c3a2",
   "metadata": {},
   "outputs": [
    {
     "name": "stdout",
     "output_type": "stream",
     "text": [
      "Machine Learning\n"
     ]
    }
   ],
   "source": [
    "import requests\n",
    "a = requests.get('https://api.codingninjas.com/api/v3/courses')\n",
    "juice = a.json()\n",
    "for i in juice['data']['courses']:\n",
    "    if i['id'] == 19:\n",
    "        print(i['title'])"
   ]
  },
  {
   "cell_type": "code",
   "execution_count": null,
   "id": "33579fb6-ab12-4065-9bab-3ebc0e558cf3",
   "metadata": {},
   "outputs": [],
   "source": [
    "#"
   ]
  },
  {
   "cell_type": "code",
   "execution_count": 29,
   "id": "6111e5ec-e1b9-4cd5-be4f-d542344834e0",
   "metadata": {},
   "outputs": [
    {
     "data": {
      "text/plain": [
       "\"1 validation error for CitiesV1\\ncountry\\n  List should have at least 2 items after validation, not 1 [type=too_short, input_value=['BE'], input_type=list]\\n    For further information visit https://errors.pydantic.dev/2.1.2/v/too_short\""
      ]
     },
     "execution_count": 29,
     "metadata": {},
     "output_type": "execute_result"
    }
   ],
   "source": [
    "import requests\n",
    "a = requests.get('https://api.openaq.org/v1/cities', params = {'country':'BE', 'limit':5})\n",
    "juice = a.json()\n"
   ]
  }
 ],
 "metadata": {
  "kernelspec": {
   "display_name": "Python 3 (ipykernel)",
   "language": "python",
   "name": "python3"
  },
  "language_info": {
   "codemirror_mode": {
    "name": "ipython",
    "version": 3
   },
   "file_extension": ".py",
   "mimetype": "text/x-python",
   "name": "python",
   "nbconvert_exporter": "python",
   "pygments_lexer": "ipython3",
   "version": "3.11.7"
  }
 },
 "nbformat": 4,
 "nbformat_minor": 5
}
