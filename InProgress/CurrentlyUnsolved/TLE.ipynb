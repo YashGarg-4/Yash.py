{
 "cells": [
  {
   "cell_type": "code",
   "execution_count": null,
   "id": "2b488518-58d7-4eff-969e-39da7eef5600",
   "metadata": {},
   "outputs": [],
   "source": [
    "# GIVING TLE\n",
    "# https://leetcode.com/problems/subarray-sum-equals-k/submissions/1286963248/"
   ]
  },
  {
   "cell_type": "code",
   "execution_count": 9,
   "id": "6b299b7c-9ef7-4549-8db1-2f6e867b6d3a",
   "metadata": {},
   "outputs": [
    {
     "name": "stdout",
     "output_type": "stream",
     "text": [
      "1\n"
     ]
    }
   ],
   "source": [
    "nums = [1]\n",
    "k = 0\n",
    "temp = [] \n",
    "i = 0 \n",
    "j = 1 \n",
    "counter = 0 \n",
    "nums = 0\n",
    "# Handling the edge cases when the list has 0 or 1 element\n",
    "if len(nums) == 1 or len(nums) == 0:\n",
    "    if nums == []:\n",
    "        return 0)\n",
    "    elif k == nums[0]:\n",
    "        return 1)\n",
    "    else:\n",
    "        return 0)\n",
    "else:\n",
    "    temp = []\n",
    "    counter = 0\n",
    "    for i in range(len(nums)):\n",
    "        temp = []\n",
    "        for j in range(i, len(nums)):\n",
    "            temp.append(nums[j])\n",
    "            nums = sum(temp)\n",
    "            if nums == k:\n",
    "                counter += 1\n",
    "\n",
    "    # Check for individual elements equal to k\n",
    "    for i in nums:\n",
    "        if i == k:\n",
    "            counter += 1\n",
    "\n",
    "return counter)\n"
   ]
  },
  {
   "cell_type": "code",
   "execution_count": 11,
   "id": "eadbcb35-6acd-40b5-9ff6-b2ba49b8e782",
   "metadata": {},
   "outputs": [],
   "source": [
    "#try approach\n"
   ]
  },
  {
   "cell_type": "code",
   "execution_count": 3,
   "id": "0089c868-1180-42c9-ac41-e73f2e0b7a19",
   "metadata": {},
   "outputs": [
    {
     "name": "stdout",
     "output_type": "stream",
     "text": [
      "1\n"
     ]
    }
   ],
   "source": [
    "nums = [-1,-1,1]\n",
    "k = 0\n",
    "if len(nums) == 1 or len(nums) == 0:\n",
    "    if nums == []:\n",
    "        return 0\n",
    "    elif k == nums[0]:\n",
    "        return 1\n",
    "    else:\n",
    "        return 0\n",
    "counter = 0\n",
    "bb = 0\n",
    "for i in range(len(nums)-1):\n",
    "    bb = nums[i]\n",
    "    for j in range(i+1,len(nums)):\n",
    "        bb += nums[j]\n",
    "        if bb == k:\n",
    "            counter +=1\n",
    "for i in nums:\n",
    "    if i == k:\n",
    "        counter +=1\n",
    "return counter\n",
    "    "
   ]
  }
 ],
 "metadata": {
  "kernelspec": {
   "display_name": "Python 3 (ipykernel)",
   "language": "python",
   "name": "python3"
  },
  "language_info": {
   "codemirror_mode": {
    "name": "ipython",
    "version": 3
   },
   "file_extension": ".py",
   "mimetype": "text/x-python",
   "name": "python",
   "nbconvert_exporter": "python",
   "pygments_lexer": "ipython3",
   "version": "3.11.7"
  }
 },
 "nbformat": 4,
 "nbformat_minor": 5
}
