{
 "cells": [
  {
   "cell_type": "code",
   "execution_count": 8,
   "id": "dd7595c8-b8d9-4917-96f4-d8e8ec6b0442",
   "metadata": {},
   "outputs": [],
   "source": []
  },
  {
   "cell_type": "code",
   "execution_count": 1,
   "id": "182febbf-3781-4403-85d7-d3f8bf450601",
   "metadata": {},
   "outputs": [
    {
     "name": "stdout",
     "output_type": "stream",
     "text": [
      "the cat was rat by the bat\n"
     ]
    }
   ],
   "source": [
    "dictionary = [\"cat\",\"bat\",\"rat\"]\n",
    "sentence = \"the cattle was rattled by the battery\"\n",
    "l = [s for s in list(sentence.split())]\n",
    "m = []\n",
    "for g in l:  \n",
    "    q=[]\n",
    "    for i in range(len(g)):\n",
    "        q.append(g[:i+1])\n",
    "    m.append(q)        \n",
    "for i in range(len(dictionary)):\n",
    "    for j in range(len(m)):\n",
    "        if dictionary[i] in m[j]:\n",
    "            l[j] = dictionary[i]\n",
    "s = ''\n",
    "for i in range(len(l)):\n",
    "    s = s + l[i] \n",
    "    if i != len(l)-1:\n",
    "        s = s + ' '\n",
    "\n",
    "print(s)            \n"
   ]
  },
  {
   "cell_type": "code",
   "execution_count": 6,
   "id": "853f05c6-05e6-439a-a209-a6f953537595",
   "metadata": {},
   "outputs": [
    {
     "name": "stdout",
     "output_type": "stream",
     "text": [
      "['a', 'ab', 'abc', 'abcd']\n"
     ]
    }
   ],
   "source": [
    "#Make continuous substring\n",
    "l=[]\n",
    "x = 'abcd'\n",
    "for i in range(len(x)):\n",
    "    l.append(x[:i+1])\n",
    "print(l)"
   ]
  },
  {
   "cell_type": "code",
   "execution_count": 21,
   "id": "46e3a847-d031-413f-a569-3332e4455195",
   "metadata": {},
   "outputs": [
    {
     "name": "stdout",
     "output_type": "stream",
     "text": [
      "['t', 'th', 'the']\n"
     ]
    }
   ],
   "source": [
    "j = ['t', 'th', 'the']\n",
    "i = 'the'\n",
    "for x in j:\n",
    "    if i in x:\n",
    "        x = list(i)\n",
    "print(j)"
   ]
  },
  {
   "cell_type": "code",
   "execution_count": 15,
   "id": "642b1f7b-6056-481a-bcd7-7870a8fe633c",
   "metadata": {},
   "outputs": [],
   "source": [
    "#Sort a list of string based on length of string\n"
   ]
  },
  {
   "cell_type": "code",
   "execution_count": 16,
   "id": "7ccc9f36-3e72-4539-b8a2-f77dde8c6392",
   "metadata": {},
   "outputs": [
    {
     "name": "stdout",
     "output_type": "stream",
     "text": [
      "['rat', 'batg', 'cathh']\n"
     ]
    }
   ],
   "source": [
    "dictionary = [\"cathh\",\"batg\",\"rat\"]\n",
    "h = 0\n",
    "d = []\n",
    "for i in dictionary:\n",
    "    h = max(h,len(i))\n",
    "for i in range(h+1):\n",
    "    for j in dictionary:\n",
    "         if len(j) == i:\n",
    "             d.append(j)\n",
    "print(d)\n"
   ]
  },
  {
   "cell_type": "code",
   "execution_count": 18,
   "id": "28c4ce6d-d592-4092-8d46-4751320d25e6",
   "metadata": {},
   "outputs": [],
   "source": [
    "#Final"
   ]
  },
  {
   "cell_type": "code",
   "execution_count": 1,
   "id": "26e47082-9ab4-4c35-b2e0-3eb885603948",
   "metadata": {},
   "outputs": [
    {
     "name": "stdout",
     "output_type": "stream",
     "text": [
      "a aa a aaaa aaa aaa aaa aaaa bbb baba a\n"
     ]
    }
   ],
   "source": [
    "dictionary = [\"a\", \"aa\", \"aaa\", \"aaaa\"]\n",
    "sentence = \"a aa a aaaa aaa aaa aaa aaaaaa bbb baba ababa\"\n",
    "h = 0\n",
    "d = []\n",
    "for i in dictionary:\n",
    "    h = max(h,len(i))\n",
    "for i in range(h+1):\n",
    "    for j in dictionary:\n",
    "        if len(j) == i:\n",
    "            d.append(j)\n",
    "dictionary = d\n",
    "l = [s for s in list(sentence.split())]\n",
    "m = []\n",
    "for g in l:  \n",
    "    q=[]\n",
    "    for i in range(len(g)):\n",
    "        q.append(g[:i+1])\n",
    "    m.append(q)        \n",
    "for i in range(len(dictionary)):\n",
    "    for j in range(len(m)):\n",
    "        if dictionary[i] in m[j]:\n",
    "            l[j] = dictionary[i]\n",
    "s = ''\n",
    "for i in range(len(l)):\n",
    "    s = s + l[i] \n",
    "    if i != len(l)-1:\n",
    "        s = s + ' '\n",
    "\n",
    "print(s)"
   ]
  }
 ],
 "metadata": {
  "kernelspec": {
   "display_name": "Python 3 (ipykernel)",
   "language": "python",
   "name": "python3"
  },
  "language_info": {
   "codemirror_mode": {
    "name": "ipython",
    "version": 3
   },
   "file_extension": ".py",
   "mimetype": "text/x-python",
   "name": "python",
   "nbconvert_exporter": "python",
   "pygments_lexer": "ipython3",
   "version": "3.11.7"
  }
 },
 "nbformat": 4,
 "nbformat_minor": 5
}
