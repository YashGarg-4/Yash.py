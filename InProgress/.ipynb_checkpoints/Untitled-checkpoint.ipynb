{
 "cells": [
  {
   "cell_type": "code",
   "execution_count": 1,
   "id": "65792d6e-3fbf-41e3-a186-541b1c1c3766",
   "metadata": {},
   "outputs": [],
   "source": [
    "#Continuous Subarrays"
   ]
  },
  {
   "cell_type": "code",
   "execution_count": null,
   "id": "620bed1d-421b-481e-b118-4fe3b5ffdcad",
   "metadata": {},
   "outputs": [],
   "source": [
    "nums = [5,4,2,4]\n",
    "ans = 0\n",
    "for starti in range(len(nums)):\n",
    "    j = 0\n",
    "    while abs(nums[starti] - nums[starti+j]) <=2:\n",
    "        j+=1\n",
    "    ans += j + 1\n",
    "return ans"
   ]
  },
  {
   "cell_type": "code",
   "execution_count": 2,
   "id": "ecc568f7-e423-4c75-b244-1634d99a8e73",
   "metadata": {},
   "outputs": [],
   "source": [
    "#Upper code didn't conider that any two elements in the substring can't have a diff of more than 2\n"
   ]
  },
  {
   "cell_type": "code",
   "execution_count": 7,
   "id": "9f0d7c7c-da3a-4f97-812f-7b1b80e5de37",
   "metadata": {},
   "outputs": [
    {
     "ename": "IndexError",
     "evalue": "list index out of range",
     "output_type": "error",
     "traceback": [
      "\u001b[1;31m---------------------------------------------------------------------------\u001b[0m",
      "\u001b[1;31mIndexError\u001b[0m                                Traceback (most recent call last)",
      "Cell \u001b[1;32mIn[7], line 44\u001b[0m\n\u001b[0;32m     42\u001b[0m \u001b[38;5;66;03m#set new start\u001b[39;00m\n\u001b[0;32m     43\u001b[0m start \u001b[38;5;241m=\u001b[39m maxi \u001b[38;5;241m+\u001b[39m \u001b[38;5;241m1\u001b[39m\n\u001b[1;32m---> 44\u001b[0m maxval \u001b[38;5;241m=\u001b[39m nums[start]\n\u001b[0;32m     45\u001b[0m problemi \u001b[38;5;241m=\u001b[39m \u001b[38;5;28mlen\u001b[39m(nums)\n\u001b[0;32m     46\u001b[0m \u001b[38;5;28;01mif\u001b[39;00m flag \u001b[38;5;241m==\u001b[39m \u001b[38;5;28;01mTrue\u001b[39;00m:\n",
      "\u001b[1;31mIndexError\u001b[0m: list index out of range"
     ]
    }
   ],
   "source": [
    "nums = [65,66,67,66,66,65,64,65,65,64]\n",
    "maxi = 0 \n",
    "maxval = nums[0]\n",
    "maxi = 0\n",
    "starti = 0\n",
    "ans = 0\n",
    "flag = False\n",
    "problemi = len(nums)\n",
    "counter = 0\n",
    "while True:\n",
    "    j=1\n",
    "    #Following block is to find maxval and corresponding problem index\n",
    "    while starti + j < len(nums):\n",
    "        \n",
    "        if maxval < nums[starti+j]:\n",
    "            maxval = nums[starti+j]\n",
    "            maxi = starti + j\n",
    "        \n",
    "        if abs(maxval - nums[starti+j])>2:\n",
    "            problemi = starti+j\n",
    "            break\n",
    "    \n",
    "        j+=1\n",
    "    \n",
    "        #If all clear till end of array \n",
    "        if starti + j == len(nums):\n",
    "            maxi = starti + j - 1\n",
    "            problem1 = starti + j\n",
    "            flag = True\n",
    "            break\n",
    "        \n",
    "    #Add substrings till max index    \n",
    "    counter = problemi - starti \n",
    "    if problemi != len(nums):\n",
    "        for starti in range(maxi-starti+1):\n",
    "            ans += counter\n",
    "            counter-=1\n",
    "    else:\n",
    "        for starti in range(problemi-starti):\n",
    "            ans += counter\n",
    "            counter-=1\n",
    "    #set new starti\n",
    "    starti = maxi + 1\n",
    "    maxval = nums[starti]\n",
    "    problemi = len(nums)\n",
    "    if flag == True:\n",
    "        break\n",
    "print(ans)\n",
    "    "
   ]
  },
  {
   "cell_type": "code",
   "execution_count": 1,
   "id": "742bbecb-ba04-4c9a-89da-b7a31f003afa",
   "metadata": {},
   "outputs": [
    {
     "name": "stdout",
     "output_type": "stream",
     "text": [
      "120\n"
     ]
    }
   ],
   "source": [
    "nums = [65, 66, 67, 66, 66, 65, 64, 65, 65, 64]\n",
    "\n",
    "ans = 0\n",
    "starti = 0\n",
    "for starti in range(len(nums)):\n",
    "    maxval = nums[starti]\n",
    "    for j in range(starti + 1, len(nums)):\n",
    "        maxval = max(maxval, nums[j])\n",
    "        if abs(maxval - nums[j]) > 2:\n",
    "            break  # Problematic value found\n",
    "        else:\n",
    "            ans += j - starti + 1  # Add length of valid substring to ans\n",
    "    starti = j  # Update starti for the next iteration\n",
    "\n",
    "print(ans)"
   ]
  },
  {
   "cell_type": "code",
   "execution_count": 1,
   "id": "406d31ee-9299-4f2c-961d-193805c248ab",
   "metadata": {},
   "outputs": [],
   "source": [
    "#FreshTry"
   ]
  },
  {
   "cell_type": "raw",
   "id": "27d38df1-47db-451c-8c62-b18f0d68a27b",
   "metadata": {},
   "source": []
  },
  {
   "cell_type": "code",
   "execution_count": 5,
   "id": "b9ff1639-4615-4353-bb3f-c0ecc652a888",
   "metadata": {},
   "outputs": [
    {
     "name": "stdout",
     "output_type": "stream",
     "text": [
      "0\n"
     ]
    }
   ],
   "source": [
    "nums = [65,66,67,66,66,65,64,65,65,64]\n",
    "maxi = 0\n",
    "mini = 0\n",
    "trigi = len(nums) -1\n",
    "stopperi = len(nums) -1\n",
    "starti = 0\n",
    "ans = 0\n",
    "flag = False\n",
    "counter = 0\n",
    "while True:\n",
    "    for j in range(starti+1,len(nums)):\n",
    "        if nums[j] > nums[maxi]:\n",
    "            maxi = j\n",
    "        if nums[j] < nums[mini]:\n",
    "            mini = j\n",
    "        if nums[maxi] - nums [mini] > 2 and starti >= len(nums)-1:\n",
    "            trigi = max(maxi,mini)\n",
    "            stopperi = min(maxi,mini)\n",
    "            starti = starti\n",
    "            \n",
    "            n = trigi - starti + 1\n",
    "            counter = stopperi - starti + 1\n",
    "            \n",
    "            for q in range(counter):\n",
    "                ans += n\n",
    "                n-=1\n",
    "        starti = stopperi + 1\n",
    "        trigi = len(nums) - 1\n",
    "        stopperi = len(nums) - 1 \n",
    "        maxi = stopperi + 1\n",
    "        mini = stopperi + 1\n",
    "        if starti >= len(nums) - 1:\n",
    "            flag = True\n",
    "            break\n",
    "    if flag == True:\n",
    "        break\n",
    "print(ans)"
   ]
  },
  {
   "cell_type": "code",
   "execution_count": 2,
   "id": "4638d5dc-11a4-471b-bfd9-3082c3ee911a",
   "metadata": {},
   "outputs": [
    {
     "ename": "TypeError",
     "evalue": "'int' object is not callable",
     "output_type": "error",
     "traceback": [
      "\u001b[1;31m---------------------------------------------------------------------------\u001b[0m",
      "\u001b[1;31mTypeError\u001b[0m                                 Traceback (most recent call last)",
      "Cell \u001b[1;32mIn[2], line 13\u001b[0m\n\u001b[0;32m     10\u001b[0m         j\u001b[38;5;241m+\u001b[39m\u001b[38;5;241m=\u001b[39m\u001b[38;5;241m1\u001b[39m\n\u001b[0;32m     11\u001b[0m     n \u001b[38;5;241m=\u001b[39m \u001b[38;5;28mlen\u001b[39m(temp)\n\u001b[1;32m---> 13\u001b[0m     \u001b[38;5;28msum\u001b[39m \u001b[38;5;241m+\u001b[39m\u001b[38;5;241m=\u001b[39m (n(n\u001b[38;5;241m-\u001b[39m\u001b[38;5;241m2\u001b[39m))\u001b[38;5;241m/\u001b[39m\u001b[38;5;241m2\u001b[39m\n\u001b[0;32m     15\u001b[0m \u001b[38;5;28mprint\u001b[39m(ans)\n",
      "\u001b[1;31mTypeError\u001b[0m: 'int' object is not callable"
     ]
    }
   ],
   "source": [
    "nums = [65,66,67,66,66,65,64,65,65,64]\n",
    "sum = 0\n",
    "temp = []\n",
    "n=0\n",
    "for i in range(len(nums)):\n",
    "    j = 0\n",
    "    temp = []\n",
    "    while i+j < len(nums) and abs(nums[i] - nums[i+j]) < 3:\n",
    "        temp.append(nums[i+j])\n",
    "        j+=1\n",
    "    n = len(temp)\n",
    "    \n",
    "    sum += (n(n-2))/2\n",
    "\n",
    "print(ans)    "
   ]
  }
 ],
 "metadata": {
  "kernelspec": {
   "display_name": "Python 3 (ipykernel)",
   "language": "python",
   "name": "python3"
  },
  "language_info": {
   "codemirror_mode": {
    "name": "ipython",
    "version": 3
   },
   "file_extension": ".py",
   "mimetype": "text/x-python",
   "name": "python",
   "nbconvert_exporter": "python",
   "pygments_lexer": "ipython3",
   "version": "3.11.7"
  }
 },
 "nbformat": 4,
 "nbformat_minor": 5
}
