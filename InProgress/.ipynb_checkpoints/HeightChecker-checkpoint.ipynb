{
 "cells": [
  {
   "cell_type": "code",
   "execution_count": 14,
   "id": "20e051b9-905f-4a15-8827-0a19f97db99d",
   "metadata": {},
   "outputs": [
    {
     "name": "stdout",
     "output_type": "stream",
     "text": [
      "3\n"
     ]
    }
   ],
   "source": [
    "heights = [1,1,4,2,1,3]\n",
    "l = heights.copy()\n",
    "l.sort()\n",
    " \n",
    "sum = 0\n",
    "for i in range(len(heights)):\n",
    "    if l[i]!= heights[i]:\n",
    "        \n",
    "        sum+=1\n",
    "print(sum)        "
   ]
  }
 ],
 "metadata": {
  "kernelspec": {
   "display_name": "Python 3 (ipykernel)",
   "language": "python",
   "name": "python3"
  },
  "language_info": {
   "codemirror_mode": {
    "name": "ipython",
    "version": 3
   },
   "file_extension": ".py",
   "mimetype": "text/x-python",
   "name": "python",
   "nbconvert_exporter": "python",
   "pygments_lexer": "ipython3",
   "version": "3.11.7"
  }
 },
 "nbformat": 4,
 "nbformat_minor": 5
}
