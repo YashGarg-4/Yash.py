{
 "cells": [
  {
   "cell_type": "code",
   "execution_count": null,
   "id": "b75a0f46-721f-4771-bd3e-2e326f1505b7",
   "metadata": {},
   "outputs": [],
   "source": [
    "# Definition for a binary tree node.\n",
    "# class TreeNode:\n",
    "#     def __init__(self, val=0, left=None, right=None):\n",
    "#         self.val = val\n",
    "#         self.left = left\n",
    "#         self.right = right\n",
    "class Solution:\n",
    "    def countPairs(self, root: TreeNode, distance: int) -> int:\n",
    "        res = 0\n",
    "        def dfs(node) -> list[int]:\n",
    "            if not node: return []\n",
    "            if node.left is node.right:\n",
    "                return [1]\n",
    "            right = dfs(node.right)\n",
    "            left = dfs(node.left)\n",
    "            nonlocal res\n",
    "            for r in right:\n",
    "                for l in left:\n",
    "                    if l + r <= distance:\n",
    "                        res += 1\n",
    "            leaves = []\n",
    "            for x in right + left:\n",
    "                x += 1\n",
    "                if x < distance:\n",
    "                    leaves.append(x)\n",
    "            return leaves\n",
    "        dfs(root)\n",
    "        return res"
   ]
  }
 ],
 "metadata": {
  "kernelspec": {
   "display_name": "Python 3 (ipykernel)",
   "language": "python",
   "name": "python3"
  },
  "language_info": {
   "codemirror_mode": {
    "name": "ipython",
    "version": 3
   },
   "file_extension": ".py",
   "mimetype": "text/x-python",
   "name": "python",
   "nbconvert_exporter": "python",
   "pygments_lexer": "ipython3",
   "version": "3.11.7"
  }
 },
 "nbformat": 4,
 "nbformat_minor": 5
}
