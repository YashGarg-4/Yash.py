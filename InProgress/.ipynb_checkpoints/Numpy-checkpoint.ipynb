{
 "cells": [
  {
   "cell_type": "code",
   "execution_count": 1,
   "id": "544b6bba-b542-4d69-828c-b6cb151ef99c",
   "metadata": {},
   "outputs": [],
   "source": [
    "#starting numpy\n"
   ]
  },
  {
   "cell_type": "code",
   "execution_count": 3,
   "id": "85823de2-ee03-4f12-b37f-0ec772f975d8",
   "metadata": {},
   "outputs": [],
   "source": [
    "# Numpy becuase its faster, more space efficient and more functional"
   ]
  },
  {
   "cell_type": "code",
   "execution_count": 7,
   "id": "08efcb47-acb5-47d0-ab1c-715734c36d28",
   "metadata": {},
   "outputs": [
    {
     "name": "stdout",
     "output_type": "stream",
     "text": [
      "[ 9 10 11 12 13 14 15 16 17 18 19 20 21 22 23 24 25 26 27 28 29 30 31 32\n",
      " 33 34 35 36 37 38 39 40 41 42 43 44 45 46 47 48 49]\n"
     ]
    }
   ],
   "source": [
    "import numpy as np\n",
    "a = np.arange(9,50)\n",
    "print(a)"
   ]
  },
  {
   "cell_type": "code",
   "execution_count": 11,
   "id": "9898b2b6-3e1d-4a50-a199-40e286d625d5",
   "metadata": {},
   "outputs": [
    {
     "data": {
      "text/plain": [
       "array([[1., 0., 0., 0., 0., 0.],\n",
       "       [0., 1., 0., 0., 0., 0.],\n",
       "       [0., 0., 1., 0., 0., 0.],\n",
       "       [0., 0., 0., 1., 0., 0.],\n",
       "       [0., 0., 0., 0., 1., 0.]])"
      ]
     },
     "execution_count": 11,
     "metadata": {},
     "output_type": "execute_result"
    }
   ],
   "source": [
    "import numpy as np\n",
    "a = np.eye(5,6)\n",
    "a"
   ]
  },
  {
   "cell_type": "code",
   "execution_count": 13,
   "id": "3901934f-2f2a-48eb-bbcb-fc0a555b3f0f",
   "metadata": {},
   "outputs": [
    {
     "data": {
      "text/plain": [
       "array([0.        , 0.55555556, 1.11111111, 1.66666667, 2.22222222,\n",
       "       2.77777778, 3.33333333, 3.88888889, 4.44444444, 5.        ])"
      ]
     },
     "execution_count": 13,
     "metadata": {},
     "output_type": "execute_result"
    }
   ],
   "source": [
    "import numpy as np\n",
    "a = np.linspace(0,5,10)\n",
    "a"
   ]
  },
  {
   "cell_type": "code",
   "execution_count": 38,
   "id": "6e12b65a-08fd-48af-b8df-ea7177a1773b",
   "metadata": {},
   "outputs": [
    {
     "name": "stdout",
     "output_type": "stream",
     "text": [
      "[11 12 13]\n",
      "[ 9 14 19]\n",
      "[[11 12 13 14 15]\n",
      " [16 17 18 19 20]]\n",
      "[[ 7  8]\n",
      " [12 13]]\n"
     ]
    }
   ],
   "source": [
    "import numpy as np\n",
    "a = [[1,2,3,4,5],[6,7,8,9,10],[11,12,13,14,15],[16,17,18,19,20]]\n",
    "a = np.array(a)\n",
    "print(a[2,:3])\n",
    "print(a[1:4,3])\n",
    "print(a[2:4])\n",
    "print(a[1:3,1:3])"
   ]
  }
 ],
 "metadata": {
  "kernelspec": {
   "display_name": "Python 3 (ipykernel)",
   "language": "python",
   "name": "python3"
  },
  "language_info": {
   "codemirror_mode": {
    "name": "ipython",
    "version": 3
   },
   "file_extension": ".py",
   "mimetype": "text/x-python",
   "name": "python",
   "nbconvert_exporter": "python",
   "pygments_lexer": "ipython3",
   "version": "3.11.7"
  }
 },
 "nbformat": 4,
 "nbformat_minor": 5
}
