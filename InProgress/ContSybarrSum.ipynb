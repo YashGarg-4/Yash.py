{
 "cells": [
  {
   "cell_type": "markdown",
   "id": "c84afea5-562c-42f8-96a4-a703df61d372",
   "metadata": {},
   "source": [
    "### Continuous subarray sum"
   ]
  },
  {
   "cell_type": "code",
   "execution_count": 1,
   "id": "58b20861-2f4c-4c5f-83ec-7030a1bea809",
   "metadata": {},
   "outputs": [],
   "source": [
    "# Making subarrays"
   ]
  },
  {
   "cell_type": "code",
   "execution_count": 6,
   "id": "d5f24caf-7069-4bb3-8bcf-64645ee96caf",
   "metadata": {},
   "outputs": [
    {
     "name": "stdout",
     "output_type": "stream",
     "text": [
      "[[4], [4, 2], [4, 2, 3], [4, 2, 3, 5], [4, 2, 3, 5, 6], [4, 2, 3, 5, 6, 3], [4, 2, 3, 5, 6, 3, 12], [4, 2, 3, 5, 6, 3, 12, 1], [2], [2, 3], [2, 3, 5], [2, 3, 5, 6], [2, 3, 5, 6, 3], [2, 3, 5, 6, 3, 12], [2, 3, 5, 6, 3, 12, 1], [3], [3, 5], [3, 5, 6], [3, 5, 6, 3], [3, 5, 6, 3, 12], [3, 5, 6, 3, 12, 1], [5], [5, 6], [5, 6, 3], [5, 6, 3, 12], [5, 6, 3, 12, 1], [6], [6, 3], [6, 3, 12], [6, 3, 12, 1], [3], [3, 12], [3, 12, 1], [12], [12, 1], [1]]\n"
     ]
    }
   ],
   "source": [
    "x = [4,2,3,5,6,3,12,1]\n",
    "k = 15\n",
    "for i in range(len(x)):\n",
    "    for j in range(i+1,len(x)+1):\n",
    "        if sum(x[i:j]) < k:\n",
    "            continue\n",
    "        if sum(x[i:j]) % x == 0:\n",
    "            print(True)     \n"
   ]
  }
 ],
 "metadata": {
  "kernelspec": {
   "display_name": "Python 3 (ipykernel)",
   "language": "python",
   "name": "python3"
  },
  "language_info": {
   "codemirror_mode": {
    "name": "ipython",
    "version": 3
   },
   "file_extension": ".py",
   "mimetype": "text/x-python",
   "name": "python",
   "nbconvert_exporter": "python",
   "pygments_lexer": "ipython3",
   "version": "3.11.7"
  }
 },
 "nbformat": 4,
 "nbformat_minor": 5
}
